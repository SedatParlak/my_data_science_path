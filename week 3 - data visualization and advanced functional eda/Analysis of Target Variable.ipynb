{
 "cells": [
  {
   "cell_type": "markdown",
   "id": "877c1f8c",
   "metadata": {},
   "source": [
    "# Target summary with cat"
   ]
  },
  {
   "cell_type": "code",
   "execution_count": 14,
   "id": "9eca167a",
   "metadata": {},
   "outputs": [],
   "source": [
    "import numpy as np\n",
    "import pandas as pd\n",
    "import seaborn as sns\n",
    "import matplotlib.pyplot as plt"
   ]
  },
  {
   "cell_type": "code",
   "execution_count": 15,
   "id": "8ef81598",
   "metadata": {},
   "outputs": [],
   "source": [
    "df = sns.load_dataset('titanic')\n",
    "pd.set_option('display.max_columns', None)\n",
    "pd.set_option('display.width', 500)"
   ]
  },
  {
   "cell_type": "markdown",
   "id": "0b008dd1",
   "metadata": {},
   "source": [
    "# Cat Summary Function"
   ]
  },
  {
   "cell_type": "code",
   "execution_count": 16,
   "id": "6e3c24d2",
   "metadata": {},
   "outputs": [],
   "source": [
    "def cat_summary(dataframe, col_name, plot=False):\n",
    "    print(pd.DataFrame({col_name: dataframe[col_name].value_counts(),\n",
    "                       'Ratio': round(100*(dataframe[col_name].value_counts()) / len(dataframe), 2)}))\n",
    "    \n",
    "    if plot:\n",
    "        sns.countplot(x=col_name, data=dataframe)\n",
    "        plt.show()\n",
    "        \n",
    "    print('######################################################################\\n')"
   ]
  },
  {
   "cell_type": "markdown",
   "id": "3f7aaa94",
   "metadata": {},
   "source": [
    "# Num Summary Funciton"
   ]
  },
  {
   "cell_type": "code",
   "execution_count": 17,
   "id": "fbb27071",
   "metadata": {},
   "outputs": [],
   "source": [
    "def num_summary(dataframe, numerical_col, plot=False):\n",
    "    print(numerical_col.upper())\n",
    "    quantiles = [0.1, 0.2, 0.3, 0.4, 0.5, 0.6, 0.7, 0.8, 0.9]\n",
    "    print(dataframe[numerical_col].describe(quantiles).T)\n",
    "    \n",
    "    if plot:\n",
    "        dataframe[numerical_col].hist()\n",
    "        plt.title(numerical_col)\n",
    "        plt.xlabel(numerical_col)\n",
    "        plt.show()\n",
    "       \n",
    "    print('################################################################\\n')"
   ]
  },
  {
   "cell_type": "markdown",
   "id": "14147e25",
   "metadata": {},
   "source": [
    "# Grab All Columns"
   ]
  },
  {
   "cell_type": "code",
   "execution_count": 18,
   "id": "b5f93944",
   "metadata": {},
   "outputs": [],
   "source": [
    "def grab_col_names(dataframe, cat_th=10, car_th=20):\n",
    "    \n",
    "    cat_cols = [col for col in df.columns if str(df[col].dtype) in ['category', 'object', 'bool']]\n",
    "    num_but_cat = [col for col in df.columns if str(df[col].dtype) in ['int64', 'float64'] and df[col].nunique() < cat_th]\n",
    "    cat_but_car = [col for col in df.columns if str(df[col].dtype) in ['category', 'object'] and df[col].nunique() > car_th]\n",
    "    cat_cols = cat_cols + num_but_cat\n",
    "    cat_cols = [col for col in cat_cols if col not in cat_but_car]\n",
    "    \n",
    "    num_cols = [col for col in df.columns if df[col].dtype in ['float64', 'int64']]\n",
    "    num_cols = [col for col in num_cols if col not in cat_cols]\n",
    "    \n",
    "    print(f'Observations: {dataframe.shape[0]}')\n",
    "    print(f'Variables: {dataframe.shape[1]}')\n",
    "    print(f'Categorical Variables: {len(cat_cols)}')\n",
    "    print(f'Numerical Variables: {len(num_cols)}')\n",
    "    print(f'Numerical But Categorical Variables: {len(num_but_cat)}')\n",
    "    print(f'Categorical But Cardinal: {len(cat_but_car)}')\n",
    "    \n",
    "    return cat_cols, num_cols, cat_but_car"
   ]
  },
  {
   "cell_type": "code",
   "execution_count": 19,
   "id": "c02ba980",
   "metadata": {},
   "outputs": [
    {
     "name": "stdout",
     "output_type": "stream",
     "text": [
      "Observations: 891\n",
      "Variables: 15\n",
      "Categorical Variables: 13\n",
      "Numerical Variables: 2\n",
      "Numerical But Categorical Variables: 4\n",
      "Categorical But Cardinal: 0\n"
     ]
    }
   ],
   "source": [
    "cat_cols_df, num_cols_df, cat_but_car_df = grab_col_names(df)"
   ]
  },
  {
   "cell_type": "markdown",
   "id": "bdd3169c",
   "metadata": {},
   "source": [
    "# Target Summary With Cat"
   ]
  },
  {
   "cell_type": "code",
   "execution_count": 24,
   "id": "a31d2ea5",
   "metadata": {},
   "outputs": [],
   "source": [
    "def target_summary_with_cat(dataframe, target, categorical_col):\n",
    "    print(pd.DataFrame({'Target Mean': dataframe.groupby(categorical_col)[target].mean()}))\n",
    "    print('################################################################\\n')"
   ]
  },
  {
   "cell_type": "code",
   "execution_count": 25,
   "id": "23155ebc",
   "metadata": {},
   "outputs": [
    {
     "name": "stdout",
     "output_type": "stream",
     "text": [
      "        Target Mean\n",
      "sex                \n",
      "female     0.742038\n",
      "male       0.188908\n",
      "################################################################\n",
      "\n",
      "          Target Mean\n",
      "embarked             \n",
      "C            0.553571\n",
      "Q            0.389610\n",
      "S            0.336957\n",
      "################################################################\n",
      "\n",
      "        Target Mean\n",
      "class              \n",
      "First      0.629630\n",
      "Second     0.472826\n",
      "Third      0.242363\n",
      "################################################################\n",
      "\n",
      "       Target Mean\n",
      "who               \n",
      "child     0.590361\n",
      "man       0.163873\n",
      "woman     0.756458\n",
      "################################################################\n",
      "\n",
      "            Target Mean\n",
      "adult_male             \n",
      "False          0.717514\n",
      "True           0.163873\n",
      "################################################################\n",
      "\n",
      "      Target Mean\n",
      "deck             \n",
      "A        0.466667\n",
      "B        0.744681\n",
      "C        0.593220\n",
      "D        0.757576\n",
      "E        0.750000\n",
      "F        0.615385\n",
      "G        0.500000\n",
      "################################################################\n",
      "\n",
      "             Target Mean\n",
      "embark_town             \n",
      "Cherbourg       0.553571\n",
      "Queenstown      0.389610\n",
      "Southampton     0.336957\n",
      "################################################################\n",
      "\n",
      "       Target Mean\n",
      "alive             \n",
      "no             0.0\n",
      "yes            1.0\n",
      "################################################################\n",
      "\n",
      "       Target Mean\n",
      "alone             \n",
      "False     0.505650\n",
      "True      0.303538\n",
      "################################################################\n",
      "\n",
      "          Target Mean\n",
      "survived             \n",
      "0                 0.0\n",
      "1                 1.0\n",
      "################################################################\n",
      "\n",
      "        Target Mean\n",
      "pclass             \n",
      "1          0.629630\n",
      "2          0.472826\n",
      "3          0.242363\n",
      "################################################################\n",
      "\n",
      "       Target Mean\n",
      "sibsp             \n",
      "0         0.345395\n",
      "1         0.535885\n",
      "2         0.464286\n",
      "3         0.250000\n",
      "4         0.166667\n",
      "5         0.000000\n",
      "8         0.000000\n",
      "################################################################\n",
      "\n",
      "       Target Mean\n",
      "parch             \n",
      "0         0.343658\n",
      "1         0.550847\n",
      "2         0.500000\n",
      "3         0.600000\n",
      "4         0.000000\n",
      "5         0.200000\n",
      "6         0.000000\n",
      "################################################################\n",
      "\n"
     ]
    }
   ],
   "source": [
    "for col in cat_cols_df:\n",
    "    target_summary_with_cat(df, 'survived', col)"
   ]
  },
  {
   "cell_type": "markdown",
   "id": "d7c2c585",
   "metadata": {},
   "source": [
    "# Target Summary With Num"
   ]
  },
  {
   "cell_type": "code",
   "execution_count": 39,
   "id": "f9f68a83",
   "metadata": {},
   "outputs": [],
   "source": [
    "def target_summary_with_num(dataframe, target, numerical_col):\n",
    "    print(dataframe.groupby(target).agg({numerical_col: 'mean'}))"
   ]
  },
  {
   "cell_type": "code",
   "execution_count": 40,
   "id": "0035d2c0",
   "metadata": {},
   "outputs": [
    {
     "name": "stdout",
     "output_type": "stream",
     "text": [
      "                age\n",
      "survived           \n",
      "0         30.626179\n",
      "1         28.343690\n"
     ]
    }
   ],
   "source": [
    "target_summary_with_num(df, 'survived', 'age')"
   ]
  },
  {
   "cell_type": "code",
   "execution_count": 41,
   "id": "b3704f0e",
   "metadata": {},
   "outputs": [
    {
     "name": "stdout",
     "output_type": "stream",
     "text": [
      "                age\n",
      "survived           \n",
      "0         30.626179\n",
      "1         28.343690\n",
      "               fare\n",
      "survived           \n",
      "0         22.117887\n",
      "1         48.395408\n"
     ]
    }
   ],
   "source": [
    "for col in num_cols_df:\n",
    "    target_summary_with_num(df, 'survived', col)"
   ]
  }
 ],
 "metadata": {
  "kernelspec": {
   "display_name": "Python 3 (ipykernel)",
   "language": "python",
   "name": "python3"
  },
  "language_info": {
   "codemirror_mode": {
    "name": "ipython",
    "version": 3
   },
   "file_extension": ".py",
   "mimetype": "text/x-python",
   "name": "python",
   "nbconvert_exporter": "python",
   "pygments_lexer": "ipython3",
   "version": "3.9.7"
  }
 },
 "nbformat": 4,
 "nbformat_minor": 5
}
