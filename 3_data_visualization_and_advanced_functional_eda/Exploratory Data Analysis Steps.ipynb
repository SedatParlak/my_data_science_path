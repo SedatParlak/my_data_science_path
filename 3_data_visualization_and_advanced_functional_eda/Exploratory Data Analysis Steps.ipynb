{
 "cells": [
  {
   "cell_type": "markdown",
   "id": "95b2126f",
   "metadata": {},
   "source": [
    "# EDA Steps"
   ]
  },
  {
   "cell_type": "markdown",
   "id": "61db3e05",
   "metadata": {},
   "source": [
    "###  Step 1: What is the dataset story ? How is the dataset created ? Ask these questions."
   ]
  },
  {
   "cell_type": "markdown",
   "id": "355177c9",
   "metadata": {},
   "source": [
    "Get the first and last five rows from the dataset and check the data."
   ]
  },
  {
   "cell_type": "code",
   "execution_count": null,
   "id": "71ff09d4",
   "metadata": {},
   "outputs": [],
   "source": [
    "df.head()"
   ]
  },
  {
   "cell_type": "code",
   "execution_count": null,
   "id": "05bbcf5a",
   "metadata": {},
   "outputs": [],
   "source": [
    "df.tail()"
   ]
  },
  {
   "cell_type": "markdown",
   "id": "73521b1f",
   "metadata": {},
   "source": [
    "###  Step 2: Describe the dataset with a few query ?"
   ]
  },
  {
   "cell_type": "code",
   "execution_count": null,
   "id": "8077cfd3",
   "metadata": {},
   "outputs": [],
   "source": [
    "df.shape"
   ]
  },
  {
   "cell_type": "code",
   "execution_count": null,
   "id": "0f9dfcdf",
   "metadata": {},
   "outputs": [],
   "source": [
    "df.info()"
   ]
  },
  {
   "cell_type": "code",
   "execution_count": null,
   "id": "12e10122",
   "metadata": {},
   "outputs": [],
   "source": [
    "df.columns"
   ]
  },
  {
   "cell_type": "code",
   "execution_count": null,
   "id": "3e9716d6",
   "metadata": {},
   "outputs": [],
   "source": [
    "df.describe().T"
   ]
  },
  {
   "cell_type": "code",
   "execution_count": null,
   "id": "b85bd8db",
   "metadata": {},
   "outputs": [],
   "source": [
    "def check_df(dataframe, head=5):\n",
    "    print('######################## Shape ########################')\n",
    "    print(dataframe.shape, '\\n')\n",
    "    print('######################## Types ########################')\n",
    "    print(dataframe.dtypes, '\\n')\n",
    "    print('######################## Head ########################')\n",
    "    print(dataframe.head(head), '\\n')\n",
    "    print('######################## Tail ########################')\n",
    "    print(dataframe.tail(head), '\\n')\n",
    "    print('######################## NA ########################')\n",
    "    print(dataframe.isnull().sum(), '\\n')"
   ]
  },
  {
   "cell_type": "markdown",
   "id": "061e5d78",
   "metadata": {},
   "source": [
    "###  Step 3: Check the missing values and plot them."
   ]
  },
  {
   "cell_type": "code",
   "execution_count": null,
   "id": "ac81e820",
   "metadata": {},
   "outputs": [],
   "source": [
    "df.isnull().values.any()"
   ]
  },
  {
   "cell_type": "code",
   "execution_count": null,
   "id": "c38659db",
   "metadata": {},
   "outputs": [],
   "source": [
    "df.isnull().sum()"
   ]
  },
  {
   "cell_type": "code",
   "execution_count": null,
   "id": "e0d72d9d",
   "metadata": {},
   "outputs": [],
   "source": [
    "plt.figure(figsize=(10, 8))\n",
    "sns.heatmap(df.isnull(), yticklabels=False, cmap='viridis')"
   ]
  },
  {
   "cell_type": "markdown",
   "id": "372bcdf4",
   "metadata": {},
   "source": [
    "You can fill the missing values with 0 or mean but it could be create some problems. Missing values should be evaluated more statistically."
   ]
  },
  {
   "cell_type": "markdown",
   "id": "cfab15be",
   "metadata": {},
   "source": [
    "###  Step 4: Catch the categorical, numerical and cardinal variables and summarize them. "
   ]
  },
  {
   "cell_type": "markdown",
   "id": "952f2cf8",
   "metadata": {},
   "source": [
    "**Grab columns**"
   ]
  },
  {
   "cell_type": "code",
   "execution_count": null,
   "id": "2931758a",
   "metadata": {},
   "outputs": [],
   "source": [
    "def grab_col(dataframe, cat_th=10, car_th=20):\n",
    "    \n",
    "    cat_cols = [col for col in dataframe.columns if str(dataframe[col].dtype) in ['category', 'object', 'bool']]\n",
    "    num_but_cat = [col for col in dataframe.columns if str(dataframe[col].dtype) in ['int64', 'float64'] and dataframe[col].nunique() < cat_th]\n",
    "    cat_but_car = [col for col in dataframe.columns if str(dataframe[col].dtype) in ['category', 'object'] and dataframe[col].nunique() > car_th]\n",
    "    cat_cols = cat_cols + num_but_cat\n",
    "    cat_cols = [col for col in cat_cols if col not in cat_but_car]\n",
    "    \n",
    "    num_cols = [col for col in dataframe.columns if dataframe[col].dtype in ['float64', 'int64']]\n",
    "    num_cols = [col for col in num_cols if col not in cat_cols]\n",
    "    \n",
    "    print(f'Observations: {dataframe.shape[0]}')\n",
    "    print(f'Variables: {dataframe.shape[1]}')\n",
    "    print(f'Categorical Variables: {len(cat_cols)}')\n",
    "    print(f'Numerical Variables: {len(num_cols)}')\n",
    "    print(f'Numerical But Categorical Variables: {len(num_but_cat)}')\n",
    "    print(f'Categorical But Cardinal: {len(cat_but_car)}')\n",
    "    \n",
    "    return cat_cols, num_cols, cat_but_car"
   ]
  },
  {
   "cell_type": "markdown",
   "id": "3036f38b",
   "metadata": {},
   "source": [
    "**Summarize the numerical columns**"
   ]
  },
  {
   "cell_type": "code",
   "execution_count": null,
   "id": "a5e20d20",
   "metadata": {},
   "outputs": [],
   "source": [
    "def num_summary(dataframe, numerical_col, plot=False):\n",
    "    print(numerical_col.upper())\n",
    "    quantiles = [0.1, 0.2, 0.3, 0.4, 0.5, 0.6, 0.7, 0.8, 0.9]\n",
    "    print(dataframe[numerical_col].describe(quantiles).T)\n",
    "    \n",
    "    if plot:\n",
    "        dataframe[numerical_col].hist()\n",
    "        plt.title(numerical_col)\n",
    "        plt.xlabel(numerical_col)\n",
    "        plt.show()\n",
    "       \n",
    "    print('################################################################\\n')"
   ]
  },
  {
   "cell_type": "markdown",
   "id": "253de5f3",
   "metadata": {},
   "source": [
    "**Summarize the categorical columns**"
   ]
  },
  {
   "cell_type": "code",
   "execution_count": null,
   "id": "1285f2f1",
   "metadata": {},
   "outputs": [],
   "source": [
    "def cat_summary(dataframe, col_name, plot=False):\n",
    "    print(pd.DataFrame({col_name: dataframe[col_name].value_counts(),\n",
    "                       'Ratio': round(100*(dataframe[col_name].value_counts()) / len(dataframe), 2)}))\n",
    "    \n",
    "    if plot:\n",
    "        sns.countplot(x=col_name, data=dataframe)\n",
    "        plt.show()\n",
    "        \n",
    "    print('######################################################################\\n')"
   ]
  },
  {
   "cell_type": "markdown",
   "id": "ce7d2750",
   "metadata": {},
   "source": [
    "###  Step 4: Make some cross plots with variables and ask questions."
   ]
  },
  {
   "cell_type": "markdown",
   "id": "397d17ad",
   "metadata": {},
   "source": [
    "**For categorical variabls**"
   ]
  },
  {
   "cell_type": "code",
   "execution_count": null,
   "id": "b5a70653",
   "metadata": {},
   "outputs": [],
   "source": [
    "sns.barplot(x, y, data, hue)"
   ]
  },
  {
   "cell_type": "code",
   "execution_count": null,
   "id": "4f65e03e",
   "metadata": {},
   "outputs": [],
   "source": [
    "sns.count(x, y, data, hue)"
   ]
  },
  {
   "cell_type": "markdown",
   "id": "e809b510",
   "metadata": {},
   "source": [
    "**For numerical variabls**"
   ]
  },
  {
   "cell_type": "code",
   "execution_count": null,
   "id": "559a2a51",
   "metadata": {},
   "outputs": [],
   "source": [
    "sns.displot(x, y, data, hue)"
   ]
  },
  {
   "cell_type": "code",
   "execution_count": null,
   "id": "87feaddb",
   "metadata": {},
   "outputs": [],
   "source": [
    "sns.boxplot(x, y, data, hue)"
   ]
  },
  {
   "cell_type": "code",
   "execution_count": null,
   "id": "c66604df",
   "metadata": {},
   "outputs": [],
   "source": [
    "sns.catplot(x, y, data, hue, kind='violin')"
   ]
  },
  {
   "cell_type": "code",
   "execution_count": null,
   "id": "b76061f8",
   "metadata": {},
   "outputs": [],
   "source": [
    "sns.boxplot(x, y, data, hue, kind='point')"
   ]
  },
  {
   "cell_type": "code",
   "execution_count": null,
   "id": "f07093e9",
   "metadata": {},
   "outputs": [],
   "source": [
    "sns.FacetGrid"
   ]
  },
  {
   "cell_type": "code",
   "execution_count": null,
   "id": "a57e0454",
   "metadata": {},
   "outputs": [],
   "source": [
    "For density = snsçkdeplot(x, shade=True)"
   ]
  },
  {
   "cell_type": "markdown",
   "id": "5fb6a240",
   "metadata": {},
   "source": [
    "###  Step 4: Check the correlation"
   ]
  },
  {
   "cell_type": "code",
   "execution_count": null,
   "id": "d789e83b",
   "metadata": {},
   "outputs": [],
   "source": [
    "sns.heatmap(df.corr())"
   ]
  },
  {
   "cell_type": "code",
   "execution_count": null,
   "id": "3be8d88e",
   "metadata": {},
   "outputs": [],
   "source": [
    "sns.pairplot(df, hue) #sns.pairplot(df, hue, kind='reg')"
   ]
  },
  {
   "cell_type": "code",
   "execution_count": null,
   "id": "03f0c740",
   "metadata": {},
   "outputs": [],
   "source": [
    "sns.scatterplot(x, y, data, hue) # Its for two numerical variables."
   ]
  },
  {
   "cell_type": "code",
   "execution_count": null,
   "id": "b89ce71b",
   "metadata": {},
   "outputs": [],
   "source": [
    "sns.lmplot(x, y, data, hue)"
   ]
  },
  {
   "cell_type": "markdown",
   "id": "17169f20",
   "metadata": {},
   "source": [
    "###  Step 5: Ask more question :)))"
   ]
  }
 ],
 "metadata": {
  "kernelspec": {
   "display_name": "Python 3 (ipykernel)",
   "language": "python",
   "name": "python3"
  },
  "language_info": {
   "codemirror_mode": {
    "name": "ipython",
    "version": 3
   },
   "file_extension": ".py",
   "mimetype": "text/x-python",
   "name": "python",
   "nbconvert_exporter": "python",
   "pygments_lexer": "ipython3",
   "version": "3.9.7"
  }
 },
 "nbformat": 4,
 "nbformat_minor": 5
}
