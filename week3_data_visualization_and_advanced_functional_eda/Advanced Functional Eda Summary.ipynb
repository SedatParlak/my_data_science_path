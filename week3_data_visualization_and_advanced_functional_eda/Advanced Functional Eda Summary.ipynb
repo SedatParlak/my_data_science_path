{
 "cells": [
  {
   "cell_type": "code",
   "execution_count": 135,
   "id": "15195f12",
   "metadata": {},
   "outputs": [],
   "source": [
    "import numpy as np\n",
    "import pandas as pd\n",
    "import seaborn as sns\n",
    "import matplotlib.pyplot as plt"
   ]
  },
  {
   "cell_type": "code",
   "execution_count": 48,
   "id": "19311f5e",
   "metadata": {},
   "outputs": [],
   "source": [
    "df = sns.load_dataset('titanic')\n",
    "pd.set_option('display.max_columns', None)\n",
    "pd.set_option('display.width', 500)"
   ]
  },
  {
   "cell_type": "code",
   "execution_count": 49,
   "id": "a4a49098",
   "metadata": {},
   "outputs": [],
   "source": [
    "def check_df(dataframe, head=5):\n",
    "    print('######################## Shape ########################')\n",
    "    print(dataframe.shape, '\\n')\n",
    "    print('######################## Types ########################')\n",
    "    print(dataframe.dtypes, '\\n')\n",
    "    print('######################## Head ########################')\n",
    "    print(dataframe.head(head), '\\n')\n",
    "    print('######################## Tail ########################')\n",
    "    print(dataframe.tail(head), '\\n')\n",
    "    print('######################## NA ########################')\n",
    "    print(dataframe.isnull().sum(), '\\n')"
   ]
  },
  {
   "cell_type": "code",
   "execution_count": 50,
   "id": "23d3cc2a",
   "metadata": {},
   "outputs": [
    {
     "name": "stdout",
     "output_type": "stream",
     "text": [
      "######################## Shape ########################\n",
      "(891, 15) \n",
      "\n",
      "######################## Types ########################\n",
      "survived          int64\n",
      "pclass            int64\n",
      "sex              object\n",
      "age             float64\n",
      "sibsp             int64\n",
      "parch             int64\n",
      "fare            float64\n",
      "embarked         object\n",
      "class          category\n",
      "who              object\n",
      "adult_male         bool\n",
      "deck           category\n",
      "embark_town      object\n",
      "alive            object\n",
      "alone              bool\n",
      "dtype: object \n",
      "\n",
      "######################## Head ########################\n",
      "   survived  pclass     sex   age  sibsp  parch     fare embarked  class    who  adult_male deck  embark_town alive  alone\n",
      "0         0       3    male  22.0      1      0   7.2500        S  Third    man        True  NaN  Southampton    no  False\n",
      "1         1       1  female  38.0      1      0  71.2833        C  First  woman       False    C    Cherbourg   yes  False\n",
      "2         1       3  female  26.0      0      0   7.9250        S  Third  woman       False  NaN  Southampton   yes   True\n",
      "3         1       1  female  35.0      1      0  53.1000        S  First  woman       False    C  Southampton   yes  False\n",
      "4         0       3    male  35.0      0      0   8.0500        S  Third    man        True  NaN  Southampton    no   True \n",
      "\n",
      "######################## Tail ########################\n",
      "     survived  pclass     sex   age  sibsp  parch   fare embarked   class    who  adult_male deck  embark_town alive  alone\n",
      "886         0       2    male  27.0      0      0  13.00        S  Second    man        True  NaN  Southampton    no   True\n",
      "887         1       1  female  19.0      0      0  30.00        S   First  woman       False    B  Southampton   yes   True\n",
      "888         0       3  female   NaN      1      2  23.45        S   Third  woman       False  NaN  Southampton    no  False\n",
      "889         1       1    male  26.0      0      0  30.00        C   First    man        True    C    Cherbourg   yes   True\n",
      "890         0       3    male  32.0      0      0   7.75        Q   Third    man        True  NaN   Queenstown    no   True \n",
      "\n",
      "######################## NA ########################\n",
      "survived         0\n",
      "pclass           0\n",
      "sex              0\n",
      "age            177\n",
      "sibsp            0\n",
      "parch            0\n",
      "fare             0\n",
      "embarked         2\n",
      "class            0\n",
      "who              0\n",
      "adult_male       0\n",
      "deck           688\n",
      "embark_town      2\n",
      "alive            0\n",
      "alone            0\n",
      "dtype: int64 \n",
      "\n"
     ]
    }
   ],
   "source": [
    "check_df(df)"
   ]
  },
  {
   "cell_type": "markdown",
   "id": "8d43e748",
   "metadata": {},
   "source": [
    "## catch categorical variables"
   ]
  },
  {
   "cell_type": "code",
   "execution_count": 89,
   "id": "4a7fbf98",
   "metadata": {},
   "outputs": [
    {
     "data": {
      "text/plain": [
       "['sex',\n",
       " 'embarked',\n",
       " 'class',\n",
       " 'who',\n",
       " 'adult_male',\n",
       " 'deck',\n",
       " 'embark_town',\n",
       " 'alive',\n",
       " 'alone']"
      ]
     },
     "execution_count": 89,
     "metadata": {},
     "output_type": "execute_result"
    }
   ],
   "source": [
    "cat_cols = [col for col in df.columns if str(df[col].dtype) in ['category', 'object', 'bool']]\n",
    "cat_cols"
   ]
  },
  {
   "cell_type": "code",
   "execution_count": 90,
   "id": "775238e5",
   "metadata": {},
   "outputs": [
    {
     "data": {
      "text/plain": [
       "['survived', 'pclass', 'sibsp', 'parch']"
      ]
     },
     "execution_count": 90,
     "metadata": {},
     "output_type": "execute_result"
    }
   ],
   "source": [
    "num_but_cat = [col for col in df.columns if str(df[col].dtype) in ['int64', 'float64'] and df[col].nunique() < 10]\n",
    "num_but_cat"
   ]
  },
  {
   "cell_type": "code",
   "execution_count": 92,
   "id": "bb3343e5",
   "metadata": {},
   "outputs": [
    {
     "data": {
      "text/plain": [
       "[]"
      ]
     },
     "execution_count": 92,
     "metadata": {},
     "output_type": "execute_result"
    }
   ],
   "source": [
    "cat_but_car = [col for col in df.columns if str(df[col].dtype) in ['category', 'object'] and df[col].nunique() >20]\n",
    "cat_but_car"
   ]
  },
  {
   "cell_type": "code",
   "execution_count": 94,
   "id": "c12147f3",
   "metadata": {},
   "outputs": [
    {
     "data": {
      "text/plain": [
       "['sex',\n",
       " 'embarked',\n",
       " 'class',\n",
       " 'who',\n",
       " 'adult_male',\n",
       " 'deck',\n",
       " 'embark_town',\n",
       " 'alive',\n",
       " 'alone',\n",
       " 'survived',\n",
       " 'pclass',\n",
       " 'sibsp',\n",
       " 'parch',\n",
       " 'survived',\n",
       " 'pclass',\n",
       " 'sibsp',\n",
       " 'parch']"
      ]
     },
     "execution_count": 94,
     "metadata": {},
     "output_type": "execute_result"
    }
   ],
   "source": [
    "cat_cols = cat_cols + num_but_cat\n",
    "cat_cols"
   ]
  },
  {
   "cell_type": "code",
   "execution_count": 97,
   "id": "3184626e",
   "metadata": {},
   "outputs": [
    {
     "data": {
      "text/html": [
       "<div>\n",
       "<style scoped>\n",
       "    .dataframe tbody tr th:only-of-type {\n",
       "        vertical-align: middle;\n",
       "    }\n",
       "\n",
       "    .dataframe tbody tr th {\n",
       "        vertical-align: top;\n",
       "    }\n",
       "\n",
       "    .dataframe thead th {\n",
       "        text-align: right;\n",
       "    }\n",
       "</style>\n",
       "<table border=\"1\" class=\"dataframe\">\n",
       "  <thead>\n",
       "    <tr style=\"text-align: right;\">\n",
       "      <th></th>\n",
       "      <th>sex</th>\n",
       "      <th>embarked</th>\n",
       "      <th>class</th>\n",
       "      <th>who</th>\n",
       "      <th>adult_male</th>\n",
       "      <th>deck</th>\n",
       "      <th>embark_town</th>\n",
       "      <th>alive</th>\n",
       "      <th>alone</th>\n",
       "      <th>survived</th>\n",
       "      <th>pclass</th>\n",
       "      <th>sibsp</th>\n",
       "      <th>parch</th>\n",
       "      <th>survived</th>\n",
       "      <th>pclass</th>\n",
       "      <th>sibsp</th>\n",
       "      <th>parch</th>\n",
       "    </tr>\n",
       "  </thead>\n",
       "  <tbody>\n",
       "    <tr>\n",
       "      <th>0</th>\n",
       "      <td>male</td>\n",
       "      <td>S</td>\n",
       "      <td>Third</td>\n",
       "      <td>man</td>\n",
       "      <td>True</td>\n",
       "      <td>NaN</td>\n",
       "      <td>Southampton</td>\n",
       "      <td>no</td>\n",
       "      <td>False</td>\n",
       "      <td>0</td>\n",
       "      <td>3</td>\n",
       "      <td>1</td>\n",
       "      <td>0</td>\n",
       "      <td>0</td>\n",
       "      <td>3</td>\n",
       "      <td>1</td>\n",
       "      <td>0</td>\n",
       "    </tr>\n",
       "    <tr>\n",
       "      <th>1</th>\n",
       "      <td>female</td>\n",
       "      <td>C</td>\n",
       "      <td>First</td>\n",
       "      <td>woman</td>\n",
       "      <td>False</td>\n",
       "      <td>C</td>\n",
       "      <td>Cherbourg</td>\n",
       "      <td>yes</td>\n",
       "      <td>False</td>\n",
       "      <td>1</td>\n",
       "      <td>1</td>\n",
       "      <td>1</td>\n",
       "      <td>0</td>\n",
       "      <td>1</td>\n",
       "      <td>1</td>\n",
       "      <td>1</td>\n",
       "      <td>0</td>\n",
       "    </tr>\n",
       "    <tr>\n",
       "      <th>2</th>\n",
       "      <td>female</td>\n",
       "      <td>S</td>\n",
       "      <td>Third</td>\n",
       "      <td>woman</td>\n",
       "      <td>False</td>\n",
       "      <td>NaN</td>\n",
       "      <td>Southampton</td>\n",
       "      <td>yes</td>\n",
       "      <td>True</td>\n",
       "      <td>1</td>\n",
       "      <td>3</td>\n",
       "      <td>0</td>\n",
       "      <td>0</td>\n",
       "      <td>1</td>\n",
       "      <td>3</td>\n",
       "      <td>0</td>\n",
       "      <td>0</td>\n",
       "    </tr>\n",
       "    <tr>\n",
       "      <th>3</th>\n",
       "      <td>female</td>\n",
       "      <td>S</td>\n",
       "      <td>First</td>\n",
       "      <td>woman</td>\n",
       "      <td>False</td>\n",
       "      <td>C</td>\n",
       "      <td>Southampton</td>\n",
       "      <td>yes</td>\n",
       "      <td>False</td>\n",
       "      <td>1</td>\n",
       "      <td>1</td>\n",
       "      <td>1</td>\n",
       "      <td>0</td>\n",
       "      <td>1</td>\n",
       "      <td>1</td>\n",
       "      <td>1</td>\n",
       "      <td>0</td>\n",
       "    </tr>\n",
       "    <tr>\n",
       "      <th>4</th>\n",
       "      <td>male</td>\n",
       "      <td>S</td>\n",
       "      <td>Third</td>\n",
       "      <td>man</td>\n",
       "      <td>True</td>\n",
       "      <td>NaN</td>\n",
       "      <td>Southampton</td>\n",
       "      <td>no</td>\n",
       "      <td>True</td>\n",
       "      <td>0</td>\n",
       "      <td>3</td>\n",
       "      <td>0</td>\n",
       "      <td>0</td>\n",
       "      <td>0</td>\n",
       "      <td>3</td>\n",
       "      <td>0</td>\n",
       "      <td>0</td>\n",
       "    </tr>\n",
       "    <tr>\n",
       "      <th>...</th>\n",
       "      <td>...</td>\n",
       "      <td>...</td>\n",
       "      <td>...</td>\n",
       "      <td>...</td>\n",
       "      <td>...</td>\n",
       "      <td>...</td>\n",
       "      <td>...</td>\n",
       "      <td>...</td>\n",
       "      <td>...</td>\n",
       "      <td>...</td>\n",
       "      <td>...</td>\n",
       "      <td>...</td>\n",
       "      <td>...</td>\n",
       "      <td>...</td>\n",
       "      <td>...</td>\n",
       "      <td>...</td>\n",
       "      <td>...</td>\n",
       "    </tr>\n",
       "    <tr>\n",
       "      <th>886</th>\n",
       "      <td>male</td>\n",
       "      <td>S</td>\n",
       "      <td>Second</td>\n",
       "      <td>man</td>\n",
       "      <td>True</td>\n",
       "      <td>NaN</td>\n",
       "      <td>Southampton</td>\n",
       "      <td>no</td>\n",
       "      <td>True</td>\n",
       "      <td>0</td>\n",
       "      <td>2</td>\n",
       "      <td>0</td>\n",
       "      <td>0</td>\n",
       "      <td>0</td>\n",
       "      <td>2</td>\n",
       "      <td>0</td>\n",
       "      <td>0</td>\n",
       "    </tr>\n",
       "    <tr>\n",
       "      <th>887</th>\n",
       "      <td>female</td>\n",
       "      <td>S</td>\n",
       "      <td>First</td>\n",
       "      <td>woman</td>\n",
       "      <td>False</td>\n",
       "      <td>B</td>\n",
       "      <td>Southampton</td>\n",
       "      <td>yes</td>\n",
       "      <td>True</td>\n",
       "      <td>1</td>\n",
       "      <td>1</td>\n",
       "      <td>0</td>\n",
       "      <td>0</td>\n",
       "      <td>1</td>\n",
       "      <td>1</td>\n",
       "      <td>0</td>\n",
       "      <td>0</td>\n",
       "    </tr>\n",
       "    <tr>\n",
       "      <th>888</th>\n",
       "      <td>female</td>\n",
       "      <td>S</td>\n",
       "      <td>Third</td>\n",
       "      <td>woman</td>\n",
       "      <td>False</td>\n",
       "      <td>NaN</td>\n",
       "      <td>Southampton</td>\n",
       "      <td>no</td>\n",
       "      <td>False</td>\n",
       "      <td>0</td>\n",
       "      <td>3</td>\n",
       "      <td>1</td>\n",
       "      <td>2</td>\n",
       "      <td>0</td>\n",
       "      <td>3</td>\n",
       "      <td>1</td>\n",
       "      <td>2</td>\n",
       "    </tr>\n",
       "    <tr>\n",
       "      <th>889</th>\n",
       "      <td>male</td>\n",
       "      <td>C</td>\n",
       "      <td>First</td>\n",
       "      <td>man</td>\n",
       "      <td>True</td>\n",
       "      <td>C</td>\n",
       "      <td>Cherbourg</td>\n",
       "      <td>yes</td>\n",
       "      <td>True</td>\n",
       "      <td>1</td>\n",
       "      <td>1</td>\n",
       "      <td>0</td>\n",
       "      <td>0</td>\n",
       "      <td>1</td>\n",
       "      <td>1</td>\n",
       "      <td>0</td>\n",
       "      <td>0</td>\n",
       "    </tr>\n",
       "    <tr>\n",
       "      <th>890</th>\n",
       "      <td>male</td>\n",
       "      <td>Q</td>\n",
       "      <td>Third</td>\n",
       "      <td>man</td>\n",
       "      <td>True</td>\n",
       "      <td>NaN</td>\n",
       "      <td>Queenstown</td>\n",
       "      <td>no</td>\n",
       "      <td>True</td>\n",
       "      <td>0</td>\n",
       "      <td>3</td>\n",
       "      <td>0</td>\n",
       "      <td>0</td>\n",
       "      <td>0</td>\n",
       "      <td>3</td>\n",
       "      <td>0</td>\n",
       "      <td>0</td>\n",
       "    </tr>\n",
       "  </tbody>\n",
       "</table>\n",
       "<p>891 rows × 17 columns</p>\n",
       "</div>"
      ],
      "text/plain": [
       "        sex embarked   class    who  adult_male deck  embark_town alive  alone  survived  pclass  sibsp  parch  survived  pclass  sibsp  parch\n",
       "0      male        S   Third    man        True  NaN  Southampton    no  False         0       3      1      0         0       3      1      0\n",
       "1    female        C   First  woman       False    C    Cherbourg   yes  False         1       1      1      0         1       1      1      0\n",
       "2    female        S   Third  woman       False  NaN  Southampton   yes   True         1       3      0      0         1       3      0      0\n",
       "3    female        S   First  woman       False    C  Southampton   yes  False         1       1      1      0         1       1      1      0\n",
       "4      male        S   Third    man        True  NaN  Southampton    no   True         0       3      0      0         0       3      0      0\n",
       "..      ...      ...     ...    ...         ...  ...          ...   ...    ...       ...     ...    ...    ...       ...     ...    ...    ...\n",
       "886    male        S  Second    man        True  NaN  Southampton    no   True         0       2      0      0         0       2      0      0\n",
       "887  female        S   First  woman       False    B  Southampton   yes   True         1       1      0      0         1       1      0      0\n",
       "888  female        S   Third  woman       False  NaN  Southampton    no  False         0       3      1      2         0       3      1      2\n",
       "889    male        C   First    man        True    C    Cherbourg   yes   True         1       1      0      0         1       1      0      0\n",
       "890    male        Q   Third    man        True  NaN   Queenstown    no   True         0       3      0      0         0       3      0      0\n",
       "\n",
       "[891 rows x 17 columns]"
      ]
     },
     "execution_count": 97,
     "metadata": {},
     "output_type": "execute_result"
    }
   ],
   "source": [
    "df[cat_cols]"
   ]
  },
  {
   "cell_type": "code",
   "execution_count": 99,
   "id": "1d84a04d",
   "metadata": {},
   "outputs": [
    {
     "data": {
      "text/plain": [
       "sex            2\n",
       "embarked       3\n",
       "class          3\n",
       "who            3\n",
       "adult_male     2\n",
       "deck           7\n",
       "embark_town    3\n",
       "alive          2\n",
       "alone          2\n",
       "survived       2\n",
       "pclass         3\n",
       "sibsp          7\n",
       "parch          7\n",
       "survived       2\n",
       "pclass         3\n",
       "sibsp          7\n",
       "parch          7\n",
       "dtype: int64"
      ]
     },
     "execution_count": 99,
     "metadata": {},
     "output_type": "execute_result"
    }
   ],
   "source": [
    "df[cat_cols].nunique()"
   ]
  },
  {
   "cell_type": "markdown",
   "id": "06158e9d",
   "metadata": {},
   "source": [
    "# Cat Summary Function"
   ]
  },
  {
   "cell_type": "code",
   "execution_count": 138,
   "id": "fc216f2a",
   "metadata": {},
   "outputs": [],
   "source": [
    "def cat_summary(dataframe, col_name, plot=False):\n",
    "    print(pd.DataFrame({col_name: dataframe[col_name].value_counts(),\n",
    "                       'Ratio': round(100*(dataframe[col_name].value_counts()) / len(dataframe), 2)}))\n",
    "    \n",
    "    if plot:\n",
    "        sns.countplot(x=col_name, data=dataframe)\n",
    "        plt.show()\n",
    "        \n",
    "    print('######################################################################\\n')"
   ]
  },
  {
   "cell_type": "code",
   "execution_count": 133,
   "id": "819e2409",
   "metadata": {},
   "outputs": [
    {
     "name": "stdout",
     "output_type": "stream",
     "text": [
      "        sex  Ratio\n",
      "male    577  64.76\n",
      "female  314  35.24\n",
      "######################################################################\n",
      "\n"
     ]
    }
   ],
   "source": [
    "cat_summary(df, 'sex')"
   ]
  },
  {
   "cell_type": "code",
   "execution_count": 130,
   "id": "bdf53e46",
   "metadata": {},
   "outputs": [
    {
     "name": "stdout",
     "output_type": "stream",
     "text": [
      "        sex  Ratio\n",
      "male    577  64.76\n",
      "female  314  35.24\n",
      "######################################################################\n",
      "\n",
      "   embarked  Ratio\n",
      "S       644  72.28\n",
      "C       168  18.86\n",
      "Q        77   8.64\n",
      "######################################################################\n",
      "\n",
      "        class  Ratio\n",
      "Third     491  55.11\n",
      "First     216  24.24\n",
      "Second    184  20.65\n",
      "######################################################################\n",
      "\n",
      "       who  Ratio\n",
      "man    537  60.27\n",
      "woman  271  30.42\n",
      "child   83   9.32\n",
      "######################################################################\n",
      "\n",
      "       adult_male  Ratio\n",
      "True          537  60.27\n",
      "False         354  39.73\n",
      "######################################################################\n",
      "\n",
      "   deck  Ratio\n",
      "C    59   6.62\n",
      "B    47   5.27\n",
      "D    33   3.70\n",
      "E    32   3.59\n",
      "A    15   1.68\n",
      "F    13   1.46\n",
      "G     4   0.45\n",
      "######################################################################\n",
      "\n",
      "             embark_town  Ratio\n",
      "Southampton          644  72.28\n",
      "Cherbourg            168  18.86\n",
      "Queenstown            77   8.64\n",
      "######################################################################\n",
      "\n",
      "     alive  Ratio\n",
      "no     549  61.62\n",
      "yes    342  38.38\n",
      "######################################################################\n",
      "\n",
      "       alone  Ratio\n",
      "True     537  60.27\n",
      "False    354  39.73\n",
      "######################################################################\n",
      "\n",
      "   survived  Ratio\n",
      "0       549  61.62\n",
      "1       342  38.38\n",
      "######################################################################\n",
      "\n",
      "   pclass  Ratio\n",
      "3     491  55.11\n",
      "1     216  24.24\n",
      "2     184  20.65\n",
      "######################################################################\n",
      "\n",
      "   sibsp  Ratio\n",
      "0    608  68.24\n",
      "1    209  23.46\n",
      "2     28   3.14\n",
      "4     18   2.02\n",
      "3     16   1.80\n",
      "8      7   0.79\n",
      "5      5   0.56\n",
      "######################################################################\n",
      "\n",
      "   parch  Ratio\n",
      "0    678  76.09\n",
      "1    118  13.24\n",
      "2     80   8.98\n",
      "5      5   0.56\n",
      "3      5   0.56\n",
      "4      4   0.45\n",
      "6      1   0.11\n",
      "######################################################################\n",
      "\n",
      "   survived  Ratio\n",
      "0       549  61.62\n",
      "1       342  38.38\n",
      "######################################################################\n",
      "\n",
      "   pclass  Ratio\n",
      "3     491  55.11\n",
      "1     216  24.24\n",
      "2     184  20.65\n",
      "######################################################################\n",
      "\n",
      "   sibsp  Ratio\n",
      "0    608  68.24\n",
      "1    209  23.46\n",
      "2     28   3.14\n",
      "4     18   2.02\n",
      "3     16   1.80\n",
      "8      7   0.79\n",
      "5      5   0.56\n",
      "######################################################################\n",
      "\n",
      "   parch  Ratio\n",
      "0    678  76.09\n",
      "1    118  13.24\n",
      "2     80   8.98\n",
      "5      5   0.56\n",
      "3      5   0.56\n",
      "4      4   0.45\n",
      "6      1   0.11\n",
      "######################################################################\n",
      "\n"
     ]
    }
   ],
   "source": [
    "for col in cat_cols:\n",
    "    cat_summary(df, col)"
   ]
  },
  {
   "cell_type": "code",
   "execution_count": 136,
   "id": "a5027dad",
   "metadata": {},
   "outputs": [
    {
     "name": "stdout",
     "output_type": "stream",
     "text": [
      "        sex  Ratio\n",
      "male    577  64.76\n",
      "female  314  35.24\n",
      "######################################################################\n",
      "\n"
     ]
    },
    {
     "data": {
      "image/png": "[encoded data removed]",
      "text/plain": [
       "<Figure size 432x288 with 1 Axes>"
      ]
     },
     "metadata": {
      "needs_background": "light"
     },
     "output_type": "display_data"
    }
   ],
   "source": [
    "cat_summary(df, 'sex', plot=True)"
   ]
  },
  {
   "cell_type": "code",
   "execution_count": 139,
   "id": "b9d9e42e",
   "metadata": {},
   "outputs": [
    {
     "name": "stdout",
     "output_type": "stream",
     "text": [
      "        sex  Ratio\n",
      "male    577  64.76\n",
      "female  314  35.24\n"
     ]
    },
    {
     "data": {
      "image/png": "[encoded data removed]",
      "text/plain": [
       "<Figure size 432x288 with 1 Axes>"
      ]
     },
     "metadata": {
      "needs_background": "light"
     },
     "output_type": "display_data"
    },
    {
     "name": "stdout",
     "output_type": "stream",
     "text": [
      "######################################################################\n",
      "\n",
      "   embarked  Ratio\n",
      "S       644  72.28\n",
      "C       168  18.86\n",
      "Q        77   8.64\n"
     ]
    },
    {
     "data": {
      "image/png": "[encoded data removed]",
      "text/plain": [
       "<Figure size 432x288 with 1 Axes>"
      ]
     },
     "metadata": {
      "needs_background": "light"
     },
     "output_type": "display_data"
    },
    {
     "name": "stdout",
     "output_type": "stream",
     "text": [
      "######################################################################\n",
      "\n",
      "        class  Ratio\n",
      "Third     491  55.11\n",
      "First     216  24.24\n",
      "Second    184  20.65\n"
     ]
    },
    {
     "data": {
      "image/png": "[encoded data removed]",
      "text/plain": [
       "<Figure size 432x288 with 1 Axes>"
      ]
     },
     "metadata": {
      "needs_background": "light"
     },
     "output_type": "display_data"
    },
    {
     "name": "stdout",
     "output_type": "stream",
     "text": [
      "######################################################################\n",
      "\n",
      "       who  Ratio\n",
      "man    537  60.27\n",
      "woman  271  30.42\n",
      "child   83   9.32\n"
     ]
    },
    {
     "data": {
      "image/png": "[encoded data removed]",
      "text/plain": [
       "<Figure size 432x288 with 1 Axes>"
      ]
     },
     "metadata": {
      "needs_background": "light"
     },
     "output_type": "display_data"
    },
    {
     "name": "stdout",
     "output_type": "stream",
     "text": [
      "######################################################################\n",
      "\n",
      "       adult_male  Ratio\n",
      "True          537  60.27\n",
      "False         354  39.73\n"
     ]
    },
    {
     "data": {
      "image/png": "[encoded data removed]",
      "text/plain": [
       "<Figure size 432x288 with 1 Axes>"
      ]
     },
     "metadata": {
      "needs_background": "light"
     },
     "output_type": "display_data"
    },
    {
     "name": "stdout",
     "output_type": "stream",
     "text": [
      "######################################################################\n",
      "\n",
      "   deck  Ratio\n",
      "C    59   6.62\n",
      "B    47   5.27\n",
      "D    33   3.70\n",
      "E    32   3.59\n",
      "A    15   1.68\n",
      "F    13   1.46\n",
      "G     4   0.45\n"
     ]
    },
    {
     "data": {
      "image/png": "[encoded data removed]",
      "text/plain": [
       "<Figure size 432x288 with 1 Axes>"
      ]
     },
     "metadata": {
      "needs_background": "light"
     },
     "output_type": "display_data"
    },
    {
     "name": "stdout",
     "output_type": "stream",
     "text": [
      "######################################################################\n",
      "\n",
      "             embark_town  Ratio\n",
      "Southampton          644  72.28\n",
      "Cherbourg            168  18.86\n",
      "Queenstown            77   8.64\n"
     ]
    },
    {
     "data": {
      "image/png": "[encoded data removed]",
      "text/plain": [
       "<Figure size 432x288 with 1 Axes>"
      ]
     },
     "metadata": {
      "needs_background": "light"
     },
     "output_type": "display_data"
    },
    {
     "name": "stdout",
     "output_type": "stream",
     "text": [
      "######################################################################\n",
      "\n",
      "     alive  Ratio\n",
      "no     549  61.62\n",
      "yes    342  38.38\n"
     ]
    },
    {
     "data": {
      "image/png": "[encoded data removed]",
      "text/plain": [
       "<Figure size 432x288 with 1 Axes>"
      ]
     },
     "metadata": {
      "needs_background": "light"
     },
     "output_type": "display_data"
    },
    {
     "name": "stdout",
     "output_type": "stream",
     "text": [
      "######################################################################\n",
      "\n",
      "       alone  Ratio\n",
      "True     537  60.27\n",
      "False    354  39.73\n"
     ]
    },
    {
     "data": {
      "image/png": "[encoded data removed]",
      "text/plain": [
       "<Figure size 432x288 with 1 Axes>"
      ]
     },
     "metadata": {
      "needs_background": "light"
     },
     "output_type": "display_data"
    },
    {
     "name": "stdout",
     "output_type": "stream",
     "text": [
      "######################################################################\n",
      "\n",
      "   survived  Ratio\n",
      "0       549  61.62\n",
      "1       342  38.38\n"
     ]
    },
    {
     "data": {
      "image/png": "[encoded data removed]",
      "text/plain": [
       "<Figure size 432x288 with 1 Axes>"
      ]
     },
     "metadata": {
      "needs_background": "light"
     },
     "output_type": "display_data"
    },
    {
     "name": "stdout",
     "output_type": "stream",
     "text": [
      "######################################################################\n",
      "\n",
      "   pclass  Ratio\n",
      "3     491  55.11\n",
      "1     216  24.24\n",
      "2     184  20.65\n"
     ]
    },
    {
     "data": {
      "image/png": "[encoded data removed]",
      "text/plain": [
       "<Figure size 432x288 with 1 Axes>"
      ]
     },
     "metadata": {
      "needs_background": "light"
     },
     "output_type": "display_data"
    },
    {
     "name": "stdout",
     "output_type": "stream",
     "text": [
      "######################################################################\n",
      "\n",
      "   sibsp  Ratio\n",
      "0    608  68.24\n",
      "1    209  23.46\n",
      "2     28   3.14\n",
      "4     18   2.02\n",
      "3     16   1.80\n",
      "8      7   0.79\n",
      "5      5   0.56\n"
     ]
    },
    {
     "data": {
      "image/png": "[encoded data removed]",
      "text/plain": [
       "<Figure size 432x288 with 1 Axes>"
      ]
     },
     "metadata": {
      "needs_background": "light"
     },
     "output_type": "display_data"
    },
    {
     "name": "stdout",
     "output_type": "stream",
     "text": [
      "######################################################################\n",
      "\n",
      "   parch  Ratio\n",
      "0    678  76.09\n",
      "1    118  13.24\n",
      "2     80   8.98\n",
      "5      5   0.56\n",
      "3      5   0.56\n",
      "4      4   0.45\n",
      "6      1   0.11\n"
     ]
    },
    {
     "data": {
      "image/png": "[encoded data removed]",
      "text/plain": [
       "<Figure size 432x288 with 1 Axes>"
      ]
     },
     "metadata": {
      "needs_background": "light"
     },
     "output_type": "display_data"
    },
    {
     "name": "stdout",
     "output_type": "stream",
     "text": [
      "######################################################################\n",
      "\n",
      "   survived  Ratio\n",
      "0       549  61.62\n",
      "1       342  38.38\n"
     ]
    },
    {
     "data": {
      "image/png": "[encoded data removed]",
      "text/plain": [
       "<Figure size 432x288 with 1 Axes>"
      ]
     },
     "metadata": {
      "needs_background": "light"
     },
     "output_type": "display_data"
    },
    {
     "name": "stdout",
     "output_type": "stream",
     "text": [
      "######################################################################\n",
      "\n",
      "   pclass  Ratio\n",
      "3     491  55.11\n",
      "1     216  24.24\n",
      "2     184  20.65\n"
     ]
    },
    {
     "data": {
      "image/png": "[encoded data removed]",
      "text/plain": [
       "<Figure size 432x288 with 1 Axes>"
      ]
     },
     "metadata": {
      "needs_background": "light"
     },
     "output_type": "display_data"
    },
    {
     "name": "stdout",
     "output_type": "stream",
     "text": [
      "######################################################################\n",
      "\n",
      "   sibsp  Ratio\n",
      "0    608  68.24\n",
      "1    209  23.46\n",
      "2     28   3.14\n",
      "4     18   2.02\n",
      "3     16   1.80\n",
      "8      7   0.79\n",
      "5      5   0.56\n"
     ]
    },
    {
     "data": {
      "image/png": "[encoded data removed]",
      "text/plain": [
       "<Figure size 432x288 with 1 Axes>"
      ]
     },
     "metadata": {
      "needs_background": "light"
     },
     "output_type": "display_data"
    },
    {
     "name": "stdout",
     "output_type": "stream",
     "text": [
      "######################################################################\n",
      "\n",
      "   parch  Ratio\n",
      "0    678  76.09\n",
      "1    118  13.24\n",
      "2     80   8.98\n",
      "5      5   0.56\n",
      "3      5   0.56\n",
      "4      4   0.45\n",
      "6      1   0.11\n"
     ]
    },
    {
     "data": {
      "image/png": "[encoded data removed]",
      "text/plain": [
       "<Figure size 432x288 with 1 Axes>"
      ]
     },
     "metadata": {
      "needs_background": "light"
     },
     "output_type": "display_data"
    },
    {
     "name": "stdout",
     "output_type": "stream",
     "text": [
      "######################################################################\n",
      "\n"
     ]
    }
   ],
   "source": [
    "for col in cat_cols:\n",
    "    cat_summary(df, col, plot=True)"
   ]
  },
  {
   "cell_type": "code",
   "execution_count": 141,
   "id": "53a95675",
   "metadata": {},
   "outputs": [],
   "source": [
    "num_cols = [col for col in df.columns if df[col].dtype in ['float64', 'int64']]"
   ]
  },
  {
   "cell_type": "code",
   "execution_count": 144,
   "id": "c112b53b",
   "metadata": {},
   "outputs": [
    {
     "data": {
      "text/plain": [
       "['age', 'fare']"
      ]
     },
     "execution_count": 144,
     "metadata": {},
     "output_type": "execute_result"
    }
   ],
   "source": [
    "num_cols = [col for col in num_cols if col not in cat_cols]\n",
    "num_cols"
   ]
  },
  {
   "cell_type": "markdown",
   "id": "9502b1fc",
   "metadata": {},
   "source": [
    "# Num Summary Funciton"
   ]
  },
  {
   "cell_type": "code",
   "execution_count": 158,
   "id": "794a4eff",
   "metadata": {},
   "outputs": [],
   "source": [
    "def num_summary(dataframe, numerical_col, plot=False):\n",
    "    print(numerical_col.upper())\n",
    "    quantiles = [0.1, 0.2, 0.3, 0.4, 0.5, 0.6, 0.7, 0.8, 0.9]\n",
    "    print(dataframe[numerical_col].describe(quantiles).T)\n",
    "    \n",
    "    if plot:\n",
    "        dataframe[numerical_col].hist()\n",
    "        plt.title(numerical_col)\n",
    "        plt.xlabel(numerical_col)\n",
    "        plt.show()\n",
    "       \n",
    "    print('################################################################\\n')"
   ]
  },
  {
   "cell_type": "code",
   "execution_count": 159,
   "id": "17a6f239",
   "metadata": {},
   "outputs": [
    {
     "name": "stdout",
     "output_type": "stream",
     "text": [
      "AGE\n",
      "count    714.000000\n",
      "mean      29.699118\n",
      "std       14.526497\n",
      "min        0.420000\n",
      "10%       14.000000\n",
      "20%       19.000000\n",
      "30%       22.000000\n",
      "40%       25.000000\n",
      "50%       28.000000\n",
      "60%       31.800000\n",
      "70%       36.000000\n",
      "80%       41.000000\n",
      "90%       50.000000\n",
      "max       80.000000\n",
      "Name: age, dtype: float64\n"
     ]
    },
    {
     "data": {
      "image/png": "[encoded data removed]",
      "text/plain": [
       "<Figure size 432x288 with 1 Axes>"
      ]
     },
     "metadata": {
      "needs_background": "light"
     },
     "output_type": "display_data"
    },
    {
     "name": "stdout",
     "output_type": "stream",
     "text": [
      "################################################################\n",
      "\n"
     ]
    }
   ],
   "source": [
    "num_summary(df, 'age', plot=True)"
   ]
  },
  {
   "cell_type": "code",
   "execution_count": 160,
   "id": "5895d60b",
   "metadata": {},
   "outputs": [
    {
     "name": "stdout",
     "output_type": "stream",
     "text": [
      "AGE\n",
      "count    714.000000\n",
      "mean      29.699118\n",
      "std       14.526497\n",
      "min        0.420000\n",
      "10%       14.000000\n",
      "20%       19.000000\n",
      "30%       22.000000\n",
      "40%       25.000000\n",
      "50%       28.000000\n",
      "60%       31.800000\n",
      "70%       36.000000\n",
      "80%       41.000000\n",
      "90%       50.000000\n",
      "max       80.000000\n",
      "Name: age, dtype: float64\n"
     ]
    },
    {
     "data": {
      "image/png": "[encoded data removed]",
      "text/plain": [
       "<Figure size 432x288 with 1 Axes>"
      ]
     },
     "metadata": {
      "needs_background": "light"
     },
     "output_type": "display_data"
    },
    {
     "name": "stdout",
     "output_type": "stream",
     "text": [
      "################################################################\n",
      "\n",
      "FARE\n",
      "count    891.000000\n",
      "mean      32.204208\n",
      "std       49.693429\n",
      "min        0.000000\n",
      "10%        7.550000\n",
      "20%        7.854200\n",
      "30%        8.050000\n",
      "40%       10.500000\n",
      "50%       14.454200\n",
      "60%       21.679200\n",
      "70%       27.000000\n",
      "80%       39.687500\n",
      "90%       77.958300\n",
      "max      512.329200\n",
      "Name: fare, dtype: float64\n"
     ]
    },
    {
     "data": {
      "image/png": "[encoded data removed]",
      "text/plain": [
       "<Figure size 432x288 with 1 Axes>"
      ]
     },
     "metadata": {
      "needs_background": "light"
     },
     "output_type": "display_data"
    },
    {
     "name": "stdout",
     "output_type": "stream",
     "text": [
      "################################################################\n",
      "\n"
     ]
    }
   ],
   "source": [
    "for col in num_cols:\n",
    "    num_summary(df, col, plot=True)"
   ]
  },
  {
   "cell_type": "markdown",
   "id": "668c8124",
   "metadata": {},
   "source": [
    "# Grab All Columns"
   ]
  },
  {
   "cell_type": "code",
   "execution_count": 168,
   "id": "6ced4dde",
   "metadata": {},
   "outputs": [],
   "source": [
    "def grab_col_names(dataframe, cat_th=10, car_th=20):\n",
    "    \n",
    "    cat_cols = [col for col in df.columns if str(df[col].dtype) in ['category', 'object', 'bool']]\n",
    "    num_but_cat = [col for col in df.columns if str(df[col].dtype) in ['int64', 'float64'] and df[col].nunique() < cat_th]\n",
    "    cat_but_car = [col for col in df.columns if str(df[col].dtype) in ['category', 'object'] and df[col].nunique() > car_th]\n",
    "    cat_cols = cat_cols + num_but_cat\n",
    "    cat_cols = [col for col in cat_cols if col not in cat_but_car]\n",
    "    \n",
    "    num_cols = [col for col in df.columns if df[col].dtype in ['float64', 'int64']]\n",
    "    num_cols = [col for col in num_cols if col not in cat_cols]\n",
    "    \n",
    "    print(f'Observations: {dataframe.shape[0]}')\n",
    "    print(f'Variables: {dataframe.shape[1]}')\n",
    "    print(f'Categorical Variables: {len(cat_cols)}')\n",
    "    print(f'Numerical Variables: {len(num_cols)}')\n",
    "    print(f'Numerical But Categorical Variables: {len(num_but_cat)}')\n",
    "    print(f'Categorical But Cardinal: {len(cat_but_car)}')\n",
    "    \n",
    "    return cat_cols, num_cols, cat_but_car\n",
    "    "
   ]
  },
  {
   "cell_type": "code",
   "execution_count": 169,
   "id": "7099e656",
   "metadata": {},
   "outputs": [
    {
     "name": "stdout",
     "output_type": "stream",
     "text": [
      "Observations: 891\n",
      "Variables: 15\n",
      "Categorical Variables: 13\n",
      "Numerical Variables: 2\n",
      "Numerical But Categorical Variables: 4\n",
      "Categorical But Cardinal: 0\n"
     ]
    },
    {
     "data": {
      "text/plain": [
       "(['sex',\n",
       "  'embarked',\n",
       "  'class',\n",
       "  'who',\n",
       "  'adult_male',\n",
       "  'deck',\n",
       "  'embark_town',\n",
       "  'alive',\n",
       "  'alone',\n",
       "  'survived',\n",
       "  'pclass',\n",
       "  'sibsp',\n",
       "  'parch'],\n",
       " ['age', 'fare'],\n",
       " [])"
      ]
     },
     "execution_count": 169,
     "metadata": {},
     "output_type": "execute_result"
    }
   ],
   "source": [
    "grab_col_names(df)"
   ]
  },
  {
   "cell_type": "code",
   "execution_count": 170,
   "id": "b6dc3b92",
   "metadata": {},
   "outputs": [
    {
     "name": "stdout",
     "output_type": "stream",
     "text": [
      "Observations: 891\n",
      "Variables: 15\n",
      "Categorical Variables: 13\n",
      "Numerical Variables: 2\n",
      "Numerical But Categorical Variables: 4\n",
      "Categorical But Cardinal: 0\n"
     ]
    }
   ],
   "source": [
    "cat_cols_df, num_cols_df, cat_but_car_df = grab_col_names(df)"
   ]
  },
  {
   "cell_type": "code",
   "execution_count": 171,
   "id": "549d7638",
   "metadata": {},
   "outputs": [
    {
     "data": {
      "text/plain": [
       "['sex',\n",
       " 'embarked',\n",
       " 'class',\n",
       " 'who',\n",
       " 'adult_male',\n",
       " 'deck',\n",
       " 'embark_town',\n",
       " 'alive',\n",
       " 'alone',\n",
       " 'survived',\n",
       " 'pclass',\n",
       " 'sibsp',\n",
       " 'parch']"
      ]
     },
     "execution_count": 171,
     "metadata": {},
     "output_type": "execute_result"
    }
   ],
   "source": [
    "cat_cols_df"
   ]
  },
  {
   "cell_type": "code",
   "execution_count": 172,
   "id": "7c026dce",
   "metadata": {},
   "outputs": [
    {
     "data": {
      "text/plain": [
       "['age', 'fare']"
      ]
     },
     "execution_count": 172,
     "metadata": {},
     "output_type": "execute_result"
    }
   ],
   "source": [
    "num_cols_df"
   ]
  },
  {
   "cell_type": "code",
   "execution_count": 173,
   "id": "e2cd84c2",
   "metadata": {},
   "outputs": [
    {
     "data": {
      "text/plain": [
       "[]"
      ]
     },
     "execution_count": 173,
     "metadata": {},
     "output_type": "execute_result"
    }
   ],
   "source": [
    "cat_but_car_df"
   ]
  }
 ],
 "metadata": {
  "kernelspec": {
   "display_name": "Python 3 (ipykernel)",
   "language": "python",
   "name": "python3"
  },
  "language_info": {
   "codemirror_mode": {
    "name": "ipython",
    "version": 3
   },
   "file_extension": ".py",
   "mimetype": "text/x-python",
   "name": "python",
   "nbconvert_exporter": "python",
   "pygments_lexer": "ipython3",
   "version": "3.9.7"
  }
 },
 "nbformat": 4,
 "nbformat_minor": 5
}
