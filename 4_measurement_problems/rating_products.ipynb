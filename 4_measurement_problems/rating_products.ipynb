{
 "cells": [
  {
   "cell_type": "markdown",
   "id": "e0e3c98e",
   "metadata": {},
   "source": [
    "# Rating Products"
   ]
  },
  {
   "cell_type": "markdown",
   "id": "2ee31037",
   "metadata": {},
   "source": [
    "There are 4 ratings types:\n",
    "\n",
    "* Average\n",
    "* Time-Based Weighted Average\n",
    "* User-Based Weighted Average\n",
    "* Weighted Rating"
   ]
  },
  {
   "cell_type": "markdown",
   "id": "db0af3e4",
   "metadata": {},
   "source": [
    "**About dataset**"
   ]
  },
  {
   "cell_type": "markdown",
   "id": "9cbb6b2c",
   "metadata": {},
   "source": [
    "The dataset contains the ratings and user information for an online course. We will try to discover rating products with this dataset.\n",
    "\n",
    "Variables: \n",
    "\n",
    "* Rating: Giving rate between 1-5 rank.\n",
    "* Timestamp: The date score was given\n",
    "* Enrolled: The date enrolled.\n",
    "* Progress: Percentage of course completion.\n",
    "* Questions Asked: Total number of questions asked.\n",
    "* Questions Answered: Total number of questions answered."
   ]
  },
  {
   "cell_type": "markdown",
   "id": "a021cb0e",
   "metadata": {},
   "source": [
    "**Import libraries**"
   ]
  },
  {
   "cell_type": "code",
   "execution_count": 102,
   "id": "72b6331f",
   "metadata": {},
   "outputs": [],
   "source": [
    "import math\n",
    "import datetime as dt\n",
    "import numpy as np\n",
    "import pandas as pd\n",
    "import scipy.stats as st\n",
    "import seaborn as sns\n",
    "import matplotlib.pyplot as plt\n",
    "\n",
    "pd.set_option('display.max_rows', 500)"
   ]
  },
  {
   "cell_type": "markdown",
   "id": "54811ab6",
   "metadata": {},
   "source": [
    "**Read file**"
   ]
  },
  {
   "cell_type": "code",
   "execution_count": 6,
   "id": "d54e06b7",
   "metadata": {},
   "outputs": [],
   "source": [
    "df = pd.read_csv('datasets/course_reviews.csv')"
   ]
  },
  {
   "cell_type": "code",
   "execution_count": 7,
   "id": "29abae94",
   "metadata": {},
   "outputs": [
    {
     "data": {
      "text/html": [
       "<div>\n",
       "<style scoped>\n",
       "    .dataframe tbody tr th:only-of-type {\n",
       "        vertical-align: middle;\n",
       "    }\n",
       "\n",
       "    .dataframe tbody tr th {\n",
       "        vertical-align: top;\n",
       "    }\n",
       "\n",
       "    .dataframe thead th {\n",
       "        text-align: right;\n",
       "    }\n",
       "</style>\n",
       "<table border=\"1\" class=\"dataframe\">\n",
       "  <thead>\n",
       "    <tr style=\"text-align: right;\">\n",
       "      <th></th>\n",
       "      <th>Rating</th>\n",
       "      <th>Timestamp</th>\n",
       "      <th>Enrolled</th>\n",
       "      <th>Progress</th>\n",
       "      <th>Questions Asked</th>\n",
       "      <th>Questions Answered</th>\n",
       "    </tr>\n",
       "  </thead>\n",
       "  <tbody>\n",
       "    <tr>\n",
       "      <th>0</th>\n",
       "      <td>5.0</td>\n",
       "      <td>2021-02-05 07:45:55</td>\n",
       "      <td>2021-01-25 15:12:08</td>\n",
       "      <td>5.0</td>\n",
       "      <td>0.0</td>\n",
       "      <td>0.0</td>\n",
       "    </tr>\n",
       "    <tr>\n",
       "      <th>1</th>\n",
       "      <td>5.0</td>\n",
       "      <td>2021-02-04 21:05:32</td>\n",
       "      <td>2021-02-04 20:43:40</td>\n",
       "      <td>1.0</td>\n",
       "      <td>0.0</td>\n",
       "      <td>0.0</td>\n",
       "    </tr>\n",
       "    <tr>\n",
       "      <th>2</th>\n",
       "      <td>4.5</td>\n",
       "      <td>2021-02-04 20:34:03</td>\n",
       "      <td>2019-07-04 23:23:27</td>\n",
       "      <td>1.0</td>\n",
       "      <td>0.0</td>\n",
       "      <td>0.0</td>\n",
       "    </tr>\n",
       "    <tr>\n",
       "      <th>3</th>\n",
       "      <td>5.0</td>\n",
       "      <td>2021-02-04 16:56:28</td>\n",
       "      <td>2021-02-04 14:41:29</td>\n",
       "      <td>10.0</td>\n",
       "      <td>0.0</td>\n",
       "      <td>0.0</td>\n",
       "    </tr>\n",
       "    <tr>\n",
       "      <th>4</th>\n",
       "      <td>4.0</td>\n",
       "      <td>2021-02-04 15:00:24</td>\n",
       "      <td>2020-10-13 03:10:07</td>\n",
       "      <td>10.0</td>\n",
       "      <td>0.0</td>\n",
       "      <td>0.0</td>\n",
       "    </tr>\n",
       "  </tbody>\n",
       "</table>\n",
       "</div>"
      ],
      "text/plain": [
       "   Rating            Timestamp             Enrolled  Progress  \\\n",
       "0     5.0  2021-02-05 07:45:55  2021-01-25 15:12:08       5.0   \n",
       "1     5.0  2021-02-04 21:05:32  2021-02-04 20:43:40       1.0   \n",
       "2     4.5  2021-02-04 20:34:03  2019-07-04 23:23:27       1.0   \n",
       "3     5.0  2021-02-04 16:56:28  2021-02-04 14:41:29      10.0   \n",
       "4     4.0  2021-02-04 15:00:24  2020-10-13 03:10:07      10.0   \n",
       "\n",
       "   Questions Asked  Questions Answered  \n",
       "0              0.0                 0.0  \n",
       "1              0.0                 0.0  \n",
       "2              0.0                 0.0  \n",
       "3              0.0                 0.0  \n",
       "4              0.0                 0.0  "
      ]
     },
     "execution_count": 7,
     "metadata": {},
     "output_type": "execute_result"
    }
   ],
   "source": [
    "df.head()"
   ]
  },
  {
   "cell_type": "code",
   "execution_count": 10,
   "id": "dcce1d05",
   "metadata": {},
   "outputs": [
    {
     "name": "stdout",
     "output_type": "stream",
     "text": [
      "<class 'pandas.core.frame.DataFrame'>\n",
      "RangeIndex: 4323 entries, 0 to 4322\n",
      "Data columns (total 6 columns):\n",
      " #   Column              Non-Null Count  Dtype  \n",
      "---  ------              --------------  -----  \n",
      " 0   Rating              4323 non-null   float64\n",
      " 1   Timestamp           4323 non-null   object \n",
      " 2   Enrolled            4323 non-null   object \n",
      " 3   Progress            4323 non-null   float64\n",
      " 4   Questions Asked     4323 non-null   float64\n",
      " 5   Questions Answered  4323 non-null   float64\n",
      "dtypes: float64(4), object(2)\n",
      "memory usage: 202.8+ KB\n"
     ]
    }
   ],
   "source": [
    "df.info()"
   ]
  },
  {
   "cell_type": "markdown",
   "id": "917d62bf",
   "metadata": {},
   "source": [
    "## 1) Average rating"
   ]
  },
  {
   "cell_type": "markdown",
   "id": "bbbefedb",
   "metadata": {},
   "source": [
    "**Rating distributions**"
   ]
  },
  {
   "cell_type": "code",
   "execution_count": 13,
   "id": "9fbef295",
   "metadata": {},
   "outputs": [
    {
     "data": {
      "text/plain": [
       "5.0    3267\n",
       "4.5     475\n",
       "4.0     383\n",
       "3.5      96\n",
       "3.0      62\n",
       "1.0      15\n",
       "2.0      12\n",
       "2.5      11\n",
       "1.5       2\n",
       "Name: Rating, dtype: int64"
      ]
     },
     "execution_count": 13,
     "metadata": {},
     "output_type": "execute_result"
    }
   ],
   "source": [
    "df['Rating'].value_counts()"
   ]
  },
  {
   "cell_type": "code",
   "execution_count": 26,
   "id": "1fefc254",
   "metadata": {},
   "outputs": [
    {
     "data": {
      "image/png": "[encoded data removed]",
      "text/plain": [
       "<Figure size 720x432 with 1 Axes>"
      ]
     },
     "metadata": {
      "needs_background": "light"
     },
     "output_type": "display_data"
    }
   ],
   "source": [
    "plt.figure(figsize=(10, 6))\n",
    "ax = sns.countplot(x='Rating', data=df)\n",
    "for container in ax.containers:\n",
    "    ax.bar_label(container)"
   ]
  },
  {
   "cell_type": "code",
   "execution_count": 35,
   "id": "b85831c7",
   "metadata": {},
   "outputs": [
    {
     "data": {
      "text/html": [
       "<div>\n",
       "<style scoped>\n",
       "    .dataframe tbody tr th:only-of-type {\n",
       "        vertical-align: middle;\n",
       "    }\n",
       "\n",
       "    .dataframe tbody tr th {\n",
       "        vertical-align: top;\n",
       "    }\n",
       "\n",
       "    .dataframe thead th {\n",
       "        text-align: right;\n",
       "    }\n",
       "</style>\n",
       "<table border=\"1\" class=\"dataframe\">\n",
       "  <thead>\n",
       "    <tr style=\"text-align: right;\">\n",
       "      <th></th>\n",
       "      <th>Questions Asked</th>\n",
       "      <th>Rating</th>\n",
       "    </tr>\n",
       "    <tr>\n",
       "      <th>Questions Asked</th>\n",
       "      <th></th>\n",
       "      <th></th>\n",
       "    </tr>\n",
       "  </thead>\n",
       "  <tbody>\n",
       "    <tr>\n",
       "      <th>0.0</th>\n",
       "      <td>3867</td>\n",
       "      <td>4.765193</td>\n",
       "    </tr>\n",
       "    <tr>\n",
       "      <th>1.0</th>\n",
       "      <td>276</td>\n",
       "      <td>4.740942</td>\n",
       "    </tr>\n",
       "    <tr>\n",
       "      <th>2.0</th>\n",
       "      <td>80</td>\n",
       "      <td>4.806250</td>\n",
       "    </tr>\n",
       "    <tr>\n",
       "      <th>3.0</th>\n",
       "      <td>43</td>\n",
       "      <td>4.744186</td>\n",
       "    </tr>\n",
       "    <tr>\n",
       "      <th>4.0</th>\n",
       "      <td>15</td>\n",
       "      <td>4.833333</td>\n",
       "    </tr>\n",
       "    <tr>\n",
       "      <th>5.0</th>\n",
       "      <td>13</td>\n",
       "      <td>4.653846</td>\n",
       "    </tr>\n",
       "    <tr>\n",
       "      <th>6.0</th>\n",
       "      <td>9</td>\n",
       "      <td>5.000000</td>\n",
       "    </tr>\n",
       "    <tr>\n",
       "      <th>7.0</th>\n",
       "      <td>2</td>\n",
       "      <td>4.750000</td>\n",
       "    </tr>\n",
       "    <tr>\n",
       "      <th>8.0</th>\n",
       "      <td>5</td>\n",
       "      <td>4.900000</td>\n",
       "    </tr>\n",
       "    <tr>\n",
       "      <th>9.0</th>\n",
       "      <td>3</td>\n",
       "      <td>5.000000</td>\n",
       "    </tr>\n",
       "    <tr>\n",
       "      <th>10.0</th>\n",
       "      <td>2</td>\n",
       "      <td>5.000000</td>\n",
       "    </tr>\n",
       "    <tr>\n",
       "      <th>11.0</th>\n",
       "      <td>2</td>\n",
       "      <td>5.000000</td>\n",
       "    </tr>\n",
       "    <tr>\n",
       "      <th>12.0</th>\n",
       "      <td>1</td>\n",
       "      <td>5.000000</td>\n",
       "    </tr>\n",
       "    <tr>\n",
       "      <th>14.0</th>\n",
       "      <td>2</td>\n",
       "      <td>4.500000</td>\n",
       "    </tr>\n",
       "    <tr>\n",
       "      <th>15.0</th>\n",
       "      <td>2</td>\n",
       "      <td>3.000000</td>\n",
       "    </tr>\n",
       "    <tr>\n",
       "      <th>22.0</th>\n",
       "      <td>1</td>\n",
       "      <td>5.000000</td>\n",
       "    </tr>\n",
       "  </tbody>\n",
       "</table>\n",
       "</div>"
      ],
      "text/plain": [
       "                 Questions Asked    Rating\n",
       "Questions Asked                           \n",
       "0.0                         3867  4.765193\n",
       "1.0                          276  4.740942\n",
       "2.0                           80  4.806250\n",
       "3.0                           43  4.744186\n",
       "4.0                           15  4.833333\n",
       "5.0                           13  4.653846\n",
       "6.0                            9  5.000000\n",
       "7.0                            2  4.750000\n",
       "8.0                            5  4.900000\n",
       "9.0                            3  5.000000\n",
       "10.0                           2  5.000000\n",
       "11.0                           2  5.000000\n",
       "12.0                           1  5.000000\n",
       "14.0                           2  4.500000\n",
       "15.0                           2  3.000000\n",
       "22.0                           1  5.000000"
      ]
     },
     "execution_count": 35,
     "metadata": {},
     "output_type": "execute_result"
    }
   ],
   "source": [
    "df.groupby('Questions Asked').agg({'Questions Asked': 'count',\n",
    "                                  'Rating': 'mean'})"
   ]
  },
  {
   "cell_type": "markdown",
   "id": "f9278dc3",
   "metadata": {},
   "source": [
    "**Average Rating**"
   ]
  },
  {
   "cell_type": "code",
   "execution_count": 36,
   "id": "9143849f",
   "metadata": {},
   "outputs": [
    {
     "data": {
      "text/plain": [
       "4.764284061993986"
      ]
     },
     "execution_count": 36,
     "metadata": {},
     "output_type": "execute_result"
    }
   ],
   "source": [
    "df['Rating'].mean()"
   ]
  },
  {
   "cell_type": "markdown",
   "id": "8c8f2a81",
   "metadata": {},
   "source": [
    "## 2) Time-Based Weighted Average"
   ]
  },
  {
   "cell_type": "code",
   "execution_count": 38,
   "id": "ed826ffe",
   "metadata": {},
   "outputs": [
    {
     "data": {
      "text/plain": [
       "Rating                float64\n",
       "Timestamp              object\n",
       "Enrolled               object\n",
       "Progress              float64\n",
       "Questions Asked       float64\n",
       "Questions Answered    float64\n",
       "dtype: object"
      ]
     },
     "execution_count": 38,
     "metadata": {},
     "output_type": "execute_result"
    }
   ],
   "source": [
    "df.dtypes"
   ]
  },
  {
   "cell_type": "markdown",
   "id": "f3adeb99",
   "metadata": {},
   "source": [
    "**Convert timestamp objects to datetime**"
   ]
  },
  {
   "cell_type": "code",
   "execution_count": 40,
   "id": "4be4d0cf",
   "metadata": {},
   "outputs": [],
   "source": [
    "df['Timestamp'] = pd.to_datetime(df['Timestamp'])"
   ]
  },
  {
   "cell_type": "code",
   "execution_count": 45,
   "id": "3dcd9a1d",
   "metadata": {},
   "outputs": [
    {
     "data": {
      "text/plain": [
       "max   2021-02-05 07:45:55\n",
       "min   2019-05-16 13:40:35\n",
       "Name: Timestamp, dtype: datetime64[ns]"
      ]
     },
     "execution_count": 45,
     "metadata": {},
     "output_type": "execute_result"
    }
   ],
   "source": [
    "df['Timestamp'].agg(['max', 'min'])"
   ]
  },
  {
   "cell_type": "code",
   "execution_count": 63,
   "id": "77c10bb0",
   "metadata": {},
   "outputs": [
    {
     "data": {
      "text/plain": [
       "Timestamp('2021-02-10 07:45:55')"
      ]
     },
     "execution_count": 63,
     "metadata": {},
     "output_type": "execute_result"
    }
   ],
   "source": [
    "today_date = df['Timestamp'].max() + dt.timedelta(days=5)\n",
    "today_date"
   ]
  },
  {
   "cell_type": "markdown",
   "id": "156e25b7",
   "metadata": {},
   "source": [
    "**Add new column called 'days'**"
   ]
  },
  {
   "cell_type": "code",
   "execution_count": 64,
   "id": "542a8206",
   "metadata": {},
   "outputs": [],
   "source": [
    "df['days'] = (today_date - df['Timestamp']).dt.days"
   ]
  },
  {
   "cell_type": "markdown",
   "id": "45f006ea",
   "metadata": {},
   "source": [
    "**Calculate the average mean with time-based**"
   ]
  },
  {
   "cell_type": "code",
   "execution_count": 70,
   "id": "43dc8cca",
   "metadata": {},
   "outputs": [
    {
     "data": {
      "text/plain": [
       "4.775773195876289"
      ]
     },
     "execution_count": 70,
     "metadata": {},
     "output_type": "execute_result"
    }
   ],
   "source": [
    "df[df['days'] <= 30]['Rating'].mean()"
   ]
  },
  {
   "cell_type": "code",
   "execution_count": 74,
   "id": "bde97458",
   "metadata": {},
   "outputs": [
    {
     "data": {
      "text/plain": [
       "4.763833992094861"
      ]
     },
     "execution_count": 74,
     "metadata": {},
     "output_type": "execute_result"
    }
   ],
   "source": [
    "df[(df['days'] > 30) & (df['days'] <= 90)]['Rating'].mean()"
   ]
  },
  {
   "cell_type": "code",
   "execution_count": 75,
   "id": "b868fc8d",
   "metadata": {},
   "outputs": [
    {
     "data": {
      "text/plain": [
       "4.752503576537912"
      ]
     },
     "execution_count": 75,
     "metadata": {},
     "output_type": "execute_result"
    }
   ],
   "source": [
    "df[(df['days'] > 90) & (df['days'] <= 180)]['Rating'].mean()"
   ]
  },
  {
   "cell_type": "code",
   "execution_count": 78,
   "id": "a9ad1e88",
   "metadata": {},
   "outputs": [
    {
     "data": {
      "text/plain": [
       "4.76641586867305"
      ]
     },
     "execution_count": 78,
     "metadata": {},
     "output_type": "execute_result"
    }
   ],
   "source": [
    "df[df['days'] > 180]['Rating'].mean()"
   ]
  },
  {
   "cell_type": "code",
   "execution_count": 122,
   "id": "2bb630ca",
   "metadata": {},
   "outputs": [],
   "source": [
    "def time_based_weighted_average(dataframe, w1=28, w2=26, w3=24, w4=22):\n",
    "    \n",
    "    time_based_average = dataframe[dataframe['days'] <= 30]['Rating'].mean() * w1 + \\\n",
    "    dataframe[(dataframe['days'] > 30) & (dataframe['days'] <= 90)]['Rating'].mean() * w2 + \\\n",
    "    dataframe[(dataframe['days'] > 90) & (dataframe['days'] <= 180)]['Rating'].mean() * w3 + \\\n",
    "    dataframe[dataframe['days'] > 180]['Rating'].mean() * w4\n",
    "    \n",
    "    return time_based_average / 100"
   ]
  },
  {
   "cell_type": "code",
   "execution_count": 87,
   "id": "5584359d",
   "metadata": {},
   "outputs": [
    {
     "data": {
      "text/plain": [
       "4.765025682267194"
      ]
     },
     "execution_count": 87,
     "metadata": {},
     "output_type": "execute_result"
    }
   ],
   "source": [
    "time_based_weighted_average(df, w1=28, w2=26, w3=22, w4=20)"
   ]
  },
  {
   "cell_type": "code",
   "execution_count": 89,
   "id": "70e88ae5",
   "metadata": {},
   "outputs": [
    {
     "data": {
      "text/plain": [
       "4.7654394371223985"
      ]
     },
     "execution_count": 89,
     "metadata": {},
     "output_type": "execute_result"
    }
   ],
   "source": [
    "time_based_weighted_average(df, w1=30, w2=28, w3=22, w4=20)"
   ]
  },
  {
   "cell_type": "markdown",
   "id": "f3589c36",
   "metadata": {},
   "source": [
    "## 3) User-Based Weighted Average"
   ]
  },
  {
   "cell_type": "code",
   "execution_count": 90,
   "id": "00fda468",
   "metadata": {},
   "outputs": [
    {
     "data": {
      "text/html": [
       "<div>\n",
       "<style scoped>\n",
       "    .dataframe tbody tr th:only-of-type {\n",
       "        vertical-align: middle;\n",
       "    }\n",
       "\n",
       "    .dataframe tbody tr th {\n",
       "        vertical-align: top;\n",
       "    }\n",
       "\n",
       "    .dataframe thead th {\n",
       "        text-align: right;\n",
       "    }\n",
       "</style>\n",
       "<table border=\"1\" class=\"dataframe\">\n",
       "  <thead>\n",
       "    <tr style=\"text-align: right;\">\n",
       "      <th></th>\n",
       "      <th>Rating</th>\n",
       "      <th>Timestamp</th>\n",
       "      <th>Enrolled</th>\n",
       "      <th>Progress</th>\n",
       "      <th>Questions Asked</th>\n",
       "      <th>Questions Answered</th>\n",
       "      <th>days</th>\n",
       "    </tr>\n",
       "  </thead>\n",
       "  <tbody>\n",
       "    <tr>\n",
       "      <th>0</th>\n",
       "      <td>5.0</td>\n",
       "      <td>2021-02-05 07:45:55</td>\n",
       "      <td>2021-01-25 15:12:08</td>\n",
       "      <td>5.0</td>\n",
       "      <td>0.0</td>\n",
       "      <td>0.0</td>\n",
       "      <td>5</td>\n",
       "    </tr>\n",
       "    <tr>\n",
       "      <th>1</th>\n",
       "      <td>5.0</td>\n",
       "      <td>2021-02-04 21:05:32</td>\n",
       "      <td>2021-02-04 20:43:40</td>\n",
       "      <td>1.0</td>\n",
       "      <td>0.0</td>\n",
       "      <td>0.0</td>\n",
       "      <td>5</td>\n",
       "    </tr>\n",
       "    <tr>\n",
       "      <th>2</th>\n",
       "      <td>4.5</td>\n",
       "      <td>2021-02-04 20:34:03</td>\n",
       "      <td>2019-07-04 23:23:27</td>\n",
       "      <td>1.0</td>\n",
       "      <td>0.0</td>\n",
       "      <td>0.0</td>\n",
       "      <td>5</td>\n",
       "    </tr>\n",
       "    <tr>\n",
       "      <th>3</th>\n",
       "      <td>5.0</td>\n",
       "      <td>2021-02-04 16:56:28</td>\n",
       "      <td>2021-02-04 14:41:29</td>\n",
       "      <td>10.0</td>\n",
       "      <td>0.0</td>\n",
       "      <td>0.0</td>\n",
       "      <td>5</td>\n",
       "    </tr>\n",
       "    <tr>\n",
       "      <th>4</th>\n",
       "      <td>4.0</td>\n",
       "      <td>2021-02-04 15:00:24</td>\n",
       "      <td>2020-10-13 03:10:07</td>\n",
       "      <td>10.0</td>\n",
       "      <td>0.0</td>\n",
       "      <td>0.0</td>\n",
       "      <td>5</td>\n",
       "    </tr>\n",
       "  </tbody>\n",
       "</table>\n",
       "</div>"
      ],
      "text/plain": [
       "   Rating           Timestamp             Enrolled  Progress  Questions Asked  \\\n",
       "0     5.0 2021-02-05 07:45:55  2021-01-25 15:12:08       5.0              0.0   \n",
       "1     5.0 2021-02-04 21:05:32  2021-02-04 20:43:40       1.0              0.0   \n",
       "2     4.5 2021-02-04 20:34:03  2019-07-04 23:23:27       1.0              0.0   \n",
       "3     5.0 2021-02-04 16:56:28  2021-02-04 14:41:29      10.0              0.0   \n",
       "4     4.0 2021-02-04 15:00:24  2020-10-13 03:10:07      10.0              0.0   \n",
       "\n",
       "   Questions Answered  days  \n",
       "0                 0.0     5  \n",
       "1                 0.0     5  \n",
       "2                 0.0     5  \n",
       "3                 0.0     5  \n",
       "4                 0.0     5  "
      ]
     },
     "execution_count": 90,
     "metadata": {},
     "output_type": "execute_result"
    }
   ],
   "source": [
    "df.head()"
   ]
  },
  {
   "cell_type": "code",
   "execution_count": 109,
   "id": "34d04321",
   "metadata": {},
   "outputs": [
    {
     "data": {
      "text/html": [
       "<div>\n",
       "<style scoped>\n",
       "    .dataframe tbody tr th:only-of-type {\n",
       "        vertical-align: middle;\n",
       "    }\n",
       "\n",
       "    .dataframe tbody tr th {\n",
       "        vertical-align: top;\n",
       "    }\n",
       "\n",
       "    .dataframe thead th {\n",
       "        text-align: right;\n",
       "    }\n",
       "</style>\n",
       "<table border=\"1\" class=\"dataframe\">\n",
       "  <thead>\n",
       "    <tr style=\"text-align: right;\">\n",
       "      <th></th>\n",
       "      <th>Progress</th>\n",
       "      <th>Rating</th>\n",
       "    </tr>\n",
       "    <tr>\n",
       "      <th>Progress</th>\n",
       "      <th></th>\n",
       "      <th></th>\n",
       "    </tr>\n",
       "  </thead>\n",
       "  <tbody>\n",
       "    <tr>\n",
       "      <th>0.0</th>\n",
       "      <td>69</td>\n",
       "      <td>4.673913</td>\n",
       "    </tr>\n",
       "    <tr>\n",
       "      <th>1.0</th>\n",
       "      <td>431</td>\n",
       "      <td>4.642691</td>\n",
       "    </tr>\n",
       "    <tr>\n",
       "      <th>2.0</th>\n",
       "      <td>84</td>\n",
       "      <td>4.654762</td>\n",
       "    </tr>\n",
       "    <tr>\n",
       "      <th>3.0</th>\n",
       "      <td>107</td>\n",
       "      <td>4.663551</td>\n",
       "    </tr>\n",
       "    <tr>\n",
       "      <th>4.0</th>\n",
       "      <td>247</td>\n",
       "      <td>4.777328</td>\n",
       "    </tr>\n",
       "    <tr>\n",
       "      <th>5.0</th>\n",
       "      <td>391</td>\n",
       "      <td>4.698210</td>\n",
       "    </tr>\n",
       "    <tr>\n",
       "      <th>6.0</th>\n",
       "      <td>49</td>\n",
       "      <td>4.755102</td>\n",
       "    </tr>\n",
       "    <tr>\n",
       "      <th>7.0</th>\n",
       "      <td>43</td>\n",
       "      <td>4.732558</td>\n",
       "    </tr>\n",
       "    <tr>\n",
       "      <th>8.0</th>\n",
       "      <td>62</td>\n",
       "      <td>4.741935</td>\n",
       "    </tr>\n",
       "    <tr>\n",
       "      <th>9.0</th>\n",
       "      <td>80</td>\n",
       "      <td>4.831250</td>\n",
       "    </tr>\n",
       "    <tr>\n",
       "      <th>10.0</th>\n",
       "      <td>348</td>\n",
       "      <td>4.745690</td>\n",
       "    </tr>\n",
       "    <tr>\n",
       "      <th>11.0</th>\n",
       "      <td>9</td>\n",
       "      <td>4.833333</td>\n",
       "    </tr>\n",
       "    <tr>\n",
       "      <th>12.0</th>\n",
       "      <td>15</td>\n",
       "      <td>4.833333</td>\n",
       "    </tr>\n",
       "    <tr>\n",
       "      <th>13.0</th>\n",
       "      <td>16</td>\n",
       "      <td>4.593750</td>\n",
       "    </tr>\n",
       "    <tr>\n",
       "      <th>14.0</th>\n",
       "      <td>23</td>\n",
       "      <td>4.869565</td>\n",
       "    </tr>\n",
       "    <tr>\n",
       "      <th>15.0</th>\n",
       "      <td>240</td>\n",
       "      <td>4.714583</td>\n",
       "    </tr>\n",
       "    <tr>\n",
       "      <th>16.0</th>\n",
       "      <td>5</td>\n",
       "      <td>4.900000</td>\n",
       "    </tr>\n",
       "    <tr>\n",
       "      <th>17.0</th>\n",
       "      <td>10</td>\n",
       "      <td>4.850000</td>\n",
       "    </tr>\n",
       "    <tr>\n",
       "      <th>18.0</th>\n",
       "      <td>16</td>\n",
       "      <td>4.875000</td>\n",
       "    </tr>\n",
       "    <tr>\n",
       "      <th>19.0</th>\n",
       "      <td>24</td>\n",
       "      <td>4.812500</td>\n",
       "    </tr>\n",
       "    <tr>\n",
       "      <th>20.0</th>\n",
       "      <td>261</td>\n",
       "      <td>4.783525</td>\n",
       "    </tr>\n",
       "    <tr>\n",
       "      <th>21.0</th>\n",
       "      <td>5</td>\n",
       "      <td>4.800000</td>\n",
       "    </tr>\n",
       "    <tr>\n",
       "      <th>22.0</th>\n",
       "      <td>10</td>\n",
       "      <td>4.600000</td>\n",
       "    </tr>\n",
       "    <tr>\n",
       "      <th>23.0</th>\n",
       "      <td>13</td>\n",
       "      <td>4.846154</td>\n",
       "    </tr>\n",
       "    <tr>\n",
       "      <th>24.0</th>\n",
       "      <td>15</td>\n",
       "      <td>4.733333</td>\n",
       "    </tr>\n",
       "    <tr>\n",
       "      <th>25.0</th>\n",
       "      <td>243</td>\n",
       "      <td>4.816872</td>\n",
       "    </tr>\n",
       "    <tr>\n",
       "      <th>26.0</th>\n",
       "      <td>6</td>\n",
       "      <td>5.000000</td>\n",
       "    </tr>\n",
       "    <tr>\n",
       "      <th>27.0</th>\n",
       "      <td>8</td>\n",
       "      <td>4.812500</td>\n",
       "    </tr>\n",
       "    <tr>\n",
       "      <th>28.0</th>\n",
       "      <td>9</td>\n",
       "      <td>4.944444</td>\n",
       "    </tr>\n",
       "    <tr>\n",
       "      <th>29.0</th>\n",
       "      <td>13</td>\n",
       "      <td>4.576923</td>\n",
       "    </tr>\n",
       "    <tr>\n",
       "      <th>30.0</th>\n",
       "      <td>156</td>\n",
       "      <td>4.798077</td>\n",
       "    </tr>\n",
       "    <tr>\n",
       "      <th>31.0</th>\n",
       "      <td>6</td>\n",
       "      <td>4.916667</td>\n",
       "    </tr>\n",
       "    <tr>\n",
       "      <th>32.0</th>\n",
       "      <td>2</td>\n",
       "      <td>5.000000</td>\n",
       "    </tr>\n",
       "    <tr>\n",
       "      <th>33.0</th>\n",
       "      <td>8</td>\n",
       "      <td>4.937500</td>\n",
       "    </tr>\n",
       "    <tr>\n",
       "      <th>34.0</th>\n",
       "      <td>8</td>\n",
       "      <td>4.750000</td>\n",
       "    </tr>\n",
       "    <tr>\n",
       "      <th>35.0</th>\n",
       "      <td>146</td>\n",
       "      <td>4.859589</td>\n",
       "    </tr>\n",
       "    <tr>\n",
       "      <th>36.0</th>\n",
       "      <td>3</td>\n",
       "      <td>4.333333</td>\n",
       "    </tr>\n",
       "    <tr>\n",
       "      <th>37.0</th>\n",
       "      <td>2</td>\n",
       "      <td>5.000000</td>\n",
       "    </tr>\n",
       "    <tr>\n",
       "      <th>38.0</th>\n",
       "      <td>5</td>\n",
       "      <td>4.900000</td>\n",
       "    </tr>\n",
       "    <tr>\n",
       "      <th>39.0</th>\n",
       "      <td>12</td>\n",
       "      <td>4.583333</td>\n",
       "    </tr>\n",
       "    <tr>\n",
       "      <th>40.0</th>\n",
       "      <td>112</td>\n",
       "      <td>4.767857</td>\n",
       "    </tr>\n",
       "    <tr>\n",
       "      <th>41.0</th>\n",
       "      <td>3</td>\n",
       "      <td>3.166667</td>\n",
       "    </tr>\n",
       "    <tr>\n",
       "      <th>42.0</th>\n",
       "      <td>6</td>\n",
       "      <td>5.000000</td>\n",
       "    </tr>\n",
       "    <tr>\n",
       "      <th>43.0</th>\n",
       "      <td>6</td>\n",
       "      <td>5.000000</td>\n",
       "    </tr>\n",
       "    <tr>\n",
       "      <th>44.0</th>\n",
       "      <td>11</td>\n",
       "      <td>4.954545</td>\n",
       "    </tr>\n",
       "    <tr>\n",
       "      <th>45.0</th>\n",
       "      <td>91</td>\n",
       "      <td>4.807692</td>\n",
       "    </tr>\n",
       "    <tr>\n",
       "      <th>46.0</th>\n",
       "      <td>2</td>\n",
       "      <td>5.000000</td>\n",
       "    </tr>\n",
       "    <tr>\n",
       "      <th>47.0</th>\n",
       "      <td>6</td>\n",
       "      <td>5.000000</td>\n",
       "    </tr>\n",
       "    <tr>\n",
       "      <th>48.0</th>\n",
       "      <td>1</td>\n",
       "      <td>5.000000</td>\n",
       "    </tr>\n",
       "    <tr>\n",
       "      <th>49.0</th>\n",
       "      <td>2</td>\n",
       "      <td>5.000000</td>\n",
       "    </tr>\n",
       "    <tr>\n",
       "      <th>50.0</th>\n",
       "      <td>101</td>\n",
       "      <td>4.801980</td>\n",
       "    </tr>\n",
       "    <tr>\n",
       "      <th>51.0</th>\n",
       "      <td>3</td>\n",
       "      <td>4.500000</td>\n",
       "    </tr>\n",
       "    <tr>\n",
       "      <th>52.0</th>\n",
       "      <td>1</td>\n",
       "      <td>5.000000</td>\n",
       "    </tr>\n",
       "    <tr>\n",
       "      <th>53.0</th>\n",
       "      <td>21</td>\n",
       "      <td>4.857143</td>\n",
       "    </tr>\n",
       "    <tr>\n",
       "      <th>54.0</th>\n",
       "      <td>9</td>\n",
       "      <td>4.944444</td>\n",
       "    </tr>\n",
       "    <tr>\n",
       "      <th>55.0</th>\n",
       "      <td>94</td>\n",
       "      <td>4.776596</td>\n",
       "    </tr>\n",
       "    <tr>\n",
       "      <th>56.0</th>\n",
       "      <td>3</td>\n",
       "      <td>5.000000</td>\n",
       "    </tr>\n",
       "    <tr>\n",
       "      <th>57.0</th>\n",
       "      <td>5</td>\n",
       "      <td>5.000000</td>\n",
       "    </tr>\n",
       "    <tr>\n",
       "      <th>58.0</th>\n",
       "      <td>2</td>\n",
       "      <td>4.500000</td>\n",
       "    </tr>\n",
       "    <tr>\n",
       "      <th>59.0</th>\n",
       "      <td>5</td>\n",
       "      <td>5.000000</td>\n",
       "    </tr>\n",
       "    <tr>\n",
       "      <th>60.0</th>\n",
       "      <td>57</td>\n",
       "      <td>4.789474</td>\n",
       "    </tr>\n",
       "    <tr>\n",
       "      <th>61.0</th>\n",
       "      <td>5</td>\n",
       "      <td>5.000000</td>\n",
       "    </tr>\n",
       "    <tr>\n",
       "      <th>62.0</th>\n",
       "      <td>1</td>\n",
       "      <td>5.000000</td>\n",
       "    </tr>\n",
       "    <tr>\n",
       "      <th>63.0</th>\n",
       "      <td>5</td>\n",
       "      <td>4.800000</td>\n",
       "    </tr>\n",
       "    <tr>\n",
       "      <th>64.0</th>\n",
       "      <td>8</td>\n",
       "      <td>4.812500</td>\n",
       "    </tr>\n",
       "    <tr>\n",
       "      <th>65.0</th>\n",
       "      <td>51</td>\n",
       "      <td>4.843137</td>\n",
       "    </tr>\n",
       "    <tr>\n",
       "      <th>66.0</th>\n",
       "      <td>1</td>\n",
       "      <td>5.000000</td>\n",
       "    </tr>\n",
       "    <tr>\n",
       "      <th>67.0</th>\n",
       "      <td>2</td>\n",
       "      <td>5.000000</td>\n",
       "    </tr>\n",
       "    <tr>\n",
       "      <th>69.0</th>\n",
       "      <td>2</td>\n",
       "      <td>5.000000</td>\n",
       "    </tr>\n",
       "    <tr>\n",
       "      <th>70.0</th>\n",
       "      <td>38</td>\n",
       "      <td>4.789474</td>\n",
       "    </tr>\n",
       "    <tr>\n",
       "      <th>71.0</th>\n",
       "      <td>1</td>\n",
       "      <td>5.000000</td>\n",
       "    </tr>\n",
       "    <tr>\n",
       "      <th>72.0</th>\n",
       "      <td>1</td>\n",
       "      <td>5.000000</td>\n",
       "    </tr>\n",
       "    <tr>\n",
       "      <th>73.0</th>\n",
       "      <td>2</td>\n",
       "      <td>5.000000</td>\n",
       "    </tr>\n",
       "    <tr>\n",
       "      <th>74.0</th>\n",
       "      <td>1</td>\n",
       "      <td>5.000000</td>\n",
       "    </tr>\n",
       "    <tr>\n",
       "      <th>75.0</th>\n",
       "      <td>16</td>\n",
       "      <td>4.937500</td>\n",
       "    </tr>\n",
       "    <tr>\n",
       "      <th>77.0</th>\n",
       "      <td>4</td>\n",
       "      <td>5.000000</td>\n",
       "    </tr>\n",
       "    <tr>\n",
       "      <th>78.0</th>\n",
       "      <td>2</td>\n",
       "      <td>5.000000</td>\n",
       "    </tr>\n",
       "    <tr>\n",
       "      <th>80.0</th>\n",
       "      <td>34</td>\n",
       "      <td>4.750000</td>\n",
       "    </tr>\n",
       "    <tr>\n",
       "      <th>83.0</th>\n",
       "      <td>1</td>\n",
       "      <td>5.000000</td>\n",
       "    </tr>\n",
       "    <tr>\n",
       "      <th>84.0</th>\n",
       "      <td>1</td>\n",
       "      <td>5.000000</td>\n",
       "    </tr>\n",
       "    <tr>\n",
       "      <th>85.0</th>\n",
       "      <td>29</td>\n",
       "      <td>4.913793</td>\n",
       "    </tr>\n",
       "    <tr>\n",
       "      <th>87.0</th>\n",
       "      <td>1</td>\n",
       "      <td>5.000000</td>\n",
       "    </tr>\n",
       "    <tr>\n",
       "      <th>89.0</th>\n",
       "      <td>34</td>\n",
       "      <td>4.794118</td>\n",
       "    </tr>\n",
       "    <tr>\n",
       "      <th>90.0</th>\n",
       "      <td>26</td>\n",
       "      <td>4.923077</td>\n",
       "    </tr>\n",
       "    <tr>\n",
       "      <th>91.0</th>\n",
       "      <td>1</td>\n",
       "      <td>5.000000</td>\n",
       "    </tr>\n",
       "    <tr>\n",
       "      <th>93.0</th>\n",
       "      <td>3</td>\n",
       "      <td>4.833333</td>\n",
       "    </tr>\n",
       "    <tr>\n",
       "      <th>94.0</th>\n",
       "      <td>1</td>\n",
       "      <td>5.000000</td>\n",
       "    </tr>\n",
       "    <tr>\n",
       "      <th>95.0</th>\n",
       "      <td>17</td>\n",
       "      <td>4.794118</td>\n",
       "    </tr>\n",
       "    <tr>\n",
       "      <th>97.0</th>\n",
       "      <td>4</td>\n",
       "      <td>5.000000</td>\n",
       "    </tr>\n",
       "    <tr>\n",
       "      <th>98.0</th>\n",
       "      <td>2</td>\n",
       "      <td>5.000000</td>\n",
       "    </tr>\n",
       "    <tr>\n",
       "      <th>100.0</th>\n",
       "      <td>288</td>\n",
       "      <td>4.866319</td>\n",
       "    </tr>\n",
       "  </tbody>\n",
       "</table>\n",
       "</div>"
      ],
      "text/plain": [
       "          Progress    Rating\n",
       "Progress                    \n",
       "0.0             69  4.673913\n",
       "1.0            431  4.642691\n",
       "2.0             84  4.654762\n",
       "3.0            107  4.663551\n",
       "4.0            247  4.777328\n",
       "5.0            391  4.698210\n",
       "6.0             49  4.755102\n",
       "7.0             43  4.732558\n",
       "8.0             62  4.741935\n",
       "9.0             80  4.831250\n",
       "10.0           348  4.745690\n",
       "11.0             9  4.833333\n",
       "12.0            15  4.833333\n",
       "13.0            16  4.593750\n",
       "14.0            23  4.869565\n",
       "15.0           240  4.714583\n",
       "16.0             5  4.900000\n",
       "17.0            10  4.850000\n",
       "18.0            16  4.875000\n",
       "19.0            24  4.812500\n",
       "20.0           261  4.783525\n",
       "21.0             5  4.800000\n",
       "22.0            10  4.600000\n",
       "23.0            13  4.846154\n",
       "24.0            15  4.733333\n",
       "25.0           243  4.816872\n",
       "26.0             6  5.000000\n",
       "27.0             8  4.812500\n",
       "28.0             9  4.944444\n",
       "29.0            13  4.576923\n",
       "30.0           156  4.798077\n",
       "31.0             6  4.916667\n",
       "32.0             2  5.000000\n",
       "33.0             8  4.937500\n",
       "34.0             8  4.750000\n",
       "35.0           146  4.859589\n",
       "36.0             3  4.333333\n",
       "37.0             2  5.000000\n",
       "38.0             5  4.900000\n",
       "39.0            12  4.583333\n",
       "40.0           112  4.767857\n",
       "41.0             3  3.166667\n",
       "42.0             6  5.000000\n",
       "43.0             6  5.000000\n",
       "44.0            11  4.954545\n",
       "45.0            91  4.807692\n",
       "46.0             2  5.000000\n",
       "47.0             6  5.000000\n",
       "48.0             1  5.000000\n",
       "49.0             2  5.000000\n",
       "50.0           101  4.801980\n",
       "51.0             3  4.500000\n",
       "52.0             1  5.000000\n",
       "53.0            21  4.857143\n",
       "54.0             9  4.944444\n",
       "55.0            94  4.776596\n",
       "56.0             3  5.000000\n",
       "57.0             5  5.000000\n",
       "58.0             2  4.500000\n",
       "59.0             5  5.000000\n",
       "60.0            57  4.789474\n",
       "61.0             5  5.000000\n",
       "62.0             1  5.000000\n",
       "63.0             5  4.800000\n",
       "64.0             8  4.812500\n",
       "65.0            51  4.843137\n",
       "66.0             1  5.000000\n",
       "67.0             2  5.000000\n",
       "69.0             2  5.000000\n",
       "70.0            38  4.789474\n",
       "71.0             1  5.000000\n",
       "72.0             1  5.000000\n",
       "73.0             2  5.000000\n",
       "74.0             1  5.000000\n",
       "75.0            16  4.937500\n",
       "77.0             4  5.000000\n",
       "78.0             2  5.000000\n",
       "80.0            34  4.750000\n",
       "83.0             1  5.000000\n",
       "84.0             1  5.000000\n",
       "85.0            29  4.913793\n",
       "87.0             1  5.000000\n",
       "89.0            34  4.794118\n",
       "90.0            26  4.923077\n",
       "91.0             1  5.000000\n",
       "93.0             3  4.833333\n",
       "94.0             1  5.000000\n",
       "95.0            17  4.794118\n",
       "97.0             4  5.000000\n",
       "98.0             2  5.000000\n",
       "100.0          288  4.866319"
      ]
     },
     "execution_count": 109,
     "metadata": {},
     "output_type": "execute_result"
    }
   ],
   "source": [
    "df.groupby('Progress').agg({'Progress': 'count', 'Rating': 'mean'})"
   ]
  },
  {
   "cell_type": "markdown",
   "id": "813ad022",
   "metadata": {},
   "source": [
    "**Calculate the average mean with user-based (progress-based)**"
   ]
  },
  {
   "cell_type": "code",
   "execution_count": 112,
   "id": "0b3ae7ab",
   "metadata": {},
   "outputs": [
    {
     "data": {
      "text/plain": [
       "4.700895713371721"
      ]
     },
     "execution_count": 112,
     "metadata": {},
     "output_type": "execute_result"
    }
   ],
   "source": [
    "df[df['Progress'] <= 10]['Rating'].mean()"
   ]
  },
  {
   "cell_type": "code",
   "execution_count": 113,
   "id": "adbafdf0",
   "metadata": {},
   "outputs": [
    {
     "data": {
      "text/plain": [
       "4.787878787878788"
      ]
     },
     "execution_count": 113,
     "metadata": {},
     "output_type": "execute_result"
    }
   ],
   "source": [
    "df[(df['Progress'] > 10) & (df['Progress'] <= 45 )]['Rating'].mean()"
   ]
  },
  {
   "cell_type": "code",
   "execution_count": 114,
   "id": "b3c40574",
   "metadata": {},
   "outputs": [
    {
     "data": {
      "text/plain": [
       "4.823991031390134"
      ]
     },
     "execution_count": 114,
     "metadata": {},
     "output_type": "execute_result"
    }
   ],
   "source": [
    "df[(df['Progress'] > 45) & (df['Progress'] <= 75 )]['Rating'].mean()"
   ]
  },
  {
   "cell_type": "code",
   "execution_count": 116,
   "id": "96c8625f",
   "metadata": {},
   "outputs": [
    {
     "data": {
      "text/plain": [
       "4.860491071428571"
      ]
     },
     "execution_count": 116,
     "metadata": {},
     "output_type": "execute_result"
    }
   ],
   "source": [
    "df[df['Progress'] > 75]['Rating'].mean()"
   ]
  },
  {
   "cell_type": "code",
   "execution_count": 119,
   "id": "5b704d99",
   "metadata": {},
   "outputs": [],
   "source": [
    "def user_based_weighted_average(dataframe, w1=22, w2=24, w3=26, w4=28):\n",
    "    \n",
    "    total_average = df[df['Progress'] <= 10]['Rating'].mean() * w1 + \\\n",
    "    df[(df['Progress'] > 10) & (df['Progress'] <= 45 )]['Rating'].mean() * w2 + \\\n",
    "    df[(df['Progress'] > 45) & (df['Progress'] <= 75 )]['Rating'].mean() * w3 + \\\n",
    "    df[df['Progress'] > 75]['Rating'].mean() * w4\n",
    "    \n",
    "    return total_average / 100"
   ]
  },
  {
   "cell_type": "code",
   "execution_count": 120,
   "id": "5cf520cd",
   "metadata": {},
   "outputs": [
    {
     "data": {
      "text/plain": [
       "4.800257704672543"
      ]
     },
     "execution_count": 120,
     "metadata": {},
     "output_type": "execute_result"
    }
   ],
   "source": [
    "user_based_weighted_average(df)"
   ]
  },
  {
   "cell_type": "code",
   "execution_count": 121,
   "id": "4da8f1a0",
   "metadata": {},
   "outputs": [
    {
     "data": {
      "text/plain": [
       "4.786698157370603"
      ]
     },
     "execution_count": 121,
     "metadata": {},
     "output_type": "execute_result"
    }
   ],
   "source": [
    "user_based_weighted_average(df, w1=30, w2=28, w3=22, w4=20)"
   ]
  },
  {
   "cell_type": "markdown",
   "id": "59cbbf6a",
   "metadata": {},
   "source": [
    "## 4) Weighted Rating"
   ]
  },
  {
   "cell_type": "markdown",
   "id": "9e98ac74",
   "metadata": {},
   "source": [
    "Time-based * (time_weight/100) + user-based * (user_weight/100)"
   ]
  },
  {
   "cell_type": "code",
   "execution_count": 123,
   "id": "6c6f24ce",
   "metadata": {},
   "outputs": [],
   "source": [
    "def weighted_rating(dataframe, time_weight=50, user_weight=50):\n",
    "    total_average = time_based_weighted_average(dataframe) * time_weight + user_based_weighted_average(dataframe) * user_weight\n",
    "    return total_average / 100"
   ]
  },
  {
   "cell_type": "code",
   "execution_count": 124,
   "id": "9e0a6eb7",
   "metadata": {},
   "outputs": [
    {
     "data": {
      "text/plain": [
       "4.782641693469869"
      ]
     },
     "execution_count": 124,
     "metadata": {},
     "output_type": "execute_result"
    }
   ],
   "source": [
    "weighted_rating(df)"
   ]
  },
  {
   "cell_type": "code",
   "execution_count": 125,
   "id": "d8bac651",
   "metadata": {},
   "outputs": [
    {
     "data": {
      "text/plain": [
       "4.787926496830671"
      ]
     },
     "execution_count": 125,
     "metadata": {},
     "output_type": "execute_result"
    }
   ],
   "source": [
    "weighted_rating(df, time_weight=35, user_weight=65)"
   ]
  },
  {
   "cell_type": "code",
   "execution_count": 126,
   "id": "db7af657",
   "metadata": {},
   "outputs": [
    {
     "data": {
      "text/plain": [
       "4.786164895710403"
      ]
     },
     "execution_count": 126,
     "metadata": {},
     "output_type": "execute_result"
    }
   ],
   "source": [
    "weighted_rating(df, time_weight=40, user_weight=60)"
   ]
  },
  {
   "cell_type": "code",
   "execution_count": 127,
   "id": "25960d9f",
   "metadata": {},
   "outputs": [
    {
     "data": {
      "text/plain": [
       "4.779118491229334"
      ]
     },
     "execution_count": 127,
     "metadata": {},
     "output_type": "execute_result"
    }
   ],
   "source": [
    "weighted_rating(df, time_weight=60, user_weight=40)"
   ]
  }
 ],
 "metadata": {
  "kernelspec": {
   "display_name": "Python 3 (ipykernel)",
   "language": "python",
   "name": "python3"
  },
  "language_info": {
   "codemirror_mode": {
    "name": "ipython",
    "version": 3
   },
   "file_extension": ".py",
   "mimetype": "text/x-python",
   "name": "python",
   "nbconvert_exporter": "python",
   "pygments_lexer": "ipython3",
   "version": "3.9.7"
  }
 },
 "nbformat": 4,
 "nbformat_minor": 5
}
