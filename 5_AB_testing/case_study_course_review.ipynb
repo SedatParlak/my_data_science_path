{
 "cells": [
  {
   "cell_type": "markdown",
   "id": "d30e5862",
   "metadata": {},
   "source": [
    "# AB Testing / Course Reviews Datasets"
   ]
  },
  {
   "cell_type": "markdown",
   "id": "5305bf14",
   "metadata": {},
   "source": [
    "AB Testing Steps:\n",
    "\n",
    "* 1- Create a hypothesis\n",
    "* 2- Assumptions check\n",
    "  * Assumption 1: Distributions are normal for each variable\n",
    "  * Assumption 2: Variances are homogeneus\n",
    "* 3- Apply the hypothesis and control p value. If p value is less than 0.05 we can reject the HO if not we can accept HO. \n",
    " * a) If the assumptions are correct use the independent samples t-test (parametric test, t test)\n",
    " * b) If the assumptions are not correct use the mannehitneyu test (non-parametric test, mannwhitneyu)\n",
    " \n",
    "**Note**: If assumption 1 is not correct we can use directly non-parametric test (option b). If assumption 1 is correct but assumption 2 is not, we can use the parametric test and add that variances are not homogeneus as a argument.\n",
    "\n",
    "___"
   ]
  },
  {
   "cell_type": "markdown",
   "id": "72f33f74",
   "metadata": {},
   "source": [
    "**Import libraries and create dataframe called df**"
   ]
  },
  {
   "cell_type": "code",
   "execution_count": 1,
   "id": "b4df21c5",
   "metadata": {},
   "outputs": [],
   "source": [
    "import numpy as np\n",
    "import pandas as pd\n",
    "import matplotlib.pyplot as plt\n",
    "import seaborn as sns\n",
    "import statsmodels.stats.api as sms\n",
    "from scipy.stats import ttest_1samp, shapiro, levene, ttest_ind, mannwhitneyu, \\\n",
    "pearsonr, spearmanr, kendalltau, f_oneway, kruskal\n",
    "\n",
    "pd.set_option('display.max_columns', None)\n",
    "pd.set_option('display.max_row', 10)\n",
    "pd.set_option('display.float_format', lambda x: '%.5f' % x)\n",
    "\n",
    "df = pd.read_csv('course_reviews.csv')"
   ]
  },
  {
   "cell_type": "markdown",
   "id": "96cf9576",
   "metadata": {},
   "source": [
    "### Problem: Is there any difference in the scores of those who watched the course and those who did not ? "
   ]
  },
  {
   "cell_type": "markdown",
   "id": "2fd3c70c",
   "metadata": {},
   "source": [
    "**Step 1: Create hypothesis and check the dataframe**\n",
    "\n",
    "Hypothesis (H0): There is no statistical difference in the scores of those who watched the course and those who did not.\n",
    "\n",
    "u1 = who watch the course (greater than %75)<br>\n",
    "u2 = who did not the watch course (less than %25)\n",
    "\n",
    "HO: u1 = u2<br>\n",
    "H1: u1 != u2"
   ]
  },
  {
   "cell_type": "code",
   "execution_count": 2,
   "id": "93a969ad",
   "metadata": {},
   "outputs": [
    {
     "data": {
      "text/html": [
       "<div>\n",
       "<style scoped>\n",
       "    .dataframe tbody tr th:only-of-type {\n",
       "        vertical-align: middle;\n",
       "    }\n",
       "\n",
       "    .dataframe tbody tr th {\n",
       "        vertical-align: top;\n",
       "    }\n",
       "\n",
       "    .dataframe thead th {\n",
       "        text-align: right;\n",
       "    }\n",
       "</style>\n",
       "<table border=\"1\" class=\"dataframe\">\n",
       "  <thead>\n",
       "    <tr style=\"text-align: right;\">\n",
       "      <th></th>\n",
       "      <th>Rating</th>\n",
       "      <th>Timestamp</th>\n",
       "      <th>Enrolled</th>\n",
       "      <th>Progress</th>\n",
       "      <th>Questions Asked</th>\n",
       "      <th>Questions Answered</th>\n",
       "    </tr>\n",
       "  </thead>\n",
       "  <tbody>\n",
       "    <tr>\n",
       "      <th>0</th>\n",
       "      <td>5.00000</td>\n",
       "      <td>2021-02-05 07:45:55</td>\n",
       "      <td>2021-01-25 15:12:08</td>\n",
       "      <td>5.00000</td>\n",
       "      <td>0.00000</td>\n",
       "      <td>0.00000</td>\n",
       "    </tr>\n",
       "    <tr>\n",
       "      <th>1</th>\n",
       "      <td>5.00000</td>\n",
       "      <td>2021-02-04 21:05:32</td>\n",
       "      <td>2021-02-04 20:43:40</td>\n",
       "      <td>1.00000</td>\n",
       "      <td>0.00000</td>\n",
       "      <td>0.00000</td>\n",
       "    </tr>\n",
       "    <tr>\n",
       "      <th>2</th>\n",
       "      <td>4.50000</td>\n",
       "      <td>2021-02-04 20:34:03</td>\n",
       "      <td>2019-07-04 23:23:27</td>\n",
       "      <td>1.00000</td>\n",
       "      <td>0.00000</td>\n",
       "      <td>0.00000</td>\n",
       "    </tr>\n",
       "    <tr>\n",
       "      <th>3</th>\n",
       "      <td>5.00000</td>\n",
       "      <td>2021-02-04 16:56:28</td>\n",
       "      <td>2021-02-04 14:41:29</td>\n",
       "      <td>10.00000</td>\n",
       "      <td>0.00000</td>\n",
       "      <td>0.00000</td>\n",
       "    </tr>\n",
       "    <tr>\n",
       "      <th>4</th>\n",
       "      <td>4.00000</td>\n",
       "      <td>2021-02-04 15:00:24</td>\n",
       "      <td>2020-10-13 03:10:07</td>\n",
       "      <td>10.00000</td>\n",
       "      <td>0.00000</td>\n",
       "      <td>0.00000</td>\n",
       "    </tr>\n",
       "  </tbody>\n",
       "</table>\n",
       "</div>"
      ],
      "text/plain": [
       "   Rating            Timestamp             Enrolled  Progress  \\\n",
       "0 5.00000  2021-02-05 07:45:55  2021-01-25 15:12:08   5.00000   \n",
       "1 5.00000  2021-02-04 21:05:32  2021-02-04 20:43:40   1.00000   \n",
       "2 4.50000  2021-02-04 20:34:03  2019-07-04 23:23:27   1.00000   \n",
       "3 5.00000  2021-02-04 16:56:28  2021-02-04 14:41:29  10.00000   \n",
       "4 4.00000  2021-02-04 15:00:24  2020-10-13 03:10:07  10.00000   \n",
       "\n",
       "   Questions Asked  Questions Answered  \n",
       "0          0.00000             0.00000  \n",
       "1          0.00000             0.00000  \n",
       "2          0.00000             0.00000  \n",
       "3          0.00000             0.00000  \n",
       "4          0.00000             0.00000  "
      ]
     },
     "execution_count": 2,
     "metadata": {},
     "output_type": "execute_result"
    }
   ],
   "source": [
    "df.head()"
   ]
  },
  {
   "cell_type": "markdown",
   "id": "af116f12",
   "metadata": {},
   "source": [
    "**Watched**"
   ]
  },
  {
   "cell_type": "code",
   "execution_count": 8,
   "id": "84171a95",
   "metadata": {},
   "outputs": [
    {
     "data": {
      "text/html": [
       "<div>\n",
       "<style scoped>\n",
       "    .dataframe tbody tr th:only-of-type {\n",
       "        vertical-align: middle;\n",
       "    }\n",
       "\n",
       "    .dataframe tbody tr th {\n",
       "        vertical-align: top;\n",
       "    }\n",
       "\n",
       "    .dataframe thead th {\n",
       "        text-align: right;\n",
       "    }\n",
       "</style>\n",
       "<table border=\"1\" class=\"dataframe\">\n",
       "  <thead>\n",
       "    <tr style=\"text-align: right;\">\n",
       "      <th></th>\n",
       "      <th>Rating</th>\n",
       "    </tr>\n",
       "  </thead>\n",
       "  <tbody>\n",
       "    <tr>\n",
       "      <th>count</th>\n",
       "      <td>448.00000</td>\n",
       "    </tr>\n",
       "    <tr>\n",
       "      <th>mean</th>\n",
       "      <td>4.86049</td>\n",
       "    </tr>\n",
       "  </tbody>\n",
       "</table>\n",
       "</div>"
      ],
      "text/plain": [
       "         Rating\n",
       "count 448.00000\n",
       "mean    4.86049"
      ]
     },
     "execution_count": 8,
     "metadata": {},
     "output_type": "execute_result"
    }
   ],
   "source": [
    "df[df['Progress'] > 75].agg({'Rating': ['count', 'mean']})"
   ]
  },
  {
   "cell_type": "code",
   "execution_count": 9,
   "id": "96420a9f",
   "metadata": {},
   "outputs": [
    {
     "data": {
      "text/html": [
       "<div>\n",
       "<style scoped>\n",
       "    .dataframe tbody tr th:only-of-type {\n",
       "        vertical-align: middle;\n",
       "    }\n",
       "\n",
       "    .dataframe tbody tr th {\n",
       "        vertical-align: top;\n",
       "    }\n",
       "\n",
       "    .dataframe thead th {\n",
       "        text-align: right;\n",
       "    }\n",
       "</style>\n",
       "<table border=\"1\" class=\"dataframe\">\n",
       "  <thead>\n",
       "    <tr style=\"text-align: right;\">\n",
       "      <th></th>\n",
       "      <th>Rating</th>\n",
       "      <th>Timestamp</th>\n",
       "      <th>Enrolled</th>\n",
       "      <th>Progress</th>\n",
       "      <th>Questions Asked</th>\n",
       "      <th>Questions Answered</th>\n",
       "    </tr>\n",
       "  </thead>\n",
       "  <tbody>\n",
       "    <tr>\n",
       "      <th>6</th>\n",
       "      <td>5.00000</td>\n",
       "      <td>2021-02-04 12:25:30</td>\n",
       "      <td>2020-11-30 19:23:54</td>\n",
       "      <td>85.00000</td>\n",
       "      <td>0.00000</td>\n",
       "      <td>4.00000</td>\n",
       "    </tr>\n",
       "    <tr>\n",
       "      <th>14</th>\n",
       "      <td>5.00000</td>\n",
       "      <td>2021-02-03 19:08:33</td>\n",
       "      <td>2020-03-29 09:07:41</td>\n",
       "      <td>93.00000</td>\n",
       "      <td>1.00000</td>\n",
       "      <td>0.00000</td>\n",
       "    </tr>\n",
       "    <tr>\n",
       "      <th>112</th>\n",
       "      <td>5.00000</td>\n",
       "      <td>2021-01-22 19:11:38</td>\n",
       "      <td>2020-12-04 17:17:47</td>\n",
       "      <td>80.00000</td>\n",
       "      <td>1.00000</td>\n",
       "      <td>2.00000</td>\n",
       "    </tr>\n",
       "    <tr>\n",
       "      <th>167</th>\n",
       "      <td>4.50000</td>\n",
       "      <td>2021-01-13 21:49:32</td>\n",
       "      <td>2019-11-27 14:10:04</td>\n",
       "      <td>100.00000</td>\n",
       "      <td>2.00000</td>\n",
       "      <td>1.00000</td>\n",
       "    </tr>\n",
       "    <tr>\n",
       "      <th>174</th>\n",
       "      <td>5.00000</td>\n",
       "      <td>2021-01-12 09:51:38</td>\n",
       "      <td>2020-11-23 18:10:54</td>\n",
       "      <td>100.00000</td>\n",
       "      <td>0.00000</td>\n",
       "      <td>0.00000</td>\n",
       "    </tr>\n",
       "    <tr>\n",
       "      <th>...</th>\n",
       "      <td>...</td>\n",
       "      <td>...</td>\n",
       "      <td>...</td>\n",
       "      <td>...</td>\n",
       "      <td>...</td>\n",
       "      <td>...</td>\n",
       "    </tr>\n",
       "    <tr>\n",
       "      <th>4198</th>\n",
       "      <td>5.00000</td>\n",
       "      <td>2019-06-10 11:57:54</td>\n",
       "      <td>2019-06-08 17:43:25</td>\n",
       "      <td>80.00000</td>\n",
       "      <td>0.00000</td>\n",
       "      <td>0.00000</td>\n",
       "    </tr>\n",
       "    <tr>\n",
       "      <th>4199</th>\n",
       "      <td>5.00000</td>\n",
       "      <td>2019-06-10 11:02:04</td>\n",
       "      <td>2019-06-06 16:19:40</td>\n",
       "      <td>89.00000</td>\n",
       "      <td>0.00000</td>\n",
       "      <td>0.00000</td>\n",
       "    </tr>\n",
       "    <tr>\n",
       "      <th>4201</th>\n",
       "      <td>5.00000</td>\n",
       "      <td>2019-06-10 08:53:39</td>\n",
       "      <td>2019-05-15 14:13:03</td>\n",
       "      <td>78.00000</td>\n",
       "      <td>3.00000</td>\n",
       "      <td>2.00000</td>\n",
       "    </tr>\n",
       "    <tr>\n",
       "      <th>4273</th>\n",
       "      <td>5.00000</td>\n",
       "      <td>2019-05-26 18:59:50</td>\n",
       "      <td>2019-05-22 00:18:14</td>\n",
       "      <td>95.00000</td>\n",
       "      <td>0.00000</td>\n",
       "      <td>0.00000</td>\n",
       "    </tr>\n",
       "    <tr>\n",
       "      <th>4290</th>\n",
       "      <td>5.00000</td>\n",
       "      <td>2019-05-23 12:39:05</td>\n",
       "      <td>2019-05-22 08:02:30</td>\n",
       "      <td>100.00000</td>\n",
       "      <td>5.00000</td>\n",
       "      <td>3.00000</td>\n",
       "    </tr>\n",
       "  </tbody>\n",
       "</table>\n",
       "<p>448 rows × 6 columns</p>\n",
       "</div>"
      ],
      "text/plain": [
       "      Rating            Timestamp             Enrolled  Progress  \\\n",
       "6    5.00000  2021-02-04 12:25:30  2020-11-30 19:23:54  85.00000   \n",
       "14   5.00000  2021-02-03 19:08:33  2020-03-29 09:07:41  93.00000   \n",
       "112  5.00000  2021-01-22 19:11:38  2020-12-04 17:17:47  80.00000   \n",
       "167  4.50000  2021-01-13 21:49:32  2019-11-27 14:10:04 100.00000   \n",
       "174  5.00000  2021-01-12 09:51:38  2020-11-23 18:10:54 100.00000   \n",
       "...      ...                  ...                  ...       ...   \n",
       "4198 5.00000  2019-06-10 11:57:54  2019-06-08 17:43:25  80.00000   \n",
       "4199 5.00000  2019-06-10 11:02:04  2019-06-06 16:19:40  89.00000   \n",
       "4201 5.00000  2019-06-10 08:53:39  2019-05-15 14:13:03  78.00000   \n",
       "4273 5.00000  2019-05-26 18:59:50  2019-05-22 00:18:14  95.00000   \n",
       "4290 5.00000  2019-05-23 12:39:05  2019-05-22 08:02:30 100.00000   \n",
       "\n",
       "      Questions Asked  Questions Answered  \n",
       "6             0.00000             4.00000  \n",
       "14            1.00000             0.00000  \n",
       "112           1.00000             2.00000  \n",
       "167           2.00000             1.00000  \n",
       "174           0.00000             0.00000  \n",
       "...               ...                 ...  \n",
       "4198          0.00000             0.00000  \n",
       "4199          0.00000             0.00000  \n",
       "4201          3.00000             2.00000  \n",
       "4273          0.00000             0.00000  \n",
       "4290          5.00000             3.00000  \n",
       "\n",
       "[448 rows x 6 columns]"
      ]
     },
     "execution_count": 9,
     "metadata": {},
     "output_type": "execute_result"
    }
   ],
   "source": [
    "watched = df[df['Progress'] > 75]\n",
    "watched"
   ]
  },
  {
   "cell_type": "markdown",
   "id": "5829287b",
   "metadata": {},
   "source": [
    "**Not Watched**"
   ]
  },
  {
   "cell_type": "code",
   "execution_count": 10,
   "id": "2f216053",
   "metadata": {},
   "outputs": [
    {
     "data": {
      "text/html": [
       "<div>\n",
       "<style scoped>\n",
       "    .dataframe tbody tr th:only-of-type {\n",
       "        vertical-align: middle;\n",
       "    }\n",
       "\n",
       "    .dataframe tbody tr th {\n",
       "        vertical-align: top;\n",
       "    }\n",
       "\n",
       "    .dataframe thead th {\n",
       "        text-align: right;\n",
       "    }\n",
       "</style>\n",
       "<table border=\"1\" class=\"dataframe\">\n",
       "  <thead>\n",
       "    <tr style=\"text-align: right;\">\n",
       "      <th></th>\n",
       "      <th>Rating</th>\n",
       "    </tr>\n",
       "  </thead>\n",
       "  <tbody>\n",
       "    <tr>\n",
       "      <th>count</th>\n",
       "      <td>2573.00000</td>\n",
       "    </tr>\n",
       "    <tr>\n",
       "      <th>mean</th>\n",
       "      <td>4.72250</td>\n",
       "    </tr>\n",
       "  </tbody>\n",
       "</table>\n",
       "</div>"
      ],
      "text/plain": [
       "          Rating\n",
       "count 2573.00000\n",
       "mean     4.72250"
      ]
     },
     "execution_count": 10,
     "metadata": {},
     "output_type": "execute_result"
    }
   ],
   "source": [
    "df[df['Progress'] < 25].agg({'Rating': ['count', 'mean']})"
   ]
  },
  {
   "cell_type": "code",
   "execution_count": 11,
   "id": "3864c6d1",
   "metadata": {},
   "outputs": [
    {
     "data": {
      "text/html": [
       "<div>\n",
       "<style scoped>\n",
       "    .dataframe tbody tr th:only-of-type {\n",
       "        vertical-align: middle;\n",
       "    }\n",
       "\n",
       "    .dataframe tbody tr th {\n",
       "        vertical-align: top;\n",
       "    }\n",
       "\n",
       "    .dataframe thead th {\n",
       "        text-align: right;\n",
       "    }\n",
       "</style>\n",
       "<table border=\"1\" class=\"dataframe\">\n",
       "  <thead>\n",
       "    <tr style=\"text-align: right;\">\n",
       "      <th></th>\n",
       "      <th>Rating</th>\n",
       "      <th>Timestamp</th>\n",
       "      <th>Enrolled</th>\n",
       "      <th>Progress</th>\n",
       "      <th>Questions Asked</th>\n",
       "      <th>Questions Answered</th>\n",
       "    </tr>\n",
       "  </thead>\n",
       "  <tbody>\n",
       "    <tr>\n",
       "      <th>0</th>\n",
       "      <td>5.00000</td>\n",
       "      <td>2021-02-05 07:45:55</td>\n",
       "      <td>2021-01-25 15:12:08</td>\n",
       "      <td>5.00000</td>\n",
       "      <td>0.00000</td>\n",
       "      <td>0.00000</td>\n",
       "    </tr>\n",
       "    <tr>\n",
       "      <th>1</th>\n",
       "      <td>5.00000</td>\n",
       "      <td>2021-02-04 21:05:32</td>\n",
       "      <td>2021-02-04 20:43:40</td>\n",
       "      <td>1.00000</td>\n",
       "      <td>0.00000</td>\n",
       "      <td>0.00000</td>\n",
       "    </tr>\n",
       "    <tr>\n",
       "      <th>2</th>\n",
       "      <td>4.50000</td>\n",
       "      <td>2021-02-04 20:34:03</td>\n",
       "      <td>2019-07-04 23:23:27</td>\n",
       "      <td>1.00000</td>\n",
       "      <td>0.00000</td>\n",
       "      <td>0.00000</td>\n",
       "    </tr>\n",
       "    <tr>\n",
       "      <th>3</th>\n",
       "      <td>5.00000</td>\n",
       "      <td>2021-02-04 16:56:28</td>\n",
       "      <td>2021-02-04 14:41:29</td>\n",
       "      <td>10.00000</td>\n",
       "      <td>0.00000</td>\n",
       "      <td>0.00000</td>\n",
       "    </tr>\n",
       "    <tr>\n",
       "      <th>4</th>\n",
       "      <td>4.00000</td>\n",
       "      <td>2021-02-04 15:00:24</td>\n",
       "      <td>2020-10-13 03:10:07</td>\n",
       "      <td>10.00000</td>\n",
       "      <td>0.00000</td>\n",
       "      <td>0.00000</td>\n",
       "    </tr>\n",
       "    <tr>\n",
       "      <th>...</th>\n",
       "      <td>...</td>\n",
       "      <td>...</td>\n",
       "      <td>...</td>\n",
       "      <td>...</td>\n",
       "      <td>...</td>\n",
       "      <td>...</td>\n",
       "    </tr>\n",
       "    <tr>\n",
       "      <th>4316</th>\n",
       "      <td>5.00000</td>\n",
       "      <td>2019-05-17 17:46:04</td>\n",
       "      <td>2019-05-16 20:25:44</td>\n",
       "      <td>3.00000</td>\n",
       "      <td>0.00000</td>\n",
       "      <td>0.00000</td>\n",
       "    </tr>\n",
       "    <tr>\n",
       "      <th>4317</th>\n",
       "      <td>5.00000</td>\n",
       "      <td>2019-05-17 10:33:15</td>\n",
       "      <td>2019-05-17 10:29:41</td>\n",
       "      <td>1.00000</td>\n",
       "      <td>0.00000</td>\n",
       "      <td>0.00000</td>\n",
       "    </tr>\n",
       "    <tr>\n",
       "      <th>4319</th>\n",
       "      <td>5.00000</td>\n",
       "      <td>2019-05-16 21:27:05</td>\n",
       "      <td>2019-05-16 20:32:15</td>\n",
       "      <td>5.00000</td>\n",
       "      <td>0.00000</td>\n",
       "      <td>0.00000</td>\n",
       "    </tr>\n",
       "    <tr>\n",
       "      <th>4320</th>\n",
       "      <td>5.00000</td>\n",
       "      <td>2019-05-16 20:22:26</td>\n",
       "      <td>2019-05-16 20:21:19</td>\n",
       "      <td>1.00000</td>\n",
       "      <td>0.00000</td>\n",
       "      <td>0.00000</td>\n",
       "    </tr>\n",
       "    <tr>\n",
       "      <th>4321</th>\n",
       "      <td>5.00000</td>\n",
       "      <td>2019-05-16 19:49:07</td>\n",
       "      <td>2019-05-16 19:47:29</td>\n",
       "      <td>1.00000</td>\n",
       "      <td>0.00000</td>\n",
       "      <td>0.00000</td>\n",
       "    </tr>\n",
       "  </tbody>\n",
       "</table>\n",
       "<p>2573 rows × 6 columns</p>\n",
       "</div>"
      ],
      "text/plain": [
       "      Rating            Timestamp             Enrolled  Progress  \\\n",
       "0    5.00000  2021-02-05 07:45:55  2021-01-25 15:12:08   5.00000   \n",
       "1    5.00000  2021-02-04 21:05:32  2021-02-04 20:43:40   1.00000   \n",
       "2    4.50000  2021-02-04 20:34:03  2019-07-04 23:23:27   1.00000   \n",
       "3    5.00000  2021-02-04 16:56:28  2021-02-04 14:41:29  10.00000   \n",
       "4    4.00000  2021-02-04 15:00:24  2020-10-13 03:10:07  10.00000   \n",
       "...      ...                  ...                  ...       ...   \n",
       "4316 5.00000  2019-05-17 17:46:04  2019-05-16 20:25:44   3.00000   \n",
       "4317 5.00000  2019-05-17 10:33:15  2019-05-17 10:29:41   1.00000   \n",
       "4319 5.00000  2019-05-16 21:27:05  2019-05-16 20:32:15   5.00000   \n",
       "4320 5.00000  2019-05-16 20:22:26  2019-05-16 20:21:19   1.00000   \n",
       "4321 5.00000  2019-05-16 19:49:07  2019-05-16 19:47:29   1.00000   \n",
       "\n",
       "      Questions Asked  Questions Answered  \n",
       "0             0.00000             0.00000  \n",
       "1             0.00000             0.00000  \n",
       "2             0.00000             0.00000  \n",
       "3             0.00000             0.00000  \n",
       "4             0.00000             0.00000  \n",
       "...               ...                 ...  \n",
       "4316          0.00000             0.00000  \n",
       "4317          0.00000             0.00000  \n",
       "4319          0.00000             0.00000  \n",
       "4320          0.00000             0.00000  \n",
       "4321          0.00000             0.00000  \n",
       "\n",
       "[2573 rows x 6 columns]"
      ]
     },
     "execution_count": 11,
     "metadata": {},
     "output_type": "execute_result"
    }
   ],
   "source": [
    "not_watched = df[df['Progress'] < 25]\n",
    "not_watched"
   ]
  },
  {
   "cell_type": "markdown",
   "id": "553be572",
   "metadata": {},
   "source": [
    "**Step 2: Assumption Check**\n",
    "\n",
    "Assumption 1: Distributions are normal for each variable (Use shapiro test for normal distribution)<br>\n",
    "Assumption 2: Variances are homogeneus (Use levene test for normal distribution)<br>"
   ]
  },
  {
   "cell_type": "markdown",
   "id": "37147c43",
   "metadata": {},
   "source": [
    "Assumption 1:\n",
    "\n",
    "H0: Distribution is normal. <br>\n",
    "H1: Distrubution is not mormal."
   ]
  },
  {
   "cell_type": "code",
   "execution_count": 12,
   "id": "8154b0dc",
   "metadata": {},
   "outputs": [
    {
     "name": "stdout",
     "output_type": "stream",
     "text": [
      "Test statistic: 0.31595\n",
      "p value: 0.00000\n"
     ]
    }
   ],
   "source": [
    "test_stat, p_value = shapiro(df.loc[df['Progress'] > 75, 'Rating'])\n",
    "print('Test statistic: %.5f\\np value: %.5f' % (test_stat, p_value))"
   ]
  },
  {
   "cell_type": "markdown",
   "id": "c79f1e46",
   "metadata": {},
   "source": [
    "P value is less than 0.05 so we reject the H0 hypothesis, which is distribution is normal for who watched the course."
   ]
  },
  {
   "cell_type": "code",
   "execution_count": 13,
   "id": "e5651117",
   "metadata": {},
   "outputs": [
    {
     "name": "stdout",
     "output_type": "stream",
     "text": [
      "Test statistic: 0.57096\n",
      "p value: 0.00000\n"
     ]
    }
   ],
   "source": [
    "test_stat, p_value = shapiro(df.loc[df['Progress'] < 25, 'Rating'])\n",
    "print('Test statistic: %.5f\\np value: %.5f' % (test_stat, p_value))"
   ]
  },
  {
   "cell_type": "markdown",
   "id": "383f7cc4",
   "metadata": {},
   "source": [
    "P value is less than 0.05 so we reject the H0 hypothesis, which is distribution is normal for who did not watched the course. Both distributions are not normal that's why we can directly go to the non-parametric solution but let's check the second assumption. "
   ]
  },
  {
   "cell_type": "markdown",
   "id": "47689258",
   "metadata": {},
   "source": [
    "Assumption 2:\n",
    "\n",
    "H0: Variances are homogeneous. <br>\n",
    "H1: Variances are not homogeneous."
   ]
  },
  {
   "cell_type": "code",
   "execution_count": 14,
   "id": "a6d18abb",
   "metadata": {},
   "outputs": [
    {
     "name": "stdout",
     "output_type": "stream",
     "text": [
      "Test statistic: 24.92766\n",
      "p value: 0.00000\n"
     ]
    }
   ],
   "source": [
    "test_stat, p_value = levene(df.loc[df['Progress'] > 75, 'Rating'],\n",
    "                           df.loc[df['Progress'] < 25, 'Rating'])\n",
    "print('Test statistic: %.5f\\np value: %.5f' % (test_stat, p_value))"
   ]
  },
  {
   "cell_type": "markdown",
   "id": "1ae51ee0",
   "metadata": {},
   "source": [
    "P value is less than 0.05 so we reject the H0 hypothesis, which is variances are homogeneous."
   ]
  },
  {
   "cell_type": "markdown",
   "id": "47e20941",
   "metadata": {},
   "source": [
    "**Step 3: Apply Hypothesis**\n",
    "\n",
    "Non parametric solution: mannwhitneyu"
   ]
  },
  {
   "cell_type": "code",
   "execution_count": 15,
   "id": "e408ed48",
   "metadata": {},
   "outputs": [
    {
     "name": "stdout",
     "output_type": "stream",
     "text": [
      "Test statistic: 661481.50000\n",
      "p value: 0.00000\n"
     ]
    }
   ],
   "source": [
    "test_stat, p_value = mannwhitneyu(df.loc[df['Progress'] > 75, 'Rating'],\n",
    "                           df.loc[df['Progress'] < 25, 'Rating'])\n",
    "print('Test statistic: %.5f\\np value: %.5f' % (test_stat, p_value))"
   ]
  },
  {
   "cell_type": "markdown",
   "id": "a225e3a9",
   "metadata": {},
   "source": [
    "P value is less than 0.05 it is mean that we reject the H0 hypothesis. So we can say that there is a statistical difference between the  scores of those who watched the course and those who did not."
   ]
  }
 ],
 "metadata": {
  "kernelspec": {
   "display_name": "Python 3 (ipykernel)",
   "language": "python",
   "name": "python3"
  },
  "language_info": {
   "codemirror_mode": {
    "name": "ipython",
    "version": 3
   },
   "file_extension": ".py",
   "mimetype": "text/x-python",
   "name": "python",
   "nbconvert_exporter": "python",
   "pygments_lexer": "ipython3",
   "version": "3.9.7"
  }
 },
 "nbformat": 4,
 "nbformat_minor": 5
}
