{
 "cells": [
  {
   "cell_type": "markdown",
   "id": "e715cb08",
   "metadata": {},
   "source": [
    "# Item Based Collaborative Filtering"
   ]
  },
  {
   "cell_type": "markdown",
   "id": "acf3df9b",
   "metadata": {},
   "source": [
    "Technical Documents\n",
    "\n",
    "https://www.geeksforgeeks.org/item-to-item-based-collaborative-filtering/\n",
    "\n",
    "https://towardsdatascience.com/item-based-collaborative-filtering-in-python-91f747200fab"
   ]
  },
  {
   "cell_type": "markdown",
   "id": "8148cf1e",
   "metadata": {},
   "source": [
    "## Case Study - Movie Recommendation"
   ]
  },
  {
   "cell_type": "markdown",
   "id": "163ee36a",
   "metadata": {},
   "source": [
    "A movie company wants to do item based recommendation with their dataset. The datasets includes 27,000 films and 2 million ratings. There are two dataset called movie and rating.\n",
    "\n",
    "\n",
    "Movie Variables:\n",
    "* title: Film name\n",
    "* movieId: Unique film number\n",
    "\n",
    "Rating Variables:\n",
    "* userId: Unique user id\n",
    "* movieId: Unique film number\n",
    "* rating: user rating\n",
    "* timestamp: Rate date"
   ]
  },
  {
   "cell_type": "markdown",
   "id": "33a3c91f",
   "metadata": {},
   "source": [
    "### Step 1: Merge the movie and rating datasets"
   ]
  },
  {
   "cell_type": "markdown",
   "id": "cb8949ef",
   "metadata": {},
   "source": [
    "**Import movie and rating data and check info**"
   ]
  },
  {
   "cell_type": "code",
   "execution_count": 4,
   "id": "937f6023",
   "metadata": {},
   "outputs": [],
   "source": [
    "import pandas as pd\n",
    "\n",
    "\n",
    "movie = pd.read_csv('movie.csv')\n",
    "rating = pd.read_csv('rating.csv')"
   ]
  },
  {
   "cell_type": "code",
   "execution_count": 5,
   "id": "5bf36c84",
   "metadata": {},
   "outputs": [
    {
     "data": {
      "text/html": [
       "<div>\n",
       "<style scoped>\n",
       "    .dataframe tbody tr th:only-of-type {\n",
       "        vertical-align: middle;\n",
       "    }\n",
       "\n",
       "    .dataframe tbody tr th {\n",
       "        vertical-align: top;\n",
       "    }\n",
       "\n",
       "    .dataframe thead th {\n",
       "        text-align: right;\n",
       "    }\n",
       "</style>\n",
       "<table border=\"1\" class=\"dataframe\">\n",
       "  <thead>\n",
       "    <tr style=\"text-align: right;\">\n",
       "      <th></th>\n",
       "      <th>movieId</th>\n",
       "      <th>title</th>\n",
       "      <th>genres</th>\n",
       "    </tr>\n",
       "  </thead>\n",
       "  <tbody>\n",
       "    <tr>\n",
       "      <th>0</th>\n",
       "      <td>1</td>\n",
       "      <td>Toy Story (1995)</td>\n",
       "      <td>Adventure|Animation|Children|Comedy|Fantasy</td>\n",
       "    </tr>\n",
       "    <tr>\n",
       "      <th>1</th>\n",
       "      <td>2</td>\n",
       "      <td>Jumanji (1995)</td>\n",
       "      <td>Adventure|Children|Fantasy</td>\n",
       "    </tr>\n",
       "    <tr>\n",
       "      <th>2</th>\n",
       "      <td>3</td>\n",
       "      <td>Grumpier Old Men (1995)</td>\n",
       "      <td>Comedy|Romance</td>\n",
       "    </tr>\n",
       "    <tr>\n",
       "      <th>3</th>\n",
       "      <td>4</td>\n",
       "      <td>Waiting to Exhale (1995)</td>\n",
       "      <td>Comedy|Drama|Romance</td>\n",
       "    </tr>\n",
       "    <tr>\n",
       "      <th>4</th>\n",
       "      <td>5</td>\n",
       "      <td>Father of the Bride Part II (1995)</td>\n",
       "      <td>Comedy</td>\n",
       "    </tr>\n",
       "  </tbody>\n",
       "</table>\n",
       "</div>"
      ],
      "text/plain": [
       "   movieId                               title  \\\n",
       "0        1                    Toy Story (1995)   \n",
       "1        2                      Jumanji (1995)   \n",
       "2        3             Grumpier Old Men (1995)   \n",
       "3        4            Waiting to Exhale (1995)   \n",
       "4        5  Father of the Bride Part II (1995)   \n",
       "\n",
       "                                        genres  \n",
       "0  Adventure|Animation|Children|Comedy|Fantasy  \n",
       "1                   Adventure|Children|Fantasy  \n",
       "2                               Comedy|Romance  \n",
       "3                         Comedy|Drama|Romance  \n",
       "4                                       Comedy  "
      ]
     },
     "execution_count": 5,
     "metadata": {},
     "output_type": "execute_result"
    }
   ],
   "source": [
    "movie.head()"
   ]
  },
  {
   "cell_type": "code",
   "execution_count": 7,
   "id": "2b2abdca",
   "metadata": {},
   "outputs": [
    {
     "name": "stdout",
     "output_type": "stream",
     "text": [
      "<class 'pandas.core.frame.DataFrame'>\n",
      "RangeIndex: 27278 entries, 0 to 27277\n",
      "Data columns (total 3 columns):\n",
      " #   Column   Non-Null Count  Dtype \n",
      "---  ------   --------------  ----- \n",
      " 0   movieId  27278 non-null  int64 \n",
      " 1   title    27278 non-null  object\n",
      " 2   genres   27278 non-null  object\n",
      "dtypes: int64(1), object(2)\n",
      "memory usage: 639.5+ KB\n"
     ]
    }
   ],
   "source": [
    "movie.info()"
   ]
  },
  {
   "cell_type": "code",
   "execution_count": 6,
   "id": "775e62ec",
   "metadata": {},
   "outputs": [
    {
     "data": {
      "text/html": [
       "<div>\n",
       "<style scoped>\n",
       "    .dataframe tbody tr th:only-of-type {\n",
       "        vertical-align: middle;\n",
       "    }\n",
       "\n",
       "    .dataframe tbody tr th {\n",
       "        vertical-align: top;\n",
       "    }\n",
       "\n",
       "    .dataframe thead th {\n",
       "        text-align: right;\n",
       "    }\n",
       "</style>\n",
       "<table border=\"1\" class=\"dataframe\">\n",
       "  <thead>\n",
       "    <tr style=\"text-align: right;\">\n",
       "      <th></th>\n",
       "      <th>userId</th>\n",
       "      <th>movieId</th>\n",
       "      <th>rating</th>\n",
       "      <th>timestamp</th>\n",
       "    </tr>\n",
       "  </thead>\n",
       "  <tbody>\n",
       "    <tr>\n",
       "      <th>0</th>\n",
       "      <td>1</td>\n",
       "      <td>2</td>\n",
       "      <td>3.5</td>\n",
       "      <td>2005-04-02 23:53:47</td>\n",
       "    </tr>\n",
       "    <tr>\n",
       "      <th>1</th>\n",
       "      <td>1</td>\n",
       "      <td>29</td>\n",
       "      <td>3.5</td>\n",
       "      <td>2005-04-02 23:31:16</td>\n",
       "    </tr>\n",
       "    <tr>\n",
       "      <th>2</th>\n",
       "      <td>1</td>\n",
       "      <td>32</td>\n",
       "      <td>3.5</td>\n",
       "      <td>2005-04-02 23:33:39</td>\n",
       "    </tr>\n",
       "    <tr>\n",
       "      <th>3</th>\n",
       "      <td>1</td>\n",
       "      <td>47</td>\n",
       "      <td>3.5</td>\n",
       "      <td>2005-04-02 23:32:07</td>\n",
       "    </tr>\n",
       "    <tr>\n",
       "      <th>4</th>\n",
       "      <td>1</td>\n",
       "      <td>50</td>\n",
       "      <td>3.5</td>\n",
       "      <td>2005-04-02 23:29:40</td>\n",
       "    </tr>\n",
       "  </tbody>\n",
       "</table>\n",
       "</div>"
      ],
      "text/plain": [
       "   userId  movieId  rating            timestamp\n",
       "0       1        2     3.5  2005-04-02 23:53:47\n",
       "1       1       29     3.5  2005-04-02 23:31:16\n",
       "2       1       32     3.5  2005-04-02 23:33:39\n",
       "3       1       47     3.5  2005-04-02 23:32:07\n",
       "4       1       50     3.5  2005-04-02 23:29:40"
      ]
     },
     "execution_count": 6,
     "metadata": {},
     "output_type": "execute_result"
    }
   ],
   "source": [
    "rating.head()"
   ]
  },
  {
   "cell_type": "code",
   "execution_count": 8,
   "id": "202ecddd",
   "metadata": {},
   "outputs": [
    {
     "name": "stdout",
     "output_type": "stream",
     "text": [
      "<class 'pandas.core.frame.DataFrame'>\n",
      "RangeIndex: 20000263 entries, 0 to 20000262\n",
      "Data columns (total 4 columns):\n",
      " #   Column     Dtype  \n",
      "---  ------     -----  \n",
      " 0   userId     int64  \n",
      " 1   movieId    int64  \n",
      " 2   rating     float64\n",
      " 3   timestamp  object \n",
      "dtypes: float64(1), int64(2), object(1)\n",
      "memory usage: 610.4+ MB\n"
     ]
    }
   ],
   "source": [
    "rating.info()"
   ]
  },
  {
   "cell_type": "markdown",
   "id": "e4671726",
   "metadata": {},
   "source": [
    "**Merge movie and rating dataframes**"
   ]
  },
  {
   "cell_type": "code",
   "execution_count": 9,
   "id": "d4415b0f",
   "metadata": {},
   "outputs": [],
   "source": [
    "df = movie.merge(rating, on='movieId', how='left')"
   ]
  },
  {
   "cell_type": "code",
   "execution_count": 10,
   "id": "f77a3233",
   "metadata": {},
   "outputs": [
    {
     "data": {
      "text/html": [
       "<div>\n",
       "<style scoped>\n",
       "    .dataframe tbody tr th:only-of-type {\n",
       "        vertical-align: middle;\n",
       "    }\n",
       "\n",
       "    .dataframe tbody tr th {\n",
       "        vertical-align: top;\n",
       "    }\n",
       "\n",
       "    .dataframe thead th {\n",
       "        text-align: right;\n",
       "    }\n",
       "</style>\n",
       "<table border=\"1\" class=\"dataframe\">\n",
       "  <thead>\n",
       "    <tr style=\"text-align: right;\">\n",
       "      <th></th>\n",
       "      <th>movieId</th>\n",
       "      <th>title</th>\n",
       "      <th>genres</th>\n",
       "      <th>userId</th>\n",
       "      <th>rating</th>\n",
       "      <th>timestamp</th>\n",
       "    </tr>\n",
       "  </thead>\n",
       "  <tbody>\n",
       "    <tr>\n",
       "      <th>0</th>\n",
       "      <td>1</td>\n",
       "      <td>Toy Story (1995)</td>\n",
       "      <td>Adventure|Animation|Children|Comedy|Fantasy</td>\n",
       "      <td>3.0</td>\n",
       "      <td>4.0</td>\n",
       "      <td>1999-12-11 13:36:47</td>\n",
       "    </tr>\n",
       "    <tr>\n",
       "      <th>1</th>\n",
       "      <td>1</td>\n",
       "      <td>Toy Story (1995)</td>\n",
       "      <td>Adventure|Animation|Children|Comedy|Fantasy</td>\n",
       "      <td>6.0</td>\n",
       "      <td>5.0</td>\n",
       "      <td>1997-03-13 17:50:52</td>\n",
       "    </tr>\n",
       "    <tr>\n",
       "      <th>2</th>\n",
       "      <td>1</td>\n",
       "      <td>Toy Story (1995)</td>\n",
       "      <td>Adventure|Animation|Children|Comedy|Fantasy</td>\n",
       "      <td>8.0</td>\n",
       "      <td>4.0</td>\n",
       "      <td>1996-06-05 13:37:51</td>\n",
       "    </tr>\n",
       "    <tr>\n",
       "      <th>3</th>\n",
       "      <td>1</td>\n",
       "      <td>Toy Story (1995)</td>\n",
       "      <td>Adventure|Animation|Children|Comedy|Fantasy</td>\n",
       "      <td>10.0</td>\n",
       "      <td>4.0</td>\n",
       "      <td>1999-11-25 02:44:47</td>\n",
       "    </tr>\n",
       "    <tr>\n",
       "      <th>4</th>\n",
       "      <td>1</td>\n",
       "      <td>Toy Story (1995)</td>\n",
       "      <td>Adventure|Animation|Children|Comedy|Fantasy</td>\n",
       "      <td>11.0</td>\n",
       "      <td>4.5</td>\n",
       "      <td>2009-01-02 01:13:41</td>\n",
       "    </tr>\n",
       "  </tbody>\n",
       "</table>\n",
       "</div>"
      ],
      "text/plain": [
       "   movieId             title                                       genres  \\\n",
       "0        1  Toy Story (1995)  Adventure|Animation|Children|Comedy|Fantasy   \n",
       "1        1  Toy Story (1995)  Adventure|Animation|Children|Comedy|Fantasy   \n",
       "2        1  Toy Story (1995)  Adventure|Animation|Children|Comedy|Fantasy   \n",
       "3        1  Toy Story (1995)  Adventure|Animation|Children|Comedy|Fantasy   \n",
       "4        1  Toy Story (1995)  Adventure|Animation|Children|Comedy|Fantasy   \n",
       "\n",
       "   userId  rating            timestamp  \n",
       "0     3.0     4.0  1999-12-11 13:36:47  \n",
       "1     6.0     5.0  1997-03-13 17:50:52  \n",
       "2     8.0     4.0  1996-06-05 13:37:51  \n",
       "3    10.0     4.0  1999-11-25 02:44:47  \n",
       "4    11.0     4.5  2009-01-02 01:13:41  "
      ]
     },
     "execution_count": 10,
     "metadata": {},
     "output_type": "execute_result"
    }
   ],
   "source": [
    "df.head()"
   ]
  },
  {
   "cell_type": "code",
   "execution_count": 11,
   "id": "582c548e",
   "metadata": {},
   "outputs": [
    {
     "data": {
      "text/plain": [
       "(20000797, 6)"
      ]
     },
     "execution_count": 11,
     "metadata": {},
     "output_type": "execute_result"
    }
   ],
   "source": [
    "df.shape"
   ]
  },
  {
   "cell_type": "markdown",
   "id": "e9e9a1df",
   "metadata": {},
   "source": [
    "### Step 2: Creation of user_movie_df"
   ]
  },
  {
   "cell_type": "code",
   "execution_count": 12,
   "id": "f9632082",
   "metadata": {},
   "outputs": [
    {
     "data": {
      "text/plain": [
       "27262"
      ]
     },
     "execution_count": 12,
     "metadata": {},
     "output_type": "execute_result"
    }
   ],
   "source": [
    "df['title'].nunique()"
   ]
  },
  {
   "cell_type": "code",
   "execution_count": 13,
   "id": "56e22a6d",
   "metadata": {},
   "outputs": [
    {
     "data": {
      "text/plain": [
       "Pulp Fiction (1994)                          67310\n",
       "Forrest Gump (1994)                          66172\n",
       "Shawshank Redemption, The (1994)             63366\n",
       "Silence of the Lambs, The (1991)             63299\n",
       "Jurassic Park (1993)                         59715\n",
       "                                             ...  \n",
       "Rapture (Arrebato) (1980)                        1\n",
       "Education of Mohammad Hussein, The (2013)        1\n",
       "Satanas (2007)                                   1\n",
       "Psychosis (2010)                                 1\n",
       "Innocence (2014)                                 1\n",
       "Name: title, Length: 27262, dtype: int64"
      ]
     },
     "execution_count": 13,
     "metadata": {},
     "output_type": "execute_result"
    }
   ],
   "source": [
    "df['title'].value_counts()"
   ]
  },
  {
   "cell_type": "markdown",
   "id": "f9247b2d",
   "metadata": {},
   "source": [
    "**We need to delete movies with a rating less than 1000** "
   ]
  },
  {
   "cell_type": "code",
   "execution_count": 20,
   "id": "f9f0901b",
   "metadata": {},
   "outputs": [
    {
     "data": {
      "text/html": [
       "<div>\n",
       "<style scoped>\n",
       "    .dataframe tbody tr th:only-of-type {\n",
       "        vertical-align: middle;\n",
       "    }\n",
       "\n",
       "    .dataframe tbody tr th {\n",
       "        vertical-align: top;\n",
       "    }\n",
       "\n",
       "    .dataframe thead th {\n",
       "        text-align: right;\n",
       "    }\n",
       "</style>\n",
       "<table border=\"1\" class=\"dataframe\">\n",
       "  <thead>\n",
       "    <tr style=\"text-align: right;\">\n",
       "      <th></th>\n",
       "      <th>title</th>\n",
       "    </tr>\n",
       "  </thead>\n",
       "  <tbody>\n",
       "    <tr>\n",
       "      <th>Pulp Fiction (1994)</th>\n",
       "      <td>67310</td>\n",
       "    </tr>\n",
       "    <tr>\n",
       "      <th>Forrest Gump (1994)</th>\n",
       "      <td>66172</td>\n",
       "    </tr>\n",
       "    <tr>\n",
       "      <th>Shawshank Redemption, The (1994)</th>\n",
       "      <td>63366</td>\n",
       "    </tr>\n",
       "    <tr>\n",
       "      <th>Silence of the Lambs, The (1991)</th>\n",
       "      <td>63299</td>\n",
       "    </tr>\n",
       "    <tr>\n",
       "      <th>Jurassic Park (1993)</th>\n",
       "      <td>59715</td>\n",
       "    </tr>\n",
       "  </tbody>\n",
       "</table>\n",
       "</div>"
      ],
      "text/plain": [
       "                                  title\n",
       "Pulp Fiction (1994)               67310\n",
       "Forrest Gump (1994)               66172\n",
       "Shawshank Redemption, The (1994)  63366\n",
       "Silence of the Lambs, The (1991)  63299\n",
       "Jurassic Park (1993)              59715"
      ]
     },
     "execution_count": 20,
     "metadata": {},
     "output_type": "execute_result"
    }
   ],
   "source": [
    "comment_rating = pd.DataFrame(df['title'].value_counts())\n",
    "comment_rating.head()"
   ]
  },
  {
   "cell_type": "code",
   "execution_count": 19,
   "id": "71e56fd9",
   "metadata": {},
   "outputs": [
    {
     "data": {
      "text/plain": [
       "Index(['Bear, The (Ours, L') (1988)', 'Rosewood (1997)', 'Ted (2012)',\n",
       "       'One Night at McCool's (2001)', 'Marked for Death (1990)',\n",
       "       'Three to Tango (1999)', 'Adam's Rib (1949)',\n",
       "       'I Now Pronounce You Chuck and Larry (2007)',\n",
       "       'Italian for Beginners (Italiensk for begyndere) (2000)',\n",
       "       'Husbands and Wives (1992)',\n",
       "       ...\n",
       "       'Satan's Sword (Daibosatsu tôge) (1960)',\n",
       "       'Blind Massage (Tui na) (2014)', 'Prêt à tout (2014)',\n",
       "       'Ditchdigger's Daughters, The (1997)', 'A.K. (1985)',\n",
       "       'Rapture (Arrebato) (1980)',\n",
       "       'Education of Mohammad Hussein, The (2013)', 'Satanas (2007)',\n",
       "       'Psychosis (2010)', 'Innocence (2014)'],\n",
       "      dtype='object', length=24103)"
      ]
     },
     "execution_count": 19,
     "metadata": {},
     "output_type": "execute_result"
    }
   ],
   "source": [
    "rare_movies = comment_rating[comment_rating['title'] <= 1000].index\n",
    "rare_movies"
   ]
  },
  {
   "cell_type": "code",
   "execution_count": 26,
   "id": "c20526be",
   "metadata": {},
   "outputs": [
    {
     "data": {
      "text/html": [
       "<div>\n",
       "<style scoped>\n",
       "    .dataframe tbody tr th:only-of-type {\n",
       "        vertical-align: middle;\n",
       "    }\n",
       "\n",
       "    .dataframe tbody tr th {\n",
       "        vertical-align: top;\n",
       "    }\n",
       "\n",
       "    .dataframe thead th {\n",
       "        text-align: right;\n",
       "    }\n",
       "</style>\n",
       "<table border=\"1\" class=\"dataframe\">\n",
       "  <thead>\n",
       "    <tr style=\"text-align: right;\">\n",
       "      <th></th>\n",
       "      <th>movieId</th>\n",
       "      <th>title</th>\n",
       "      <th>genres</th>\n",
       "      <th>userId</th>\n",
       "      <th>rating</th>\n",
       "      <th>timestamp</th>\n",
       "    </tr>\n",
       "  </thead>\n",
       "  <tbody>\n",
       "    <tr>\n",
       "      <th>0</th>\n",
       "      <td>1</td>\n",
       "      <td>Toy Story (1995)</td>\n",
       "      <td>Adventure|Animation|Children|Comedy|Fantasy</td>\n",
       "      <td>3.0</td>\n",
       "      <td>4.0</td>\n",
       "      <td>1999-12-11 13:36:47</td>\n",
       "    </tr>\n",
       "    <tr>\n",
       "      <th>1</th>\n",
       "      <td>1</td>\n",
       "      <td>Toy Story (1995)</td>\n",
       "      <td>Adventure|Animation|Children|Comedy|Fantasy</td>\n",
       "      <td>6.0</td>\n",
       "      <td>5.0</td>\n",
       "      <td>1997-03-13 17:50:52</td>\n",
       "    </tr>\n",
       "    <tr>\n",
       "      <th>2</th>\n",
       "      <td>1</td>\n",
       "      <td>Toy Story (1995)</td>\n",
       "      <td>Adventure|Animation|Children|Comedy|Fantasy</td>\n",
       "      <td>8.0</td>\n",
       "      <td>4.0</td>\n",
       "      <td>1996-06-05 13:37:51</td>\n",
       "    </tr>\n",
       "    <tr>\n",
       "      <th>3</th>\n",
       "      <td>1</td>\n",
       "      <td>Toy Story (1995)</td>\n",
       "      <td>Adventure|Animation|Children|Comedy|Fantasy</td>\n",
       "      <td>10.0</td>\n",
       "      <td>4.0</td>\n",
       "      <td>1999-11-25 02:44:47</td>\n",
       "    </tr>\n",
       "    <tr>\n",
       "      <th>4</th>\n",
       "      <td>1</td>\n",
       "      <td>Toy Story (1995)</td>\n",
       "      <td>Adventure|Animation|Children|Comedy|Fantasy</td>\n",
       "      <td>11.0</td>\n",
       "      <td>4.5</td>\n",
       "      <td>2009-01-02 01:13:41</td>\n",
       "    </tr>\n",
       "    <tr>\n",
       "      <th>...</th>\n",
       "      <td>...</td>\n",
       "      <td>...</td>\n",
       "      <td>...</td>\n",
       "      <td>...</td>\n",
       "      <td>...</td>\n",
       "      <td>...</td>\n",
       "    </tr>\n",
       "    <tr>\n",
       "      <th>19985698</th>\n",
       "      <td>114240</td>\n",
       "      <td>Aladdin (1992)</td>\n",
       "      <td>Adventure|Animation|Children|Comedy|Fantasy</td>\n",
       "      <td>28195.0</td>\n",
       "      <td>4.0</td>\n",
       "      <td>2014-09-22 20:52:18</td>\n",
       "    </tr>\n",
       "    <tr>\n",
       "      <th>19985699</th>\n",
       "      <td>114240</td>\n",
       "      <td>Aladdin (1992)</td>\n",
       "      <td>Adventure|Animation|Children|Comedy|Fantasy</td>\n",
       "      <td>51334.0</td>\n",
       "      <td>3.0</td>\n",
       "      <td>2014-09-23 15:53:39</td>\n",
       "    </tr>\n",
       "    <tr>\n",
       "      <th>19985700</th>\n",
       "      <td>114240</td>\n",
       "      <td>Aladdin (1992)</td>\n",
       "      <td>Adventure|Animation|Children|Comedy|Fantasy</td>\n",
       "      <td>120575.0</td>\n",
       "      <td>2.5</td>\n",
       "      <td>2014-10-08 14:23:39</td>\n",
       "    </tr>\n",
       "    <tr>\n",
       "      <th>19985701</th>\n",
       "      <td>114240</td>\n",
       "      <td>Aladdin (1992)</td>\n",
       "      <td>Adventure|Animation|Children|Comedy|Fantasy</td>\n",
       "      <td>124998.0</td>\n",
       "      <td>2.5</td>\n",
       "      <td>2014-09-20 22:16:14</td>\n",
       "    </tr>\n",
       "    <tr>\n",
       "      <th>19985702</th>\n",
       "      <td>114240</td>\n",
       "      <td>Aladdin (1992)</td>\n",
       "      <td>Adventure|Animation|Children|Comedy|Fantasy</td>\n",
       "      <td>138177.0</td>\n",
       "      <td>4.0</td>\n",
       "      <td>2014-10-13 23:12:09</td>\n",
       "    </tr>\n",
       "  </tbody>\n",
       "</table>\n",
       "<p>17766015 rows × 6 columns</p>\n",
       "</div>"
      ],
      "text/plain": [
       "          movieId             title  \\\n",
       "0               1  Toy Story (1995)   \n",
       "1               1  Toy Story (1995)   \n",
       "2               1  Toy Story (1995)   \n",
       "3               1  Toy Story (1995)   \n",
       "4               1  Toy Story (1995)   \n",
       "...           ...               ...   \n",
       "19985698   114240    Aladdin (1992)   \n",
       "19985699   114240    Aladdin (1992)   \n",
       "19985700   114240    Aladdin (1992)   \n",
       "19985701   114240    Aladdin (1992)   \n",
       "19985702   114240    Aladdin (1992)   \n",
       "\n",
       "                                               genres    userId  rating  \\\n",
       "0         Adventure|Animation|Children|Comedy|Fantasy       3.0     4.0   \n",
       "1         Adventure|Animation|Children|Comedy|Fantasy       6.0     5.0   \n",
       "2         Adventure|Animation|Children|Comedy|Fantasy       8.0     4.0   \n",
       "3         Adventure|Animation|Children|Comedy|Fantasy      10.0     4.0   \n",
       "4         Adventure|Animation|Children|Comedy|Fantasy      11.0     4.5   \n",
       "...                                               ...       ...     ...   \n",
       "19985698  Adventure|Animation|Children|Comedy|Fantasy   28195.0     4.0   \n",
       "19985699  Adventure|Animation|Children|Comedy|Fantasy   51334.0     3.0   \n",
       "19985700  Adventure|Animation|Children|Comedy|Fantasy  120575.0     2.5   \n",
       "19985701  Adventure|Animation|Children|Comedy|Fantasy  124998.0     2.5   \n",
       "19985702  Adventure|Animation|Children|Comedy|Fantasy  138177.0     4.0   \n",
       "\n",
       "                    timestamp  \n",
       "0         1999-12-11 13:36:47  \n",
       "1         1997-03-13 17:50:52  \n",
       "2         1996-06-05 13:37:51  \n",
       "3         1999-11-25 02:44:47  \n",
       "4         2009-01-02 01:13:41  \n",
       "...                       ...  \n",
       "19985698  2014-09-22 20:52:18  \n",
       "19985699  2014-09-23 15:53:39  \n",
       "19985700  2014-10-08 14:23:39  \n",
       "19985701  2014-09-20 22:16:14  \n",
       "19985702  2014-10-13 23:12:09  \n",
       "\n",
       "[17766015 rows x 6 columns]"
      ]
     },
     "execution_count": 26,
     "metadata": {},
     "output_type": "execute_result"
    }
   ],
   "source": [
    "common_movies = df[~df['title'].isin(rare_movies)]\n",
    "common_movies"
   ]
  },
  {
   "cell_type": "code",
   "execution_count": 27,
   "id": "d85c1f15",
   "metadata": {},
   "outputs": [
    {
     "data": {
      "text/plain": [
       "3159"
      ]
     },
     "execution_count": 27,
     "metadata": {},
     "output_type": "execute_result"
    }
   ],
   "source": [
    "common_movies['title'].nunique()"
   ]
  },
  {
   "cell_type": "code",
   "execution_count": 28,
   "id": "54c168f1",
   "metadata": {},
   "outputs": [
    {
     "data": {
      "text/html": [
       "<div>\n",
       "<style scoped>\n",
       "    .dataframe tbody tr th:only-of-type {\n",
       "        vertical-align: middle;\n",
       "    }\n",
       "\n",
       "    .dataframe tbody tr th {\n",
       "        vertical-align: top;\n",
       "    }\n",
       "\n",
       "    .dataframe thead th {\n",
       "        text-align: right;\n",
       "    }\n",
       "</style>\n",
       "<table border=\"1\" class=\"dataframe\">\n",
       "  <thead>\n",
       "    <tr style=\"text-align: right;\">\n",
       "      <th></th>\n",
       "      <th>movieId</th>\n",
       "      <th>title</th>\n",
       "      <th>genres</th>\n",
       "      <th>userId</th>\n",
       "      <th>rating</th>\n",
       "      <th>timestamp</th>\n",
       "    </tr>\n",
       "  </thead>\n",
       "  <tbody>\n",
       "    <tr>\n",
       "      <th>0</th>\n",
       "      <td>1</td>\n",
       "      <td>Toy Story (1995)</td>\n",
       "      <td>Adventure|Animation|Children|Comedy|Fantasy</td>\n",
       "      <td>3.0</td>\n",
       "      <td>4.0</td>\n",
       "      <td>1999-12-11 13:36:47</td>\n",
       "    </tr>\n",
       "    <tr>\n",
       "      <th>1</th>\n",
       "      <td>1</td>\n",
       "      <td>Toy Story (1995)</td>\n",
       "      <td>Adventure|Animation|Children|Comedy|Fantasy</td>\n",
       "      <td>6.0</td>\n",
       "      <td>5.0</td>\n",
       "      <td>1997-03-13 17:50:52</td>\n",
       "    </tr>\n",
       "    <tr>\n",
       "      <th>2</th>\n",
       "      <td>1</td>\n",
       "      <td>Toy Story (1995)</td>\n",
       "      <td>Adventure|Animation|Children|Comedy|Fantasy</td>\n",
       "      <td>8.0</td>\n",
       "      <td>4.0</td>\n",
       "      <td>1996-06-05 13:37:51</td>\n",
       "    </tr>\n",
       "    <tr>\n",
       "      <th>3</th>\n",
       "      <td>1</td>\n",
       "      <td>Toy Story (1995)</td>\n",
       "      <td>Adventure|Animation|Children|Comedy|Fantasy</td>\n",
       "      <td>10.0</td>\n",
       "      <td>4.0</td>\n",
       "      <td>1999-11-25 02:44:47</td>\n",
       "    </tr>\n",
       "    <tr>\n",
       "      <th>4</th>\n",
       "      <td>1</td>\n",
       "      <td>Toy Story (1995)</td>\n",
       "      <td>Adventure|Animation|Children|Comedy|Fantasy</td>\n",
       "      <td>11.0</td>\n",
       "      <td>4.5</td>\n",
       "      <td>2009-01-02 01:13:41</td>\n",
       "    </tr>\n",
       "    <tr>\n",
       "      <th>...</th>\n",
       "      <td>...</td>\n",
       "      <td>...</td>\n",
       "      <td>...</td>\n",
       "      <td>...</td>\n",
       "      <td>...</td>\n",
       "      <td>...</td>\n",
       "    </tr>\n",
       "    <tr>\n",
       "      <th>19985698</th>\n",
       "      <td>114240</td>\n",
       "      <td>Aladdin (1992)</td>\n",
       "      <td>Adventure|Animation|Children|Comedy|Fantasy</td>\n",
       "      <td>28195.0</td>\n",
       "      <td>4.0</td>\n",
       "      <td>2014-09-22 20:52:18</td>\n",
       "    </tr>\n",
       "    <tr>\n",
       "      <th>19985699</th>\n",
       "      <td>114240</td>\n",
       "      <td>Aladdin (1992)</td>\n",
       "      <td>Adventure|Animation|Children|Comedy|Fantasy</td>\n",
       "      <td>51334.0</td>\n",
       "      <td>3.0</td>\n",
       "      <td>2014-09-23 15:53:39</td>\n",
       "    </tr>\n",
       "    <tr>\n",
       "      <th>19985700</th>\n",
       "      <td>114240</td>\n",
       "      <td>Aladdin (1992)</td>\n",
       "      <td>Adventure|Animation|Children|Comedy|Fantasy</td>\n",
       "      <td>120575.0</td>\n",
       "      <td>2.5</td>\n",
       "      <td>2014-10-08 14:23:39</td>\n",
       "    </tr>\n",
       "    <tr>\n",
       "      <th>19985701</th>\n",
       "      <td>114240</td>\n",
       "      <td>Aladdin (1992)</td>\n",
       "      <td>Adventure|Animation|Children|Comedy|Fantasy</td>\n",
       "      <td>124998.0</td>\n",
       "      <td>2.5</td>\n",
       "      <td>2014-09-20 22:16:14</td>\n",
       "    </tr>\n",
       "    <tr>\n",
       "      <th>19985702</th>\n",
       "      <td>114240</td>\n",
       "      <td>Aladdin (1992)</td>\n",
       "      <td>Adventure|Animation|Children|Comedy|Fantasy</td>\n",
       "      <td>138177.0</td>\n",
       "      <td>4.0</td>\n",
       "      <td>2014-10-13 23:12:09</td>\n",
       "    </tr>\n",
       "  </tbody>\n",
       "</table>\n",
       "<p>17766015 rows × 6 columns</p>\n",
       "</div>"
      ],
      "text/plain": [
       "          movieId             title  \\\n",
       "0               1  Toy Story (1995)   \n",
       "1               1  Toy Story (1995)   \n",
       "2               1  Toy Story (1995)   \n",
       "3               1  Toy Story (1995)   \n",
       "4               1  Toy Story (1995)   \n",
       "...           ...               ...   \n",
       "19985698   114240    Aladdin (1992)   \n",
       "19985699   114240    Aladdin (1992)   \n",
       "19985700   114240    Aladdin (1992)   \n",
       "19985701   114240    Aladdin (1992)   \n",
       "19985702   114240    Aladdin (1992)   \n",
       "\n",
       "                                               genres    userId  rating  \\\n",
       "0         Adventure|Animation|Children|Comedy|Fantasy       3.0     4.0   \n",
       "1         Adventure|Animation|Children|Comedy|Fantasy       6.0     5.0   \n",
       "2         Adventure|Animation|Children|Comedy|Fantasy       8.0     4.0   \n",
       "3         Adventure|Animation|Children|Comedy|Fantasy      10.0     4.0   \n",
       "4         Adventure|Animation|Children|Comedy|Fantasy      11.0     4.5   \n",
       "...                                               ...       ...     ...   \n",
       "19985698  Adventure|Animation|Children|Comedy|Fantasy   28195.0     4.0   \n",
       "19985699  Adventure|Animation|Children|Comedy|Fantasy   51334.0     3.0   \n",
       "19985700  Adventure|Animation|Children|Comedy|Fantasy  120575.0     2.5   \n",
       "19985701  Adventure|Animation|Children|Comedy|Fantasy  124998.0     2.5   \n",
       "19985702  Adventure|Animation|Children|Comedy|Fantasy  138177.0     4.0   \n",
       "\n",
       "                    timestamp  \n",
       "0         1999-12-11 13:36:47  \n",
       "1         1997-03-13 17:50:52  \n",
       "2         1996-06-05 13:37:51  \n",
       "3         1999-11-25 02:44:47  \n",
       "4         2009-01-02 01:13:41  \n",
       "...                       ...  \n",
       "19985698  2014-09-22 20:52:18  \n",
       "19985699  2014-09-23 15:53:39  \n",
       "19985700  2014-10-08 14:23:39  \n",
       "19985701  2014-09-20 22:16:14  \n",
       "19985702  2014-10-13 23:12:09  \n",
       "\n",
       "[17766015 rows x 6 columns]"
      ]
     },
     "execution_count": 28,
     "metadata": {},
     "output_type": "execute_result"
    }
   ],
   "source": [
    "common_movies"
   ]
  },
  {
   "cell_type": "code",
   "execution_count": 35,
   "id": "8b0e7d1e",
   "metadata": {},
   "outputs": [],
   "source": [
    "user_movie_df = common_movies.pivot_table(index='userId', columns='title', values='rating')"
   ]
  },
  {
   "cell_type": "code",
   "execution_count": 36,
   "id": "2b8e400e",
   "metadata": {},
   "outputs": [
    {
     "data": {
      "text/plain": [
       "(138493, 3159)"
      ]
     },
     "execution_count": 36,
     "metadata": {},
     "output_type": "execute_result"
    }
   ],
   "source": [
    "user_movie_df.shape"
   ]
  },
  {
   "cell_type": "code",
   "execution_count": 37,
   "id": "2fa2200c",
   "metadata": {
    "scrolled": true
   },
   "outputs": [
    {
     "data": {
      "text/html": [
       "<div>\n",
       "<style scoped>\n",
       "    .dataframe tbody tr th:only-of-type {\n",
       "        vertical-align: middle;\n",
       "    }\n",
       "\n",
       "    .dataframe tbody tr th {\n",
       "        vertical-align: top;\n",
       "    }\n",
       "\n",
       "    .dataframe thead th {\n",
       "        text-align: right;\n",
       "    }\n",
       "</style>\n",
       "<table border=\"1\" class=\"dataframe\">\n",
       "  <thead>\n",
       "    <tr style=\"text-align: right;\">\n",
       "      <th>title</th>\n",
       "      <th>'burbs, The (1989)</th>\n",
       "      <th>(500) Days of Summer (2009)</th>\n",
       "      <th>*batteries not included (1987)</th>\n",
       "      <th>...And Justice for All (1979)</th>\n",
       "      <th>10 Things I Hate About You (1999)</th>\n",
       "      <th>10,000 BC (2008)</th>\n",
       "      <th>101 Dalmatians (1996)</th>\n",
       "      <th>101 Dalmatians (One Hundred and One Dalmatians) (1961)</th>\n",
       "      <th>102 Dalmatians (2000)</th>\n",
       "      <th>12 Angry Men (1957)</th>\n",
       "      <th>...</th>\n",
       "      <th>Zero Dark Thirty (2012)</th>\n",
       "      <th>Zero Effect (1998)</th>\n",
       "      <th>Zodiac (2007)</th>\n",
       "      <th>Zombieland (2009)</th>\n",
       "      <th>Zoolander (2001)</th>\n",
       "      <th>Zulu (1964)</th>\n",
       "      <th>[REC] (2007)</th>\n",
       "      <th>eXistenZ (1999)</th>\n",
       "      <th>xXx (2002)</th>\n",
       "      <th>¡Three Amigos! (1986)</th>\n",
       "    </tr>\n",
       "    <tr>\n",
       "      <th>userId</th>\n",
       "      <th></th>\n",
       "      <th></th>\n",
       "      <th></th>\n",
       "      <th></th>\n",
       "      <th></th>\n",
       "      <th></th>\n",
       "      <th></th>\n",
       "      <th></th>\n",
       "      <th></th>\n",
       "      <th></th>\n",
       "      <th></th>\n",
       "      <th></th>\n",
       "      <th></th>\n",
       "      <th></th>\n",
       "      <th></th>\n",
       "      <th></th>\n",
       "      <th></th>\n",
       "      <th></th>\n",
       "      <th></th>\n",
       "      <th></th>\n",
       "      <th></th>\n",
       "    </tr>\n",
       "  </thead>\n",
       "  <tbody>\n",
       "    <tr>\n",
       "      <th>1.0</th>\n",
       "      <td>NaN</td>\n",
       "      <td>NaN</td>\n",
       "      <td>NaN</td>\n",
       "      <td>NaN</td>\n",
       "      <td>NaN</td>\n",
       "      <td>NaN</td>\n",
       "      <td>NaN</td>\n",
       "      <td>NaN</td>\n",
       "      <td>NaN</td>\n",
       "      <td>NaN</td>\n",
       "      <td>...</td>\n",
       "      <td>NaN</td>\n",
       "      <td>NaN</td>\n",
       "      <td>NaN</td>\n",
       "      <td>NaN</td>\n",
       "      <td>NaN</td>\n",
       "      <td>NaN</td>\n",
       "      <td>NaN</td>\n",
       "      <td>NaN</td>\n",
       "      <td>NaN</td>\n",
       "      <td>NaN</td>\n",
       "    </tr>\n",
       "    <tr>\n",
       "      <th>2.0</th>\n",
       "      <td>NaN</td>\n",
       "      <td>NaN</td>\n",
       "      <td>NaN</td>\n",
       "      <td>NaN</td>\n",
       "      <td>NaN</td>\n",
       "      <td>NaN</td>\n",
       "      <td>NaN</td>\n",
       "      <td>NaN</td>\n",
       "      <td>NaN</td>\n",
       "      <td>NaN</td>\n",
       "      <td>...</td>\n",
       "      <td>NaN</td>\n",
       "      <td>NaN</td>\n",
       "      <td>NaN</td>\n",
       "      <td>NaN</td>\n",
       "      <td>NaN</td>\n",
       "      <td>NaN</td>\n",
       "      <td>NaN</td>\n",
       "      <td>NaN</td>\n",
       "      <td>NaN</td>\n",
       "      <td>NaN</td>\n",
       "    </tr>\n",
       "    <tr>\n",
       "      <th>3.0</th>\n",
       "      <td>NaN</td>\n",
       "      <td>NaN</td>\n",
       "      <td>NaN</td>\n",
       "      <td>NaN</td>\n",
       "      <td>NaN</td>\n",
       "      <td>NaN</td>\n",
       "      <td>NaN</td>\n",
       "      <td>NaN</td>\n",
       "      <td>NaN</td>\n",
       "      <td>NaN</td>\n",
       "      <td>...</td>\n",
       "      <td>NaN</td>\n",
       "      <td>NaN</td>\n",
       "      <td>NaN</td>\n",
       "      <td>NaN</td>\n",
       "      <td>NaN</td>\n",
       "      <td>NaN</td>\n",
       "      <td>NaN</td>\n",
       "      <td>NaN</td>\n",
       "      <td>NaN</td>\n",
       "      <td>NaN</td>\n",
       "    </tr>\n",
       "    <tr>\n",
       "      <th>4.0</th>\n",
       "      <td>NaN</td>\n",
       "      <td>NaN</td>\n",
       "      <td>NaN</td>\n",
       "      <td>NaN</td>\n",
       "      <td>NaN</td>\n",
       "      <td>NaN</td>\n",
       "      <td>NaN</td>\n",
       "      <td>NaN</td>\n",
       "      <td>NaN</td>\n",
       "      <td>NaN</td>\n",
       "      <td>...</td>\n",
       "      <td>NaN</td>\n",
       "      <td>NaN</td>\n",
       "      <td>NaN</td>\n",
       "      <td>NaN</td>\n",
       "      <td>NaN</td>\n",
       "      <td>NaN</td>\n",
       "      <td>NaN</td>\n",
       "      <td>NaN</td>\n",
       "      <td>NaN</td>\n",
       "      <td>NaN</td>\n",
       "    </tr>\n",
       "    <tr>\n",
       "      <th>5.0</th>\n",
       "      <td>NaN</td>\n",
       "      <td>NaN</td>\n",
       "      <td>NaN</td>\n",
       "      <td>NaN</td>\n",
       "      <td>NaN</td>\n",
       "      <td>NaN</td>\n",
       "      <td>NaN</td>\n",
       "      <td>NaN</td>\n",
       "      <td>NaN</td>\n",
       "      <td>NaN</td>\n",
       "      <td>...</td>\n",
       "      <td>NaN</td>\n",
       "      <td>NaN</td>\n",
       "      <td>NaN</td>\n",
       "      <td>NaN</td>\n",
       "      <td>NaN</td>\n",
       "      <td>NaN</td>\n",
       "      <td>NaN</td>\n",
       "      <td>NaN</td>\n",
       "      <td>NaN</td>\n",
       "      <td>NaN</td>\n",
       "    </tr>\n",
       "  </tbody>\n",
       "</table>\n",
       "<p>5 rows × 3159 columns</p>\n",
       "</div>"
      ],
      "text/plain": [
       "title   'burbs, The (1989)  (500) Days of Summer (2009)  \\\n",
       "userId                                                    \n",
       "1.0                    NaN                          NaN   \n",
       "2.0                    NaN                          NaN   \n",
       "3.0                    NaN                          NaN   \n",
       "4.0                    NaN                          NaN   \n",
       "5.0                    NaN                          NaN   \n",
       "\n",
       "title   *batteries not included (1987)  ...And Justice for All (1979)  \\\n",
       "userId                                                                  \n",
       "1.0                                NaN                            NaN   \n",
       "2.0                                NaN                            NaN   \n",
       "3.0                                NaN                            NaN   \n",
       "4.0                                NaN                            NaN   \n",
       "5.0                                NaN                            NaN   \n",
       "\n",
       "title   10 Things I Hate About You (1999)  10,000 BC (2008)  \\\n",
       "userId                                                        \n",
       "1.0                                   NaN               NaN   \n",
       "2.0                                   NaN               NaN   \n",
       "3.0                                   NaN               NaN   \n",
       "4.0                                   NaN               NaN   \n",
       "5.0                                   NaN               NaN   \n",
       "\n",
       "title   101 Dalmatians (1996)  \\\n",
       "userId                          \n",
       "1.0                       NaN   \n",
       "2.0                       NaN   \n",
       "3.0                       NaN   \n",
       "4.0                       NaN   \n",
       "5.0                       NaN   \n",
       "\n",
       "title   101 Dalmatians (One Hundred and One Dalmatians) (1961)  \\\n",
       "userId                                                           \n",
       "1.0                                                   NaN        \n",
       "2.0                                                   NaN        \n",
       "3.0                                                   NaN        \n",
       "4.0                                                   NaN        \n",
       "5.0                                                   NaN        \n",
       "\n",
       "title   102 Dalmatians (2000)  12 Angry Men (1957)  ...  \\\n",
       "userId                                              ...   \n",
       "1.0                       NaN                  NaN  ...   \n",
       "2.0                       NaN                  NaN  ...   \n",
       "3.0                       NaN                  NaN  ...   \n",
       "4.0                       NaN                  NaN  ...   \n",
       "5.0                       NaN                  NaN  ...   \n",
       "\n",
       "title   Zero Dark Thirty (2012)  Zero Effect (1998)  Zodiac (2007)  \\\n",
       "userId                                                               \n",
       "1.0                         NaN                 NaN            NaN   \n",
       "2.0                         NaN                 NaN            NaN   \n",
       "3.0                         NaN                 NaN            NaN   \n",
       "4.0                         NaN                 NaN            NaN   \n",
       "5.0                         NaN                 NaN            NaN   \n",
       "\n",
       "title   Zombieland (2009)  Zoolander (2001)  Zulu (1964)  [REC] (2007)  \\\n",
       "userId                                                                   \n",
       "1.0                   NaN               NaN          NaN           NaN   \n",
       "2.0                   NaN               NaN          NaN           NaN   \n",
       "3.0                   NaN               NaN          NaN           NaN   \n",
       "4.0                   NaN               NaN          NaN           NaN   \n",
       "5.0                   NaN               NaN          NaN           NaN   \n",
       "\n",
       "title   eXistenZ (1999)  xXx (2002)  ¡Three Amigos! (1986)  \n",
       "userId                                                      \n",
       "1.0                 NaN         NaN                    NaN  \n",
       "2.0                 NaN         NaN                    NaN  \n",
       "3.0                 NaN         NaN                    NaN  \n",
       "4.0                 NaN         NaN                    NaN  \n",
       "5.0                 NaN         NaN                    NaN  \n",
       "\n",
       "[5 rows x 3159 columns]"
      ]
     },
     "execution_count": 37,
     "metadata": {},
     "output_type": "execute_result"
    }
   ],
   "source": [
    "user_movie_df.head()"
   ]
  },
  {
   "cell_type": "markdown",
   "id": "17671a95",
   "metadata": {},
   "source": [
    "### Step 3: Making Movie Recommendations"
   ]
  },
  {
   "cell_type": "code",
   "execution_count": 38,
   "id": "411f6ce9",
   "metadata": {},
   "outputs": [],
   "source": [
    "movie_name = 'Matrix, The (1999)'"
   ]
  },
  {
   "cell_type": "code",
   "execution_count": 39,
   "id": "b9d2d707",
   "metadata": {},
   "outputs": [],
   "source": [
    "movie_name = user_movie_df[movie_name]"
   ]
  },
  {
   "cell_type": "code",
   "execution_count": 40,
   "id": "3020e1ec",
   "metadata": {},
   "outputs": [
    {
     "data": {
      "text/plain": [
       "userId\n",
       "1.0         NaN\n",
       "2.0         NaN\n",
       "3.0         5.0\n",
       "4.0         NaN\n",
       "5.0         NaN\n",
       "           ... \n",
       "138489.0    4.0\n",
       "138490.0    NaN\n",
       "138491.0    NaN\n",
       "138492.0    5.0\n",
       "138493.0    4.5\n",
       "Name: Matrix, The (1999), Length: 138493, dtype: float64"
      ]
     },
     "execution_count": 40,
     "metadata": {},
     "output_type": "execute_result"
    }
   ],
   "source": [
    "movie_name"
   ]
  },
  {
   "cell_type": "code",
   "execution_count": 44,
   "id": "2718e0cf",
   "metadata": {},
   "outputs": [
    {
     "data": {
      "text/plain": [
       "title\n",
       "Matrix, The (1999)                                           1.000000\n",
       "Matrix Reloaded, The (2003)                                  0.516906\n",
       "Matrix Revolutions, The (2003)                               0.449588\n",
       "Animatrix, The (2003)                                        0.367151\n",
       "Blade (1998)                                                 0.334493\n",
       "Terminator 2: Judgment Day (1991)                            0.333882\n",
       "Minority Report (2002)                                       0.332434\n",
       "Edge of Tomorrow (2014)                                      0.326762\n",
       "Mission: Impossible (1996)                                   0.320815\n",
       "Lord of the Rings: The Fellowship of the Ring, The (2001)    0.318726\n",
       "dtype: float64"
      ]
     },
     "execution_count": 44,
     "metadata": {},
     "output_type": "execute_result"
    }
   ],
   "source": [
    "user_movie_df.corrwith(movie_name).sort_values(ascending=False).head(10)"
   ]
  },
  {
   "cell_type": "markdown",
   "id": "d376ca01",
   "metadata": {},
   "source": [
    "**Check film the all data**"
   ]
  },
  {
   "cell_type": "code",
   "execution_count": 45,
   "id": "81180166",
   "metadata": {},
   "outputs": [],
   "source": [
    "def check_film(keyword):\n",
    "    return [col for col in user_movie_df.columns if keyword in col]"
   ]
  },
  {
   "cell_type": "code",
   "execution_count": 46,
   "id": "b9a61380",
   "metadata": {},
   "outputs": [
    {
     "data": {
      "text/plain": [
       "['Sherlock Holmes (2009)',\n",
       " 'Sherlock Holmes: A Game of Shadows (2011)',\n",
       " 'Young Sherlock Holmes (1985)']"
      ]
     },
     "execution_count": 46,
     "metadata": {},
     "output_type": "execute_result"
    }
   ],
   "source": [
    "check_film('Sherlock')"
   ]
  },
  {
   "cell_type": "markdown",
   "id": "7a6228f7",
   "metadata": {},
   "source": [
    "### Step 3: Functionalize all steps"
   ]
  },
  {
   "cell_type": "code",
   "execution_count": 47,
   "id": "1e83fb93",
   "metadata": {},
   "outputs": [],
   "source": [
    "def create_user_movie_df():\n",
    "    \n",
    "    movie = pd.read_csv('movie.csv')\n",
    "    rating = pd.read_csv('rating.csv')\n",
    "    df = movie.merge(rating, on='movieId', how='left')\n",
    "    comment_rating = pd.DataFrame(df['title'].value_counts())\n",
    "    rare_movies = comment_rating[comment_rating['title'] <= 1000].index\n",
    "    common_movies = df[~df['title'].isin(rare_movies)]\n",
    "    user_movie_df = common_movies.pivot_table(index='userId', columns='title', values='rating')\n",
    "    \n",
    "    return user_movie_df    "
   ]
  },
  {
   "cell_type": "code",
   "execution_count": 50,
   "id": "04987d81",
   "metadata": {},
   "outputs": [],
   "source": [
    "def item_based_recommender(movie_name, user_movie_df):\n",
    "    \n",
    "    movie_name = user_movie_df[movie_name]\n",
    "    recommendations = user_movie_df.corrwith(movie_name).sort_values(ascending=False).head(10)\n",
    "    \n",
    "    return recommendations   "
   ]
  },
  {
   "cell_type": "code",
   "execution_count": 51,
   "id": "7d2d3567",
   "metadata": {},
   "outputs": [
    {
     "data": {
      "text/plain": [
       "title\n",
       "Blade (1998)                                  1.000000\n",
       "Blade II (2002)                               0.655421\n",
       "Blade: Trinity (2004)                         0.579932\n",
       "Underworld (2003)                             0.469069\n",
       "Underworld: Evolution (2006)                  0.464850\n",
       "Resident Evil: Apocalypse (2004)              0.462848\n",
       "Last Boy Scout, The (1991)                    0.459956\n",
       "Chronicles of Riddick, The (2004)             0.454267\n",
       "Spawn (1997)                                  0.444073\n",
       "Prince of Persia: The Sands of Time (2010)    0.441964\n",
       "dtype: float64"
      ]
     },
     "execution_count": 51,
     "metadata": {},
     "output_type": "execute_result"
    }
   ],
   "source": [
    "item_based_recommender('Blade (1998)', user_movie_df)"
   ]
  },
  {
   "cell_type": "code",
   "execution_count": 66,
   "id": "4616d4f5",
   "metadata": {},
   "outputs": [
    {
     "data": {
      "text/plain": [
       "'Natural, The (1984)'"
      ]
     },
     "execution_count": 66,
     "metadata": {},
     "output_type": "execute_result"
    }
   ],
   "source": [
    "movie = pd.Series(user_movie_df.columns).sample(1).values[0]\n",
    "movie"
   ]
  },
  {
   "cell_type": "code",
   "execution_count": 67,
   "id": "339cd2fc",
   "metadata": {},
   "outputs": [
    {
     "data": {
      "text/plain": [
       "title\n",
       "Natural, The (1984)                                1.000000\n",
       "[REC] (2007)                                       0.477953\n",
       "Field of Dreams (1989)                             0.459676\n",
       "Futurama: The Beast with a Billion Backs (2008)    0.451982\n",
       "Something Wicked This Way Comes (1983)             0.426661\n",
       "Hoosiers (a.k.a. Best Shot) (1986)                 0.408590\n",
       "King of Kong, The (2007)                           0.378868\n",
       "Man of the House (1995)                            0.376615\n",
       "Oblivion (2013)                                    0.371369\n",
       "Major League (1989)                                0.364148\n",
       "dtype: float64"
      ]
     },
     "execution_count": 67,
     "metadata": {},
     "output_type": "execute_result"
    }
   ],
   "source": [
    "item_based_recommender(movie, user_movie_df)"
   ]
  }
 ],
 "metadata": {
  "kernelspec": {
   "display_name": "Python 3 (ipykernel)",
   "language": "python",
   "name": "python3"
  },
  "language_info": {
   "codemirror_mode": {
    "name": "ipython",
    "version": 3
   },
   "file_extension": ".py",
   "mimetype": "text/x-python",
   "name": "python",
   "nbconvert_exporter": "python",
   "pygments_lexer": "ipython3",
   "version": "3.9.13"
  }
 },
 "nbformat": 4,
 "nbformat_minor": 5
}
