{
 "cells": [
  {
   "cell_type": "markdown",
   "id": "d30e5862",
   "metadata": {},
   "source": [
    "# AB Testing / Titanic Datasets"
   ]
  },
  {
   "cell_type": "markdown",
   "id": "5305bf14",
   "metadata": {},
   "source": [
    "AB Testing Steps:\n",
    "\n",
    "* 1- Create a hypothesis\n",
    "* 2- Assumptions check\n",
    "  * Assumption 1: Distributions are normal for each variable\n",
    "  * Assumption 2: Variances are homogeneus\n",
    "* 3- Apply the hypothesis and control p value. If p value is less than 0.05 we can reject the HO if not we can accept HO. \n",
    " * a) If the assumptions are correct use the independent samples t-test (parametric test, t test)\n",
    " * b) If the assumptions are not correct use the mannehitneyu test (non-parametric test, mannwhitneyu)\n",
    " \n",
    "**Note**: If assumption 1 is not correct we can use directly non-parametric test (option b). If assumption 1 is correct but assumption 2 is not, we can use the parametric test and add that variances are not homogeneus as a argument.\n",
    "\n",
    "___"
   ]
  },
  {
   "cell_type": "markdown",
   "id": "72f33f74",
   "metadata": {},
   "source": [
    "**Import libraries and create dataframe called df**"
   ]
  },
  {
   "cell_type": "code",
   "execution_count": 2,
   "id": "b4df21c5",
   "metadata": {},
   "outputs": [],
   "source": [
    "import numpy as np\n",
    "import pandas as pd\n",
    "import matplotlib.pyplot as plt\n",
    "import seaborn as sns\n",
    "import statsmodels.stats.api as sms\n",
    "from scipy.stats import ttest_1samp, shapiro, levene, ttest_ind, mannwhitneyu, \\\n",
    "pearsonr, spearmanr, kendalltau, f_oneway, kruskal\n",
    "\n",
    "pd.set_option('display.max_columns', None)\n",
    "pd.set_option('display.max_row', 10)\n",
    "pd.set_option('display.float_format', lambda x: '%.5f' % x)\n",
    "\n",
    "df = sns.load_dataset('titanic')"
   ]
  },
  {
   "cell_type": "markdown",
   "id": "96cf9576",
   "metadata": {},
   "source": [
    "### Problem: Is there a statistical difference between the average age of men and women on the Titanic ship?"
   ]
  },
  {
   "cell_type": "markdown",
   "id": "2fd3c70c",
   "metadata": {},
   "source": [
    "**Step 1: Create hypothesis and check the average age of women and men**\n",
    "\n",
    "Hypothesis (H0): There is no statistical difference between the average age of men and women on the Titanic ship.\n",
    "\n",
    "u1 = Average age women<br>\n",
    "u2 = Average age men\n",
    "\n",
    "HO: u1 = u2<br>\n",
    "H1: u1 != u2"
   ]
  },
  {
   "cell_type": "code",
   "execution_count": 3,
   "id": "93a969ad",
   "metadata": {},
   "outputs": [
    {
     "data": {
      "text/html": [
       "<div>\n",
       "<style scoped>\n",
       "    .dataframe tbody tr th:only-of-type {\n",
       "        vertical-align: middle;\n",
       "    }\n",
       "\n",
       "    .dataframe tbody tr th {\n",
       "        vertical-align: top;\n",
       "    }\n",
       "\n",
       "    .dataframe thead th {\n",
       "        text-align: right;\n",
       "    }\n",
       "</style>\n",
       "<table border=\"1\" class=\"dataframe\">\n",
       "  <thead>\n",
       "    <tr style=\"text-align: right;\">\n",
       "      <th></th>\n",
       "      <th>survived</th>\n",
       "      <th>pclass</th>\n",
       "      <th>sex</th>\n",
       "      <th>age</th>\n",
       "      <th>sibsp</th>\n",
       "      <th>parch</th>\n",
       "      <th>fare</th>\n",
       "      <th>embarked</th>\n",
       "      <th>class</th>\n",
       "      <th>who</th>\n",
       "      <th>adult_male</th>\n",
       "      <th>deck</th>\n",
       "      <th>embark_town</th>\n",
       "      <th>alive</th>\n",
       "      <th>alone</th>\n",
       "    </tr>\n",
       "  </thead>\n",
       "  <tbody>\n",
       "    <tr>\n",
       "      <th>0</th>\n",
       "      <td>0</td>\n",
       "      <td>3</td>\n",
       "      <td>male</td>\n",
       "      <td>22.00000</td>\n",
       "      <td>1</td>\n",
       "      <td>0</td>\n",
       "      <td>7.25000</td>\n",
       "      <td>S</td>\n",
       "      <td>Third</td>\n",
       "      <td>man</td>\n",
       "      <td>True</td>\n",
       "      <td>NaN</td>\n",
       "      <td>Southampton</td>\n",
       "      <td>no</td>\n",
       "      <td>False</td>\n",
       "    </tr>\n",
       "    <tr>\n",
       "      <th>1</th>\n",
       "      <td>1</td>\n",
       "      <td>1</td>\n",
       "      <td>female</td>\n",
       "      <td>38.00000</td>\n",
       "      <td>1</td>\n",
       "      <td>0</td>\n",
       "      <td>71.28330</td>\n",
       "      <td>C</td>\n",
       "      <td>First</td>\n",
       "      <td>woman</td>\n",
       "      <td>False</td>\n",
       "      <td>C</td>\n",
       "      <td>Cherbourg</td>\n",
       "      <td>yes</td>\n",
       "      <td>False</td>\n",
       "    </tr>\n",
       "    <tr>\n",
       "      <th>2</th>\n",
       "      <td>1</td>\n",
       "      <td>3</td>\n",
       "      <td>female</td>\n",
       "      <td>26.00000</td>\n",
       "      <td>0</td>\n",
       "      <td>0</td>\n",
       "      <td>7.92500</td>\n",
       "      <td>S</td>\n",
       "      <td>Third</td>\n",
       "      <td>woman</td>\n",
       "      <td>False</td>\n",
       "      <td>NaN</td>\n",
       "      <td>Southampton</td>\n",
       "      <td>yes</td>\n",
       "      <td>True</td>\n",
       "    </tr>\n",
       "    <tr>\n",
       "      <th>3</th>\n",
       "      <td>1</td>\n",
       "      <td>1</td>\n",
       "      <td>female</td>\n",
       "      <td>35.00000</td>\n",
       "      <td>1</td>\n",
       "      <td>0</td>\n",
       "      <td>53.10000</td>\n",
       "      <td>S</td>\n",
       "      <td>First</td>\n",
       "      <td>woman</td>\n",
       "      <td>False</td>\n",
       "      <td>C</td>\n",
       "      <td>Southampton</td>\n",
       "      <td>yes</td>\n",
       "      <td>False</td>\n",
       "    </tr>\n",
       "    <tr>\n",
       "      <th>4</th>\n",
       "      <td>0</td>\n",
       "      <td>3</td>\n",
       "      <td>male</td>\n",
       "      <td>35.00000</td>\n",
       "      <td>0</td>\n",
       "      <td>0</td>\n",
       "      <td>8.05000</td>\n",
       "      <td>S</td>\n",
       "      <td>Third</td>\n",
       "      <td>man</td>\n",
       "      <td>True</td>\n",
       "      <td>NaN</td>\n",
       "      <td>Southampton</td>\n",
       "      <td>no</td>\n",
       "      <td>True</td>\n",
       "    </tr>\n",
       "  </tbody>\n",
       "</table>\n",
       "</div>"
      ],
      "text/plain": [
       "   survived  pclass     sex      age  sibsp  parch     fare embarked  class  \\\n",
       "0         0       3    male 22.00000      1      0  7.25000        S  Third   \n",
       "1         1       1  female 38.00000      1      0 71.28330        C  First   \n",
       "2         1       3  female 26.00000      0      0  7.92500        S  Third   \n",
       "3         1       1  female 35.00000      1      0 53.10000        S  First   \n",
       "4         0       3    male 35.00000      0      0  8.05000        S  Third   \n",
       "\n",
       "     who  adult_male deck  embark_town alive  alone  \n",
       "0    man        True  NaN  Southampton    no  False  \n",
       "1  woman       False    C    Cherbourg   yes  False  \n",
       "2  woman       False  NaN  Southampton   yes   True  \n",
       "3  woman       False    C  Southampton   yes  False  \n",
       "4    man        True  NaN  Southampton    no   True  "
      ]
     },
     "execution_count": 3,
     "metadata": {},
     "output_type": "execute_result"
    }
   ],
   "source": [
    "df.head()"
   ]
  },
  {
   "cell_type": "code",
   "execution_count": 5,
   "id": "9846b613",
   "metadata": {},
   "outputs": [
    {
     "data": {
      "text/html": [
       "<div>\n",
       "<style scoped>\n",
       "    .dataframe tbody tr th:only-of-type {\n",
       "        vertical-align: middle;\n",
       "    }\n",
       "\n",
       "    .dataframe tbody tr th {\n",
       "        vertical-align: top;\n",
       "    }\n",
       "\n",
       "    .dataframe thead th {\n",
       "        text-align: right;\n",
       "    }\n",
       "</style>\n",
       "<table border=\"1\" class=\"dataframe\">\n",
       "  <thead>\n",
       "    <tr style=\"text-align: right;\">\n",
       "      <th></th>\n",
       "      <th>age</th>\n",
       "    </tr>\n",
       "    <tr>\n",
       "      <th>sex</th>\n",
       "      <th></th>\n",
       "    </tr>\n",
       "  </thead>\n",
       "  <tbody>\n",
       "    <tr>\n",
       "      <th>female</th>\n",
       "      <td>27.91571</td>\n",
       "    </tr>\n",
       "    <tr>\n",
       "      <th>male</th>\n",
       "      <td>30.72664</td>\n",
       "    </tr>\n",
       "  </tbody>\n",
       "</table>\n",
       "</div>"
      ],
      "text/plain": [
       "            age\n",
       "sex            \n",
       "female 27.91571\n",
       "male   30.72664"
      ]
     },
     "execution_count": 5,
     "metadata": {},
     "output_type": "execute_result"
    }
   ],
   "source": [
    "df.groupby('sex').agg({'age': 'mean'})"
   ]
  },
  {
   "cell_type": "markdown",
   "id": "553be572",
   "metadata": {},
   "source": [
    "**Step 2: Assumption Check**\n",
    "\n",
    "Assumption 1: Distributions are normal for each variable (Use shapiro test for normal distribution)<br>\n",
    "Assumption 2: Variances are homogeneus (Use levene test for normal distribution)<br>"
   ]
  },
  {
   "cell_type": "markdown",
   "id": "37147c43",
   "metadata": {},
   "source": [
    "Assumption 1:\n",
    "\n",
    "H0: Distribution is normal. <br>\n",
    "H1: Distrubution is not mormal."
   ]
  },
  {
   "cell_type": "code",
   "execution_count": 12,
   "id": "8154b0dc",
   "metadata": {},
   "outputs": [
    {
     "name": "stdout",
     "output_type": "stream",
     "text": [
      "Test statistic: 0.98479\n",
      "p value: 0.00705\n"
     ]
    }
   ],
   "source": [
    "test_stat, p_value = shapiro(df.loc[df['sex'] == 'female', 'age'].dropna())\n",
    "print('Test statistic: %.5f\\np value: %.5f' % (test_stat, p_value))"
   ]
  },
  {
   "cell_type": "markdown",
   "id": "c79f1e46",
   "metadata": {},
   "source": [
    "P value is less than 0.05 so we reject the H0 hypothesis, which is distribution is normal for women age."
   ]
  },
  {
   "cell_type": "code",
   "execution_count": 18,
   "id": "e5651117",
   "metadata": {},
   "outputs": [
    {
     "name": "stdout",
     "output_type": "stream",
     "text": [
      "Test statistic: 0.97473\n",
      "p value: 0.00000\n"
     ]
    }
   ],
   "source": [
    "test_stat, p_value = shapiro(df.loc[df['sex'] == 'male', 'age'].dropna())\n",
    "print('Test statistic: %.5f\\np value: %.5f' % (test_stat, p_value))"
   ]
  },
  {
   "cell_type": "markdown",
   "id": "383f7cc4",
   "metadata": {},
   "source": [
    "P value is less than 0.05 so we reject the H0 hypothesis, which is distribution is normal for men age. Both distributions are not normal that's why we can directly go to the non-parametric solution but let's check the second assumption. "
   ]
  },
  {
   "cell_type": "markdown",
   "id": "47689258",
   "metadata": {},
   "source": [
    "Assumption 2:\n",
    "\n",
    "H0: Variances are homogeneous. <br>\n",
    "H1: Variances are not homogeneous."
   ]
  },
  {
   "cell_type": "code",
   "execution_count": 21,
   "id": "a6d18abb",
   "metadata": {},
   "outputs": [
    {
     "name": "stdout",
     "output_type": "stream",
     "text": [
      "Test statistic: 0.00130\n",
      "p value: 0.97121\n"
     ]
    }
   ],
   "source": [
    "test_stat, p_value = levene(df.loc[df['sex'] == 'female', 'age'].dropna(),\n",
    "                           df.loc[df['sex'] == 'male', 'age'].dropna())\n",
    "print('Test statistic: %.5f\\np value: %.5f' % (test_stat, p_value))"
   ]
  },
  {
   "cell_type": "markdown",
   "id": "1ae51ee0",
   "metadata": {},
   "source": [
    "P value is greater than 0.05 so we accept the H0 hypothesis, which is variances are homogeneous."
   ]
  },
  {
   "cell_type": "markdown",
   "id": "47e20941",
   "metadata": {},
   "source": [
    "**Step 3: Apply Hypothesis**\n",
    "\n",
    "Non parametric solution: mannwhitneyu"
   ]
  },
  {
   "cell_type": "code",
   "execution_count": 24,
   "id": "e408ed48",
   "metadata": {},
   "outputs": [
    {
     "name": "stdout",
     "output_type": "stream",
     "text": [
      "Test statistic: 53212.50000\n",
      "p value: 0.02609\n"
     ]
    }
   ],
   "source": [
    "test_stat, p_value = mannwhitneyu(df.loc[df['sex'] == 'female', 'age'].dropna(),\n",
    "                           df.loc[df['sex'] == 'male', 'age'].dropna())\n",
    "print('Test statistic: %.5f\\np value: %.5f' % (test_stat, p_value))"
   ]
  },
  {
   "cell_type": "markdown",
   "id": "a225e3a9",
   "metadata": {},
   "source": [
    "Because of the p value is less than 0.05 we reject the H0 hypothesis. So we can say that there is a statistical difference between them and it is not random."
   ]
  }
 ],
 "metadata": {
  "kernelspec": {
   "display_name": "Python 3 (ipykernel)",
   "language": "python",
   "name": "python3"
  },
  "language_info": {
   "codemirror_mode": {
    "name": "ipython",
    "version": 3
   },
   "file_extension": ".py",
   "mimetype": "text/x-python",
   "name": "python",
   "nbconvert_exporter": "python",
   "pygments_lexer": "ipython3",
   "version": "3.9.7"
  }
 },
 "nbformat": 4,
 "nbformat_minor": 5
}
