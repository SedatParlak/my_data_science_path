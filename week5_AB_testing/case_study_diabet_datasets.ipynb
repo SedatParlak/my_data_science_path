{
 "cells": [
  {
   "cell_type": "markdown",
   "id": "d30e5862",
   "metadata": {},
   "source": [
    "# AB Testing / Diabetes Datasets"
   ]
  },
  {
   "cell_type": "markdown",
   "id": "5305bf14",
   "metadata": {},
   "source": [
    "AB Testing Steps:\n",
    "\n",
    "* 1- Create a hypothesis\n",
    "* 2- Assumptions check\n",
    "  * Assumption 1: Distributions are normal for each variable\n",
    "  * Assumption 2: Variances are homogeneus\n",
    "* 3- Apply the hypothesis and control p value. If p value is less than 0.05 we can reject the HO if not we can accept HO. \n",
    " * a) If the assumptions are correct use the independent samples t-test (parametric test, t test)\n",
    " * b) If the assumptions are not correct use the mannehitneyu test (non-parametric test, mannwhitneyu)\n",
    " \n",
    "**Note**: If assumption 1 is not correct we can use directly non-parametric test (option b). If assumption 1 is correct but assumption 2 is not, we can use the parametric test and add that variances are not homogeneus as a argument.\n",
    "\n",
    "___"
   ]
  },
  {
   "cell_type": "markdown",
   "id": "72f33f74",
   "metadata": {},
   "source": [
    "**Import libraries and create dataframe called df**"
   ]
  },
  {
   "cell_type": "code",
   "execution_count": 5,
   "id": "b4df21c5",
   "metadata": {},
   "outputs": [],
   "source": [
    "import numpy as np\n",
    "import pandas as pd\n",
    "import matplotlib.pyplot as plt\n",
    "import seaborn as sns\n",
    "import statsmodels.stats.api as sms\n",
    "from scipy.stats import ttest_1samp, shapiro, levene, ttest_ind, mannwhitneyu, \\\n",
    "pearsonr, spearmanr, kendalltau, f_oneway, kruskal\n",
    "\n",
    "pd.set_option('display.max_columns', None)\n",
    "pd.set_option('display.max_row', 10)\n",
    "pd.set_option('display.float_format', lambda x: '%.5f' % x)\n",
    "\n",
    "df = pd.read_csv('diabetes.csv')"
   ]
  },
  {
   "cell_type": "markdown",
   "id": "96cf9576",
   "metadata": {},
   "source": [
    "### Problem: Is there a statistical difference between the average age of diabetic and not diabetic ?"
   ]
  },
  {
   "cell_type": "markdown",
   "id": "2fd3c70c",
   "metadata": {},
   "source": [
    "**Step 1: Create hypothesis and check the average age of diabetic and not diabetic**\n",
    "\n",
    "Hypothesis (H0): There is no statistical difference between the average age of diabetic and not diabetic.\n",
    "\n",
    "u1 = Average age diabetic<br>\n",
    "u2 = Average age not diabetic\n",
    "\n",
    "HO: u1 = u2<br>\n",
    "H1: u1 != u2"
   ]
  },
  {
   "cell_type": "code",
   "execution_count": 9,
   "id": "93a969ad",
   "metadata": {},
   "outputs": [
    {
     "data": {
      "text/html": [
       "<div>\n",
       "<style scoped>\n",
       "    .dataframe tbody tr th:only-of-type {\n",
       "        vertical-align: middle;\n",
       "    }\n",
       "\n",
       "    .dataframe tbody tr th {\n",
       "        vertical-align: top;\n",
       "    }\n",
       "\n",
       "    .dataframe thead th {\n",
       "        text-align: right;\n",
       "    }\n",
       "</style>\n",
       "<table border=\"1\" class=\"dataframe\">\n",
       "  <thead>\n",
       "    <tr style=\"text-align: right;\">\n",
       "      <th></th>\n",
       "      <th>Pregnancies</th>\n",
       "      <th>Glucose</th>\n",
       "      <th>BloodPressure</th>\n",
       "      <th>SkinThickness</th>\n",
       "      <th>Insulin</th>\n",
       "      <th>BMI</th>\n",
       "      <th>DiabetesPedigreeFunction</th>\n",
       "      <th>Age</th>\n",
       "      <th>Outcome</th>\n",
       "    </tr>\n",
       "  </thead>\n",
       "  <tbody>\n",
       "    <tr>\n",
       "      <th>0</th>\n",
       "      <td>6</td>\n",
       "      <td>148</td>\n",
       "      <td>72</td>\n",
       "      <td>35</td>\n",
       "      <td>0</td>\n",
       "      <td>33.60000</td>\n",
       "      <td>0.62700</td>\n",
       "      <td>50</td>\n",
       "      <td>1</td>\n",
       "    </tr>\n",
       "    <tr>\n",
       "      <th>1</th>\n",
       "      <td>1</td>\n",
       "      <td>85</td>\n",
       "      <td>66</td>\n",
       "      <td>29</td>\n",
       "      <td>0</td>\n",
       "      <td>26.60000</td>\n",
       "      <td>0.35100</td>\n",
       "      <td>31</td>\n",
       "      <td>0</td>\n",
       "    </tr>\n",
       "    <tr>\n",
       "      <th>2</th>\n",
       "      <td>8</td>\n",
       "      <td>183</td>\n",
       "      <td>64</td>\n",
       "      <td>0</td>\n",
       "      <td>0</td>\n",
       "      <td>23.30000</td>\n",
       "      <td>0.67200</td>\n",
       "      <td>32</td>\n",
       "      <td>1</td>\n",
       "    </tr>\n",
       "    <tr>\n",
       "      <th>3</th>\n",
       "      <td>1</td>\n",
       "      <td>89</td>\n",
       "      <td>66</td>\n",
       "      <td>23</td>\n",
       "      <td>94</td>\n",
       "      <td>28.10000</td>\n",
       "      <td>0.16700</td>\n",
       "      <td>21</td>\n",
       "      <td>0</td>\n",
       "    </tr>\n",
       "    <tr>\n",
       "      <th>4</th>\n",
       "      <td>0</td>\n",
       "      <td>137</td>\n",
       "      <td>40</td>\n",
       "      <td>35</td>\n",
       "      <td>168</td>\n",
       "      <td>43.10000</td>\n",
       "      <td>2.28800</td>\n",
       "      <td>33</td>\n",
       "      <td>1</td>\n",
       "    </tr>\n",
       "  </tbody>\n",
       "</table>\n",
       "</div>"
      ],
      "text/plain": [
       "   Pregnancies  Glucose  BloodPressure  SkinThickness  Insulin      BMI  \\\n",
       "0            6      148             72             35        0 33.60000   \n",
       "1            1       85             66             29        0 26.60000   \n",
       "2            8      183             64              0        0 23.30000   \n",
       "3            1       89             66             23       94 28.10000   \n",
       "4            0      137             40             35      168 43.10000   \n",
       "\n",
       "   DiabetesPedigreeFunction  Age  Outcome  \n",
       "0                   0.62700   50        1  \n",
       "1                   0.35100   31        0  \n",
       "2                   0.67200   32        1  \n",
       "3                   0.16700   21        0  \n",
       "4                   2.28800   33        1  "
      ]
     },
     "execution_count": 9,
     "metadata": {},
     "output_type": "execute_result"
    }
   ],
   "source": [
    "df.head()"
   ]
  },
  {
   "cell_type": "markdown",
   "id": "f22eb076",
   "metadata": {},
   "source": [
    "Outcome = 1 : diabetic\n",
    "Outcome = 0 : not diabetic"
   ]
  },
  {
   "cell_type": "code",
   "execution_count": 10,
   "id": "9846b613",
   "metadata": {},
   "outputs": [
    {
     "data": {
      "text/html": [
       "<div>\n",
       "<style scoped>\n",
       "    .dataframe tbody tr th:only-of-type {\n",
       "        vertical-align: middle;\n",
       "    }\n",
       "\n",
       "    .dataframe tbody tr th {\n",
       "        vertical-align: top;\n",
       "    }\n",
       "\n",
       "    .dataframe thead th {\n",
       "        text-align: right;\n",
       "    }\n",
       "</style>\n",
       "<table border=\"1\" class=\"dataframe\">\n",
       "  <thead>\n",
       "    <tr style=\"text-align: right;\">\n",
       "      <th></th>\n",
       "      <th>Age</th>\n",
       "    </tr>\n",
       "    <tr>\n",
       "      <th>Outcome</th>\n",
       "      <th></th>\n",
       "    </tr>\n",
       "  </thead>\n",
       "  <tbody>\n",
       "    <tr>\n",
       "      <th>0</th>\n",
       "      <td>31.19000</td>\n",
       "    </tr>\n",
       "    <tr>\n",
       "      <th>1</th>\n",
       "      <td>37.06716</td>\n",
       "    </tr>\n",
       "  </tbody>\n",
       "</table>\n",
       "</div>"
      ],
      "text/plain": [
       "             Age\n",
       "Outcome         \n",
       "0       31.19000\n",
       "1       37.06716"
      ]
     },
     "execution_count": 10,
     "metadata": {},
     "output_type": "execute_result"
    }
   ],
   "source": [
    "df.groupby('Outcome').agg({'Age': 'mean'})"
   ]
  },
  {
   "cell_type": "markdown",
   "id": "553be572",
   "metadata": {},
   "source": [
    "**Step 2: Assumption Check**\n",
    "\n",
    "Assumption 1: Distributions are normal for each variable (Use shapiro test for normal distribution)<br>\n",
    "Assumption 2: Variances are homogeneus (Use levene test for normal distribution)<br>"
   ]
  },
  {
   "cell_type": "markdown",
   "id": "37147c43",
   "metadata": {},
   "source": [
    "Assumption 1:\n",
    "\n",
    "H0: Distribution is normal. <br>\n",
    "H1: Distrubution is not mormal."
   ]
  },
  {
   "cell_type": "code",
   "execution_count": 21,
   "id": "8154b0dc",
   "metadata": {},
   "outputs": [
    {
     "name": "stdout",
     "output_type": "stream",
     "text": [
      "Test statistic: 0.95457\n",
      "p value: 0.00000\n"
     ]
    }
   ],
   "source": [
    "test_stat, p_value = shapiro(df.loc[df['Outcome'] == 1, 'Age'])\n",
    "print('Test statistic: %.5f\\np value: %.5f' % (test_stat, p_value))"
   ]
  },
  {
   "cell_type": "markdown",
   "id": "c79f1e46",
   "metadata": {},
   "source": [
    "P value is less than 0.05 so we reject the H0 hypothesis, which is distribution is normal for diabetics."
   ]
  },
  {
   "cell_type": "code",
   "execution_count": 22,
   "id": "e5651117",
   "metadata": {},
   "outputs": [
    {
     "name": "stdout",
     "output_type": "stream",
     "text": [
      "Test statistic: 0.80117\n",
      "p value: 0.00000\n"
     ]
    }
   ],
   "source": [
    "test_stat, p_value = shapiro(df.loc[df['Outcome'] == 0, 'Age'])\n",
    "print('Test statistic: %.5f\\np value: %.5f' % (test_stat, p_value))"
   ]
  },
  {
   "cell_type": "markdown",
   "id": "383f7cc4",
   "metadata": {},
   "source": [
    "P value is less than 0.05 so we reject the H0 hypothesis, which is distribution is normal for not diabetics. Both distributions are not normal that's why we can directly go to the non-parametric solution but let's check the second assumption. "
   ]
  },
  {
   "cell_type": "markdown",
   "id": "47689258",
   "metadata": {},
   "source": [
    "Assumption 2:\n",
    "\n",
    "H0: Variances are homogeneous. <br>\n",
    "H1: Variances are not homogeneous."
   ]
  },
  {
   "cell_type": "code",
   "execution_count": 14,
   "id": "a6d18abb",
   "metadata": {},
   "outputs": [
    {
     "name": "stdout",
     "output_type": "stream",
     "text": [
      "Test statistic: 2.22521\n",
      "p value: 0.13619\n"
     ]
    }
   ],
   "source": [
    "test_stat, p_value = levene(df.loc[df['Outcome'] == 1, 'Age'],\n",
    "                           df.loc[df['Outcome'] == 0, 'Age'])\n",
    "print('Test statistic: %.5f\\np value: %.5f' % (test_stat, p_value))"
   ]
  },
  {
   "cell_type": "markdown",
   "id": "1ae51ee0",
   "metadata": {},
   "source": [
    "P value is greater than 0.05 so we accept the H0 hypothesis, which is variances are homogeneous."
   ]
  },
  {
   "cell_type": "markdown",
   "id": "47e20941",
   "metadata": {},
   "source": [
    "**Step 3: Apply Hypothesis**\n",
    "\n",
    "Non parametric solution: mannwhitneyu"
   ]
  },
  {
   "cell_type": "code",
   "execution_count": 15,
   "id": "e408ed48",
   "metadata": {},
   "outputs": [
    {
     "name": "stdout",
     "output_type": "stream",
     "text": [
      "Test statistic: 92050.00000\n",
      "p value: 0.00000\n"
     ]
    }
   ],
   "source": [
    "test_stat, p_value = mannwhitneyu(df.loc[df['Outcome'] == 1, 'Age'],\n",
    "                           df.loc[df['Outcome'] == 0, 'Age'])\n",
    "print('Test statistic: %.5f\\np value: %.5f' % (test_stat, p_value))"
   ]
  },
  {
   "cell_type": "markdown",
   "id": "a225e3a9",
   "metadata": {},
   "source": [
    "P value is less than 0.05 it is mean that we reject the H0 hypothesis. So we can say that there is a statistical difference between the diabetics and not diabetics, and it is not random."
   ]
  }
 ],
 "metadata": {
  "kernelspec": {
   "display_name": "Python 3 (ipykernel)",
   "language": "python",
   "name": "python3"
  },
  "language_info": {
   "codemirror_mode": {
    "name": "ipython",
    "version": 3
   },
   "file_extension": ".py",
   "mimetype": "text/x-python",
   "name": "python",
   "nbconvert_exporter": "python",
   "pygments_lexer": "ipython3",
   "version": "3.9.7"
  }
 },
 "nbformat": 4,
 "nbformat_minor": 5
}
