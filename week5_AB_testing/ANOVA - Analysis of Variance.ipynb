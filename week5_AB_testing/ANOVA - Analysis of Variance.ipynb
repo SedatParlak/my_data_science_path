{
 "cells": [
  {
   "cell_type": "markdown",
   "id": "6fc626ac",
   "metadata": {},
   "source": [
    "# ANOVA - Analysis of Variance"
   ]
  },
  {
   "cell_type": "markdown",
   "id": "8814aad4",
   "metadata": {},
   "source": [
    "Analysis of variance (ANOVA) is a tool to compare the means of several populations, based on random, independent samples from each population. It provides a statistical test to determine if population means are equal or not (i.e. came from the same distribution). ANOVA is a parametric test that assumes a normal distribution of values (null hypothesis)."
   ]
  },
  {
   "cell_type": "markdown",
   "id": "c269bedf",
   "metadata": {},
   "source": [
    "## Case Study"
   ]
  },
  {
   "cell_type": "markdown",
   "id": "d1336036",
   "metadata": {},
   "source": [
    "Problem: Is there any difference in weekdays about total bill ?"
   ]
  },
  {
   "cell_type": "markdown",
   "id": "7ac1bc57",
   "metadata": {},
   "source": [
    "**Import Libraries**"
   ]
  },
  {
   "cell_type": "code",
   "execution_count": 1,
   "id": "f50776c4",
   "metadata": {},
   "outputs": [],
   "source": [
    "import numpy as np\n",
    "import pandas as pd\n",
    "import matplotlib.pyplot as plt\n",
    "import seaborn as sns\n",
    "import statsmodels.stats.api as sms\n",
    "from scipy.stats import ttest_1samp, shapiro, levene, ttest_ind, mannwhitneyu, \\\n",
    "pearsonr, spearmanr, kendalltau, f_oneway, kruskal\n",
    "\n",
    "pd.set_option('display.max_columns', None)\n",
    "pd.set_option('display.max_row', 10)\n",
    "pd.set_option('display.float_format', lambda x: '%.5f' % x)"
   ]
  },
  {
   "cell_type": "markdown",
   "id": "704109e2",
   "metadata": {},
   "source": [
    "**Load dataset**"
   ]
  },
  {
   "cell_type": "code",
   "execution_count": 3,
   "id": "584b595b",
   "metadata": {},
   "outputs": [],
   "source": [
    "df = sns.load_dataset('tips')"
   ]
  },
  {
   "cell_type": "code",
   "execution_count": 4,
   "id": "13e696d8",
   "metadata": {},
   "outputs": [
    {
     "data": {
      "text/html": [
       "<div>\n",
       "<style scoped>\n",
       "    .dataframe tbody tr th:only-of-type {\n",
       "        vertical-align: middle;\n",
       "    }\n",
       "\n",
       "    .dataframe tbody tr th {\n",
       "        vertical-align: top;\n",
       "    }\n",
       "\n",
       "    .dataframe thead th {\n",
       "        text-align: right;\n",
       "    }\n",
       "</style>\n",
       "<table border=\"1\" class=\"dataframe\">\n",
       "  <thead>\n",
       "    <tr style=\"text-align: right;\">\n",
       "      <th></th>\n",
       "      <th>total_bill</th>\n",
       "      <th>tip</th>\n",
       "      <th>sex</th>\n",
       "      <th>smoker</th>\n",
       "      <th>day</th>\n",
       "      <th>time</th>\n",
       "      <th>size</th>\n",
       "    </tr>\n",
       "  </thead>\n",
       "  <tbody>\n",
       "    <tr>\n",
       "      <th>0</th>\n",
       "      <td>16.99000</td>\n",
       "      <td>1.01000</td>\n",
       "      <td>Female</td>\n",
       "      <td>No</td>\n",
       "      <td>Sun</td>\n",
       "      <td>Dinner</td>\n",
       "      <td>2</td>\n",
       "    </tr>\n",
       "    <tr>\n",
       "      <th>1</th>\n",
       "      <td>10.34000</td>\n",
       "      <td>1.66000</td>\n",
       "      <td>Male</td>\n",
       "      <td>No</td>\n",
       "      <td>Sun</td>\n",
       "      <td>Dinner</td>\n",
       "      <td>3</td>\n",
       "    </tr>\n",
       "    <tr>\n",
       "      <th>2</th>\n",
       "      <td>21.01000</td>\n",
       "      <td>3.50000</td>\n",
       "      <td>Male</td>\n",
       "      <td>No</td>\n",
       "      <td>Sun</td>\n",
       "      <td>Dinner</td>\n",
       "      <td>3</td>\n",
       "    </tr>\n",
       "    <tr>\n",
       "      <th>3</th>\n",
       "      <td>23.68000</td>\n",
       "      <td>3.31000</td>\n",
       "      <td>Male</td>\n",
       "      <td>No</td>\n",
       "      <td>Sun</td>\n",
       "      <td>Dinner</td>\n",
       "      <td>2</td>\n",
       "    </tr>\n",
       "    <tr>\n",
       "      <th>4</th>\n",
       "      <td>24.59000</td>\n",
       "      <td>3.61000</td>\n",
       "      <td>Female</td>\n",
       "      <td>No</td>\n",
       "      <td>Sun</td>\n",
       "      <td>Dinner</td>\n",
       "      <td>4</td>\n",
       "    </tr>\n",
       "  </tbody>\n",
       "</table>\n",
       "</div>"
      ],
      "text/plain": [
       "   total_bill     tip     sex smoker  day    time  size\n",
       "0    16.99000 1.01000  Female     No  Sun  Dinner     2\n",
       "1    10.34000 1.66000    Male     No  Sun  Dinner     3\n",
       "2    21.01000 3.50000    Male     No  Sun  Dinner     3\n",
       "3    23.68000 3.31000    Male     No  Sun  Dinner     2\n",
       "4    24.59000 3.61000  Female     No  Sun  Dinner     4"
      ]
     },
     "execution_count": 4,
     "metadata": {},
     "output_type": "execute_result"
    }
   ],
   "source": [
    "df.head()"
   ]
  },
  {
   "cell_type": "markdown",
   "id": "51dee85d",
   "metadata": {},
   "source": [
    "**Groupby the date and check total bill means**"
   ]
  },
  {
   "cell_type": "code",
   "execution_count": 5,
   "id": "dec0264e",
   "metadata": {},
   "outputs": [
    {
     "data": {
      "text/html": [
       "<div>\n",
       "<style scoped>\n",
       "    .dataframe tbody tr th:only-of-type {\n",
       "        vertical-align: middle;\n",
       "    }\n",
       "\n",
       "    .dataframe tbody tr th {\n",
       "        vertical-align: top;\n",
       "    }\n",
       "\n",
       "    .dataframe thead th {\n",
       "        text-align: right;\n",
       "    }\n",
       "</style>\n",
       "<table border=\"1\" class=\"dataframe\">\n",
       "  <thead>\n",
       "    <tr style=\"text-align: right;\">\n",
       "      <th></th>\n",
       "      <th>total_bill</th>\n",
       "    </tr>\n",
       "    <tr>\n",
       "      <th>day</th>\n",
       "      <th></th>\n",
       "    </tr>\n",
       "  </thead>\n",
       "  <tbody>\n",
       "    <tr>\n",
       "      <th>Thur</th>\n",
       "      <td>17.68274</td>\n",
       "    </tr>\n",
       "    <tr>\n",
       "      <th>Fri</th>\n",
       "      <td>17.15158</td>\n",
       "    </tr>\n",
       "    <tr>\n",
       "      <th>Sat</th>\n",
       "      <td>20.44138</td>\n",
       "    </tr>\n",
       "    <tr>\n",
       "      <th>Sun</th>\n",
       "      <td>21.41000</td>\n",
       "    </tr>\n",
       "  </tbody>\n",
       "</table>\n",
       "</div>"
      ],
      "text/plain": [
       "      total_bill\n",
       "day             \n",
       "Thur    17.68274\n",
       "Fri     17.15158\n",
       "Sat     20.44138\n",
       "Sun     21.41000"
      ]
     },
     "execution_count": 5,
     "metadata": {},
     "output_type": "execute_result"
    }
   ],
   "source": [
    "df.groupby('day').agg({'total_bill': 'mean'})"
   ]
  },
  {
   "cell_type": "markdown",
   "id": "2a775e25",
   "metadata": {},
   "source": [
    "**As you see above, there is a difference between the days but is it statistically meaningful or random ?**\n",
    "\n",
    "**Step 1: Create hypothesis**\n",
    "\n",
    "H0: u1=u2=u3=u4<br>\n",
    "H1: They are not equal."
   ]
  },
  {
   "cell_type": "markdown",
   "id": "a8c3d8ba",
   "metadata": {},
   "source": [
    "**Step 2: Assumption Check**\n",
    "\n",
    "Assumption 1: Distributions are normal for each variable (Use shapiro test for normal distribution)<br>\n",
    "Assumption 2: Variances are homogeneus (Use levene test for normal distribution)<br>"
   ]
  },
  {
   "cell_type": "markdown",
   "id": "111e0cb4",
   "metadata": {},
   "source": [
    "Assumption 1:\n",
    "\n",
    "H0: Distribution is normal. <br>\n",
    "H1: Distrubution is not mormal."
   ]
  },
  {
   "cell_type": "code",
   "execution_count": 18,
   "id": "6d44218c",
   "metadata": {},
   "outputs": [
    {
     "name": "stdout",
     "output_type": "stream",
     "text": [
      "Sun p value: 0.00357\n",
      "Sat p value: 0.00001\n",
      "Thur p value: 0.00003\n",
      "Fri p value: 0.04086\n"
     ]
    }
   ],
   "source": [
    "for day in df['day'].unique():\n",
    "    p_value = shapiro(df.loc[df['day'] == day, 'total_bill'])[1]\n",
    "    print(day + ' p value: %.5f' % p_value)"
   ]
  },
  {
   "cell_type": "markdown",
   "id": "a3bba76c",
   "metadata": {},
   "source": [
    "P values is less than 0.05 so distrubutions are not normal for each days. We reject the H0 hypothesis and directly go to the non-parametric test. We dont need to check Assumption 2 but we will."
   ]
  },
  {
   "cell_type": "markdown",
   "id": "ab35f6d4",
   "metadata": {},
   "source": [
    "Assumption 2:\n",
    "\n",
    "H0: Variances are homogeneous. <br>\n",
    "H1: Variances are not homogeneous."
   ]
  },
  {
   "cell_type": "code",
   "execution_count": 21,
   "id": "a014e1ea",
   "metadata": {},
   "outputs": [
    {
     "name": "stdout",
     "output_type": "stream",
     "text": [
      "Test statistic: 0.66536\n",
      "p value: 0.57408\n"
     ]
    }
   ],
   "source": [
    "test_stat, p_value = levene(df.loc[df['day'] == 'Sun', 'total_bill'],\n",
    "                           df.loc[df['day'] == 'Sat', 'total_bill'],\n",
    "                           df.loc[df['day'] == 'Thur', 'total_bill'],\n",
    "                           df.loc[df['day'] == 'Fri', 'total_bill'])\n",
    "print('Test statistic: %.5f\\np value: %.5f' % (test_stat, p_value))"
   ]
  },
  {
   "cell_type": "markdown",
   "id": "c6adb577",
   "metadata": {},
   "source": [
    "P values is greater than 0.05 so we accept the H0, which is variances are homogeneous."
   ]
  },
  {
   "cell_type": "markdown",
   "id": "a434e77f",
   "metadata": {},
   "source": [
    "**Parametric Solution**\n",
    "\n",
    "We will go to the non-parametric solution but in this example, we will also discover the parametric solution"
   ]
  },
  {
   "cell_type": "code",
   "execution_count": 25,
   "id": "fddca6a5",
   "metadata": {},
   "outputs": [
    {
     "name": "stdout",
     "output_type": "stream",
     "text": [
      "Test statistic: 2.76748\n",
      "p value: 0.04245\n"
     ]
    }
   ],
   "source": [
    "test_stat, p_value = f_oneway(df.loc[df['day'] == 'Sun', 'total_bill'],\n",
    "        df.loc[df['day'] == 'Sat', 'total_bill'],\n",
    "        df.loc[df['day'] == 'Thur', 'total_bill'],\n",
    "        df.loc[df['day'] == 'Fri', 'total_bill'])\n",
    "print('Test statistic: %.5f\\np value: %.5f' % (test_stat, p_value))"
   ]
  },
  {
   "cell_type": "markdown",
   "id": "9ff3eaa6",
   "metadata": {},
   "source": [
    "P value is less than 0.05 so we reject the H0 hyppthesis. (H0: u1=u2=u3=u4)"
   ]
  },
  {
   "cell_type": "markdown",
   "id": "2eccae41",
   "metadata": {},
   "source": [
    "**Non-Parametric Solution**\n",
    "\n",
    "We need to non-parametric solution because distributions are not normal. "
   ]
  },
  {
   "cell_type": "code",
   "execution_count": 26,
   "id": "ad7d26b8",
   "metadata": {
    "scrolled": true
   },
   "outputs": [
    {
     "name": "stdout",
     "output_type": "stream",
     "text": [
      "Test statistic: 10.40308\n",
      "p value: 0.01543\n"
     ]
    }
   ],
   "source": [
    "test_stat, p_value = kruskal(df.loc[df['day'] == 'Sun', 'total_bill'],\n",
    "        df.loc[df['day'] == 'Sat', 'total_bill'],\n",
    "        df.loc[df['day'] == 'Thur', 'total_bill'],\n",
    "        df.loc[df['day'] == 'Fri', 'total_bill'])\n",
    "print('Test statistic: %.5f\\np value: %.5f' % (test_stat, p_value))"
   ]
  },
  {
   "cell_type": "markdown",
   "id": "bc403dfe",
   "metadata": {},
   "source": [
    "P value is less than 0.05 so we reject the H0 hyppthesis. (H0: u1=u2=u3=u4) There is a statistical difference between the days total bill."
   ]
  },
  {
   "cell_type": "markdown",
   "id": "91a7ec26",
   "metadata": {},
   "source": [
    "**Above, we discover that there is a statistical different in group. But which day is different ?**"
   ]
  },
  {
   "cell_type": "code",
   "execution_count": 27,
   "id": "b21589dd",
   "metadata": {},
   "outputs": [],
   "source": [
    "from statsmodels.stats.multicomp import MultiComparison"
   ]
  },
  {
   "cell_type": "code",
   "execution_count": 28,
   "id": "8a7d7bc8",
   "metadata": {},
   "outputs": [],
   "source": [
    "comprasion = MultiComparison(df['total_bill'], df['day'])"
   ]
  },
  {
   "cell_type": "code",
   "execution_count": 29,
   "id": "29a159a7",
   "metadata": {},
   "outputs": [],
   "source": [
    "tukey = comprasion.tukeyhsd(alpha=0.05)"
   ]
  },
  {
   "cell_type": "code",
   "execution_count": 34,
   "id": "da883a94",
   "metadata": {},
   "outputs": [
    {
     "name": "stdout",
     "output_type": "stream",
     "text": [
      "Multiple Comparison of Means - Tukey HSD, FWER=0.05 \n",
      "====================================================\n",
      "group1 group2 meandiff p-adj   lower   upper  reject\n",
      "----------------------------------------------------\n",
      "   Fri    Sat   3.2898 0.4554 -2.4802  9.0598  False\n",
      "   Fri    Sun   4.2584 0.2373 -1.5859 10.1028  False\n",
      "   Fri   Thur   0.5312    0.9 -5.4437   6.506  False\n",
      "   Sat    Sun   0.9686 0.8921 -2.6089  4.5462  False\n",
      "   Sat   Thur  -2.7586 0.2375 -6.5456  1.0284  False\n",
      "   Sun   Thur  -3.7273 0.0669 -7.6266  0.1721  False\n",
      "----------------------------------------------------\n"
     ]
    }
   ],
   "source": [
    "print(tukey)"
   ]
  },
  {
   "cell_type": "markdown",
   "id": "c9e29431",
   "metadata": {},
   "source": [
    "**As you see above, there is no differecen between the days for %95 confident interval. Let's check for %90 confident interval** "
   ]
  },
  {
   "cell_type": "code",
   "execution_count": 37,
   "id": "d1f4ae80",
   "metadata": {},
   "outputs": [
    {
     "name": "stdout",
     "output_type": "stream",
     "text": [
      "Multiple Comparison of Means - Tukey HSD, FWER=0.10 \n",
      "====================================================\n",
      "group1 group2 meandiff p-adj   lower   upper  reject\n",
      "----------------------------------------------------\n",
      "   Fri    Sat   3.2898 0.4554 -1.8479  8.4275  False\n",
      "   Fri    Sun   4.2584 0.2373 -0.9455  9.4624  False\n",
      "   Fri   Thur   0.5312    0.9  -4.789  5.8513  False\n",
      "   Sat    Sun   0.9686 0.8921 -2.2169  4.1542  False\n",
      "   Sat   Thur  -2.7586 0.2375 -6.1307  0.6134  False\n",
      "   Sun   Thur  -3.7273 0.0669 -7.1994 -0.2552   True\n",
      "----------------------------------------------------\n"
     ]
    }
   ],
   "source": [
    "print(comprasion.tukeyhsd(alpha=0.1))"
   ]
  },
  {
   "cell_type": "markdown",
   "id": "44376bc0",
   "metadata": {},
   "source": [
    "**There is a difference between the Sunday and Thursday in last row for %90 confident interval. It returns True.**"
   ]
  }
 ],
 "metadata": {
  "kernelspec": {
   "display_name": "Python 3 (ipykernel)",
   "language": "python",
   "name": "python3"
  },
  "language_info": {
   "codemirror_mode": {
    "name": "ipython",
    "version": 3
   },
   "file_extension": ".py",
   "mimetype": "text/x-python",
   "name": "python",
   "nbconvert_exporter": "python",
   "pygments_lexer": "ipython3",
   "version": "3.9.7"
  }
 },
 "nbformat": 4,
 "nbformat_minor": 5
}
