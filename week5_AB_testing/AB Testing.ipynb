{
 "cells": [
  {
   "cell_type": "markdown",
   "id": "4c27d76d",
   "metadata": {},
   "source": [
    "# AB Testing"
   ]
  },
  {
   "cell_type": "markdown",
   "id": "d04001f8",
   "metadata": {},
   "source": [
    "**A/B testing (also known as split testing or bucket testing) is a method of comparing two versions of a things  against each other to determine which one performs better.**"
   ]
  },
  {
   "cell_type": "markdown",
   "id": "72e29ada",
   "metadata": {},
   "source": [
    "**Import libraries**"
   ]
  },
  {
   "cell_type": "code",
   "execution_count": 9,
   "id": "9244782f",
   "metadata": {},
   "outputs": [],
   "source": [
    "import numpy as np\n",
    "import pandas as pd\n",
    "import matplotlib.pyplot as plt\n",
    "import seaborn as sns\n",
    "import statsmodels.stats.api as sms\n",
    "from scipy.stats import ttest_1samp, shapiro, levene, ttest_ind, mannwhitneyu, \\\n",
    "pearsonr, spearmanr, kendalltau, f_oneway, kruskal\n",
    "\n",
    "pd.set_option('display.max_columns', None)\n",
    "pd.set_option('display.max_row', 10)\n",
    "pd.set_option('display.float_format', lambda x: '%.5f' % x)"
   ]
  },
  {
   "cell_type": "markdown",
   "id": "8704078f",
   "metadata": {},
   "source": [
    "### 1) Population and Sample"
   ]
  },
  {
   "cell_type": "markdown",
   "id": "b099ae00",
   "metadata": {},
   "source": [
    "A population is the entire group that you want to draw conclusions about.\n",
    "\n",
    "A sample is the specific group that you will collect data from."
   ]
  },
  {
   "cell_type": "markdown",
   "id": "c87c5073",
   "metadata": {},
   "source": [
    "**Create a age population and check population mean**"
   ]
  },
  {
   "cell_type": "code",
   "execution_count": 10,
   "id": "1b562b68",
   "metadata": {},
   "outputs": [],
   "source": [
    "population = np.random.randint(0, 80, 10000)"
   ]
  },
  {
   "cell_type": "code",
   "execution_count": 12,
   "id": "6a495057",
   "metadata": {},
   "outputs": [
    {
     "data": {
      "text/plain": [
       "39.4772"
      ]
     },
     "execution_count": 12,
     "metadata": {},
     "output_type": "execute_result"
    }
   ],
   "source": [
    "population.mean()"
   ]
  },
  {
   "cell_type": "markdown",
   "id": "b69e4afb",
   "metadata": {},
   "source": [
    "**Now get a sample from population and check the sample mean**"
   ]
  },
  {
   "cell_type": "code",
   "execution_count": 21,
   "id": "76d1f632",
   "metadata": {},
   "outputs": [],
   "source": [
    "np.random.seed(115)"
   ]
  },
  {
   "cell_type": "code",
   "execution_count": 24,
   "id": "0087022f",
   "metadata": {},
   "outputs": [],
   "source": [
    "sample = np.random.choice(a=population, size=100)"
   ]
  },
  {
   "cell_type": "code",
   "execution_count": 25,
   "id": "dac27735",
   "metadata": {},
   "outputs": [
    {
     "data": {
      "text/plain": [
       "42.01"
      ]
     },
     "execution_count": 25,
     "metadata": {},
     "output_type": "execute_result"
    }
   ],
   "source": [
    "sample.mean()"
   ]
  },
  {
   "cell_type": "markdown",
   "id": "2412c6dd",
   "metadata": {},
   "source": [
    "**Create 10 samples from  population and check the all samples mean**"
   ]
  },
  {
   "cell_type": "code",
   "execution_count": 26,
   "id": "03460793",
   "metadata": {},
   "outputs": [],
   "source": [
    "np.random.seed(20)"
   ]
  },
  {
   "cell_type": "code",
   "execution_count": 31,
   "id": "58dd65ee",
   "metadata": {},
   "outputs": [],
   "source": [
    "mean_samples=[]"
   ]
  },
  {
   "cell_type": "code",
   "execution_count": 32,
   "id": "ac1f5220",
   "metadata": {},
   "outputs": [],
   "source": [
    "for samp in range(10):\n",
    "    mean_samples.append(np.random.choice(a=population, size=100).mean())"
   ]
  },
  {
   "cell_type": "code",
   "execution_count": 37,
   "id": "aee21f89",
   "metadata": {},
   "outputs": [
    {
     "data": {
      "text/plain": [
       "39.67800000000001"
      ]
     },
     "execution_count": 37,
     "metadata": {},
     "output_type": "execute_result"
    }
   ],
   "source": [
    "sum(mean_samples) / len(mean_samples)"
   ]
  },
  {
   "cell_type": "markdown",
   "id": "8b20c407",
   "metadata": {},
   "source": [
    "**Note: More samples mean allows us to represent the actual population mean**"
   ]
  },
  {
   "cell_type": "markdown",
   "id": "9d47b94d",
   "metadata": {},
   "source": [
    "### 2) Descriptive Statistics"
   ]
  },
  {
   "cell_type": "code",
   "execution_count": 38,
   "id": "43292f71",
   "metadata": {},
   "outputs": [],
   "source": [
    "df = sns.load_dataset('tips')"
   ]
  },
  {
   "cell_type": "code",
   "execution_count": 39,
   "id": "7f937aaa",
   "metadata": {},
   "outputs": [
    {
     "data": {
      "text/html": [
       "<div>\n",
       "<style scoped>\n",
       "    .dataframe tbody tr th:only-of-type {\n",
       "        vertical-align: middle;\n",
       "    }\n",
       "\n",
       "    .dataframe tbody tr th {\n",
       "        vertical-align: top;\n",
       "    }\n",
       "\n",
       "    .dataframe thead th {\n",
       "        text-align: right;\n",
       "    }\n",
       "</style>\n",
       "<table border=\"1\" class=\"dataframe\">\n",
       "  <thead>\n",
       "    <tr style=\"text-align: right;\">\n",
       "      <th></th>\n",
       "      <th>total_bill</th>\n",
       "      <th>tip</th>\n",
       "      <th>sex</th>\n",
       "      <th>smoker</th>\n",
       "      <th>day</th>\n",
       "      <th>time</th>\n",
       "      <th>size</th>\n",
       "    </tr>\n",
       "  </thead>\n",
       "  <tbody>\n",
       "    <tr>\n",
       "      <th>0</th>\n",
       "      <td>16.99000</td>\n",
       "      <td>1.01000</td>\n",
       "      <td>Female</td>\n",
       "      <td>No</td>\n",
       "      <td>Sun</td>\n",
       "      <td>Dinner</td>\n",
       "      <td>2</td>\n",
       "    </tr>\n",
       "    <tr>\n",
       "      <th>1</th>\n",
       "      <td>10.34000</td>\n",
       "      <td>1.66000</td>\n",
       "      <td>Male</td>\n",
       "      <td>No</td>\n",
       "      <td>Sun</td>\n",
       "      <td>Dinner</td>\n",
       "      <td>3</td>\n",
       "    </tr>\n",
       "    <tr>\n",
       "      <th>2</th>\n",
       "      <td>21.01000</td>\n",
       "      <td>3.50000</td>\n",
       "      <td>Male</td>\n",
       "      <td>No</td>\n",
       "      <td>Sun</td>\n",
       "      <td>Dinner</td>\n",
       "      <td>3</td>\n",
       "    </tr>\n",
       "    <tr>\n",
       "      <th>3</th>\n",
       "      <td>23.68000</td>\n",
       "      <td>3.31000</td>\n",
       "      <td>Male</td>\n",
       "      <td>No</td>\n",
       "      <td>Sun</td>\n",
       "      <td>Dinner</td>\n",
       "      <td>2</td>\n",
       "    </tr>\n",
       "    <tr>\n",
       "      <th>4</th>\n",
       "      <td>24.59000</td>\n",
       "      <td>3.61000</td>\n",
       "      <td>Female</td>\n",
       "      <td>No</td>\n",
       "      <td>Sun</td>\n",
       "      <td>Dinner</td>\n",
       "      <td>4</td>\n",
       "    </tr>\n",
       "  </tbody>\n",
       "</table>\n",
       "</div>"
      ],
      "text/plain": [
       "   total_bill     tip     sex smoker  day    time  size\n",
       "0    16.99000 1.01000  Female     No  Sun  Dinner     2\n",
       "1    10.34000 1.66000    Male     No  Sun  Dinner     3\n",
       "2    21.01000 3.50000    Male     No  Sun  Dinner     3\n",
       "3    23.68000 3.31000    Male     No  Sun  Dinner     2\n",
       "4    24.59000 3.61000  Female     No  Sun  Dinner     4"
      ]
     },
     "execution_count": 39,
     "metadata": {},
     "output_type": "execute_result"
    }
   ],
   "source": [
    "df.head()"
   ]
  },
  {
   "cell_type": "code",
   "execution_count": 41,
   "id": "03902298",
   "metadata": {},
   "outputs": [
    {
     "data": {
      "text/html": [
       "<div>\n",
       "<style scoped>\n",
       "    .dataframe tbody tr th:only-of-type {\n",
       "        vertical-align: middle;\n",
       "    }\n",
       "\n",
       "    .dataframe tbody tr th {\n",
       "        vertical-align: top;\n",
       "    }\n",
       "\n",
       "    .dataframe thead th {\n",
       "        text-align: right;\n",
       "    }\n",
       "</style>\n",
       "<table border=\"1\" class=\"dataframe\">\n",
       "  <thead>\n",
       "    <tr style=\"text-align: right;\">\n",
       "      <th></th>\n",
       "      <th>count</th>\n",
       "      <th>mean</th>\n",
       "      <th>std</th>\n",
       "      <th>min</th>\n",
       "      <th>25%</th>\n",
       "      <th>50%</th>\n",
       "      <th>75%</th>\n",
       "      <th>max</th>\n",
       "    </tr>\n",
       "  </thead>\n",
       "  <tbody>\n",
       "    <tr>\n",
       "      <th>total_bill</th>\n",
       "      <td>244.00000</td>\n",
       "      <td>19.78594</td>\n",
       "      <td>8.90241</td>\n",
       "      <td>3.07000</td>\n",
       "      <td>13.34750</td>\n",
       "      <td>17.79500</td>\n",
       "      <td>24.12750</td>\n",
       "      <td>50.81000</td>\n",
       "    </tr>\n",
       "    <tr>\n",
       "      <th>tip</th>\n",
       "      <td>244.00000</td>\n",
       "      <td>2.99828</td>\n",
       "      <td>1.38364</td>\n",
       "      <td>1.00000</td>\n",
       "      <td>2.00000</td>\n",
       "      <td>2.90000</td>\n",
       "      <td>3.56250</td>\n",
       "      <td>10.00000</td>\n",
       "    </tr>\n",
       "    <tr>\n",
       "      <th>size</th>\n",
       "      <td>244.00000</td>\n",
       "      <td>2.56967</td>\n",
       "      <td>0.95110</td>\n",
       "      <td>1.00000</td>\n",
       "      <td>2.00000</td>\n",
       "      <td>2.00000</td>\n",
       "      <td>3.00000</td>\n",
       "      <td>6.00000</td>\n",
       "    </tr>\n",
       "  </tbody>\n",
       "</table>\n",
       "</div>"
      ],
      "text/plain": [
       "               count     mean     std     min      25%      50%      75%  \\\n",
       "total_bill 244.00000 19.78594 8.90241 3.07000 13.34750 17.79500 24.12750   \n",
       "tip        244.00000  2.99828 1.38364 1.00000  2.00000  2.90000  3.56250   \n",
       "size       244.00000  2.56967 0.95110 1.00000  2.00000  2.00000  3.00000   \n",
       "\n",
       "                max  \n",
       "total_bill 50.81000  \n",
       "tip        10.00000  \n",
       "size        6.00000  "
      ]
     },
     "execution_count": 41,
     "metadata": {},
     "output_type": "execute_result"
    }
   ],
   "source": [
    "df.describe().T"
   ]
  },
  {
   "cell_type": "markdown",
   "id": "c891104f",
   "metadata": {},
   "source": [
    "### 3) Confiedence Intervals"
   ]
  },
  {
   "cell_type": "markdown",
   "id": "2778558b",
   "metadata": {},
   "source": [
    "A confidence interval is the mean of your estimate plus and minus the variation in that estimate."
   ]
  },
  {
   "attachments": {
    "image-2.png": {
     "image/png": "[encoded data removed]"
    }
   },
   "cell_type": "markdown",
   "id": "bef060e0",
   "metadata": {},
   "source": [
    "![image-2.png](attachment:image-2.png)"
   ]
  },
  {
   "cell_type": "markdown",
   "id": "6a7fea69",
   "metadata": {},
   "source": [
    "**Describe the total_bill and calculate confident ınterval for %95**"
   ]
  },
  {
   "cell_type": "code",
   "execution_count": 46,
   "id": "6ef1bc6e",
   "metadata": {},
   "outputs": [
    {
     "data": {
      "text/plain": [
       "count   244.00000\n",
       "mean     19.78594\n",
       "std       8.90241\n",
       "min       3.07000\n",
       "25%      13.34750\n",
       "50%      17.79500\n",
       "75%      24.12750\n",
       "max      50.81000\n",
       "Name: total_bill, dtype: float64"
      ]
     },
     "execution_count": 46,
     "metadata": {},
     "output_type": "execute_result"
    }
   ],
   "source": [
    "df['total_bill'].describe()"
   ]
  },
  {
   "cell_type": "code",
   "execution_count": 48,
   "id": "d402ae41",
   "metadata": {},
   "outputs": [
    {
     "data": {
      "text/plain": [
       "(18.66333170435847, 20.908553541543164)"
      ]
     },
     "execution_count": 48,
     "metadata": {},
     "output_type": "execute_result"
    }
   ],
   "source": [
    "sms.DescrStatsW(df['total_bill']).tconfint_mean()"
   ]
  },
  {
   "cell_type": "markdown",
   "id": "0ce4b548",
   "metadata": {},
   "source": [
    "**Describe the tips and calculate confident ınterval for %95**"
   ]
  },
  {
   "cell_type": "code",
   "execution_count": 49,
   "id": "34475381",
   "metadata": {},
   "outputs": [
    {
     "data": {
      "text/plain": [
       "count   244.00000\n",
       "mean      2.99828\n",
       "std       1.38364\n",
       "min       1.00000\n",
       "25%       2.00000\n",
       "50%       2.90000\n",
       "75%       3.56250\n",
       "max      10.00000\n",
       "Name: tip, dtype: float64"
      ]
     },
     "execution_count": 49,
     "metadata": {},
     "output_type": "execute_result"
    }
   ],
   "source": [
    "df['tip'].describe().T"
   ]
  },
  {
   "cell_type": "code",
   "execution_count": 51,
   "id": "65d1db9b",
   "metadata": {},
   "outputs": [
    {
     "data": {
      "text/plain": [
       "(2.8237993062818205, 3.172758070767359)"
      ]
     },
     "execution_count": 51,
     "metadata": {},
     "output_type": "execute_result"
    }
   ],
   "source": [
    "sms.DescrStatsW(df['tip']).tconfint_mean()"
   ]
  },
  {
   "cell_type": "markdown",
   "id": "0940116c",
   "metadata": {},
   "source": [
    "### 4) Correlation"
   ]
  },
  {
   "attachments": {
    "image-2.png": {
     "image/png": "[encoded data removed]"
    }
   },
   "cell_type": "markdown",
   "id": "fa154771",
   "metadata": {},
   "source": [
    "Correlation is a statistical measure that expresses the extent to which two variables are linearly related (meaning they change together at a constant rate). Correalation value change between -1 and 1.\n",
    "\n",
    "![image-2.png](attachment:image-2.png)\n"
   ]
  },
  {
   "cell_type": "code",
   "execution_count": 53,
   "id": "24e965a5",
   "metadata": {},
   "outputs": [
    {
     "data": {
      "text/html": [
       "<div>\n",
       "<style scoped>\n",
       "    .dataframe tbody tr th:only-of-type {\n",
       "        vertical-align: middle;\n",
       "    }\n",
       "\n",
       "    .dataframe tbody tr th {\n",
       "        vertical-align: top;\n",
       "    }\n",
       "\n",
       "    .dataframe thead th {\n",
       "        text-align: right;\n",
       "    }\n",
       "</style>\n",
       "<table border=\"1\" class=\"dataframe\">\n",
       "  <thead>\n",
       "    <tr style=\"text-align: right;\">\n",
       "      <th></th>\n",
       "      <th>total_bill</th>\n",
       "      <th>tip</th>\n",
       "      <th>sex</th>\n",
       "      <th>smoker</th>\n",
       "      <th>day</th>\n",
       "      <th>time</th>\n",
       "      <th>size</th>\n",
       "    </tr>\n",
       "  </thead>\n",
       "  <tbody>\n",
       "    <tr>\n",
       "      <th>0</th>\n",
       "      <td>16.99000</td>\n",
       "      <td>1.01000</td>\n",
       "      <td>Female</td>\n",
       "      <td>No</td>\n",
       "      <td>Sun</td>\n",
       "      <td>Dinner</td>\n",
       "      <td>2</td>\n",
       "    </tr>\n",
       "    <tr>\n",
       "      <th>1</th>\n",
       "      <td>10.34000</td>\n",
       "      <td>1.66000</td>\n",
       "      <td>Male</td>\n",
       "      <td>No</td>\n",
       "      <td>Sun</td>\n",
       "      <td>Dinner</td>\n",
       "      <td>3</td>\n",
       "    </tr>\n",
       "    <tr>\n",
       "      <th>2</th>\n",
       "      <td>21.01000</td>\n",
       "      <td>3.50000</td>\n",
       "      <td>Male</td>\n",
       "      <td>No</td>\n",
       "      <td>Sun</td>\n",
       "      <td>Dinner</td>\n",
       "      <td>3</td>\n",
       "    </tr>\n",
       "    <tr>\n",
       "      <th>3</th>\n",
       "      <td>23.68000</td>\n",
       "      <td>3.31000</td>\n",
       "      <td>Male</td>\n",
       "      <td>No</td>\n",
       "      <td>Sun</td>\n",
       "      <td>Dinner</td>\n",
       "      <td>2</td>\n",
       "    </tr>\n",
       "    <tr>\n",
       "      <th>4</th>\n",
       "      <td>24.59000</td>\n",
       "      <td>3.61000</td>\n",
       "      <td>Female</td>\n",
       "      <td>No</td>\n",
       "      <td>Sun</td>\n",
       "      <td>Dinner</td>\n",
       "      <td>4</td>\n",
       "    </tr>\n",
       "  </tbody>\n",
       "</table>\n",
       "</div>"
      ],
      "text/plain": [
       "   total_bill     tip     sex smoker  day    time  size\n",
       "0    16.99000 1.01000  Female     No  Sun  Dinner     2\n",
       "1    10.34000 1.66000    Male     No  Sun  Dinner     3\n",
       "2    21.01000 3.50000    Male     No  Sun  Dinner     3\n",
       "3    23.68000 3.31000    Male     No  Sun  Dinner     2\n",
       "4    24.59000 3.61000  Female     No  Sun  Dinner     4"
      ]
     },
     "execution_count": 53,
     "metadata": {},
     "output_type": "execute_result"
    }
   ],
   "source": [
    "df.head()"
   ]
  },
  {
   "cell_type": "code",
   "execution_count": 58,
   "id": "b7a700ca",
   "metadata": {},
   "outputs": [],
   "source": [
    "df['bill'] = df['total_bill'] - df['tip']"
   ]
  },
  {
   "cell_type": "code",
   "execution_count": 61,
   "id": "a8afc274",
   "metadata": {},
   "outputs": [
    {
     "data": {
      "text/html": [
       "<div>\n",
       "<style scoped>\n",
       "    .dataframe tbody tr th:only-of-type {\n",
       "        vertical-align: middle;\n",
       "    }\n",
       "\n",
       "    .dataframe tbody tr th {\n",
       "        vertical-align: top;\n",
       "    }\n",
       "\n",
       "    .dataframe thead th {\n",
       "        text-align: right;\n",
       "    }\n",
       "</style>\n",
       "<table border=\"1\" class=\"dataframe\">\n",
       "  <thead>\n",
       "    <tr style=\"text-align: right;\">\n",
       "      <th></th>\n",
       "      <th>total_bill</th>\n",
       "      <th>tip</th>\n",
       "      <th>sex</th>\n",
       "      <th>smoker</th>\n",
       "      <th>day</th>\n",
       "      <th>time</th>\n",
       "      <th>size</th>\n",
       "      <th>bill</th>\n",
       "    </tr>\n",
       "  </thead>\n",
       "  <tbody>\n",
       "    <tr>\n",
       "      <th>0</th>\n",
       "      <td>16.99000</td>\n",
       "      <td>1.01000</td>\n",
       "      <td>Female</td>\n",
       "      <td>No</td>\n",
       "      <td>Sun</td>\n",
       "      <td>Dinner</td>\n",
       "      <td>2</td>\n",
       "      <td>15.98000</td>\n",
       "    </tr>\n",
       "    <tr>\n",
       "      <th>1</th>\n",
       "      <td>10.34000</td>\n",
       "      <td>1.66000</td>\n",
       "      <td>Male</td>\n",
       "      <td>No</td>\n",
       "      <td>Sun</td>\n",
       "      <td>Dinner</td>\n",
       "      <td>3</td>\n",
       "      <td>8.68000</td>\n",
       "    </tr>\n",
       "    <tr>\n",
       "      <th>2</th>\n",
       "      <td>21.01000</td>\n",
       "      <td>3.50000</td>\n",
       "      <td>Male</td>\n",
       "      <td>No</td>\n",
       "      <td>Sun</td>\n",
       "      <td>Dinner</td>\n",
       "      <td>3</td>\n",
       "      <td>17.51000</td>\n",
       "    </tr>\n",
       "    <tr>\n",
       "      <th>3</th>\n",
       "      <td>23.68000</td>\n",
       "      <td>3.31000</td>\n",
       "      <td>Male</td>\n",
       "      <td>No</td>\n",
       "      <td>Sun</td>\n",
       "      <td>Dinner</td>\n",
       "      <td>2</td>\n",
       "      <td>20.37000</td>\n",
       "    </tr>\n",
       "    <tr>\n",
       "      <th>4</th>\n",
       "      <td>24.59000</td>\n",
       "      <td>3.61000</td>\n",
       "      <td>Female</td>\n",
       "      <td>No</td>\n",
       "      <td>Sun</td>\n",
       "      <td>Dinner</td>\n",
       "      <td>4</td>\n",
       "      <td>20.98000</td>\n",
       "    </tr>\n",
       "  </tbody>\n",
       "</table>\n",
       "</div>"
      ],
      "text/plain": [
       "   total_bill     tip     sex smoker  day    time  size     bill\n",
       "0    16.99000 1.01000  Female     No  Sun  Dinner     2 15.98000\n",
       "1    10.34000 1.66000    Male     No  Sun  Dinner     3  8.68000\n",
       "2    21.01000 3.50000    Male     No  Sun  Dinner     3 17.51000\n",
       "3    23.68000 3.31000    Male     No  Sun  Dinner     2 20.37000\n",
       "4    24.59000 3.61000  Female     No  Sun  Dinner     4 20.98000"
      ]
     },
     "execution_count": 61,
     "metadata": {},
     "output_type": "execute_result"
    }
   ],
   "source": [
    "df.head()"
   ]
  },
  {
   "cell_type": "code",
   "execution_count": 60,
   "id": "31af944d",
   "metadata": {},
   "outputs": [],
   "source": [
    "df.drop('bil', inplace=True, axis=1)"
   ]
  },
  {
   "cell_type": "code",
   "execution_count": 62,
   "id": "daf8ddf3",
   "metadata": {},
   "outputs": [
    {
     "data": {
      "text/plain": [
       "<matplotlib.collections.PathCollection at 0x19949d86eb0>"
      ]
     },
     "execution_count": 62,
     "metadata": {},
     "output_type": "execute_result"
    },
    {
     "data": {
      "image/png": "[encoded data removed]",
      "text/plain": [
       "<Figure size 432x288 with 1 Axes>"
      ]
     },
     "metadata": {
      "needs_background": "light"
     },
     "output_type": "display_data"
    }
   ],
   "source": [
    "plt.scatter(df['bill'], df['tip'])"
   ]
  },
  {
   "cell_type": "code",
   "execution_count": 64,
   "id": "1424d058",
   "metadata": {},
   "outputs": [
    {
     "data": {
      "text/plain": [
       "0.5766634471096374"
      ]
     },
     "execution_count": 64,
     "metadata": {},
     "output_type": "execute_result"
    }
   ],
   "source": [
    "df['tip'].corr(df['bill'])"
   ]
  },
  {
   "cell_type": "code",
   "execution_count": 66,
   "id": "92a397e0",
   "metadata": {},
   "outputs": [
    {
     "data": {
      "text/html": [
       "<div>\n",
       "<style scoped>\n",
       "    .dataframe tbody tr th:only-of-type {\n",
       "        vertical-align: middle;\n",
       "    }\n",
       "\n",
       "    .dataframe tbody tr th {\n",
       "        vertical-align: top;\n",
       "    }\n",
       "\n",
       "    .dataframe thead th {\n",
       "        text-align: right;\n",
       "    }\n",
       "</style>\n",
       "<table border=\"1\" class=\"dataframe\">\n",
       "  <thead>\n",
       "    <tr style=\"text-align: right;\">\n",
       "      <th></th>\n",
       "      <th>total_bill</th>\n",
       "      <th>tip</th>\n",
       "      <th>size</th>\n",
       "      <th>bill</th>\n",
       "    </tr>\n",
       "  </thead>\n",
       "  <tbody>\n",
       "    <tr>\n",
       "      <th>total_bill</th>\n",
       "      <td>1.00000</td>\n",
       "      <td>0.67573</td>\n",
       "      <td>0.59832</td>\n",
       "      <td>0.99191</td>\n",
       "    </tr>\n",
       "    <tr>\n",
       "      <th>tip</th>\n",
       "      <td>0.67573</td>\n",
       "      <td>1.00000</td>\n",
       "      <td>0.48930</td>\n",
       "      <td>0.57666</td>\n",
       "    </tr>\n",
       "    <tr>\n",
       "      <th>size</th>\n",
       "      <td>0.59832</td>\n",
       "      <td>0.48930</td>\n",
       "      <td>1.00000</td>\n",
       "      <td>0.57883</td>\n",
       "    </tr>\n",
       "    <tr>\n",
       "      <th>bill</th>\n",
       "      <td>0.99191</td>\n",
       "      <td>0.57666</td>\n",
       "      <td>0.57883</td>\n",
       "      <td>1.00000</td>\n",
       "    </tr>\n",
       "  </tbody>\n",
       "</table>\n",
       "</div>"
      ],
      "text/plain": [
       "            total_bill     tip    size    bill\n",
       "total_bill     1.00000 0.67573 0.59832 0.99191\n",
       "tip            0.67573 1.00000 0.48930 0.57666\n",
       "size           0.59832 0.48930 1.00000 0.57883\n",
       "bill           0.99191 0.57666 0.57883 1.00000"
      ]
     },
     "execution_count": 66,
     "metadata": {},
     "output_type": "execute_result"
    }
   ],
   "source": [
    "df.corr()"
   ]
  },
  {
   "cell_type": "markdown",
   "id": "5598c075",
   "metadata": {},
   "source": [
    "### 5) AB Test (Independent Samples T Test)"
   ]
  },
  {
   "cell_type": "markdown",
   "id": "8467ffaa",
   "metadata": {},
   "source": [
    "The two-sample t-test (also known as the independent samples t-test) is a method used to test whether the unknown population means of two groups are equal or not. A two-sample t-test is used to analyze the results from A/B tests. You can use the test when your data values are independent, are randomly sampled from two normal populations and the two independent groups have equal variances."
   ]
  },
  {
   "cell_type": "markdown",
   "id": "713a7b26",
   "metadata": {},
   "source": [
    "AB Testing Steps:\n",
    "\n",
    "* 1- Create a hypothesis\n",
    "* 2- Assumptions check\n",
    "  * Assumption 1: Distributions are normal for each variable\n",
    "  * Assumption 2: Variances are homogeneus\n",
    "* 3- Apply the hypothesis and control p value. If p value is less than 0.05 we can reject the HO if not we can accept HO. \n",
    " * a) If the assumptions are correct use the independent samples t-test (parametric test, t test)\n",
    " * b) If the assumptions are not correct use the mannehitneyu test (non-parametric test, mannwhitneyu)\n",
    " \n",
    "**Note**: If assumption 1 is not correct we can use directly non-parametric test (option b). If assumption 1 is correct but assumption 2 is not, we can use the parametric test and add that variances are not homogeneus as a argument.\n",
    "\n",
    "___"
   ]
  },
  {
   "cell_type": "markdown",
   "id": "79b9d502",
   "metadata": {},
   "source": [
    "### Case Study"
   ]
  },
  {
   "cell_type": "markdown",
   "id": "06cdc90c",
   "metadata": {},
   "source": [
    "Problem: Is there any average total bill difference between smoker and non-smoker ?"
   ]
  },
  {
   "cell_type": "markdown",
   "id": "a747f03e",
   "metadata": {},
   "source": [
    "**Step 1: Create Hypothesis**\n",
    "\n",
    "Hypothesis (H0): Smoker and non-smoker have same total average bill.\n",
    "\n",
    "u1 = Average total bill of smoker<br>\n",
    "u2 = Average total bill of non-smoker\n",
    "\n",
    "HO: u1 = u2<br>\n",
    "H1: u1 != u2"
   ]
  },
  {
   "cell_type": "code",
   "execution_count": 67,
   "id": "7308c7c8",
   "metadata": {},
   "outputs": [
    {
     "data": {
      "text/html": [
       "<div>\n",
       "<style scoped>\n",
       "    .dataframe tbody tr th:only-of-type {\n",
       "        vertical-align: middle;\n",
       "    }\n",
       "\n",
       "    .dataframe tbody tr th {\n",
       "        vertical-align: top;\n",
       "    }\n",
       "\n",
       "    .dataframe thead th {\n",
       "        text-align: right;\n",
       "    }\n",
       "</style>\n",
       "<table border=\"1\" class=\"dataframe\">\n",
       "  <thead>\n",
       "    <tr style=\"text-align: right;\">\n",
       "      <th></th>\n",
       "      <th>total_bill</th>\n",
       "      <th>tip</th>\n",
       "      <th>sex</th>\n",
       "      <th>smoker</th>\n",
       "      <th>day</th>\n",
       "      <th>time</th>\n",
       "      <th>size</th>\n",
       "      <th>bill</th>\n",
       "    </tr>\n",
       "  </thead>\n",
       "  <tbody>\n",
       "    <tr>\n",
       "      <th>0</th>\n",
       "      <td>16.99000</td>\n",
       "      <td>1.01000</td>\n",
       "      <td>Female</td>\n",
       "      <td>No</td>\n",
       "      <td>Sun</td>\n",
       "      <td>Dinner</td>\n",
       "      <td>2</td>\n",
       "      <td>15.98000</td>\n",
       "    </tr>\n",
       "    <tr>\n",
       "      <th>1</th>\n",
       "      <td>10.34000</td>\n",
       "      <td>1.66000</td>\n",
       "      <td>Male</td>\n",
       "      <td>No</td>\n",
       "      <td>Sun</td>\n",
       "      <td>Dinner</td>\n",
       "      <td>3</td>\n",
       "      <td>8.68000</td>\n",
       "    </tr>\n",
       "    <tr>\n",
       "      <th>2</th>\n",
       "      <td>21.01000</td>\n",
       "      <td>3.50000</td>\n",
       "      <td>Male</td>\n",
       "      <td>No</td>\n",
       "      <td>Sun</td>\n",
       "      <td>Dinner</td>\n",
       "      <td>3</td>\n",
       "      <td>17.51000</td>\n",
       "    </tr>\n",
       "    <tr>\n",
       "      <th>3</th>\n",
       "      <td>23.68000</td>\n",
       "      <td>3.31000</td>\n",
       "      <td>Male</td>\n",
       "      <td>No</td>\n",
       "      <td>Sun</td>\n",
       "      <td>Dinner</td>\n",
       "      <td>2</td>\n",
       "      <td>20.37000</td>\n",
       "    </tr>\n",
       "    <tr>\n",
       "      <th>4</th>\n",
       "      <td>24.59000</td>\n",
       "      <td>3.61000</td>\n",
       "      <td>Female</td>\n",
       "      <td>No</td>\n",
       "      <td>Sun</td>\n",
       "      <td>Dinner</td>\n",
       "      <td>4</td>\n",
       "      <td>20.98000</td>\n",
       "    </tr>\n",
       "  </tbody>\n",
       "</table>\n",
       "</div>"
      ],
      "text/plain": [
       "   total_bill     tip     sex smoker  day    time  size     bill\n",
       "0    16.99000 1.01000  Female     No  Sun  Dinner     2 15.98000\n",
       "1    10.34000 1.66000    Male     No  Sun  Dinner     3  8.68000\n",
       "2    21.01000 3.50000    Male     No  Sun  Dinner     3 17.51000\n",
       "3    23.68000 3.31000    Male     No  Sun  Dinner     2 20.37000\n",
       "4    24.59000 3.61000  Female     No  Sun  Dinner     4 20.98000"
      ]
     },
     "execution_count": 67,
     "metadata": {},
     "output_type": "execute_result"
    }
   ],
   "source": [
    "df.head()"
   ]
  },
  {
   "cell_type": "code",
   "execution_count": 69,
   "id": "4938aa59",
   "metadata": {
    "scrolled": true
   },
   "outputs": [
    {
     "data": {
      "text/html": [
       "<div>\n",
       "<style scoped>\n",
       "    .dataframe tbody tr th:only-of-type {\n",
       "        vertical-align: middle;\n",
       "    }\n",
       "\n",
       "    .dataframe tbody tr th {\n",
       "        vertical-align: top;\n",
       "    }\n",
       "\n",
       "    .dataframe thead th {\n",
       "        text-align: right;\n",
       "    }\n",
       "</style>\n",
       "<table border=\"1\" class=\"dataframe\">\n",
       "  <thead>\n",
       "    <tr style=\"text-align: right;\">\n",
       "      <th></th>\n",
       "      <th>total_bill</th>\n",
       "    </tr>\n",
       "    <tr>\n",
       "      <th>smoker</th>\n",
       "      <th></th>\n",
       "    </tr>\n",
       "  </thead>\n",
       "  <tbody>\n",
       "    <tr>\n",
       "      <th>Yes</th>\n",
       "      <td>20.75634</td>\n",
       "    </tr>\n",
       "    <tr>\n",
       "      <th>No</th>\n",
       "      <td>19.18828</td>\n",
       "    </tr>\n",
       "  </tbody>\n",
       "</table>\n",
       "</div>"
      ],
      "text/plain": [
       "        total_bill\n",
       "smoker            \n",
       "Yes       20.75634\n",
       "No        19.18828"
      ]
     },
     "execution_count": 69,
     "metadata": {},
     "output_type": "execute_result"
    }
   ],
   "source": [
    "df.groupby('smoker').agg({'total_bill': 'mean'})"
   ]
  },
  {
   "cell_type": "markdown",
   "id": "818f5c42",
   "metadata": {},
   "source": [
    "**Note:** There is a difference between smokers and non-smokers average bills. But it can be random. So we should check that it is statistically correct or not."
   ]
  },
  {
   "cell_type": "markdown",
   "id": "46cea8d8",
   "metadata": {},
   "source": [
    "**Step 2: Assumption Check**\n",
    "\n",
    "Assumption 1: Distributions are normal for each variable (Use shapiro test for normal distribution)<br>\n",
    "Assumption 2: Variances are homogeneus<br>"
   ]
  },
  {
   "cell_type": "markdown",
   "id": "178c8f19",
   "metadata": {},
   "source": [
    "Assumption 1:\n",
    "\n",
    "H0: Distribution is normal. <br>\n",
    "H1: Distrubution is not mormal."
   ]
  },
  {
   "cell_type": "code",
   "execution_count": 77,
   "id": "03858ea1",
   "metadata": {},
   "outputs": [
    {
     "name": "stdout",
     "output_type": "stream",
     "text": [
      "Test statistic: 0.93674, p value: 0.00022\n"
     ]
    }
   ],
   "source": [
    "test_stat, p_value = shapiro(df.loc[df['smoker'] == 'Yes', 'total_bill'])\n",
    "print(f'Test statistic: %.5f, p value: %.5f' % (test_stat, p_value))"
   ]
  },
  {
   "cell_type": "markdown",
   "id": "7e297e69",
   "metadata": {},
   "source": [
    "**Note:** if p value is less than 0.05 we can reject the HO if not we can accept HO. In this case, p value is less than 0.05 so we can say that distribution is not normal for smokers."
   ]
  },
  {
   "cell_type": "code",
   "execution_count": 73,
   "id": "e2b0005d",
   "metadata": {},
   "outputs": [
    {
     "data": {
      "text/plain": [
       "ShapiroResult(statistic=0.9367440938949585, pvalue=0.0002166620979551226)"
      ]
     },
     "execution_count": 73,
     "metadata": {},
     "output_type": "execute_result"
    }
   ],
   "source": [
    "shapiro(df.loc[df['smoker'] == 'Yes', 'total_bill'])"
   ]
  },
  {
   "cell_type": "code",
   "execution_count": 79,
   "id": "6c95b36c",
   "metadata": {},
   "outputs": [
    {
     "name": "stdout",
     "output_type": "stream",
     "text": [
      "Test statistic: 0.90453, p value: 0.00000\n"
     ]
    }
   ],
   "source": [
    "test_stat, p_value = shapiro(df.loc[df['smoker'] == 'No', 'total_bill'])\n",
    "print(f'Test statistic: %.5f, p value: %.5f' % (test_stat, p_value))"
   ]
  },
  {
   "cell_type": "markdown",
   "id": "349be737",
   "metadata": {},
   "source": [
    "**Note:** P value is less than 0.05 so we can say that distribution is not normal for non-smokers."
   ]
  },
  {
   "cell_type": "markdown",
   "id": "d012b377",
   "metadata": {},
   "source": [
    "Assumption 2:\n",
    "\n",
    "H0: Variances are homogeneus. <br>\n",
    "H1: Variances are not homogeneus."
   ]
  },
  {
   "cell_type": "code",
   "execution_count": 81,
   "id": "f3835819",
   "metadata": {},
   "outputs": [
    {
     "name": "stdout",
     "output_type": "stream",
     "text": [
      "Test statistic: 4.05373, p value: 0.04518\n"
     ]
    }
   ],
   "source": [
    "test_stat, p_value = levene(df.loc[df['smoker'] == 'Yes', 'total_bill'],\n",
    "                           df.loc[df['smoker'] == 'No', 'total_bill'])\n",
    "print(f'Test statistic: %.5f, p value: %.5f' % (test_stat, p_value))"
   ]
  },
  {
   "cell_type": "markdown",
   "id": "1dbb6329",
   "metadata": {},
   "source": [
    "**Note:** P value is less than 0.05 so we can say that variances are not homogeneous for both of them."
   ]
  },
  {
   "cell_type": "markdown",
   "id": "c420417d",
   "metadata": {},
   "source": [
    "**Step 3: Apply Hypothesis**\n",
    "\n",
    "Assuptions are not correct that's why we can go directly non parametric test."
   ]
  },
  {
   "cell_type": "code",
   "execution_count": 82,
   "id": "39d9c02c",
   "metadata": {},
   "outputs": [
    {
     "name": "stdout",
     "output_type": "stream",
     "text": [
      "Test statistic: 7531.50000, p value: 0.34133\n"
     ]
    }
   ],
   "source": [
    "test_stat, p_value = mannwhitneyu(df.loc[df['smoker'] == 'Yes', 'total_bill'],\n",
    "                           df.loc[df['smoker'] == 'No', 'total_bill'])\n",
    "print(f'Test statistic: %.5f, p value: %.5f' % (test_stat, p_value))"
   ]
  },
  {
   "cell_type": "markdown",
   "id": "d65117b5",
   "metadata": {},
   "source": [
    "\n",
    "**Note:** P value is greater than 0.05 so we should accept the HO hypothesis, which is average mean bill of smoker and non-smoker is same.\n",
    "\n",
    "___"
   ]
  },
  {
   "cell_type": "markdown",
   "id": "a6ad5a01",
   "metadata": {},
   "source": [
    "**Alternative Step: If the assumptions was correct we could use the parametric test (t test)**\n"
   ]
  },
  {
   "cell_type": "code",
   "execution_count": 83,
   "id": "0bfcad4c",
   "metadata": {},
   "outputs": [
    {
     "name": "stdout",
     "output_type": "stream",
     "text": [
      "Test statistic: 1.33844, p value: 0.18201\n"
     ]
    }
   ],
   "source": [
    "test_stat, p_value = ttest_ind(df.loc[df['smoker'] == 'Yes', 'total_bill'],\n",
    "                           df.loc[df['smoker'] == 'No', 'total_bill'])\n",
    "print(f'Test statistic: %.5f, p value: %.5f' % (test_stat, p_value))"
   ]
  },
  {
   "cell_type": "markdown",
   "id": "5d959311",
   "metadata": {},
   "source": [
    "**Note:** We get same result. P value is grater than 0.05 so we should accept the H0 hypothesis."
   ]
  }
 ],
 "metadata": {
  "kernelspec": {
   "display_name": "Python 3 (ipykernel)",
   "language": "python",
   "name": "python3"
  },
  "language_info": {
   "codemirror_mode": {
    "name": "ipython",
    "version": 3
   },
   "file_extension": ".py",
   "mimetype": "text/x-python",
   "name": "python",
   "nbconvert_exporter": "python",
   "pygments_lexer": "ipython3",
   "version": "3.9.7"
  }
 },
 "nbformat": 4,
 "nbformat_minor": 5
}
