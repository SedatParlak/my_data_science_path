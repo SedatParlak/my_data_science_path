{
 "cells": [
  {
   "cell_type": "markdown",
   "id": "0ddaad05",
   "metadata": {},
   "source": [
    "# CART - Diabet Prediction"
   ]
  },
  {
   "cell_type": "markdown",
   "id": "96dfce2a",
   "metadata": {},
   "source": [
    "Business Problem: Can you develop a machine learning model that can predict whether people have diabetes or not when their characteristics are specified? \n",
    "___\n",
    "\n",
    "About Dataset: The dataset is part of the large dataset maintained at the National Institutes of Diabetes-Digestive-Kidney Diseases in the USA. Data used for diabetes research on Pima Indian women aged 21 years and older living in Phoenix, the 5th largest city of Arizona State in the USA. It consists of 768 observations and 8 numerical independent variables. The target variable is specified as \"outcome\"; 1 indicates positive diabetes test result, 0 indicates negative.\n",
    "___\n",
    "\n",
    "Variables:\n",
    "\n",
    "Pregnancies: Number of pregnancies<br>\n",
    "Glucose<br>\n",
    "BloodPressure: Blood pressure.<br>\n",
    "SkinThickness: Skin Thickness<br>\n",
    "Insulin<br>\n",
    "BMI: Body mass index.<br>\n",
    "DiabetesPedigreeFunction: A function that calculates our probability of having diabetes based on our ancestry.<br>\n",
    "Age: Age (years)<br>\n",
    "Outcome: Information whether the person has diabetes or not. Have the disease (1) or not (0)<br>"
   ]
  },
  {
   "cell_type": "markdown",
   "id": "d664c52d",
   "metadata": {},
   "source": [
    "**Import Libraries**"
   ]
  },
  {
   "cell_type": "code",
   "execution_count": 98,
   "id": "2bfcc7e8",
   "metadata": {},
   "outputs": [],
   "source": [
    "import warnings\n",
    "import joblib\n",
    "import pydotplus\n",
    "import numpy as np\n",
    "import pandas as pd\n",
    "import seaborn as sns\n",
    "from matplotlib import pyplot as plt\n",
    "from sklearn.preprocessing import RobustScaler\n",
    "from sklearn.tree import DecisionTreeClassifier, export_graphviz, export_text\n",
    "from sklearn.metrics import classification_report, roc_auc_score\n",
    "from sklearn.model_selection import train_test_split, GridSearchCV, cross_validate, validation_curve\n",
    "from skompiler import skompile\n",
    "import graphviz\n",
    "\n",
    "pd.set_option('display.max_columns', None)\n",
    "pd.set_option('display.width', 500)\n",
    "\n",
    "warnings.simplefilter(action='ignore', category=Warning)"
   ]
  },
  {
   "cell_type": "markdown",
   "id": "75b82fdb",
   "metadata": {},
   "source": [
    "**Read data**"
   ]
  },
  {
   "cell_type": "code",
   "execution_count": 2,
   "id": "bb0a8cf8",
   "metadata": {},
   "outputs": [],
   "source": [
    "df = pd.read_csv('diabetes.csv')"
   ]
  },
  {
   "cell_type": "code",
   "execution_count": 3,
   "id": "a09c1936",
   "metadata": {},
   "outputs": [
    {
     "data": {
      "text/html": [
       "<div>\n",
       "<style scoped>\n",
       "    .dataframe tbody tr th:only-of-type {\n",
       "        vertical-align: middle;\n",
       "    }\n",
       "\n",
       "    .dataframe tbody tr th {\n",
       "        vertical-align: top;\n",
       "    }\n",
       "\n",
       "    .dataframe thead th {\n",
       "        text-align: right;\n",
       "    }\n",
       "</style>\n",
       "<table border=\"1\" class=\"dataframe\">\n",
       "  <thead>\n",
       "    <tr style=\"text-align: right;\">\n",
       "      <th></th>\n",
       "      <th>Pregnancies</th>\n",
       "      <th>Glucose</th>\n",
       "      <th>BloodPressure</th>\n",
       "      <th>SkinThickness</th>\n",
       "      <th>Insulin</th>\n",
       "      <th>BMI</th>\n",
       "      <th>DiabetesPedigreeFunction</th>\n",
       "      <th>Age</th>\n",
       "      <th>Outcome</th>\n",
       "    </tr>\n",
       "  </thead>\n",
       "  <tbody>\n",
       "    <tr>\n",
       "      <th>0</th>\n",
       "      <td>6</td>\n",
       "      <td>148</td>\n",
       "      <td>72</td>\n",
       "      <td>35</td>\n",
       "      <td>0</td>\n",
       "      <td>33.6</td>\n",
       "      <td>0.627</td>\n",
       "      <td>50</td>\n",
       "      <td>1</td>\n",
       "    </tr>\n",
       "    <tr>\n",
       "      <th>1</th>\n",
       "      <td>1</td>\n",
       "      <td>85</td>\n",
       "      <td>66</td>\n",
       "      <td>29</td>\n",
       "      <td>0</td>\n",
       "      <td>26.6</td>\n",
       "      <td>0.351</td>\n",
       "      <td>31</td>\n",
       "      <td>0</td>\n",
       "    </tr>\n",
       "    <tr>\n",
       "      <th>2</th>\n",
       "      <td>8</td>\n",
       "      <td>183</td>\n",
       "      <td>64</td>\n",
       "      <td>0</td>\n",
       "      <td>0</td>\n",
       "      <td>23.3</td>\n",
       "      <td>0.672</td>\n",
       "      <td>32</td>\n",
       "      <td>1</td>\n",
       "    </tr>\n",
       "    <tr>\n",
       "      <th>3</th>\n",
       "      <td>1</td>\n",
       "      <td>89</td>\n",
       "      <td>66</td>\n",
       "      <td>23</td>\n",
       "      <td>94</td>\n",
       "      <td>28.1</td>\n",
       "      <td>0.167</td>\n",
       "      <td>21</td>\n",
       "      <td>0</td>\n",
       "    </tr>\n",
       "    <tr>\n",
       "      <th>4</th>\n",
       "      <td>0</td>\n",
       "      <td>137</td>\n",
       "      <td>40</td>\n",
       "      <td>35</td>\n",
       "      <td>168</td>\n",
       "      <td>43.1</td>\n",
       "      <td>2.288</td>\n",
       "      <td>33</td>\n",
       "      <td>1</td>\n",
       "    </tr>\n",
       "  </tbody>\n",
       "</table>\n",
       "</div>"
      ],
      "text/plain": [
       "   Pregnancies  Glucose  BloodPressure  SkinThickness  Insulin   BMI  DiabetesPedigreeFunction  Age  Outcome\n",
       "0            6      148             72             35        0  33.6                     0.627   50        1\n",
       "1            1       85             66             29        0  26.6                     0.351   31        0\n",
       "2            8      183             64              0        0  23.3                     0.672   32        1\n",
       "3            1       89             66             23       94  28.1                     0.167   21        0\n",
       "4            0      137             40             35      168  43.1                     2.288   33        1"
      ]
     },
     "execution_count": 3,
     "metadata": {},
     "output_type": "execute_result"
    }
   ],
   "source": [
    "df.head()"
   ]
  },
  {
   "cell_type": "markdown",
   "id": "d280284b",
   "metadata": {},
   "source": [
    "## 1) Exploratory Data Analysis (EDA)"
   ]
  },
  {
   "cell_type": "code",
   "execution_count": 4,
   "id": "a68e0acc",
   "metadata": {},
   "outputs": [
    {
     "name": "stdout",
     "output_type": "stream",
     "text": [
      "<class 'pandas.core.frame.DataFrame'>\n",
      "RangeIndex: 768 entries, 0 to 767\n",
      "Data columns (total 9 columns):\n",
      " #   Column                    Non-Null Count  Dtype  \n",
      "---  ------                    --------------  -----  \n",
      " 0   Pregnancies               768 non-null    int64  \n",
      " 1   Glucose                   768 non-null    int64  \n",
      " 2   BloodPressure             768 non-null    int64  \n",
      " 3   SkinThickness             768 non-null    int64  \n",
      " 4   Insulin                   768 non-null    int64  \n",
      " 5   BMI                       768 non-null    float64\n",
      " 6   DiabetesPedigreeFunction  768 non-null    float64\n",
      " 7   Age                       768 non-null    int64  \n",
      " 8   Outcome                   768 non-null    int64  \n",
      "dtypes: float64(2), int64(7)\n",
      "memory usage: 54.1 KB\n"
     ]
    }
   ],
   "source": [
    "df.info()"
   ]
  },
  {
   "cell_type": "markdown",
   "id": "d20fa127",
   "metadata": {},
   "source": [
    "**Check missing values**"
   ]
  },
  {
   "cell_type": "code",
   "execution_count": 5,
   "id": "daea5c20",
   "metadata": {},
   "outputs": [
    {
     "data": {
      "text/plain": [
       "Pregnancies                 0\n",
       "Glucose                     0\n",
       "BloodPressure               0\n",
       "SkinThickness               0\n",
       "Insulin                     0\n",
       "BMI                         0\n",
       "DiabetesPedigreeFunction    0\n",
       "Age                         0\n",
       "Outcome                     0\n",
       "dtype: int64"
      ]
     },
     "execution_count": 5,
     "metadata": {},
     "output_type": "execute_result"
    }
   ],
   "source": [
    "df.isnull().sum()"
   ]
  },
  {
   "cell_type": "markdown",
   "id": "b653c9ff",
   "metadata": {},
   "source": [
    "**Check unique values**"
   ]
  },
  {
   "cell_type": "code",
   "execution_count": 6,
   "id": "2fc70867",
   "metadata": {},
   "outputs": [
    {
     "data": {
      "text/plain": [
       "Pregnancies                  17\n",
       "Glucose                     136\n",
       "BloodPressure                47\n",
       "SkinThickness                51\n",
       "Insulin                     186\n",
       "BMI                         248\n",
       "DiabetesPedigreeFunction    517\n",
       "Age                          52\n",
       "Outcome                       2\n",
       "dtype: int64"
      ]
     },
     "execution_count": 6,
     "metadata": {},
     "output_type": "execute_result"
    }
   ],
   "source": [
    "df.nunique()"
   ]
  },
  {
   "cell_type": "markdown",
   "id": "806a577d",
   "metadata": {},
   "source": [
    "**Check numerical variables**"
   ]
  },
  {
   "cell_type": "code",
   "execution_count": 7,
   "id": "859bdf61",
   "metadata": {},
   "outputs": [
    {
     "data": {
      "text/html": [
       "<div>\n",
       "<style scoped>\n",
       "    .dataframe tbody tr th:only-of-type {\n",
       "        vertical-align: middle;\n",
       "    }\n",
       "\n",
       "    .dataframe tbody tr th {\n",
       "        vertical-align: top;\n",
       "    }\n",
       "\n",
       "    .dataframe thead th {\n",
       "        text-align: right;\n",
       "    }\n",
       "</style>\n",
       "<table border=\"1\" class=\"dataframe\">\n",
       "  <thead>\n",
       "    <tr style=\"text-align: right;\">\n",
       "      <th></th>\n",
       "      <th>count</th>\n",
       "      <th>mean</th>\n",
       "      <th>std</th>\n",
       "      <th>min</th>\n",
       "      <th>25%</th>\n",
       "      <th>50%</th>\n",
       "      <th>75%</th>\n",
       "      <th>max</th>\n",
       "    </tr>\n",
       "  </thead>\n",
       "  <tbody>\n",
       "    <tr>\n",
       "      <th>Pregnancies</th>\n",
       "      <td>768.0</td>\n",
       "      <td>3.845052</td>\n",
       "      <td>3.369578</td>\n",
       "      <td>0.000</td>\n",
       "      <td>1.00000</td>\n",
       "      <td>3.0000</td>\n",
       "      <td>6.00000</td>\n",
       "      <td>17.00</td>\n",
       "    </tr>\n",
       "    <tr>\n",
       "      <th>Glucose</th>\n",
       "      <td>768.0</td>\n",
       "      <td>120.894531</td>\n",
       "      <td>31.972618</td>\n",
       "      <td>0.000</td>\n",
       "      <td>99.00000</td>\n",
       "      <td>117.0000</td>\n",
       "      <td>140.25000</td>\n",
       "      <td>199.00</td>\n",
       "    </tr>\n",
       "    <tr>\n",
       "      <th>BloodPressure</th>\n",
       "      <td>768.0</td>\n",
       "      <td>69.105469</td>\n",
       "      <td>19.355807</td>\n",
       "      <td>0.000</td>\n",
       "      <td>62.00000</td>\n",
       "      <td>72.0000</td>\n",
       "      <td>80.00000</td>\n",
       "      <td>122.00</td>\n",
       "    </tr>\n",
       "    <tr>\n",
       "      <th>SkinThickness</th>\n",
       "      <td>768.0</td>\n",
       "      <td>20.536458</td>\n",
       "      <td>15.952218</td>\n",
       "      <td>0.000</td>\n",
       "      <td>0.00000</td>\n",
       "      <td>23.0000</td>\n",
       "      <td>32.00000</td>\n",
       "      <td>99.00</td>\n",
       "    </tr>\n",
       "    <tr>\n",
       "      <th>Insulin</th>\n",
       "      <td>768.0</td>\n",
       "      <td>79.799479</td>\n",
       "      <td>115.244002</td>\n",
       "      <td>0.000</td>\n",
       "      <td>0.00000</td>\n",
       "      <td>30.5000</td>\n",
       "      <td>127.25000</td>\n",
       "      <td>846.00</td>\n",
       "    </tr>\n",
       "    <tr>\n",
       "      <th>BMI</th>\n",
       "      <td>768.0</td>\n",
       "      <td>31.992578</td>\n",
       "      <td>7.884160</td>\n",
       "      <td>0.000</td>\n",
       "      <td>27.30000</td>\n",
       "      <td>32.0000</td>\n",
       "      <td>36.60000</td>\n",
       "      <td>67.10</td>\n",
       "    </tr>\n",
       "    <tr>\n",
       "      <th>DiabetesPedigreeFunction</th>\n",
       "      <td>768.0</td>\n",
       "      <td>0.471876</td>\n",
       "      <td>0.331329</td>\n",
       "      <td>0.078</td>\n",
       "      <td>0.24375</td>\n",
       "      <td>0.3725</td>\n",
       "      <td>0.62625</td>\n",
       "      <td>2.42</td>\n",
       "    </tr>\n",
       "    <tr>\n",
       "      <th>Age</th>\n",
       "      <td>768.0</td>\n",
       "      <td>33.240885</td>\n",
       "      <td>11.760232</td>\n",
       "      <td>21.000</td>\n",
       "      <td>24.00000</td>\n",
       "      <td>29.0000</td>\n",
       "      <td>41.00000</td>\n",
       "      <td>81.00</td>\n",
       "    </tr>\n",
       "    <tr>\n",
       "      <th>Outcome</th>\n",
       "      <td>768.0</td>\n",
       "      <td>0.348958</td>\n",
       "      <td>0.476951</td>\n",
       "      <td>0.000</td>\n",
       "      <td>0.00000</td>\n",
       "      <td>0.0000</td>\n",
       "      <td>1.00000</td>\n",
       "      <td>1.00</td>\n",
       "    </tr>\n",
       "  </tbody>\n",
       "</table>\n",
       "</div>"
      ],
      "text/plain": [
       "                          count        mean         std     min       25%       50%        75%     max\n",
       "Pregnancies               768.0    3.845052    3.369578   0.000   1.00000    3.0000    6.00000   17.00\n",
       "Glucose                   768.0  120.894531   31.972618   0.000  99.00000  117.0000  140.25000  199.00\n",
       "BloodPressure             768.0   69.105469   19.355807   0.000  62.00000   72.0000   80.00000  122.00\n",
       "SkinThickness             768.0   20.536458   15.952218   0.000   0.00000   23.0000   32.00000   99.00\n",
       "Insulin                   768.0   79.799479  115.244002   0.000   0.00000   30.5000  127.25000  846.00\n",
       "BMI                       768.0   31.992578    7.884160   0.000  27.30000   32.0000   36.60000   67.10\n",
       "DiabetesPedigreeFunction  768.0    0.471876    0.331329   0.078   0.24375    0.3725    0.62625    2.42\n",
       "Age                       768.0   33.240885   11.760232  21.000  24.00000   29.0000   41.00000   81.00\n",
       "Outcome                   768.0    0.348958    0.476951   0.000   0.00000    0.0000    1.00000    1.00"
      ]
     },
     "execution_count": 7,
     "metadata": {},
     "output_type": "execute_result"
    }
   ],
   "source": [
    "df.describe().T"
   ]
  },
  {
   "cell_type": "markdown",
   "id": "68a105dd",
   "metadata": {},
   "source": [
    "**Numerical variables analysis**"
   ]
  },
  {
   "cell_type": "code",
   "execution_count": 8,
   "id": "f980e8e6",
   "metadata": {},
   "outputs": [],
   "source": [
    "def num_summary(dataframe, numerical_col, plot=False):\n",
    "    print(numerical_col.upper())\n",
    "    quantiles = [0.1, 0.2, 0.3, 0.4, 0.5, 0.6, 0.7, 0.8, 0.9]\n",
    "    print(dataframe[numerical_col].describe(quantiles).T)\n",
    "    \n",
    "    if plot:\n",
    "        sns.histplot(data=dataframe, x=col)\n",
    "# \n",
    "        plt.title(numerical_col)\n",
    "        plt.xlabel(numerical_col)\n",
    "        plt.show()\n",
    "       \n",
    "    print(100*'-', '\\n')"
   ]
  },
  {
   "cell_type": "code",
   "execution_count": 9,
   "id": "8b11bcb8",
   "metadata": {
    "scrolled": false
   },
   "outputs": [
    {
     "name": "stdout",
     "output_type": "stream",
     "text": [
      "PREGNANCIES\n",
      "count    768.000000\n",
      "mean       3.845052\n",
      "std        3.369578\n",
      "min        0.000000\n",
      "10%        0.000000\n",
      "20%        1.000000\n",
      "30%        1.000000\n",
      "40%        2.000000\n",
      "50%        3.000000\n",
      "60%        4.000000\n",
      "70%        5.000000\n",
      "80%        7.000000\n",
      "90%        9.000000\n",
      "max       17.000000\n",
      "Name: Pregnancies, dtype: float64\n"
     ]
    },
    {
     "data": {
      "image/png": "[encoded data removed]",
      "text/plain": [
       "<Figure size 640x480 with 1 Axes>"
      ]
     },
     "metadata": {},
     "output_type": "display_data"
    },
    {
     "name": "stdout",
     "output_type": "stream",
     "text": [
      "---------------------------------------------------------------------------------------------------- \n",
      "\n",
      "GLUCOSE\n",
      "count    768.000000\n",
      "mean     120.894531\n",
      "std       31.972618\n",
      "min        0.000000\n",
      "10%       85.000000\n",
      "20%       95.000000\n",
      "30%      102.000000\n",
      "40%      109.000000\n",
      "50%      117.000000\n",
      "60%      125.000000\n",
      "70%      134.000000\n",
      "80%      147.000000\n",
      "90%      167.000000\n",
      "max      199.000000\n",
      "Name: Glucose, dtype: float64\n"
     ]
    },
    {
     "data": {
      "image/png": "[encoded data removed]",
      "text/plain": [
       "<Figure size 640x480 with 1 Axes>"
      ]
     },
     "metadata": {},
     "output_type": "display_data"
    },
    {
     "name": "stdout",
     "output_type": "stream",
     "text": [
      "---------------------------------------------------------------------------------------------------- \n",
      "\n",
      "BLOODPRESSURE\n",
      "count    768.000000\n",
      "mean      69.105469\n",
      "std       19.355807\n",
      "min        0.000000\n",
      "10%       54.000000\n",
      "20%       60.000000\n",
      "30%       64.000000\n",
      "40%       68.000000\n",
      "50%       72.000000\n",
      "60%       74.000000\n",
      "70%       78.000000\n",
      "80%       82.000000\n",
      "90%       88.000000\n",
      "max      122.000000\n",
      "Name: BloodPressure, dtype: float64\n"
     ]
    },
    {
     "data": {
      "image/png": "[encoded data removed]",
      "text/plain": [
       "<Figure size 640x480 with 1 Axes>"
      ]
     },
     "metadata": {},
     "output_type": "display_data"
    },
    {
     "name": "stdout",
     "output_type": "stream",
     "text": [
      "---------------------------------------------------------------------------------------------------- \n",
      "\n",
      "SKINTHICKNESS\n",
      "count    768.000000\n",
      "mean      20.536458\n",
      "std       15.952218\n",
      "min        0.000000\n",
      "10%        0.000000\n",
      "20%        0.000000\n",
      "30%        8.200000\n",
      "40%       18.000000\n",
      "50%       23.000000\n",
      "60%       27.000000\n",
      "70%       31.000000\n",
      "80%       35.000000\n",
      "90%       40.000000\n",
      "max       99.000000\n",
      "Name: SkinThickness, dtype: float64\n"
     ]
    },
    {
     "data": {
      "image/png": "[encoded data removed]",
      "text/plain": [
       "<Figure size 640x480 with 1 Axes>"
      ]
     },
     "metadata": {},
     "output_type": "display_data"
    },
    {
     "name": "stdout",
     "output_type": "stream",
     "text": [
      "---------------------------------------------------------------------------------------------------- \n",
      "\n",
      "INSULIN\n",
      "count    768.000000\n",
      "mean      79.799479\n",
      "std      115.244002\n",
      "min        0.000000\n",
      "10%        0.000000\n",
      "20%        0.000000\n",
      "30%        0.000000\n",
      "40%        0.000000\n",
      "50%       30.500000\n",
      "60%       72.200000\n",
      "70%      106.000000\n",
      "80%      150.000000\n",
      "90%      210.000000\n",
      "max      846.000000\n",
      "Name: Insulin, dtype: float64\n"
     ]
    },
    {
     "data": {
      "image/png": "[encoded data removed]",
      "text/plain": [
       "<Figure size 640x480 with 1 Axes>"
      ]
     },
     "metadata": {},
     "output_type": "display_data"
    },
    {
     "name": "stdout",
     "output_type": "stream",
     "text": [
      "---------------------------------------------------------------------------------------------------- \n",
      "\n",
      "BMI\n",
      "count    768.000000\n",
      "mean      31.992578\n",
      "std        7.884160\n",
      "min        0.000000\n",
      "10%       23.600000\n",
      "20%       25.900000\n",
      "30%       28.200000\n",
      "40%       30.100000\n",
      "50%       32.000000\n",
      "60%       33.700000\n",
      "70%       35.490000\n",
      "80%       37.800000\n",
      "90%       41.500000\n",
      "max       67.100000\n",
      "Name: BMI, dtype: float64\n"
     ]
    },
    {
     "data": {
      "image/png": "[encoded data removed]",
      "text/plain": [
       "<Figure size 640x480 with 1 Axes>"
      ]
     },
     "metadata": {},
     "output_type": "display_data"
    },
    {
     "name": "stdout",
     "output_type": "stream",
     "text": [
      "---------------------------------------------------------------------------------------------------- \n",
      "\n",
      "DIABETESPEDIGREEFUNCTION\n",
      "count    768.000000\n",
      "mean       0.471876\n",
      "std        0.331329\n",
      "min        0.078000\n",
      "10%        0.165000\n",
      "20%        0.219400\n",
      "30%        0.259000\n",
      "40%        0.302800\n",
      "50%        0.372500\n",
      "60%        0.454200\n",
      "70%        0.563700\n",
      "80%        0.687000\n",
      "90%        0.878600\n",
      "max        2.420000\n",
      "Name: DiabetesPedigreeFunction, dtype: float64\n"
     ]
    },
    {
     "data": {
      "image/png": "[encoded data removed]",
      "text/plain": [
       "<Figure size 640x480 with 1 Axes>"
      ]
     },
     "metadata": {},
     "output_type": "display_data"
    },
    {
     "name": "stdout",
     "output_type": "stream",
     "text": [
      "---------------------------------------------------------------------------------------------------- \n",
      "\n",
      "AGE\n",
      "count    768.000000\n",
      "mean      33.240885\n",
      "std       11.760232\n",
      "min       21.000000\n",
      "10%       22.000000\n",
      "20%       23.000000\n",
      "30%       25.000000\n",
      "40%       27.000000\n",
      "50%       29.000000\n",
      "60%       33.000000\n",
      "70%       38.000000\n",
      "80%       42.600000\n",
      "90%       51.000000\n",
      "max       81.000000\n",
      "Name: Age, dtype: float64\n"
     ]
    },
    {
     "data": {
      "image/png": "[encoded data removed]",
      "text/plain": [
       "<Figure size 640x480 with 1 Axes>"
      ]
     },
     "metadata": {},
     "output_type": "display_data"
    },
    {
     "name": "stdout",
     "output_type": "stream",
     "text": [
      "---------------------------------------------------------------------------------------------------- \n",
      "\n"
     ]
    }
   ],
   "source": [
    "for col in df.columns[:-1]:\n",
    "    num_summary(df, col, plot=True)"
   ]
  },
  {
   "cell_type": "markdown",
   "id": "ce1e4eee",
   "metadata": {},
   "source": [
    "**Target variables analysis**"
   ]
  },
  {
   "cell_type": "code",
   "execution_count": 10,
   "id": "27d0cc74",
   "metadata": {},
   "outputs": [],
   "source": [
    "def cat_summary(dataframe, col_name, plot=False):\n",
    "    print(pd.DataFrame({col_name: dataframe[col_name].value_counts(),\n",
    "                       'Ratio': round(100*(dataframe[col_name].value_counts()) / len(dataframe), 2)}))\n",
    "    \n",
    "    if plot:\n",
    "        sns.countplot(x=col_name, data=dataframe)\n",
    "        plt.show()"
   ]
  },
  {
   "cell_type": "code",
   "execution_count": 11,
   "id": "5ce5af48",
   "metadata": {},
   "outputs": [
    {
     "name": "stdout",
     "output_type": "stream",
     "text": [
      "   Outcome  Ratio\n",
      "0      500   65.1\n",
      "1      268   34.9\n"
     ]
    },
    {
     "data": {
      "image/png": "[encoded data removed]",
      "text/plain": [
       "<Figure size 640x480 with 1 Axes>"
      ]
     },
     "metadata": {},
     "output_type": "display_data"
    }
   ],
   "source": [
    "cat_summary(df, 'Outcome', plot=True)"
   ]
  },
  {
   "cell_type": "code",
   "execution_count": 12,
   "id": "6634a70e",
   "metadata": {},
   "outputs": [],
   "source": [
    "def target_summary_with_num(dataframe, target, numerical_col):\n",
    "    print(dataframe.groupby(target).agg({numerical_col: 'mean'}))"
   ]
  },
  {
   "cell_type": "code",
   "execution_count": 13,
   "id": "5cb6b952",
   "metadata": {},
   "outputs": [
    {
     "name": "stdout",
     "output_type": "stream",
     "text": [
      "         Pregnancies\n",
      "Outcome             \n",
      "0           3.298000\n",
      "1           4.865672\n",
      "            Glucose\n",
      "Outcome            \n",
      "0        109.980000\n",
      "1        141.257463\n",
      "         BloodPressure\n",
      "Outcome               \n",
      "0            68.184000\n",
      "1            70.824627\n",
      "         SkinThickness\n",
      "Outcome               \n",
      "0            19.664000\n",
      "1            22.164179\n",
      "            Insulin\n",
      "Outcome            \n",
      "0         68.792000\n",
      "1        100.335821\n",
      "               BMI\n",
      "Outcome           \n",
      "0        30.304200\n",
      "1        35.142537\n",
      "         DiabetesPedigreeFunction\n",
      "Outcome                          \n",
      "0                        0.429734\n",
      "1                        0.550500\n",
      "               Age\n",
      "Outcome           \n",
      "0        31.190000\n",
      "1        37.067164\n"
     ]
    }
   ],
   "source": [
    "for col in df.columns[:-1]:\n",
    "    target_summary_with_num(df, 'Outcome', col)"
   ]
  },
  {
   "cell_type": "markdown",
   "id": "c3714338",
   "metadata": {},
   "source": [
    "## 2) Data Preprocessing"
   ]
  },
  {
   "cell_type": "markdown",
   "id": "7a16b93e",
   "metadata": {},
   "source": [
    "**Outlier Control**"
   ]
  },
  {
   "cell_type": "code",
   "execution_count": 14,
   "id": "15260a54",
   "metadata": {},
   "outputs": [],
   "source": [
    "def outlier_thresholds(dataframe, col_name, q1=0.05, q3=0.95):\n",
    "    quartile1 = dataframe[col_name].quantile(q1)\n",
    "    quartile3 = dataframe[col_name].quantile(q3)\n",
    "    interquantile_range = quartile3 - quartile1\n",
    "    up_limit = quartile3 + 1.5 * interquantile_range\n",
    "    low_limit = quartile1 - 1.5 * interquantile_range\n",
    "    return low_limit, up_limit\n",
    "\n",
    "def check_outlier(dataframe, col_name):\n",
    "    low_limit, up_limit = outlier_thresholds(dataframe, col_name)\n",
    "    if dataframe[(dataframe[col_name] > up_limit) | (dataframe[col_name] < low_limit)].any(axis=None):\n",
    "        return True\n",
    "    else:\n",
    "        return False\n",
    "\n",
    "def replace_with_thresholds(dataframe, variable):\n",
    "    low_limit, up_limit = outlier_thresholds(dataframe, variable)\n",
    "    dataframe.loc[(dataframe[variable] < low_limit), variable] = low_limit\n",
    "    dataframe.loc[(dataframe[variable] > up_limit), variable] = up_limit"
   ]
  },
  {
   "cell_type": "code",
   "execution_count": 15,
   "id": "d6969df9",
   "metadata": {},
   "outputs": [
    {
     "name": "stdout",
     "output_type": "stream",
     "text": [
      "Pregnancies False\n",
      "Glucose False\n",
      "BloodPressure False\n",
      "SkinThickness False\n",
      "Insulin True\n",
      "BMI False\n",
      "DiabetesPedigreeFunction False\n",
      "Age False\n"
     ]
    }
   ],
   "source": [
    "for col in df.columns[:-1]:\n",
    "    print(col, check_outlier(df, col))"
   ]
  },
  {
   "cell_type": "markdown",
   "id": "fe6409b9",
   "metadata": {},
   "source": [
    "**There is outliers in Insulin variable and we will replace them with limits**"
   ]
  },
  {
   "cell_type": "code",
   "execution_count": 16,
   "id": "3f3228ca",
   "metadata": {},
   "outputs": [],
   "source": [
    "replace_with_thresholds(df, 'Insulin')"
   ]
  },
  {
   "cell_type": "code",
   "execution_count": 17,
   "id": "8daf942d",
   "metadata": {},
   "outputs": [
    {
     "name": "stdout",
     "output_type": "stream",
     "text": [
      "Insulin False\n"
     ]
    }
   ],
   "source": [
    "print('Insulin', check_outlier(df, 'Insulin'))"
   ]
  },
  {
   "cell_type": "markdown",
   "id": "a984c9a2",
   "metadata": {},
   "source": [
    "**Scaling with Robust**"
   ]
  },
  {
   "cell_type": "code",
   "execution_count": 18,
   "id": "545ab250",
   "metadata": {},
   "outputs": [
    {
     "data": {
      "text/plain": [
       "['Pregnancies',\n",
       " 'Glucose',\n",
       " 'BloodPressure',\n",
       " 'SkinThickness',\n",
       " 'Insulin',\n",
       " 'BMI',\n",
       " 'DiabetesPedigreeFunction',\n",
       " 'Age']"
      ]
     },
     "execution_count": 18,
     "metadata": {},
     "output_type": "execute_result"
    }
   ],
   "source": [
    "cols = df.columns[:-1].tolist()\n",
    "cols"
   ]
  },
  {
   "cell_type": "code",
   "execution_count": 19,
   "id": "33e7eaf1",
   "metadata": {},
   "outputs": [],
   "source": [
    "for col in cols:\n",
    "    df[col] = RobustScaler().fit_transform(df[[col]])"
   ]
  },
  {
   "cell_type": "code",
   "execution_count": 20,
   "id": "a08e1339",
   "metadata": {},
   "outputs": [
    {
     "data": {
      "text/html": [
       "<div>\n",
       "<style scoped>\n",
       "    .dataframe tbody tr th:only-of-type {\n",
       "        vertical-align: middle;\n",
       "    }\n",
       "\n",
       "    .dataframe tbody tr th {\n",
       "        vertical-align: top;\n",
       "    }\n",
       "\n",
       "    .dataframe thead th {\n",
       "        text-align: right;\n",
       "    }\n",
       "</style>\n",
       "<table border=\"1\" class=\"dataframe\">\n",
       "  <thead>\n",
       "    <tr style=\"text-align: right;\">\n",
       "      <th></th>\n",
       "      <th>Pregnancies</th>\n",
       "      <th>Glucose</th>\n",
       "      <th>BloodPressure</th>\n",
       "      <th>SkinThickness</th>\n",
       "      <th>Insulin</th>\n",
       "      <th>BMI</th>\n",
       "      <th>DiabetesPedigreeFunction</th>\n",
       "      <th>Age</th>\n",
       "      <th>Outcome</th>\n",
       "    </tr>\n",
       "  </thead>\n",
       "  <tbody>\n",
       "    <tr>\n",
       "      <th>0</th>\n",
       "      <td>0.6</td>\n",
       "      <td>0.751515</td>\n",
       "      <td>0.000000</td>\n",
       "      <td>0.37500</td>\n",
       "      <td>-0.239686</td>\n",
       "      <td>0.172043</td>\n",
       "      <td>0.665359</td>\n",
       "      <td>1.235294</td>\n",
       "      <td>1</td>\n",
       "    </tr>\n",
       "    <tr>\n",
       "      <th>1</th>\n",
       "      <td>-0.4</td>\n",
       "      <td>-0.775758</td>\n",
       "      <td>-0.333333</td>\n",
       "      <td>0.18750</td>\n",
       "      <td>-0.239686</td>\n",
       "      <td>-0.580645</td>\n",
       "      <td>-0.056209</td>\n",
       "      <td>0.117647</td>\n",
       "      <td>0</td>\n",
       "    </tr>\n",
       "    <tr>\n",
       "      <th>2</th>\n",
       "      <td>1.0</td>\n",
       "      <td>1.600000</td>\n",
       "      <td>-0.444444</td>\n",
       "      <td>-0.71875</td>\n",
       "      <td>-0.239686</td>\n",
       "      <td>-0.935484</td>\n",
       "      <td>0.783007</td>\n",
       "      <td>0.176471</td>\n",
       "      <td>1</td>\n",
       "    </tr>\n",
       "    <tr>\n",
       "      <th>3</th>\n",
       "      <td>-0.4</td>\n",
       "      <td>-0.678788</td>\n",
       "      <td>-0.333333</td>\n",
       "      <td>0.00000</td>\n",
       "      <td>0.499018</td>\n",
       "      <td>-0.419355</td>\n",
       "      <td>-0.537255</td>\n",
       "      <td>-0.470588</td>\n",
       "      <td>0</td>\n",
       "    </tr>\n",
       "    <tr>\n",
       "      <th>4</th>\n",
       "      <td>-0.6</td>\n",
       "      <td>0.484848</td>\n",
       "      <td>-1.777778</td>\n",
       "      <td>0.37500</td>\n",
       "      <td>1.080550</td>\n",
       "      <td>1.193548</td>\n",
       "      <td>5.007843</td>\n",
       "      <td>0.235294</td>\n",
       "      <td>1</td>\n",
       "    </tr>\n",
       "  </tbody>\n",
       "</table>\n",
       "</div>"
      ],
      "text/plain": [
       "   Pregnancies   Glucose  BloodPressure  SkinThickness   Insulin       BMI  DiabetesPedigreeFunction       Age  Outcome\n",
       "0          0.6  0.751515       0.000000        0.37500 -0.239686  0.172043                  0.665359  1.235294        1\n",
       "1         -0.4 -0.775758      -0.333333        0.18750 -0.239686 -0.580645                 -0.056209  0.117647        0\n",
       "2          1.0  1.600000      -0.444444       -0.71875 -0.239686 -0.935484                  0.783007  0.176471        1\n",
       "3         -0.4 -0.678788      -0.333333        0.00000  0.499018 -0.419355                 -0.537255 -0.470588        0\n",
       "4         -0.6  0.484848      -1.777778        0.37500  1.080550  1.193548                  5.007843  0.235294        1"
      ]
     },
     "execution_count": 20,
     "metadata": {},
     "output_type": "execute_result"
    }
   ],
   "source": [
    "df.head()"
   ]
  },
  {
   "cell_type": "markdown",
   "id": "12e8ceb1",
   "metadata": {},
   "source": [
    "## 3) Modelling"
   ]
  },
  {
   "cell_type": "code",
   "execution_count": 21,
   "id": "ab57f6b4",
   "metadata": {},
   "outputs": [],
   "source": [
    "y = df[['Outcome']]\n",
    "X = df.drop('Outcome', axis=1)"
   ]
  },
  {
   "cell_type": "code",
   "execution_count": 22,
   "id": "b0d151db",
   "metadata": {},
   "outputs": [],
   "source": [
    "cart_model = DecisionTreeClassifier(random_state=1).fit(X, y)"
   ]
  },
  {
   "cell_type": "markdown",
   "id": "ba98b2d9",
   "metadata": {},
   "source": [
    "**Prediction and probability**"
   ]
  },
  {
   "cell_type": "code",
   "execution_count": 23,
   "id": "c5904d2f",
   "metadata": {},
   "outputs": [],
   "source": [
    "y_predictions = cart_model.predict(X)"
   ]
  },
  {
   "cell_type": "code",
   "execution_count": 24,
   "id": "6a1b8317",
   "metadata": {},
   "outputs": [],
   "source": [
    "y_probability = cart_model.predict_proba(X)[:, 1]"
   ]
  },
  {
   "cell_type": "markdown",
   "id": "32a2298f",
   "metadata": {},
   "source": [
    "**Report**"
   ]
  },
  {
   "cell_type": "code",
   "execution_count": 25,
   "id": "d164b424",
   "metadata": {},
   "outputs": [
    {
     "name": "stdout",
     "output_type": "stream",
     "text": [
      "              precision    recall  f1-score   support\n",
      "\n",
      "           0       1.00      1.00      1.00       500\n",
      "           1       1.00      1.00      1.00       268\n",
      "\n",
      "    accuracy                           1.00       768\n",
      "   macro avg       1.00      1.00      1.00       768\n",
      "weighted avg       1.00      1.00      1.00       768\n",
      "\n"
     ]
    }
   ],
   "source": [
    "print(classification_report(y, y_predictions))"
   ]
  },
  {
   "cell_type": "markdown",
   "id": "000c901a",
   "metadata": {},
   "source": [
    "**Roc AUC score**"
   ]
  },
  {
   "cell_type": "code",
   "execution_count": 26,
   "id": "c48162bb",
   "metadata": {},
   "outputs": [
    {
     "data": {
      "text/plain": [
       "1.0"
      ]
     },
     "execution_count": 26,
     "metadata": {},
     "output_type": "execute_result"
    }
   ],
   "source": [
    "roc_auc_score(y, y_probability)"
   ]
  },
  {
   "cell_type": "markdown",
   "id": "92977958",
   "metadata": {},
   "source": [
    "## 4) Model Evaulation with Holdout"
   ]
  },
  {
   "cell_type": "code",
   "execution_count": 27,
   "id": "3b3aa431",
   "metadata": {},
   "outputs": [],
   "source": [
    "X_train, X_test, y_train, y_test = train_test_split(X, y, test_size=0.3, random_state=17)"
   ]
  },
  {
   "cell_type": "markdown",
   "id": "f2b4ae56",
   "metadata": {},
   "source": [
    "**Train Report**"
   ]
  },
  {
   "cell_type": "code",
   "execution_count": 28,
   "id": "1ff74596",
   "metadata": {},
   "outputs": [],
   "source": [
    "cart_model = DecisionTreeClassifier(random_state=17).fit(X_train, y_train)\n",
    "y_predict = cart_model.predict(X_train)\n",
    "y_prob = cart_model.predict_proba(X_train)[:, 1]"
   ]
  },
  {
   "cell_type": "code",
   "execution_count": 29,
   "id": "4e287c3a",
   "metadata": {},
   "outputs": [
    {
     "name": "stdout",
     "output_type": "stream",
     "text": [
      "              precision    recall  f1-score   support\n",
      "\n",
      "           0       1.00      1.00      1.00       350\n",
      "           1       1.00      1.00      1.00       187\n",
      "\n",
      "    accuracy                           1.00       537\n",
      "   macro avg       1.00      1.00      1.00       537\n",
      "weighted avg       1.00      1.00      1.00       537\n",
      "\n"
     ]
    }
   ],
   "source": [
    "print(classification_report(y_train, y_predict))"
   ]
  },
  {
   "cell_type": "code",
   "execution_count": 30,
   "id": "e4f190ac",
   "metadata": {},
   "outputs": [
    {
     "data": {
      "text/plain": [
       "1.0"
      ]
     },
     "execution_count": 30,
     "metadata": {},
     "output_type": "execute_result"
    }
   ],
   "source": [
    "roc_auc_score(y_train, y_prob)"
   ]
  },
  {
   "cell_type": "markdown",
   "id": "61f20cc0",
   "metadata": {},
   "source": [
    "**Test Report**"
   ]
  },
  {
   "cell_type": "code",
   "execution_count": 31,
   "id": "d17adaee",
   "metadata": {},
   "outputs": [],
   "source": [
    "y_predict = cart_model.predict(X_test)\n",
    "y_prob = cart_model.predict_proba(X_test)[:, 1]"
   ]
  },
  {
   "cell_type": "code",
   "execution_count": 32,
   "id": "647bc58f",
   "metadata": {},
   "outputs": [
    {
     "name": "stdout",
     "output_type": "stream",
     "text": [
      "              precision    recall  f1-score   support\n",
      "\n",
      "           0       0.77      0.78      0.77       150\n",
      "           1       0.58      0.57      0.58        81\n",
      "\n",
      "    accuracy                           0.71       231\n",
      "   macro avg       0.68      0.67      0.67       231\n",
      "weighted avg       0.70      0.71      0.70       231\n",
      "\n"
     ]
    }
   ],
   "source": [
    "print(classification_report(y_test, y_predict))"
   ]
  },
  {
   "cell_type": "code",
   "execution_count": 33,
   "id": "eb8b0cf3",
   "metadata": {},
   "outputs": [
    {
     "data": {
      "text/plain": [
       "0.6739506172839506"
      ]
     },
     "execution_count": 33,
     "metadata": {},
     "output_type": "execute_result"
    }
   ],
   "source": [
    "roc_auc_score(y_test, y_prob)"
   ]
  },
  {
   "cell_type": "markdown",
   "id": "a658ce92",
   "metadata": {},
   "source": [
    "## 5) Model Evaulation with Cross Validation"
   ]
  },
  {
   "cell_type": "code",
   "execution_count": 34,
   "id": "a802c513",
   "metadata": {},
   "outputs": [],
   "source": [
    "cart_model = DecisionTreeClassifier(random_state=17).fit(X, y)"
   ]
  },
  {
   "cell_type": "code",
   "execution_count": 35,
   "id": "21afb906",
   "metadata": {},
   "outputs": [],
   "source": [
    "cv_result = cross_validate(cart_model, X, y, cv=5, scoring=['accuracy', 'f1', 'roc_auc'])"
   ]
  },
  {
   "cell_type": "code",
   "execution_count": 36,
   "id": "a8221525",
   "metadata": {},
   "outputs": [
    {
     "data": {
      "text/plain": [
       "{'fit_time': array([0.00900602, 0.00598335, 0.00499034, 0.00597835, 0.00398874]),\n",
       " 'score_time': array([0.00794649, 0.00698495, 0.00697947, 0.0059998 , 0.0039897 ]),\n",
       " 'test_accuracy': array([0.7012987 , 0.65584416, 0.67532468, 0.78431373, 0.7254902 ]),\n",
       " 'test_f1': array([0.54      , 0.56910569, 0.51923077, 0.66666667, 0.58      ]),\n",
       " 'test_roc_auc': array([0.655     , 0.65407407, 0.635     , 0.74632075, 0.68358491])}"
      ]
     },
     "execution_count": 36,
     "metadata": {},
     "output_type": "execute_result"
    }
   ],
   "source": [
    "cv_result"
   ]
  },
  {
   "cell_type": "code",
   "execution_count": 37,
   "id": "ef1a5072",
   "metadata": {},
   "outputs": [
    {
     "data": {
      "text/plain": [
       "0.708454290807232"
      ]
     },
     "execution_count": 37,
     "metadata": {},
     "output_type": "execute_result"
    }
   ],
   "source": [
    "cv_result['test_accuracy'].mean()"
   ]
  },
  {
   "cell_type": "code",
   "execution_count": 38,
   "id": "c95a947e",
   "metadata": {},
   "outputs": [
    {
     "data": {
      "text/plain": [
       "0.5750006253908693"
      ]
     },
     "execution_count": 38,
     "metadata": {},
     "output_type": "execute_result"
    }
   ],
   "source": [
    "cv_result['test_f1'].mean()"
   ]
  },
  {
   "cell_type": "code",
   "execution_count": 39,
   "id": "1b481345",
   "metadata": {},
   "outputs": [
    {
     "data": {
      "text/plain": [
       "0.6747959468902865"
      ]
     },
     "execution_count": 39,
     "metadata": {},
     "output_type": "execute_result"
    }
   ],
   "source": [
    "cv_result['test_roc_auc'].mean()"
   ]
  },
  {
   "cell_type": "markdown",
   "id": "9ad28e54",
   "metadata": {},
   "source": [
    "## 6) Hyperparameters"
   ]
  },
  {
   "cell_type": "code",
   "execution_count": 40,
   "id": "f23e5488",
   "metadata": {},
   "outputs": [
    {
     "data": {
      "text/plain": [
       "{'ccp_alpha': 0.0,\n",
       " 'class_weight': None,\n",
       " 'criterion': 'gini',\n",
       " 'max_depth': None,\n",
       " 'max_features': None,\n",
       " 'max_leaf_nodes': None,\n",
       " 'min_impurity_decrease': 0.0,\n",
       " 'min_samples_leaf': 1,\n",
       " 'min_samples_split': 2,\n",
       " 'min_weight_fraction_leaf': 0.0,\n",
       " 'random_state': 17,\n",
       " 'splitter': 'best'}"
      ]
     },
     "execution_count": 40,
     "metadata": {},
     "output_type": "execute_result"
    }
   ],
   "source": [
    "cart_model.get_params()"
   ]
  },
  {
   "cell_type": "markdown",
   "id": "c9f06541",
   "metadata": {},
   "source": [
    "Most important parameters for CART are min_samples_split and max_depth"
   ]
  },
  {
   "cell_type": "code",
   "execution_count": 41,
   "id": "6b42627a",
   "metadata": {},
   "outputs": [],
   "source": [
    "cart_params = {'max_depth': range(1, 11),\n",
    "              'min_samples_split': range(2, 20)}"
   ]
  },
  {
   "cell_type": "code",
   "execution_count": 42,
   "id": "f2c18ede",
   "metadata": {},
   "outputs": [
    {
     "name": "stdout",
     "output_type": "stream",
     "text": [
      "Fitting 5 folds for each of 180 candidates, totalling 900 fits\n"
     ]
    }
   ],
   "source": [
    "cart_best_grid = GridSearchCV(cart_model,\n",
    "            cart_params,\n",
    "            scoring='accuracy',\n",
    "            cv=5,\n",
    "            n_jobs=-1,\n",
    "            verbose=1).fit(X, y)"
   ]
  },
  {
   "cell_type": "markdown",
   "id": "f1f52029",
   "metadata": {},
   "source": [
    "**Get best params and score for accuracy**"
   ]
  },
  {
   "cell_type": "code",
   "execution_count": 43,
   "id": "32a405bf",
   "metadata": {},
   "outputs": [
    {
     "data": {
      "text/plain": [
       "{'max_depth': 5, 'min_samples_split': 4}"
      ]
     },
     "execution_count": 43,
     "metadata": {},
     "output_type": "execute_result"
    }
   ],
   "source": [
    "cart_best_grid.best_params_"
   ]
  },
  {
   "cell_type": "code",
   "execution_count": 44,
   "id": "7d483a33",
   "metadata": {},
   "outputs": [
    {
     "data": {
      "text/plain": [
       "0.7500806383159324"
      ]
     },
     "execution_count": 44,
     "metadata": {},
     "output_type": "execute_result"
    }
   ],
   "source": [
    "cart_best_grid.best_score_"
   ]
  },
  {
   "cell_type": "markdown",
   "id": "b56a83e8",
   "metadata": {},
   "source": [
    "**Get best params and score for f1 score**"
   ]
  },
  {
   "cell_type": "code",
   "execution_count": 45,
   "id": "7855746d",
   "metadata": {},
   "outputs": [
    {
     "name": "stdout",
     "output_type": "stream",
     "text": [
      "Fitting 5 folds for each of 180 candidates, totalling 900 fits\n"
     ]
    }
   ],
   "source": [
    "cart_best_grid = GridSearchCV(cart_model,\n",
    "            cart_params,\n",
    "            scoring='f1',\n",
    "            cv=5,\n",
    "            n_jobs=-1,\n",
    "            verbose=1).fit(X, y)"
   ]
  },
  {
   "cell_type": "code",
   "execution_count": 46,
   "id": "61c5af73",
   "metadata": {},
   "outputs": [
    {
     "data": {
      "text/plain": [
       "{'max_depth': 4, 'min_samples_split': 2}"
      ]
     },
     "execution_count": 46,
     "metadata": {},
     "output_type": "execute_result"
    }
   ],
   "source": [
    "cart_best_grid.best_params_"
   ]
  },
  {
   "cell_type": "code",
   "execution_count": 47,
   "id": "022dbb97",
   "metadata": {},
   "outputs": [
    {
     "data": {
      "text/plain": [
       "0.6395752751155839"
      ]
     },
     "execution_count": 47,
     "metadata": {},
     "output_type": "execute_result"
    }
   ],
   "source": [
    "cart_best_grid.best_score_"
   ]
  },
  {
   "cell_type": "markdown",
   "id": "bb9d452b",
   "metadata": {},
   "source": [
    "## 7) Final Model"
   ]
  },
  {
   "cell_type": "code",
   "execution_count": 48,
   "id": "4b52e66a",
   "metadata": {},
   "outputs": [
    {
     "name": "stdout",
     "output_type": "stream",
     "text": [
      "Fitting 5 folds for each of 180 candidates, totalling 900 fits\n"
     ]
    }
   ],
   "source": [
    "cart_best_grid = GridSearchCV(cart_model,\n",
    "            cart_params,\n",
    "            scoring='accuracy',\n",
    "            cv=5,\n",
    "            n_jobs=-1,\n",
    "            verbose=1).fit(X, y)"
   ]
  },
  {
   "cell_type": "code",
   "execution_count": 56,
   "id": "10137afa",
   "metadata": {},
   "outputs": [
    {
     "data": {
      "text/plain": [
       "{'ccp_alpha': 0.0,\n",
       " 'class_weight': None,\n",
       " 'criterion': 'gini',\n",
       " 'max_depth': 5,\n",
       " 'max_features': None,\n",
       " 'max_leaf_nodes': None,\n",
       " 'min_impurity_decrease': 0.0,\n",
       " 'min_samples_leaf': 1,\n",
       " 'min_samples_split': 4,\n",
       " 'min_weight_fraction_leaf': 0.0,\n",
       " 'random_state': 17,\n",
       " 'splitter': 'best'}"
      ]
     },
     "execution_count": 56,
     "metadata": {},
     "output_type": "execute_result"
    }
   ],
   "source": [
    "cart_final_model = DecisionTreeClassifier(**cart_best_grid.best_params_, random_state=17).fit(X, y)\n",
    "cart_final_model.get_params()"
   ]
  },
  {
   "cell_type": "markdown",
   "id": "823d4317",
   "metadata": {},
   "source": [
    "**Alternatif 2**"
   ]
  },
  {
   "cell_type": "code",
   "execution_count": 54,
   "id": "06749f6d",
   "metadata": {},
   "outputs": [],
   "source": [
    "cart_final_model = cart_model.set_params(**cart_best_grid.best_params_).fit(X, y)"
   ]
  },
  {
   "cell_type": "code",
   "execution_count": 59,
   "id": "4f832417",
   "metadata": {},
   "outputs": [],
   "source": [
    "cv_results = cross_validate(cart_final_model,\n",
    "                         X, y,\n",
    "                         cv=5,\n",
    "                         scoring=['accuracy', 'f1', 'roc_auc'])"
   ]
  },
  {
   "cell_type": "code",
   "execution_count": 60,
   "id": "ccd9888a",
   "metadata": {},
   "outputs": [
    {
     "data": {
      "text/plain": [
       "{'fit_time': array([0.00501442, 0.00498533, 0.00698447, 0.00598264, 0.00598335]),\n",
       " 'score_time': array([0.00598478, 0.00595546, 0.00897574, 0.00797892, 0.00698185]),\n",
       " 'test_accuracy': array([0.74675325, 0.68831169, 0.75324675, 0.79084967, 0.77124183]),\n",
       " 'test_f1': array([0.59793814, 0.55555556, 0.59574468, 0.69230769, 0.63157895]),\n",
       " 'test_roc_auc': array([0.81537037, 0.72333333, 0.80518519, 0.83962264, 0.8054717 ])}"
      ]
     },
     "execution_count": 60,
     "metadata": {},
     "output_type": "execute_result"
    }
   ],
   "source": [
    "cv_results"
   ]
  },
  {
   "cell_type": "code",
   "execution_count": 61,
   "id": "33097952",
   "metadata": {},
   "outputs": [
    {
     "data": {
      "text/plain": [
       "0.7500806383159324"
      ]
     },
     "execution_count": 61,
     "metadata": {},
     "output_type": "execute_result"
    }
   ],
   "source": [
    "cv_results['test_accuracy'].mean()"
   ]
  },
  {
   "cell_type": "code",
   "execution_count": 62,
   "id": "c3d4d843",
   "metadata": {},
   "outputs": [
    {
     "data": {
      "text/plain": [
       "0.614625004082526"
      ]
     },
     "execution_count": 62,
     "metadata": {},
     "output_type": "execute_result"
    }
   ],
   "source": [
    "cv_results['test_f1'].mean()"
   ]
  },
  {
   "cell_type": "code",
   "execution_count": 63,
   "id": "adcba630",
   "metadata": {},
   "outputs": [
    {
     "data": {
      "text/plain": [
       "0.797796645702306"
      ]
     },
     "execution_count": 63,
     "metadata": {},
     "output_type": "execute_result"
    }
   ],
   "source": [
    "cv_results['test_roc_auc'].mean()"
   ]
  },
  {
   "cell_type": "markdown",
   "id": "caa34d46",
   "metadata": {},
   "source": [
    "## 8) Feature Importance"
   ]
  },
  {
   "cell_type": "code",
   "execution_count": 64,
   "id": "df730da8",
   "metadata": {},
   "outputs": [
    {
     "data": {
      "text/plain": [
       "array([0.01129738, 0.49448119, 0.05065617, 0.        , 0.01497644,\n",
       "       0.22221379, 0.06819923, 0.13817579])"
      ]
     },
     "execution_count": 64,
     "metadata": {},
     "output_type": "execute_result"
    }
   ],
   "source": [
    "cart_final_model.feature_importances_"
   ]
  },
  {
   "cell_type": "code",
   "execution_count": 69,
   "id": "693d1130",
   "metadata": {},
   "outputs": [],
   "source": [
    "def plot_importance(model, features, num=len(X), save=False):\n",
    "    feature_imp = pd.DataFrame({'Value': model.feature_importances_, 'Feature': features.columns})\n",
    "    plt.figure(figsize=(10, 5))\n",
    "    sns.set(font_scale=1)\n",
    "    sns.barplot(x=\"Value\", y=\"Feature\", data=feature_imp.sort_values(by=\"Value\",\n",
    "                                                                     ascending=False)[0:num])\n",
    "    plt.title('Features')\n",
    "    plt.tight_layout()\n",
    "    plt.show()\n",
    "    if save:\n",
    "        plt.savefig('importances.png')"
   ]
  },
  {
   "cell_type": "code",
   "execution_count": 70,
   "id": "c156d751",
   "metadata": {},
   "outputs": [
    {
     "data": {
      "image/png": "[encoded data removed]",
      "text/plain": [
       "<Figure size 1000x500 with 1 Axes>"
      ]
     },
     "metadata": {},
     "output_type": "display_data"
    }
   ],
   "source": [
    "plot_importance(cart_final_model, X)"
   ]
  },
  {
   "cell_type": "markdown",
   "id": "0504817d",
   "metadata": {},
   "source": [
    "## 9) Analyzing Model Complexity with Learning Curves"
   ]
  },
  {
   "cell_type": "code",
   "execution_count": 74,
   "id": "c68b9230",
   "metadata": {},
   "outputs": [],
   "source": [
    "train_score, test_score = validation_curve(cart_final_model, X, y,\n",
    "                                           param_name='max_depth',\n",
    "                                           param_range=range(1, 11),\n",
    "                                           scoring='roc_auc',\n",
    "                                           cv=10)"
   ]
  },
  {
   "cell_type": "code",
   "execution_count": 75,
   "id": "04174c32",
   "metadata": {},
   "outputs": [
    {
     "data": {
      "text/plain": [
       "array([[0.72320885, 0.72306132, 0.68555095, 0.72350392, 0.71698479,\n",
       "        0.7011941 , 0.66131397, 0.71142923, 0.71549128, 0.71120294],\n",
       "       [0.7987598 , 0.79874136, 0.76659751, 0.8000461 , 0.80217151,\n",
       "        0.77901798, 0.76472568, 0.79175657, 0.80145087, 0.79440771],\n",
       "       [0.84255417, 0.84810512, 0.82195943, 0.84559705, 0.8434532 ,\n",
       "        0.81859843, 0.82218534, 0.83455048, 0.8413315 , 0.84593664],\n",
       "       [0.8834947 , 0.88264638, 0.86355002, 0.88926233, 0.88226372,\n",
       "        0.87104195, 0.86404334, 0.87285846, 0.87436639, 0.87684114],\n",
       "       [0.91531581, 0.9138497 , 0.89976487, 0.92513601, 0.91451821,\n",
       "        0.90380821, 0.88505302, 0.90792531, 0.91068411, 0.90586318],\n",
       "       [0.94068234, 0.94559244, 0.92840479, 0.94609959, 0.94535731,\n",
       "        0.9309728 , 0.91167819, 0.93286307, 0.94030303, 0.93088154],\n",
       "       [0.96760258, 0.96744583, 0.95147533, 0.96842785, 0.96832181,\n",
       "        0.95850161, 0.93983864, 0.96071   , 0.96145546, 0.95757576],\n",
       "       [0.97867681, 0.98590595, 0.97366067, 0.98507146, 0.98053481,\n",
       "        0.9728308 , 0.95985247, 0.97829414, 0.98042241, 0.97642792],\n",
       "       [0.99069617, 0.99204703, 0.98704472, 0.99204703, 0.98892577,\n",
       "        0.98575841, 0.97496542, 0.98844168, 0.98833792, 0.9898944 ],\n",
       "       [0.99497003, 0.99533887, 0.99343937, 0.99477639, 0.99300599,\n",
       "        0.99209774, 0.98784232, 0.99456893, 0.9943067 , 0.9956382 ]])"
      ]
     },
     "execution_count": 75,
     "metadata": {},
     "output_type": "execute_result"
    }
   ],
   "source": [
    "train_score"
   ]
  },
  {
   "cell_type": "code",
   "execution_count": 76,
   "id": "84628d22",
   "metadata": {},
   "outputs": [
    {
     "data": {
      "text/plain": [
       "array([[0.64777778, 0.64925926, 0.68074074, 0.64481481, 0.64222222,\n",
       "        0.68481481, 0.63666667, 0.75333333, 0.71692308, 0.75615385],\n",
       "       [0.73407407, 0.74888889, 0.73555556, 0.71592593, 0.61703704,\n",
       "        0.77777778, 0.70481481, 0.82555556, 0.74615385, 0.80038462],\n",
       "       [0.77666667, 0.81333333, 0.77222222, 0.68296296, 0.69296296,\n",
       "        0.82925926, 0.79259259, 0.85814815, 0.72615385, 0.80807692],\n",
       "       [0.75666667, 0.81148148, 0.74962963, 0.60740741, 0.70888889,\n",
       "        0.82111111, 0.83851852, 0.87333333, 0.77038462, 0.81961538],\n",
       "       [0.7437037 , 0.78666667, 0.76333333, 0.60037037, 0.71925926,\n",
       "        0.84814815, 0.80074074, 0.88296296, 0.75730769, 0.81769231],\n",
       "       [0.7237037 , 0.77962963, 0.7462963 , 0.59481481, 0.76259259,\n",
       "        0.82814815, 0.81592593, 0.83185185, 0.76038462, 0.77692308],\n",
       "       [0.73333333, 0.77888889, 0.75222222, 0.55777778, 0.71851852,\n",
       "        0.75444444, 0.82481481, 0.8462963 , 0.67346154, 0.76961538],\n",
       "       [0.69962963, 0.7137037 , 0.75222222, 0.5662963 , 0.63851852,\n",
       "        0.75259259, 0.81222222, 0.74111111, 0.68538462, 0.78076923],\n",
       "       [0.69185185, 0.69851852, 0.72296296, 0.54777778, 0.62185185,\n",
       "        0.7262963 , 0.82111111, 0.77777778, 0.70076923, 0.70884615],\n",
       "       [0.63592593, 0.70814815, 0.74185185, 0.55888889, 0.64407407,\n",
       "        0.7162963 , 0.82111111, 0.75      , 0.62653846, 0.74      ]])"
      ]
     },
     "execution_count": 76,
     "metadata": {},
     "output_type": "execute_result"
    }
   ],
   "source": [
    "test_score"
   ]
  },
  {
   "cell_type": "code",
   "execution_count": 80,
   "id": "ed0ea7d6",
   "metadata": {},
   "outputs": [
    {
     "data": {
      "text/plain": [
       "array([0.70729413, 0.78976751, 0.83642714, 0.87603684, 0.90819184,\n",
       "       0.93528351, 0.96013549, 0.97716774, 0.98781586, 0.99359846])"
      ]
     },
     "execution_count": 80,
     "metadata": {},
     "output_type": "execute_result"
    }
   ],
   "source": [
    "train_score_mean = np.mean(train_score, axis=1)\n",
    "train_score_mean"
   ]
  },
  {
   "cell_type": "code",
   "execution_count": 81,
   "id": "55764969",
   "metadata": {},
   "outputs": [
    {
     "data": {
      "text/plain": [
       "array([0.68127066, 0.74061681, 0.77523789, 0.7757037 , 0.77201852,\n",
       "       0.76202707, 0.74093732, 0.71424501, 0.70177635, 0.69428348])"
      ]
     },
     "execution_count": 81,
     "metadata": {},
     "output_type": "execute_result"
    }
   ],
   "source": [
    "test_score_mean = np.mean(test_score, axis=1)\n",
    "test_score_mean"
   ]
  },
  {
   "cell_type": "code",
   "execution_count": 92,
   "id": "fd05023f",
   "metadata": {},
   "outputs": [
    {
     "data": {
      "image/png": "[encoded data removed]",
      "text/plain": [
       "<Figure size 640x480 with 1 Axes>"
      ]
     },
     "metadata": {},
     "output_type": "display_data"
    }
   ],
   "source": [
    "plt.plot(range(1, 11), train_score_mean, label='Training Score', color='b')\n",
    "plt.plot(range(1, 11), test_score_mean, label='Test Score', color='g')\n",
    "plt.title(\"Validation Curve for CART\")\n",
    "plt.xlabel(\"Number of max_depth\")\n",
    "plt.ylabel(\"AUC\")\n",
    "plt.tight_layout()\n",
    "plt.legend(loc='best')\n",
    "plt.show()"
   ]
  },
  {
   "cell_type": "code",
   "execution_count": 93,
   "id": "9db0b287",
   "metadata": {},
   "outputs": [],
   "source": [
    "def val_curve_params(model, X, y, param_name, param_range, scoring=\"roc_auc\", cv=10):\n",
    "    train_score, test_score = validation_curve(\n",
    "        model, X=X, y=y, param_name=param_name, param_range=param_range, scoring=scoring, cv=cv)\n",
    "\n",
    "    mean_train_score = np.mean(train_score, axis=1)\n",
    "    mean_test_score = np.mean(test_score, axis=1)\n",
    "\n",
    "    plt.plot(param_range, mean_train_score,\n",
    "             label=\"Training Score\", color='b')\n",
    "\n",
    "    plt.plot(param_range, mean_test_score,\n",
    "             label=\"Validation Score\", color='g')\n",
    "\n",
    "    plt.title(f\"Validation Curve for {type(model).__name__}\")\n",
    "    plt.xlabel(f\"Number of {param_name}\")\n",
    "    plt.ylabel(f\"{scoring}\")\n",
    "    plt.tight_layout()\n",
    "    plt.legend(loc='best')\n",
    "    plt.show(block=True)"
   ]
  },
  {
   "cell_type": "code",
   "execution_count": 96,
   "id": "2bf98d8f",
   "metadata": {},
   "outputs": [
    {
     "data": {
      "image/png": "[encoded data removed]",
      "text/plain": [
       "<Figure size 640x480 with 1 Axes>"
      ]
     },
     "metadata": {},
     "output_type": "display_data"
    }
   ],
   "source": [
    "val_curve_params(cart_final_model, X, y, \"max_depth\", range(1, 11), scoring=\"f1\")"
   ]
  },
  {
   "cell_type": "code",
   "execution_count": 97,
   "id": "3ad02776",
   "metadata": {},
   "outputs": [
    {
     "data": {
      "image/png": "[encoded data removed]",
      "text/plain": [
       "<Figure size 640x480 with 1 Axes>"
      ]
     },
     "metadata": {},
     "output_type": "display_data"
    },
    {
     "data": {
      "image/png": "[encoded data removed]",
      "text/plain": [
       "<Figure size 640x480 with 1 Axes>"
      ]
     },
     "metadata": {},
     "output_type": "display_data"
    }
   ],
   "source": [
    "cart_val_params = [[\"max_depth\", range(1, 11)], [\"min_samples_split\", range(2, 20)]]\n",
    "\n",
    "for i in range(len(cart_val_params)):\n",
    "    val_curve_params(cart_model, X, y, cart_val_params[i][0], cart_val_params[i][1])"
   ]
  },
  {
   "cell_type": "markdown",
   "id": "4baa4db1",
   "metadata": {},
   "source": [
    "## 9) Visualizing the Decision Tree"
   ]
  },
  {
   "cell_type": "code",
   "execution_count": 105,
   "id": "7335ee31",
   "metadata": {},
   "outputs": [],
   "source": [
    "def tree_graph(model, col_names, file_name):\n",
    "    tree_str = export_graphviz(model, feature_names=col_names, filled=True, out_file=None)\n",
    "    graph = pydotplus.graph_from_dot_data(tree_str)\n",
    "    graph.write_png(file_name)"
   ]
  },
  {
   "cell_type": "code",
   "execution_count": 108,
   "id": "58f20bb7",
   "metadata": {},
   "outputs": [],
   "source": [
    "tree_graph(model=cart_final_model, col_names=X.columns, file_name=\"cart_final.png\")"
   ]
  },
  {
   "cell_type": "markdown",
   "id": "88338208",
   "metadata": {},
   "source": [
    "## 10) Extracting Decision Tree"
   ]
  },
  {
   "cell_type": "code",
   "execution_count": 110,
   "id": "da8f63cb",
   "metadata": {},
   "outputs": [
    {
     "name": "stdout",
     "output_type": "stream",
     "text": [
      "|--- Glucose <= 0.25\n",
      "|   |--- Age <= -0.03\n",
      "|   |   |--- BMI <= 1.44\n",
      "|   |   |   |--- BMI <= -0.11\n",
      "|   |   |   |   |--- Pregnancies <= 0.90\n",
      "|   |   |   |   |   |--- class: 0\n",
      "|   |   |   |   |--- Pregnancies >  0.90\n",
      "|   |   |   |   |   |--- class: 1\n",
      "|   |   |   |--- BMI >  -0.11\n",
      "|   |   |   |   |--- DiabetesPedigreeFunction <= 0.33\n",
      "|   |   |   |   |   |--- class: 0\n",
      "|   |   |   |   |--- DiabetesPedigreeFunction >  0.33\n",
      "|   |   |   |   |   |--- class: 0\n",
      "|   |   |--- BMI >  1.44\n",
      "|   |   |   |--- BloodPressure <= 1.50\n",
      "|   |   |   |   |--- class: 1\n",
      "|   |   |   |--- BloodPressure >  1.50\n",
      "|   |   |   |   |--- class: 0\n",
      "|   |--- Age >  -0.03\n",
      "|   |   |--- BMI <= -0.61\n",
      "|   |   |   |--- BMI <= -2.40\n",
      "|   |   |   |   |--- class: 1\n",
      "|   |   |   |--- BMI >  -2.40\n",
      "|   |   |   |   |--- class: 0\n",
      "|   |   |--- BMI >  -0.61\n",
      "|   |   |   |--- Glucose <= -0.42\n",
      "|   |   |   |   |--- Glucose <= -2.15\n",
      "|   |   |   |   |   |--- class: 1\n",
      "|   |   |   |   |--- Glucose >  -2.15\n",
      "|   |   |   |   |   |--- class: 0\n",
      "|   |   |   |--- Glucose >  -0.42\n",
      "|   |   |   |   |--- DiabetesPedigreeFunction <= 0.49\n",
      "|   |   |   |   |   |--- class: 0\n",
      "|   |   |   |   |--- DiabetesPedigreeFunction >  0.49\n",
      "|   |   |   |   |   |--- class: 1\n",
      "|--- Glucose >  0.25\n",
      "|   |--- BMI <= -0.22\n",
      "|   |   |--- Glucose <= 0.69\n",
      "|   |   |   |--- Insulin <= 0.80\n",
      "|   |   |   |   |--- BMI <= -0.41\n",
      "|   |   |   |   |   |--- class: 0\n",
      "|   |   |   |   |--- BMI >  -0.41\n",
      "|   |   |   |   |   |--- class: 1\n",
      "|   |   |   |--- Insulin >  0.80\n",
      "|   |   |   |   |--- class: 0\n",
      "|   |   |--- Glucose >  0.69\n",
      "|   |   |   |--- Age <= -0.21\n",
      "|   |   |   |   |--- class: 0\n",
      "|   |   |   |--- Age >  -0.21\n",
      "|   |   |   |   |--- Age <= 1.88\n",
      "|   |   |   |   |   |--- class: 1\n",
      "|   |   |   |   |--- Age >  1.88\n",
      "|   |   |   |   |   |--- class: 0\n",
      "|   |--- BMI >  -0.22\n",
      "|   |   |--- Glucose <= 0.98\n",
      "|   |   |   |--- Age <= 0.09\n",
      "|   |   |   |   |--- BloodPressure <= -0.61\n",
      "|   |   |   |   |   |--- class: 1\n",
      "|   |   |   |   |--- BloodPressure >  -0.61\n",
      "|   |   |   |   |   |--- class: 0\n",
      "|   |   |   |--- Age >  0.09\n",
      "|   |   |   |   |--- DiabetesPedigreeFunction <= 0.15\n",
      "|   |   |   |   |   |--- class: 1\n",
      "|   |   |   |   |--- DiabetesPedigreeFunction >  0.15\n",
      "|   |   |   |   |   |--- class: 1\n",
      "|   |   |--- Glucose >  0.98\n",
      "|   |   |   |--- Insulin <= 4.71\n",
      "|   |   |   |   |--- DiabetesPedigreeFunction <= -0.19\n",
      "|   |   |   |   |   |--- class: 1\n",
      "|   |   |   |   |--- DiabetesPedigreeFunction >  -0.19\n",
      "|   |   |   |   |   |--- class: 1\n",
      "|   |   |   |--- Insulin >  4.71\n",
      "|   |   |   |   |--- class: 0\n",
      "\n"
     ]
    }
   ],
   "source": [
    "tree_rules = export_text(cart_final_model, feature_names=list(X.columns))\n",
    "print(tree_rules)"
   ]
  },
  {
   "cell_type": "markdown",
   "id": "260d4aac",
   "metadata": {},
   "source": [
    "## 11) Extracting Python Codes of Decision Rules"
   ]
  },
  {
   "cell_type": "code",
   "execution_count": 117,
   "id": "ad1a9ab3",
   "metadata": {},
   "outputs": [],
   "source": [
    "# !pip install scikit-learn==0.23.1"
   ]
  },
  {
   "cell_type": "markdown",
   "id": "363b3257",
   "metadata": {},
   "source": [
    "**Python Code**"
   ]
  },
  {
   "cell_type": "code",
   "execution_count": 129,
   "id": "5ccb9148",
   "metadata": {},
   "outputs": [],
   "source": [
    "pd.set_option('display.max_seq_items', None)"
   ]
  },
  {
   "cell_type": "code",
   "execution_count": 138,
   "id": "ca546339",
   "metadata": {},
   "outputs": [
    {
     "name": "stdout",
     "output_type": "stream",
     "text": [
      "(((((0 if x[0] <= 0.9000000059604645 else 1) if x[5] <= \n",
      "    -0.11290322616696358 else 0 if x[6] <= 0.3346405327320099 else 0) if x[\n",
      "    5] <= 1.4408602118492126 else 1 if x[2] <= 1.5 else 0) if x[7] <= \n",
      "    -0.029411764815449715 else (1 if x[5] <= -2.403225839138031 else 0) if \n",
      "    x[5] <= -0.6075268685817719 else (1 if x[1] <= -2.145454525947571 else \n",
      "    0) if x[1] <= -0.42424242198467255 else 0 if x[6] <= 0.4928104728460312\n",
      "     else 1) if x[1] <= 0.2545454651117325 else (((0 if x[5] <= \n",
      "    -0.4139785021543503 else 1) if x[4] <= 0.8015716969966888 else 0) if x[\n",
      "    1] <= 0.6909090876579285 else 0 if x[7] <= -0.20588235929608345 else 1 if\n",
      "    x[7] <= 1.8823529481887817 else 0) if x[5] <= -0.22043010592460632 else\n",
      "    ((1 if x[2] <= -0.6111111342906952 else 0) if x[7] <= \n",
      "    0.08823529444634914 else 1 if x[6] <= 0.14901961013674736 else 1) if x[\n",
      "    1] <= 0.9818181991577148 else (1 if x[6] <= -0.1882352977991104 else 1) if\n",
      "    x[4] <= 4.707268953323364 else 0)\n",
      "\n"
     ]
    }
   ],
   "source": [
    "print(skompile(cart_final_model.predict).to('python/code'))"
   ]
  },
  {
   "cell_type": "markdown",
   "id": "0ca4dc93",
   "metadata": {},
   "source": [
    "**SQL Code**"
   ]
  },
  {
   "cell_type": "code",
   "execution_count": 119,
   "id": "d3867506",
   "metadata": {},
   "outputs": [
    {
     "name": "stdout",
     "output_type": "stream",
     "text": [
      "SELECT CASE WHEN (x2 <= 0.2545454651117325) THEN CASE WHEN (x8 <= -0.029411764815449715) THEN CASE WHEN (x6 <= 1.4408602118492126) THEN CASE WHEN (x6 <= -0.11290322616696358) THEN CASE WHEN (x1 <= 0.9000000059604645) THEN 0 ELSE 1 END ELSE 0 END ELSE CASE WHEN (x3 <= 1.5) THEN 1 ELSE 0 END END ELSE CASE WHEN (x6 <= -0.6075268685817719) THEN CASE WHEN (x6 <= -2.403225839138031) THEN 1 ELSE 0 END ELSE CASE WHEN (x2 <= -0.42424242198467255) THEN CASE WHEN (x2 <= -2.145454525947571) THEN 1 ELSE 0 END ELSE CASE WHEN (x7 <= 0.4928104728460312) THEN 0 ELSE 1 END END END END ELSE CASE WHEN (x6 <= -0.22043010592460632) THEN CASE WHEN (x2 <= 0.6909090876579285) THEN CASE WHEN (x5 <= 0.8015716969966888) THEN CASE WHEN (x6 <= -0.4139785021543503) THEN 0 ELSE 1 END ELSE 0 END ELSE CASE WHEN (x8 <= -0.20588235929608345) THEN 0 ELSE CASE WHEN (x8 <= 1.8823529481887817) THEN 1 ELSE 0 END END END ELSE CASE WHEN (x2 <= 0.9818181991577148) THEN CASE WHEN (x8 <= 0.08823529444634914) THEN CASE WHEN (x3 <= -0.6111111342906952) THEN 1 ELSE 0 END ELSE 1 END ELSE CASE WHEN (x5 <= 4.707268953323364) THEN 1 ELSE 0 END END END END AS y \n",
      "FROM data\n"
     ]
    }
   ],
   "source": [
    "print(skompile(cart_final_model.predict).to('sqlalchemy/sqlite'))"
   ]
  },
  {
   "cell_type": "markdown",
   "id": "368ab8b5",
   "metadata": {},
   "source": [
    "**Excel**"
   ]
  },
  {
   "cell_type": "code",
   "execution_count": 121,
   "id": "e5d5146d",
   "metadata": {},
   "outputs": [
    {
     "name": "stdout",
     "output_type": "stream",
     "text": [
      "A1=IF((x2<=0.2545454651 ...611 chars skipped... 68953323364),1,0))))\n"
     ]
    }
   ],
   "source": [
    "print(skompile(cart_final_model.predict).to('excel'))"
   ]
  },
  {
   "cell_type": "markdown",
   "id": "82e95074",
   "metadata": {},
   "source": [
    "## 12) Prediction using Python Codes"
   ]
  },
  {
   "cell_type": "code",
   "execution_count": 135,
   "id": "d0b4584e",
   "metadata": {},
   "outputs": [],
   "source": [
    "def predict_with_rules(x):\n",
    "    return (((((0 if x[0] <= 0.9000000059604645 else 1) if x[5] <= \n",
    "    -0.11290322616696358 else 0 if x[6] <= 0.3346405327320099 else 0) if x[\n",
    "    5] <= 1.4408602118492126 else 1 if x[2] <= 1.5 else 0) if x[7] <= \n",
    "    -0.029411764815449715 else (1 if x[5] <= -2.403225839138031 else 0) if \n",
    "    x[5] <= -0.6075268685817719 else (1 if x[1] <= -2.145454525947571 else \n",
    "    0) if x[1] <= -0.42424242198467255 else 0 if x[6] <= 0.4928104728460312\n",
    "     else 1) if x[1] <= 0.2545454651117325 else (((0 if x[5] <= \n",
    "    -0.4139785021543503 else 1) if x[4] <= 0.8015716969966888 else 0) if x[\n",
    "    1] <= 0.6909090876579285 else 0 if x[7] <= -0.20588235929608345 else 1 if\n",
    "    x[7] <= 1.8823529481887817 else 0) if x[5] <= -0.22043010592460632 else\n",
    "    ((1 if x[2] <= -0.6111111342906952 else 0) if x[7] <= \n",
    "    0.08823529444634914 else 1 if x[6] <= 0.14901961013674736 else 1) if x[\n",
    "    1] <= 0.9818181991577148 else (1 if x[6] <= -0.1882352977991104 else 1) if\n",
    "    x[4] <= 4.707268953323364 else 0)"
   ]
  },
  {
   "cell_type": "code",
   "execution_count": 136,
   "id": "fe7a4d2f",
   "metadata": {},
   "outputs": [
    {
     "data": {
      "text/plain": [
       "1"
      ]
     },
     "execution_count": 136,
     "metadata": {},
     "output_type": "execute_result"
    }
   ],
   "source": [
    "x = [12, 13, 20, 23, 4, 55, 12, 7]\n",
    "\n",
    "predict_with_rules(x)"
   ]
  },
  {
   "cell_type": "code",
   "execution_count": 137,
   "id": "cf671be0",
   "metadata": {},
   "outputs": [
    {
     "data": {
      "text/plain": [
       "1"
      ]
     },
     "execution_count": 137,
     "metadata": {},
     "output_type": "execute_result"
    }
   ],
   "source": [
    "x = [6, 148, 70, 35, 0, 30, 0.62, 50]\n",
    "\n",
    "predict_with_rules(x)"
   ]
  },
  {
   "cell_type": "markdown",
   "id": "ed8b04ea",
   "metadata": {},
   "source": [
    "## 13) Saving and Loading Model"
   ]
  },
  {
   "cell_type": "code",
   "execution_count": 140,
   "id": "f5148265",
   "metadata": {},
   "outputs": [
    {
     "data": {
      "text/plain": [
       "array([1], dtype=int64)"
      ]
     },
     "execution_count": 140,
     "metadata": {},
     "output_type": "execute_result"
    }
   ],
   "source": [
    "joblib.dump(cart_final_model, \"cart_final.pkl\")\n",
    "\n",
    "cart_model_from_disc = joblib.load(\"cart_final.pkl\")\n",
    "\n",
    "x = [12, 13, 20, 23, 4, 55, 12, 7]\n",
    "\n",
    "cart_model_from_disc.predict(pd.DataFrame(x).T)"
   ]
  }
 ],
 "metadata": {
  "kernelspec": {
   "display_name": "Python 3 (ipykernel)",
   "language": "python",
   "name": "python3"
  },
  "language_info": {
   "codemirror_mode": {
    "name": "ipython",
    "version": 3
   },
   "file_extension": ".py",
   "mimetype": "text/x-python",
   "name": "python",
   "nbconvert_exporter": "python",
   "pygments_lexer": "ipython3",
   "version": "3.9.13"
  }
 },
 "nbformat": 4,
 "nbformat_minor": 5
}
