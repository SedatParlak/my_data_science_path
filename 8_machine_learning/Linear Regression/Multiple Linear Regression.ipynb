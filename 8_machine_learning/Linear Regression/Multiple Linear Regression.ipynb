{
 "cells": [
  {
   "cell_type": "markdown",
   "id": "04712bc3",
   "metadata": {},
   "source": [
    "# Multiple Linear Regression"
   ]
  },
  {
   "cell_type": "markdown",
   "id": "8371d40e",
   "metadata": {},
   "source": [
    "**Import Libraries**"
   ]
  },
  {
   "cell_type": "code",
   "execution_count": 8,
   "id": "054c92f0",
   "metadata": {},
   "outputs": [],
   "source": [
    "import numpy as np\n",
    "import pandas as pd\n",
    "import matplotlib.pyplot as plt\n",
    "import seaborn as sns\n",
    "\n",
    "pd.set_option('display.float_format', lambda x: '%.2f' % x)\n",
    "\n",
    "from sklearn.linear_model import LinearRegression\n",
    "from sklearn.model_selection import train_test_split\n",
    "from sklearn.metrics import mean_squared_error, mean_absolute_error\n",
    "from sklearn.model_selection import train_test_split, cross_val_score"
   ]
  },
  {
   "cell_type": "markdown",
   "id": "518fc8af",
   "metadata": {},
   "source": [
    "**Read csv file**"
   ]
  },
  {
   "cell_type": "code",
   "execution_count": 2,
   "id": "d1c9798f",
   "metadata": {},
   "outputs": [],
   "source": [
    "df = pd.read_csv('advertising.csv')"
   ]
  },
  {
   "cell_type": "code",
   "execution_count": 3,
   "id": "bebc3b11",
   "metadata": {},
   "outputs": [
    {
     "data": {
      "text/html": [
       "<div>\n",
       "<style scoped>\n",
       "    .dataframe tbody tr th:only-of-type {\n",
       "        vertical-align: middle;\n",
       "    }\n",
       "\n",
       "    .dataframe tbody tr th {\n",
       "        vertical-align: top;\n",
       "    }\n",
       "\n",
       "    .dataframe thead th {\n",
       "        text-align: right;\n",
       "    }\n",
       "</style>\n",
       "<table border=\"1\" class=\"dataframe\">\n",
       "  <thead>\n",
       "    <tr style=\"text-align: right;\">\n",
       "      <th></th>\n",
       "      <th>TV</th>\n",
       "      <th>radio</th>\n",
       "      <th>newspaper</th>\n",
       "      <th>sales</th>\n",
       "    </tr>\n",
       "  </thead>\n",
       "  <tbody>\n",
       "    <tr>\n",
       "      <th>0</th>\n",
       "      <td>230.10</td>\n",
       "      <td>37.80</td>\n",
       "      <td>69.20</td>\n",
       "      <td>22.10</td>\n",
       "    </tr>\n",
       "    <tr>\n",
       "      <th>1</th>\n",
       "      <td>44.50</td>\n",
       "      <td>39.30</td>\n",
       "      <td>45.10</td>\n",
       "      <td>10.40</td>\n",
       "    </tr>\n",
       "    <tr>\n",
       "      <th>2</th>\n",
       "      <td>17.20</td>\n",
       "      <td>45.90</td>\n",
       "      <td>69.30</td>\n",
       "      <td>9.30</td>\n",
       "    </tr>\n",
       "    <tr>\n",
       "      <th>3</th>\n",
       "      <td>151.50</td>\n",
       "      <td>41.30</td>\n",
       "      <td>58.50</td>\n",
       "      <td>18.50</td>\n",
       "    </tr>\n",
       "    <tr>\n",
       "      <th>4</th>\n",
       "      <td>180.80</td>\n",
       "      <td>10.80</td>\n",
       "      <td>58.40</td>\n",
       "      <td>12.90</td>\n",
       "    </tr>\n",
       "  </tbody>\n",
       "</table>\n",
       "</div>"
      ],
      "text/plain": [
       "      TV  radio  newspaper  sales\n",
       "0 230.10  37.80      69.20  22.10\n",
       "1  44.50  39.30      45.10  10.40\n",
       "2  17.20  45.90      69.30   9.30\n",
       "3 151.50  41.30      58.50  18.50\n",
       "4 180.80  10.80      58.40  12.90"
      ]
     },
     "execution_count": 3,
     "metadata": {},
     "output_type": "execute_result"
    }
   ],
   "source": [
    "df.head()"
   ]
  },
  {
   "cell_type": "markdown",
   "id": "4674c2e7",
   "metadata": {},
   "source": [
    "**Features and Label**"
   ]
  },
  {
   "cell_type": "code",
   "execution_count": 4,
   "id": "a585242b",
   "metadata": {},
   "outputs": [],
   "source": [
    "X = df.drop('sales', axis=1)\n",
    "y = df[['sales']]"
   ]
  },
  {
   "cell_type": "markdown",
   "id": "79ec6a3f",
   "metadata": {},
   "source": [
    "**Model**"
   ]
  },
  {
   "cell_type": "code",
   "execution_count": 15,
   "id": "6f1ba514",
   "metadata": {},
   "outputs": [],
   "source": [
    "X_train, X_test, y_train, y_test = train_test_split(X, y, test_size=0.20, random_state=1)"
   ]
  },
  {
   "cell_type": "code",
   "execution_count": 16,
   "id": "49ca9ca6",
   "metadata": {},
   "outputs": [
    {
     "data": {
      "text/plain": [
       "LinearRegression()"
      ]
     },
     "execution_count": 16,
     "metadata": {},
     "output_type": "execute_result"
    }
   ],
   "source": [
    "reg_model = LinearRegression()\n",
    "reg_model.fit(X_train, y_train)"
   ]
  },
  {
   "cell_type": "code",
   "execution_count": 17,
   "id": "759c5ac5",
   "metadata": {},
   "outputs": [
    {
     "data": {
      "text/plain": [
       "array([2.90794702])"
      ]
     },
     "execution_count": 17,
     "metadata": {},
     "output_type": "execute_result"
    }
   ],
   "source": [
    "reg_model.intercept_"
   ]
  },
  {
   "cell_type": "code",
   "execution_count": 18,
   "id": "1a0d7788",
   "metadata": {},
   "outputs": [
    {
     "data": {
      "text/plain": [
       "array([[0.0468431 , 0.17854434, 0.00258619]])"
      ]
     },
     "execution_count": 18,
     "metadata": {},
     "output_type": "execute_result"
    }
   ],
   "source": [
    "reg_model.coef_"
   ]
  },
  {
   "cell_type": "markdown",
   "id": "cbeeaa8b",
   "metadata": {},
   "source": [
    "**Model evaluation**"
   ]
  },
  {
   "cell_type": "code",
   "execution_count": 19,
   "id": "39bcd49e",
   "metadata": {},
   "outputs": [],
   "source": [
    "y_predictions = reg_model.predict(X_train)"
   ]
  },
  {
   "cell_type": "code",
   "execution_count": 20,
   "id": "8d4d1a87",
   "metadata": {
    "scrolled": false
   },
   "outputs": [
    {
     "data": {
      "text/plain": [
       "array([[ 3.65921577],\n",
       "       [ 7.25612637],\n",
       "       [ 6.00481636],\n",
       "       [18.46169785],\n",
       "       [ 8.37406584],\n",
       "       [14.12454209],\n",
       "       [15.0161764 ],\n",
       "       [20.40205426],\n",
       "       [20.61382233],\n",
       "       [19.61731651],\n",
       "       [24.16323248],\n",
       "       [14.88403603],\n",
       "       [ 6.73108467],\n",
       "       [19.86205547],\n",
       "       [18.92113796],\n",
       "       [12.49612522],\n",
       "       [14.17816602],\n",
       "       [ 6.11982211],\n",
       "       [15.33821244],\n",
       "       [ 9.59951578],\n",
       "       [12.04789746],\n",
       "       [12.04846338],\n",
       "       [ 8.52368581],\n",
       "       [21.61141557],\n",
       "       [23.30426145],\n",
       "       [12.24026439],\n",
       "       [ 6.68855681],\n",
       "       [17.80465348],\n",
       "       [16.50075138],\n",
       "       [ 8.78138524],\n",
       "       [20.39682769],\n",
       "       [20.67376942],\n",
       "       [24.24311844],\n",
       "       [10.16119323],\n",
       "       [10.51556751],\n",
       "       [16.43194712],\n",
       "       [10.46014901],\n",
       "       [ 6.66787113],\n",
       "       [21.36473141],\n",
       "       [14.43134771],\n",
       "       [15.49693622],\n",
       "       [10.09789459],\n",
       "       [14.96838524],\n",
       "       [13.86965306],\n",
       "       [ 8.38839734],\n",
       "       [ 8.85070713],\n",
       "       [10.14373392],\n",
       "       [ 8.16326623],\n",
       "       [17.03095529],\n",
       "       [15.20888698],\n",
       "       [16.80513965],\n",
       "       [23.24354445],\n",
       "       [13.44178745],\n",
       "       [ 9.88629559],\n",
       "       [18.11788026],\n",
       "       [14.82702155],\n",
       "       [ 5.393657  ],\n",
       "       [12.87619027],\n",
       "       [11.91409761],\n",
       "       [12.09709362],\n",
       "       [11.73318833],\n",
       "       [14.99985124],\n",
       "       [ 4.60082043],\n",
       "       [16.36095126],\n",
       "       [12.08805647],\n",
       "       [17.79795119],\n",
       "       [15.41316291],\n",
       "       [18.63426135],\n",
       "       [11.5184553 ],\n",
       "       [13.89406999],\n",
       "       [20.61448534],\n",
       "       [ 5.18585939],\n",
       "       [13.67777859],\n",
       "       [ 7.8029111 ],\n",
       "       [21.20030199],\n",
       "       [13.57370336],\n",
       "       [11.78689986],\n",
       "       [10.03359303],\n",
       "       [ 8.96968922],\n",
       "       [16.95554182],\n",
       "       [17.33033513],\n",
       "       [19.23951108],\n",
       "       [23.1634306 ],\n",
       "       [14.29943085],\n",
       "       [ 8.91440317],\n",
       "       [15.50582586],\n",
       "       [10.72925762],\n",
       "       [ 9.84254432],\n",
       "       [11.03652597],\n",
       "       [ 7.10241904],\n",
       "       [ 7.80649875],\n",
       "       [14.1493068 ],\n",
       "       [ 6.63504191],\n",
       "       [14.22238591],\n",
       "       [ 9.16647109],\n",
       "       [16.68738496],\n",
       "       [10.34955922],\n",
       "       [12.78624147],\n",
       "       [ 7.36880239],\n",
       "       [20.20375198],\n",
       "       [10.20168226],\n",
       "       [13.58403565],\n",
       "       [21.07460964],\n",
       "       [18.7964098 ],\n",
       "       [16.76551654],\n",
       "       [20.71446383],\n",
       "       [17.26264277],\n",
       "       [17.15636402],\n",
       "       [19.68874244],\n",
       "       [11.31156603],\n",
       "       [20.59250665],\n",
       "       [14.86576168],\n",
       "       [ 4.53533736],\n",
       "       [14.16783287],\n",
       "       [ 8.12325829],\n",
       "       [17.52985044],\n",
       "       [18.13456289],\n",
       "       [ 8.22589109],\n",
       "       [ 9.66155324],\n",
       "       [15.95972258],\n",
       "       [12.11142201],\n",
       "       [21.79282011],\n",
       "       [ 7.7933534 ],\n",
       "       [12.81120811],\n",
       "       [24.71772328],\n",
       "       [ 3.68832702],\n",
       "       [ 5.82648611],\n",
       "       [21.98443129],\n",
       "       [12.12589482],\n",
       "       [12.75895976],\n",
       "       [ 6.49340588],\n",
       "       [22.91335774],\n",
       "       [13.02537026],\n",
       "       [12.06795692],\n",
       "       [ 8.21638273],\n",
       "       [18.49744155],\n",
       "       [11.43342423],\n",
       "       [12.80430791],\n",
       "       [18.96691722],\n",
       "       [12.91016854],\n",
       "       [19.26253994],\n",
       "       [10.21999585],\n",
       "       [15.20379576],\n",
       "       [19.41173001],\n",
       "       [15.48084962],\n",
       "       [23.53434866],\n",
       "       [18.22226142],\n",
       "       [16.34137827],\n",
       "       [15.89833468],\n",
       "       [11.69792301],\n",
       "       [10.68648597],\n",
       "       [ 7.95379272],\n",
       "       [10.15731247],\n",
       "       [ 4.52740369],\n",
       "       [ 9.77627934],\n",
       "       [19.30193361],\n",
       "       [21.04323121],\n",
       "       [10.10521892],\n",
       "       [ 9.41484644],\n",
       "       [15.34540612]])"
      ]
     },
     "execution_count": 20,
     "metadata": {},
     "output_type": "execute_result"
    }
   ],
   "source": [
    "y_predictions"
   ]
  },
  {
   "cell_type": "markdown",
   "id": "97c0f8bf",
   "metadata": {},
   "source": [
    "**Model evaluation train set**"
   ]
  },
  {
   "cell_type": "code",
   "execution_count": 33,
   "id": "b47d8795",
   "metadata": {},
   "outputs": [
    {
     "data": {
      "text/plain": [
       "3.0168306076596774"
      ]
     },
     "execution_count": 33,
     "metadata": {},
     "output_type": "execute_result"
    }
   ],
   "source": [
    "# mean squared error\n",
    "mean_squared_error(y_train, y_predictions)"
   ]
  },
  {
   "cell_type": "code",
   "execution_count": 34,
   "id": "ff4bc07a",
   "metadata": {},
   "outputs": [
    {
     "data": {
      "text/plain": [
       "1.736902590147092"
      ]
     },
     "execution_count": 34,
     "metadata": {},
     "output_type": "execute_result"
    }
   ],
   "source": [
    "# root mean squared error\n",
    "np.sqrt(mean_squared_error(y_train, y_predictions))"
   ]
  },
  {
   "cell_type": "code",
   "execution_count": 27,
   "id": "1b83e724",
   "metadata": {},
   "outputs": [
    {
     "data": {
      "text/plain": [
       "1.3288502460998386"
      ]
     },
     "execution_count": 27,
     "metadata": {},
     "output_type": "execute_result"
    }
   ],
   "source": [
    "# mean absolute error\n",
    "mean_absolute_error(y_predictions, y_train)"
   ]
  },
  {
   "cell_type": "code",
   "execution_count": 31,
   "id": "c635dc2d",
   "metadata": {},
   "outputs": [
    {
     "data": {
      "text/plain": [
       "0.8959372632325174"
      ]
     },
     "execution_count": 31,
     "metadata": {},
     "output_type": "execute_result"
    }
   ],
   "source": [
    "# r-square\n",
    "reg_model.score(X_train, y_train)"
   ]
  },
  {
   "cell_type": "markdown",
   "id": "12b42b54",
   "metadata": {},
   "source": [
    "**Model evaluation test set**"
   ]
  },
  {
   "cell_type": "code",
   "execution_count": 32,
   "id": "9787ab46",
   "metadata": {},
   "outputs": [],
   "source": [
    "y_test_predict = reg_model.predict(X_test)"
   ]
  },
  {
   "cell_type": "code",
   "execution_count": 37,
   "id": "c6f8ca87",
   "metadata": {},
   "outputs": [
    {
     "data": {
      "text/plain": [
       "1.9918855518287892"
      ]
     },
     "execution_count": 37,
     "metadata": {},
     "output_type": "execute_result"
    }
   ],
   "source": [
    "# mean squared error\n",
    "mean_squared_error(y_test, y_test_predict)"
   ]
  },
  {
   "cell_type": "code",
   "execution_count": 38,
   "id": "ff9c557a",
   "metadata": {},
   "outputs": [
    {
     "data": {
      "text/plain": [
       "1.4113417558581582"
      ]
     },
     "execution_count": 38,
     "metadata": {},
     "output_type": "execute_result"
    }
   ],
   "source": [
    "# root mean squared error\n",
    "np.sqrt(mean_squared_error(y_test, y_test_predict))"
   ]
  },
  {
   "cell_type": "code",
   "execution_count": 39,
   "id": "f79208de",
   "metadata": {},
   "outputs": [
    {
     "data": {
      "text/plain": [
       "1.0402154012924716"
      ]
     },
     "execution_count": 39,
     "metadata": {},
     "output_type": "execute_result"
    }
   ],
   "source": [
    "# mean absolute error\n",
    "mean_absolute_error(y_test_predict, y_test)"
   ]
  },
  {
   "cell_type": "code",
   "execution_count": 41,
   "id": "5a0c8cfe",
   "metadata": {},
   "outputs": [
    {
     "data": {
      "text/plain": [
       "0.8927605914615384"
      ]
     },
     "execution_count": 41,
     "metadata": {},
     "output_type": "execute_result"
    }
   ],
   "source": [
    "# r-square\n",
    "reg_model.score(X_test, y_test)"
   ]
  },
  {
   "cell_type": "markdown",
   "id": "d5162c65",
   "metadata": {},
   "source": [
    "**K-Fold Cross Validation**"
   ]
  },
  {
   "cell_type": "code",
   "execution_count": 45,
   "id": "f876917a",
   "metadata": {},
   "outputs": [
    {
     "data": {
      "text/plain": [
       "1.6913531708051792"
      ]
     },
     "execution_count": 45,
     "metadata": {},
     "output_type": "execute_result"
    }
   ],
   "source": [
    "np.mean(np.sqrt(-cross_val_score(reg_model, X, y, cv=10, scoring='neg_mean_squared_error')))"
   ]
  }
 ],
 "metadata": {
  "kernelspec": {
   "display_name": "Python 3 (ipykernel)",
   "language": "python",
   "name": "python3"
  },
  "language_info": {
   "codemirror_mode": {
    "name": "ipython",
    "version": 3
   },
   "file_extension": ".py",
   "mimetype": "text/x-python",
   "name": "python",
   "nbconvert_exporter": "python",
   "pygments_lexer": "ipython3",
   "version": "3.9.13"
  }
 },
 "nbformat": 4,
 "nbformat_minor": 5
}
