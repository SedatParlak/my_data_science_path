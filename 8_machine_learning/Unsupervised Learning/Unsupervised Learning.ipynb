{
 "cells": [
  {
   "cell_type": "markdown",
   "id": "2c4cd71d",
   "metadata": {},
   "source": [
    "# Unsupervised Learning"
   ]
  },
  {
   "cell_type": "code",
   "execution_count": 83,
   "id": "5c448498",
   "metadata": {},
   "outputs": [],
   "source": [
    "import numpy as np\n",
    "import pandas as pd\n",
    "import random\n",
    "import matplotlib.pyplot as plt\n",
    "from sklearn.cluster import KMeans\n",
    "from sklearn.preprocessing import MinMaxScaler\n",
    "from yellowbrick.cluster import KElbowVisualizer\n",
    "from scipy.cluster.hierarchy import linkage\n",
    "from scipy.cluster.hierarchy import dendrogram\n",
    "from sklearn.preprocessing import StandardScaler\n",
    "from sklearn.decomposition import PCA\n",
    "from sklearn.model_selection import cross_val_score, GridSearchCV\n",
    "from sklearn.preprocessing import LabelEncoder"
   ]
  },
  {
   "cell_type": "code",
   "execution_count": 8,
   "id": "b2ad30f1",
   "metadata": {},
   "outputs": [],
   "source": [
    "df = pd.read_csv('USArrests.csv', index_col=0)"
   ]
  },
  {
   "cell_type": "code",
   "execution_count": 9,
   "id": "3422bf8b",
   "metadata": {},
   "outputs": [
    {
     "data": {
      "text/html": [
       "<div>\n",
       "<style scoped>\n",
       "    .dataframe tbody tr th:only-of-type {\n",
       "        vertical-align: middle;\n",
       "    }\n",
       "\n",
       "    .dataframe tbody tr th {\n",
       "        vertical-align: top;\n",
       "    }\n",
       "\n",
       "    .dataframe thead th {\n",
       "        text-align: right;\n",
       "    }\n",
       "</style>\n",
       "<table border=\"1\" class=\"dataframe\">\n",
       "  <thead>\n",
       "    <tr style=\"text-align: right;\">\n",
       "      <th></th>\n",
       "      <th>Murder</th>\n",
       "      <th>Assault</th>\n",
       "      <th>UrbanPop</th>\n",
       "      <th>Rape</th>\n",
       "    </tr>\n",
       "  </thead>\n",
       "  <tbody>\n",
       "    <tr>\n",
       "      <th>Alabama</th>\n",
       "      <td>13.2</td>\n",
       "      <td>236</td>\n",
       "      <td>58</td>\n",
       "      <td>21.2</td>\n",
       "    </tr>\n",
       "    <tr>\n",
       "      <th>Alaska</th>\n",
       "      <td>10.0</td>\n",
       "      <td>263</td>\n",
       "      <td>48</td>\n",
       "      <td>44.5</td>\n",
       "    </tr>\n",
       "    <tr>\n",
       "      <th>Arizona</th>\n",
       "      <td>8.1</td>\n",
       "      <td>294</td>\n",
       "      <td>80</td>\n",
       "      <td>31.0</td>\n",
       "    </tr>\n",
       "    <tr>\n",
       "      <th>Arkansas</th>\n",
       "      <td>8.8</td>\n",
       "      <td>190</td>\n",
       "      <td>50</td>\n",
       "      <td>19.5</td>\n",
       "    </tr>\n",
       "    <tr>\n",
       "      <th>California</th>\n",
       "      <td>9.0</td>\n",
       "      <td>276</td>\n",
       "      <td>91</td>\n",
       "      <td>40.6</td>\n",
       "    </tr>\n",
       "  </tbody>\n",
       "</table>\n",
       "</div>"
      ],
      "text/plain": [
       "            Murder  Assault  UrbanPop  Rape\n",
       "Alabama       13.2      236        58  21.2\n",
       "Alaska        10.0      263        48  44.5\n",
       "Arizona        8.1      294        80  31.0\n",
       "Arkansas       8.8      190        50  19.5\n",
       "California     9.0      276        91  40.6"
      ]
     },
     "execution_count": 9,
     "metadata": {},
     "output_type": "execute_result"
    }
   ],
   "source": [
    "df.head()"
   ]
  },
  {
   "cell_type": "markdown",
   "id": "6bd7ed6c",
   "metadata": {},
   "source": [
    "## 1) K-Means"
   ]
  },
  {
   "cell_type": "code",
   "execution_count": 10,
   "id": "0c8fd18a",
   "metadata": {},
   "outputs": [
    {
     "data": {
      "text/plain": [
       "Murder      0\n",
       "Assault     0\n",
       "UrbanPop    0\n",
       "Rape        0\n",
       "dtype: int64"
      ]
     },
     "execution_count": 10,
     "metadata": {},
     "output_type": "execute_result"
    }
   ],
   "source": [
    "df.isnull().sum()"
   ]
  },
  {
   "cell_type": "code",
   "execution_count": 11,
   "id": "b53d902a",
   "metadata": {},
   "outputs": [
    {
     "name": "stdout",
     "output_type": "stream",
     "text": [
      "<class 'pandas.core.frame.DataFrame'>\n",
      "Index: 50 entries, Alabama to Wyoming\n",
      "Data columns (total 4 columns):\n",
      " #   Column    Non-Null Count  Dtype  \n",
      "---  ------    --------------  -----  \n",
      " 0   Murder    50 non-null     float64\n",
      " 1   Assault   50 non-null     int64  \n",
      " 2   UrbanPop  50 non-null     int64  \n",
      " 3   Rape      50 non-null     float64\n",
      "dtypes: float64(2), int64(2)\n",
      "memory usage: 2.0+ KB\n"
     ]
    }
   ],
   "source": [
    "df.info()"
   ]
  },
  {
   "cell_type": "code",
   "execution_count": 12,
   "id": "f30fa66f",
   "metadata": {},
   "outputs": [
    {
     "data": {
      "text/html": [
       "<div>\n",
       "<style scoped>\n",
       "    .dataframe tbody tr th:only-of-type {\n",
       "        vertical-align: middle;\n",
       "    }\n",
       "\n",
       "    .dataframe tbody tr th {\n",
       "        vertical-align: top;\n",
       "    }\n",
       "\n",
       "    .dataframe thead th {\n",
       "        text-align: right;\n",
       "    }\n",
       "</style>\n",
       "<table border=\"1\" class=\"dataframe\">\n",
       "  <thead>\n",
       "    <tr style=\"text-align: right;\">\n",
       "      <th></th>\n",
       "      <th>count</th>\n",
       "      <th>mean</th>\n",
       "      <th>std</th>\n",
       "      <th>min</th>\n",
       "      <th>25%</th>\n",
       "      <th>50%</th>\n",
       "      <th>75%</th>\n",
       "      <th>max</th>\n",
       "    </tr>\n",
       "  </thead>\n",
       "  <tbody>\n",
       "    <tr>\n",
       "      <th>Murder</th>\n",
       "      <td>50.0</td>\n",
       "      <td>7.788</td>\n",
       "      <td>4.355510</td>\n",
       "      <td>0.8</td>\n",
       "      <td>4.075</td>\n",
       "      <td>7.25</td>\n",
       "      <td>11.250</td>\n",
       "      <td>17.4</td>\n",
       "    </tr>\n",
       "    <tr>\n",
       "      <th>Assault</th>\n",
       "      <td>50.0</td>\n",
       "      <td>170.760</td>\n",
       "      <td>83.337661</td>\n",
       "      <td>45.0</td>\n",
       "      <td>109.000</td>\n",
       "      <td>159.00</td>\n",
       "      <td>249.000</td>\n",
       "      <td>337.0</td>\n",
       "    </tr>\n",
       "    <tr>\n",
       "      <th>UrbanPop</th>\n",
       "      <td>50.0</td>\n",
       "      <td>65.540</td>\n",
       "      <td>14.474763</td>\n",
       "      <td>32.0</td>\n",
       "      <td>54.500</td>\n",
       "      <td>66.00</td>\n",
       "      <td>77.750</td>\n",
       "      <td>91.0</td>\n",
       "    </tr>\n",
       "    <tr>\n",
       "      <th>Rape</th>\n",
       "      <td>50.0</td>\n",
       "      <td>21.232</td>\n",
       "      <td>9.366385</td>\n",
       "      <td>7.3</td>\n",
       "      <td>15.075</td>\n",
       "      <td>20.10</td>\n",
       "      <td>26.175</td>\n",
       "      <td>46.0</td>\n",
       "    </tr>\n",
       "  </tbody>\n",
       "</table>\n",
       "</div>"
      ],
      "text/plain": [
       "          count     mean        std   min      25%     50%      75%    max\n",
       "Murder     50.0    7.788   4.355510   0.8    4.075    7.25   11.250   17.4\n",
       "Assault    50.0  170.760  83.337661  45.0  109.000  159.00  249.000  337.0\n",
       "UrbanPop   50.0   65.540  14.474763  32.0   54.500   66.00   77.750   91.0\n",
       "Rape       50.0   21.232   9.366385   7.3   15.075   20.10   26.175   46.0"
      ]
     },
     "execution_count": 12,
     "metadata": {},
     "output_type": "execute_result"
    }
   ],
   "source": [
    "df.describe().T"
   ]
  },
  {
   "cell_type": "markdown",
   "id": "6c1e2f41",
   "metadata": {},
   "source": [
    "**MinMaxScaler**"
   ]
  },
  {
   "cell_type": "code",
   "execution_count": 22,
   "id": "18bd0a0f",
   "metadata": {},
   "outputs": [],
   "source": [
    "sc = MinMaxScaler((0, 1))"
   ]
  },
  {
   "cell_type": "code",
   "execution_count": 24,
   "id": "c57a9261",
   "metadata": {},
   "outputs": [],
   "source": [
    "df = sc.fit_transform(df)"
   ]
  },
  {
   "cell_type": "code",
   "execution_count": 25,
   "id": "6eb0efaa",
   "metadata": {},
   "outputs": [
    {
     "data": {
      "text/plain": [
       "array([[0.74698795, 0.65410959, 0.44067797, 0.35917313],\n",
       "       [0.55421687, 0.74657534, 0.27118644, 0.96124031],\n",
       "       [0.43975904, 0.85273973, 0.81355932, 0.6124031 ],\n",
       "       [0.48192771, 0.49657534, 0.30508475, 0.31524548],\n",
       "       [0.4939759 , 0.79109589, 1.        , 0.86046512],\n",
       "       [0.42771084, 0.54452055, 0.77966102, 0.81136951],\n",
       "       [0.15060241, 0.22260274, 0.76271186, 0.09819121],\n",
       "       [0.30722892, 0.6609589 , 0.6779661 , 0.21963824],\n",
       "       [0.87951807, 0.99315068, 0.81355932, 0.63565891],\n",
       "       [1.        , 0.56849315, 0.47457627, 0.47803618],\n",
       "       [0.27108434, 0.00342466, 0.86440678, 0.33333333],\n",
       "       [0.10843373, 0.25684932, 0.37288136, 0.17829457],\n",
       "       [0.57831325, 0.69863014, 0.86440678, 0.43152455],\n",
       "       [0.38554217, 0.23287671, 0.55932203, 0.35400517],\n",
       "       [0.08433735, 0.03767123, 0.42372881, 0.10335917],\n",
       "       [0.31325301, 0.23972603, 0.57627119, 0.27648579],\n",
       "       [0.53614458, 0.21917808, 0.33898305, 0.23255814],\n",
       "       [0.87951807, 0.69863014, 0.57627119, 0.38501292],\n",
       "       [0.07831325, 0.13013699, 0.3220339 , 0.0129199 ],\n",
       "       [0.63253012, 0.87328767, 0.59322034, 0.52971576],\n",
       "       [0.21686747, 0.35616438, 0.89830508, 0.23255814],\n",
       "       [0.68072289, 0.71917808, 0.71186441, 0.71834625],\n",
       "       [0.11445783, 0.09246575, 0.57627119, 0.19638243],\n",
       "       [0.92168675, 0.73287671, 0.20338983, 0.25322997],\n",
       "       [0.4939759 , 0.45547945, 0.6440678 , 0.54005168],\n",
       "       [0.31325301, 0.21917808, 0.3559322 , 0.23514212],\n",
       "       [0.21084337, 0.19520548, 0.50847458, 0.2377261 ],\n",
       "       [0.68674699, 0.70890411, 0.83050847, 1.        ],\n",
       "       [0.07831325, 0.04109589, 0.40677966, 0.05684755],\n",
       "       [0.39759036, 0.39041096, 0.96610169, 0.29715762],\n",
       "       [0.63855422, 0.82191781, 0.6440678 , 0.64082687],\n",
       "       [0.62048193, 0.71575342, 0.91525424, 0.48578811],\n",
       "       [0.73493976, 1.        , 0.22033898, 0.22739018],\n",
       "       [0.        , 0.        , 0.20338983, 0.        ],\n",
       "       [0.39156627, 0.25684932, 0.72881356, 0.36434109],\n",
       "       [0.34939759, 0.3630137 , 0.61016949, 0.32816537],\n",
       "       [0.24698795, 0.39041096, 0.59322034, 0.56847545],\n",
       "       [0.3313253 , 0.20890411, 0.6779661 , 0.19638243],\n",
       "       [0.15662651, 0.44178082, 0.93220339, 0.02583979],\n",
       "       [0.81927711, 0.80136986, 0.27118644, 0.39276486],\n",
       "       [0.18072289, 0.14041096, 0.22033898, 0.14211886],\n",
       "       [0.74698795, 0.48972603, 0.45762712, 0.50645995],\n",
       "       [0.71686747, 0.53424658, 0.81355932, 0.47028424],\n",
       "       [0.14457831, 0.25684932, 0.81355932, 0.40310078],\n",
       "       [0.08433735, 0.01027397, 0.        , 0.10077519],\n",
       "       [0.46385542, 0.38013699, 0.52542373, 0.34625323],\n",
       "       [0.19277108, 0.34246575, 0.69491525, 0.48837209],\n",
       "       [0.29518072, 0.12328767, 0.11864407, 0.05167959],\n",
       "       [0.10843373, 0.02739726, 0.57627119, 0.09043928],\n",
       "       [0.36144578, 0.39726027, 0.47457627, 0.21447028]])"
      ]
     },
     "execution_count": 25,
     "metadata": {},
     "output_type": "execute_result"
    }
   ],
   "source": [
    "df"
   ]
  },
  {
   "cell_type": "markdown",
   "id": "f1d660b0",
   "metadata": {},
   "source": [
    "**Model**"
   ]
  },
  {
   "cell_type": "code",
   "execution_count": 29,
   "id": "aa44456a",
   "metadata": {},
   "outputs": [],
   "source": [
    "k_means = KMeans(n_clusters=4, random_state=17).fit(X=df)"
   ]
  },
  {
   "cell_type": "code",
   "execution_count": 30,
   "id": "dcf2e9cc",
   "metadata": {},
   "outputs": [
    {
     "data": {
      "text/plain": [
       "{'algorithm': 'auto',\n",
       " 'copy_x': True,\n",
       " 'init': 'k-means++',\n",
       " 'max_iter': 300,\n",
       " 'n_clusters': 4,\n",
       " 'n_init': 10,\n",
       " 'random_state': 17,\n",
       " 'tol': 0.0001,\n",
       " 'verbose': 0}"
      ]
     },
     "execution_count": 30,
     "metadata": {},
     "output_type": "execute_result"
    }
   ],
   "source": [
    "k_means.get_params()"
   ]
  },
  {
   "cell_type": "code",
   "execution_count": 31,
   "id": "687b7fc6",
   "metadata": {},
   "outputs": [
    {
     "data": {
      "text/plain": [
       "4"
      ]
     },
     "execution_count": 31,
     "metadata": {},
     "output_type": "execute_result"
    }
   ],
   "source": [
    "k_means.n_clusters"
   ]
  },
  {
   "cell_type": "code",
   "execution_count": 32,
   "id": "9a435486",
   "metadata": {},
   "outputs": [
    {
     "data": {
      "text/plain": [
       "array([[0.1686747 , 0.11485774, 0.34028683, 0.12601868],\n",
       "       [0.6124498 , 0.75      , 0.75423729, 0.67980189],\n",
       "       [0.30439405, 0.32937147, 0.70588235, 0.31098951],\n",
       "       [0.79141566, 0.6802226 , 0.36864407, 0.36466408]])"
      ]
     },
     "execution_count": 32,
     "metadata": {},
     "output_type": "execute_result"
    }
   ],
   "source": [
    "k_means.cluster_centers_"
   ]
  },
  {
   "cell_type": "code",
   "execution_count": 35,
   "id": "f671d819",
   "metadata": {},
   "outputs": [
    {
     "data": {
      "text/plain": [
       "array([3, 1, 1, 3, 1, 1, 2, 2, 1, 3, 2, 0, 1, 2, 0, 2, 0, 3, 0, 1, 2, 1,\n",
       "       0, 3, 2, 0, 0, 1, 0, 2, 1, 1, 3, 0, 2, 2, 2, 2, 2, 3, 0, 3, 1, 2,\n",
       "       0, 2, 2, 0, 0, 2])"
      ]
     },
     "execution_count": 35,
     "metadata": {},
     "output_type": "execute_result"
    }
   ],
   "source": [
    "k_means.labels_"
   ]
  },
  {
   "cell_type": "code",
   "execution_count": 37,
   "id": "f5931fc4",
   "metadata": {},
   "outputs": [
    {
     "data": {
      "text/plain": [
       "3.6834561535859134"
      ]
     },
     "execution_count": 37,
     "metadata": {},
     "output_type": "execute_result"
    }
   ],
   "source": [
    "k_means.inertia_"
   ]
  },
  {
   "cell_type": "markdown",
   "id": "b3f976c2",
   "metadata": {},
   "source": [
    "**Optimum Clustering Alternatif 1**"
   ]
  },
  {
   "cell_type": "code",
   "execution_count": null,
   "id": "4ae589db",
   "metadata": {},
   "outputs": [],
   "source": [
    "k_means = KMeans(n_clusters=4, random_state=17).fit(X=df)\n",
    "k_means.n_clusters\n",
    "k_means.inertia_"
   ]
  },
  {
   "cell_type": "code",
   "execution_count": 78,
   "id": "64fbb6ac",
   "metadata": {},
   "outputs": [],
   "source": [
    "sse = []\n",
    "clusters = range(2, 30)\n",
    "\n",
    "for cluster in clusters:\n",
    "    k_means = KMeans(n_clusters=cluster, random_state=17).fit(X=df)\n",
    "    sse.append(k_means.inertia_)"
   ]
  },
  {
   "cell_type": "code",
   "execution_count": 79,
   "id": "24315a14",
   "metadata": {},
   "outputs": [
    {
     "data": {
      "text/plain": [
       "[6.596893867946196,\n",
       " 5.010878493006417,\n",
       " 3.6834561535859134,\n",
       " 3.1999182085623374,\n",
       " 2.842666186622827,\n",
       " 2.631725837655405,\n",
       " 2.3251087700415183,\n",
       " 2.0686398098410184,\n",
       " 1.8327104332088635,\n",
       " 1.661699408412769,\n",
       " 1.518394185479906,\n",
       " 1.3770549513112536,\n",
       " 1.3148895920096257,\n",
       " 1.271133650711445,\n",
       " 1.1578833875407082,\n",
       " 1.0341984464834657,\n",
       " 0.9299671485436678,\n",
       " 0.9208925548828129,\n",
       " 0.8350853328360585,\n",
       " 0.7684114698258376,\n",
       " 0.7496106928018123,\n",
       " 0.7073985700412032,\n",
       " 0.6207315225217471,\n",
       " 0.5611378107893317,\n",
       " 0.5108547103002282,\n",
       " 0.4655309280781473,\n",
       " 0.4430857838274421,\n",
       " 0.40647513810881875]"
      ]
     },
     "execution_count": 79,
     "metadata": {},
     "output_type": "execute_result"
    }
   ],
   "source": [
    "sse"
   ]
  },
  {
   "cell_type": "code",
   "execution_count": 117,
   "id": "e721aa78",
   "metadata": {},
   "outputs": [
    {
     "data": {
      "image/png": "[encoded data removed]",
      "text/plain": [
       "<Figure size 800x550 with 1 Axes>"
      ]
     },
     "metadata": {},
     "output_type": "display_data"
    }
   ],
   "source": [
    "plt.plot(clusters, sse, \"bx-\")\n",
    "plt.xlabel(\"N-Cluster -- SSE/SSR/SSD\")\n",
    "plt.title(\"Optimum N Cluster for Elbow Methods\")\n",
    "plt.show()"
   ]
  },
  {
   "cell_type": "markdown",
   "id": "c37c1175",
   "metadata": {},
   "source": [
    "**Optimum Clustering Alternatif 2 (Elbow)**"
   ]
  },
  {
   "cell_type": "code",
   "execution_count": 85,
   "id": "b7efb48e",
   "metadata": {},
   "outputs": [
    {
     "data": {
      "image/png": "[encoded data removed]",
      "text/plain": [
       "<Figure size 800x550 with 2 Axes>"
      ]
     },
     "metadata": {},
     "output_type": "display_data"
    },
    {
     "data": {
      "text/plain": [
       "<AxesSubplot:title={'center':'Distortion Score Elbow for KMeans Clustering'}, xlabel='k', ylabel='distortion score'>"
      ]
     },
     "execution_count": 85,
     "metadata": {},
     "output_type": "execute_result"
    }
   ],
   "source": [
    "kmeans = KMeans()\n",
    "elbow = KElbowVisualizer(kmeans, k=(2, 20))\n",
    "elbow.fit(df)\n",
    "elbow.show()"
   ]
  },
  {
   "cell_type": "code",
   "execution_count": 89,
   "id": "ec63f83d",
   "metadata": {},
   "outputs": [
    {
     "data": {
      "text/plain": [
       "5"
      ]
     },
     "execution_count": 89,
     "metadata": {},
     "output_type": "execute_result"
    }
   ],
   "source": [
    "elbow.elbow_value_"
   ]
  },
  {
   "cell_type": "markdown",
   "id": "d400153a",
   "metadata": {},
   "source": [
    "**Final Model**"
   ]
  },
  {
   "cell_type": "code",
   "execution_count": 90,
   "id": "a58746d6",
   "metadata": {},
   "outputs": [],
   "source": [
    "k_means = KMeans(n_clusters=elbow.elbow_value_, random_state=17).fit(X=df)"
   ]
  },
  {
   "cell_type": "code",
   "execution_count": 93,
   "id": "1de54237",
   "metadata": {},
   "outputs": [
    {
     "data": {
      "text/plain": [
       "5"
      ]
     },
     "execution_count": 93,
     "metadata": {},
     "output_type": "execute_result"
    }
   ],
   "source": [
    "k_means.n_clusters"
   ]
  },
  {
   "cell_type": "code",
   "execution_count": 91,
   "id": "931bfda8",
   "metadata": {},
   "outputs": [
    {
     "data": {
      "text/plain": [
       "array([[0.6124498 , 0.75      , 0.75423729, 0.67980189],\n",
       "       [0.36187608, 0.34564579, 0.5653753 , 0.33444075],\n",
       "       [0.83562823, 0.70645793, 0.37772397, 0.37172388],\n",
       "       [0.13143483, 0.09806974, 0.32511556, 0.10617806],\n",
       "       [0.22289157, 0.27853881, 0.87288136, 0.23169681]])"
      ]
     },
     "execution_count": 91,
     "metadata": {},
     "output_type": "execute_result"
    }
   ],
   "source": [
    "k_means.cluster_centers_"
   ]
  },
  {
   "cell_type": "code",
   "execution_count": 92,
   "id": "ea8aaa67",
   "metadata": {},
   "outputs": [
    {
     "data": {
      "text/plain": [
       "array([2, 0, 0, 1, 0, 0, 4, 1, 0, 2, 4, 3, 0, 1, 3, 1, 1, 2, 3, 0, 4, 0,\n",
       "       3, 2, 1, 3, 1, 0, 3, 4, 0, 0, 2, 3, 1, 1, 1, 1, 4, 2, 3, 2, 0, 4,\n",
       "       3, 1, 1, 3, 3, 1])"
      ]
     },
     "execution_count": 92,
     "metadata": {},
     "output_type": "execute_result"
    }
   ],
   "source": [
    "k_means.labels_"
   ]
  },
  {
   "cell_type": "code",
   "execution_count": 101,
   "id": "d5cb6da2",
   "metadata": {},
   "outputs": [],
   "source": [
    "df = pd.read_csv('USArrests.csv', index_col=0)"
   ]
  },
  {
   "cell_type": "code",
   "execution_count": 102,
   "id": "689d6572",
   "metadata": {},
   "outputs": [],
   "source": [
    "df['cluster'] = k_means.labels_\n",
    "df['cluster'] = df['cluster'] + 1"
   ]
  },
  {
   "cell_type": "code",
   "execution_count": 103,
   "id": "852aa43d",
   "metadata": {},
   "outputs": [
    {
     "data": {
      "text/html": [
       "<div>\n",
       "<style scoped>\n",
       "    .dataframe tbody tr th:only-of-type {\n",
       "        vertical-align: middle;\n",
       "    }\n",
       "\n",
       "    .dataframe tbody tr th {\n",
       "        vertical-align: top;\n",
       "    }\n",
       "\n",
       "    .dataframe thead th {\n",
       "        text-align: right;\n",
       "    }\n",
       "</style>\n",
       "<table border=\"1\" class=\"dataframe\">\n",
       "  <thead>\n",
       "    <tr style=\"text-align: right;\">\n",
       "      <th></th>\n",
       "      <th>Murder</th>\n",
       "      <th>Assault</th>\n",
       "      <th>UrbanPop</th>\n",
       "      <th>Rape</th>\n",
       "      <th>cluster</th>\n",
       "    </tr>\n",
       "  </thead>\n",
       "  <tbody>\n",
       "    <tr>\n",
       "      <th>Alabama</th>\n",
       "      <td>13.2</td>\n",
       "      <td>236</td>\n",
       "      <td>58</td>\n",
       "      <td>21.2</td>\n",
       "      <td>3</td>\n",
       "    </tr>\n",
       "    <tr>\n",
       "      <th>Alaska</th>\n",
       "      <td>10.0</td>\n",
       "      <td>263</td>\n",
       "      <td>48</td>\n",
       "      <td>44.5</td>\n",
       "      <td>1</td>\n",
       "    </tr>\n",
       "    <tr>\n",
       "      <th>Arizona</th>\n",
       "      <td>8.1</td>\n",
       "      <td>294</td>\n",
       "      <td>80</td>\n",
       "      <td>31.0</td>\n",
       "      <td>1</td>\n",
       "    </tr>\n",
       "    <tr>\n",
       "      <th>Arkansas</th>\n",
       "      <td>8.8</td>\n",
       "      <td>190</td>\n",
       "      <td>50</td>\n",
       "      <td>19.5</td>\n",
       "      <td>2</td>\n",
       "    </tr>\n",
       "    <tr>\n",
       "      <th>California</th>\n",
       "      <td>9.0</td>\n",
       "      <td>276</td>\n",
       "      <td>91</td>\n",
       "      <td>40.6</td>\n",
       "      <td>1</td>\n",
       "    </tr>\n",
       "  </tbody>\n",
       "</table>\n",
       "</div>"
      ],
      "text/plain": [
       "            Murder  Assault  UrbanPop  Rape  cluster\n",
       "Alabama       13.2      236        58  21.2        3\n",
       "Alaska        10.0      263        48  44.5        1\n",
       "Arizona        8.1      294        80  31.0        1\n",
       "Arkansas       8.8      190        50  19.5        2\n",
       "California     9.0      276        91  40.6        1"
      ]
     },
     "execution_count": 103,
     "metadata": {},
     "output_type": "execute_result"
    }
   ],
   "source": [
    "df.head()"
   ]
  },
  {
   "cell_type": "code",
   "execution_count": 106,
   "id": "5959903c",
   "metadata": {},
   "outputs": [
    {
     "data": {
      "text/html": [
       "<div>\n",
       "<style scoped>\n",
       "    .dataframe tbody tr th:only-of-type {\n",
       "        vertical-align: middle;\n",
       "    }\n",
       "\n",
       "    .dataframe tbody tr th {\n",
       "        vertical-align: top;\n",
       "    }\n",
       "\n",
       "    .dataframe thead tr th {\n",
       "        text-align: left;\n",
       "    }\n",
       "\n",
       "    .dataframe thead tr:last-of-type th {\n",
       "        text-align: right;\n",
       "    }\n",
       "</style>\n",
       "<table border=\"1\" class=\"dataframe\">\n",
       "  <thead>\n",
       "    <tr>\n",
       "      <th></th>\n",
       "      <th colspan=\"3\" halign=\"left\">Murder</th>\n",
       "      <th colspan=\"3\" halign=\"left\">Assault</th>\n",
       "      <th colspan=\"3\" halign=\"left\">UrbanPop</th>\n",
       "      <th colspan=\"3\" halign=\"left\">Rape</th>\n",
       "    </tr>\n",
       "    <tr>\n",
       "      <th></th>\n",
       "      <th>count</th>\n",
       "      <th>mean</th>\n",
       "      <th>median</th>\n",
       "      <th>count</th>\n",
       "      <th>mean</th>\n",
       "      <th>median</th>\n",
       "      <th>count</th>\n",
       "      <th>mean</th>\n",
       "      <th>median</th>\n",
       "      <th>count</th>\n",
       "      <th>mean</th>\n",
       "      <th>median</th>\n",
       "    </tr>\n",
       "    <tr>\n",
       "      <th>cluster</th>\n",
       "      <th></th>\n",
       "      <th></th>\n",
       "      <th></th>\n",
       "      <th></th>\n",
       "      <th></th>\n",
       "      <th></th>\n",
       "      <th></th>\n",
       "      <th></th>\n",
       "      <th></th>\n",
       "      <th></th>\n",
       "      <th></th>\n",
       "      <th></th>\n",
       "    </tr>\n",
       "  </thead>\n",
       "  <tbody>\n",
       "    <tr>\n",
       "      <th>1</th>\n",
       "      <td>12</td>\n",
       "      <td>10.966667</td>\n",
       "      <td>11.2</td>\n",
       "      <td>12</td>\n",
       "      <td>264.000000</td>\n",
       "      <td>259.0</td>\n",
       "      <td>12</td>\n",
       "      <td>76.500000</td>\n",
       "      <td>80.0</td>\n",
       "      <td>12</td>\n",
       "      <td>33.608333</td>\n",
       "      <td>32.00</td>\n",
       "    </tr>\n",
       "    <tr>\n",
       "      <th>2</th>\n",
       "      <td>14</td>\n",
       "      <td>6.807143</td>\n",
       "      <td>6.7</td>\n",
       "      <td>14</td>\n",
       "      <td>145.928571</td>\n",
       "      <td>148.0</td>\n",
       "      <td>14</td>\n",
       "      <td>65.357143</td>\n",
       "      <td>66.5</td>\n",
       "      <td>14</td>\n",
       "      <td>20.242857</td>\n",
       "      <td>19.75</td>\n",
       "    </tr>\n",
       "    <tr>\n",
       "      <th>3</th>\n",
       "      <td>7</td>\n",
       "      <td>14.671429</td>\n",
       "      <td>14.4</td>\n",
       "      <td>7</td>\n",
       "      <td>251.285714</td>\n",
       "      <td>249.0</td>\n",
       "      <td>7</td>\n",
       "      <td>54.285714</td>\n",
       "      <td>58.0</td>\n",
       "      <td>7</td>\n",
       "      <td>21.685714</td>\n",
       "      <td>22.20</td>\n",
       "    </tr>\n",
       "    <tr>\n",
       "      <th>4</th>\n",
       "      <td>11</td>\n",
       "      <td>2.981818</td>\n",
       "      <td>2.6</td>\n",
       "      <td>11</td>\n",
       "      <td>73.636364</td>\n",
       "      <td>72.0</td>\n",
       "      <td>11</td>\n",
       "      <td>51.181818</td>\n",
       "      <td>53.0</td>\n",
       "      <td>11</td>\n",
       "      <td>11.409091</td>\n",
       "      <td>11.20</td>\n",
       "    </tr>\n",
       "    <tr>\n",
       "      <th>5</th>\n",
       "      <td>6</td>\n",
       "      <td>4.500000</td>\n",
       "      <td>3.9</td>\n",
       "      <td>6</td>\n",
       "      <td>126.333333</td>\n",
       "      <td>134.5</td>\n",
       "      <td>6</td>\n",
       "      <td>83.500000</td>\n",
       "      <td>84.0</td>\n",
       "      <td>6</td>\n",
       "      <td>16.266667</td>\n",
       "      <td>17.55</td>\n",
       "    </tr>\n",
       "  </tbody>\n",
       "</table>\n",
       "</div>"
      ],
      "text/plain": [
       "        Murder                   Assault                    UrbanPop  \\\n",
       "         count       mean median   count        mean median    count   \n",
       "cluster                                                                \n",
       "1           12  10.966667   11.2      12  264.000000  259.0       12   \n",
       "2           14   6.807143    6.7      14  145.928571  148.0       14   \n",
       "3            7  14.671429   14.4       7  251.285714  249.0        7   \n",
       "4           11   2.981818    2.6      11   73.636364   72.0       11   \n",
       "5            6   4.500000    3.9       6  126.333333  134.5        6   \n",
       "\n",
       "                           Rape                    \n",
       "              mean median count       mean median  \n",
       "cluster                                            \n",
       "1        76.500000   80.0    12  33.608333  32.00  \n",
       "2        65.357143   66.5    14  20.242857  19.75  \n",
       "3        54.285714   58.0     7  21.685714  22.20  \n",
       "4        51.181818   53.0    11  11.409091  11.20  \n",
       "5        83.500000   84.0     6  16.266667  17.55  "
      ]
     },
     "execution_count": 106,
     "metadata": {},
     "output_type": "execute_result"
    }
   ],
   "source": [
    "df.groupby('cluster').agg(['count', 'mean', 'median'])"
   ]
  },
  {
   "cell_type": "markdown",
   "id": "f0cdb838",
   "metadata": {},
   "source": [
    "## 2) Hierarchical Cluster"
   ]
  },
  {
   "cell_type": "code",
   "execution_count": 107,
   "id": "44b72c47",
   "metadata": {},
   "outputs": [],
   "source": [
    "df = pd.read_csv('USArrests.csv', index_col=0)"
   ]
  },
  {
   "cell_type": "code",
   "execution_count": 109,
   "id": "9b42863f",
   "metadata": {},
   "outputs": [],
   "source": [
    "sc = MinMaxScaler((0, 1))"
   ]
  },
  {
   "cell_type": "code",
   "execution_count": 110,
   "id": "345a9909",
   "metadata": {},
   "outputs": [],
   "source": [
    "df = sc.fit_transform(df)"
   ]
  },
  {
   "cell_type": "code",
   "execution_count": 112,
   "id": "b4a11be5",
   "metadata": {},
   "outputs": [],
   "source": [
    "hc_average = linkage(df, 'average')"
   ]
  },
  {
   "cell_type": "code",
   "execution_count": 118,
   "id": "e982b886",
   "metadata": {},
   "outputs": [
    {
     "data": {
      "image/png": "[encoded data removed]",
      "text/plain": [
       "<Figure size 1000x500 with 1 Axes>"
      ]
     },
     "metadata": {},
     "output_type": "display_data"
    }
   ],
   "source": [
    "plt.figure(figsize=(10, 5))\n",
    "plt.title(\"Hierarchical Cluster Analysis\")\n",
    "plt.xlabel(\"Units\")\n",
    "plt.ylabel(\"Distances\")\n",
    "dendrogram(hc_average,\n",
    "           leaf_font_size=10)\n",
    "plt.show()"
   ]
  },
  {
   "cell_type": "code",
   "execution_count": 119,
   "id": "e6da5ddb",
   "metadata": {},
   "outputs": [
    {
     "data": {
      "image/png": "[encoded data removed]",
      "text/plain": [
       "<Figure size 700x500 with 1 Axes>"
      ]
     },
     "metadata": {},
     "output_type": "display_data"
    }
   ],
   "source": [
    "plt.figure(figsize=(7, 5))\n",
    "plt.title(\"Hierarchical Cluster Analysis\")\n",
    "plt.xlabel(\"Units\")\n",
    "plt.ylabel(\"Distances\")\n",
    "dendrogram(hc_average,\n",
    "           truncate_mode=\"lastp\",\n",
    "           p=10,\n",
    "           show_contracted=True,\n",
    "           leaf_font_size=10)\n",
    "plt.show()"
   ]
  },
  {
   "cell_type": "markdown",
   "id": "9431b26c",
   "metadata": {},
   "source": [
    "**Determining the Number of Clusters**"
   ]
  },
  {
   "cell_type": "code",
   "execution_count": 120,
   "id": "96ebc4ce",
   "metadata": {},
   "outputs": [
    {
     "data": {
      "image/png": "[encoded data removed]",
      "text/plain": [
       "<Figure size 700x500 with 1 Axes>"
      ]
     },
     "metadata": {},
     "output_type": "display_data"
    }
   ],
   "source": [
    "plt.figure(figsize=(7, 5))\n",
    "plt.title(\"Dendrograms\")\n",
    "dend = dendrogram(hc_average)\n",
    "plt.axhline(y=0.5, color='r', linestyle='--')\n",
    "plt.axhline(y=0.6, color='b', linestyle='--')\n",
    "plt.show()"
   ]
  },
  {
   "cell_type": "markdown",
   "id": "e60e6288",
   "metadata": {},
   "source": [
    "**Final Model**"
   ]
  },
  {
   "cell_type": "code",
   "execution_count": 121,
   "id": "a06a2f4a",
   "metadata": {},
   "outputs": [],
   "source": [
    "from sklearn.cluster import AgglomerativeClustering"
   ]
  },
  {
   "cell_type": "code",
   "execution_count": 122,
   "id": "cbb933ee",
   "metadata": {},
   "outputs": [],
   "source": [
    "cluster = AgglomerativeClustering(n_clusters=5, linkage=\"average\")"
   ]
  },
  {
   "cell_type": "code",
   "execution_count": 123,
   "id": "76646e17",
   "metadata": {},
   "outputs": [],
   "source": [
    "clusters = cluster.fit_predict(df)"
   ]
  },
  {
   "cell_type": "code",
   "execution_count": 125,
   "id": "9ec3a3b9",
   "metadata": {},
   "outputs": [],
   "source": [
    "df = pd.read_csv('USArrests.csv', index_col=0)"
   ]
  },
  {
   "cell_type": "code",
   "execution_count": 126,
   "id": "3fd1abb7",
   "metadata": {},
   "outputs": [],
   "source": [
    "df['hc_cluster_no'] = cluster.fit_predict(df)\n",
    "df['hc_cluster_no'] = df['hc_cluster_no'] + 1"
   ]
  },
  {
   "cell_type": "code",
   "execution_count": 127,
   "id": "7626f76b",
   "metadata": {},
   "outputs": [
    {
     "data": {
      "text/html": [
       "<div>\n",
       "<style scoped>\n",
       "    .dataframe tbody tr th:only-of-type {\n",
       "        vertical-align: middle;\n",
       "    }\n",
       "\n",
       "    .dataframe tbody tr th {\n",
       "        vertical-align: top;\n",
       "    }\n",
       "\n",
       "    .dataframe thead th {\n",
       "        text-align: right;\n",
       "    }\n",
       "</style>\n",
       "<table border=\"1\" class=\"dataframe\">\n",
       "  <thead>\n",
       "    <tr style=\"text-align: right;\">\n",
       "      <th></th>\n",
       "      <th>Murder</th>\n",
       "      <th>Assault</th>\n",
       "      <th>UrbanPop</th>\n",
       "      <th>Rape</th>\n",
       "      <th>hc_cluster_no</th>\n",
       "    </tr>\n",
       "  </thead>\n",
       "  <tbody>\n",
       "    <tr>\n",
       "      <th>Alabama</th>\n",
       "      <td>13.2</td>\n",
       "      <td>236</td>\n",
       "      <td>58</td>\n",
       "      <td>21.2</td>\n",
       "      <td>2</td>\n",
       "    </tr>\n",
       "    <tr>\n",
       "      <th>Alaska</th>\n",
       "      <td>10.0</td>\n",
       "      <td>263</td>\n",
       "      <td>48</td>\n",
       "      <td>44.5</td>\n",
       "      <td>2</td>\n",
       "    </tr>\n",
       "    <tr>\n",
       "      <th>Arizona</th>\n",
       "      <td>8.1</td>\n",
       "      <td>294</td>\n",
       "      <td>80</td>\n",
       "      <td>31.0</td>\n",
       "      <td>2</td>\n",
       "    </tr>\n",
       "    <tr>\n",
       "      <th>Arkansas</th>\n",
       "      <td>8.8</td>\n",
       "      <td>190</td>\n",
       "      <td>50</td>\n",
       "      <td>19.5</td>\n",
       "      <td>1</td>\n",
       "    </tr>\n",
       "    <tr>\n",
       "      <th>California</th>\n",
       "      <td>9.0</td>\n",
       "      <td>276</td>\n",
       "      <td>91</td>\n",
       "      <td>40.6</td>\n",
       "      <td>2</td>\n",
       "    </tr>\n",
       "  </tbody>\n",
       "</table>\n",
       "</div>"
      ],
      "text/plain": [
       "            Murder  Assault  UrbanPop  Rape  hc_cluster_no\n",
       "Alabama       13.2      236        58  21.2              2\n",
       "Alaska        10.0      263        48  44.5              2\n",
       "Arizona        8.1      294        80  31.0              2\n",
       "Arkansas       8.8      190        50  19.5              1\n",
       "California     9.0      276        91  40.6              2"
      ]
     },
     "execution_count": 127,
     "metadata": {},
     "output_type": "execute_result"
    }
   ],
   "source": [
    "df.head()"
   ]
  },
  {
   "cell_type": "code",
   "execution_count": 128,
   "id": "255d85c6",
   "metadata": {},
   "outputs": [
    {
     "data": {
      "text/html": [
       "<div>\n",
       "<style scoped>\n",
       "    .dataframe tbody tr th:only-of-type {\n",
       "        vertical-align: middle;\n",
       "    }\n",
       "\n",
       "    .dataframe tbody tr th {\n",
       "        vertical-align: top;\n",
       "    }\n",
       "\n",
       "    .dataframe thead tr th {\n",
       "        text-align: left;\n",
       "    }\n",
       "\n",
       "    .dataframe thead tr:last-of-type th {\n",
       "        text-align: right;\n",
       "    }\n",
       "</style>\n",
       "<table border=\"1\" class=\"dataframe\">\n",
       "  <thead>\n",
       "    <tr>\n",
       "      <th></th>\n",
       "      <th colspan=\"3\" halign=\"left\">Murder</th>\n",
       "      <th colspan=\"3\" halign=\"left\">Assault</th>\n",
       "      <th colspan=\"3\" halign=\"left\">UrbanPop</th>\n",
       "      <th colspan=\"3\" halign=\"left\">Rape</th>\n",
       "    </tr>\n",
       "    <tr>\n",
       "      <th></th>\n",
       "      <th>count</th>\n",
       "      <th>mean</th>\n",
       "      <th>median</th>\n",
       "      <th>count</th>\n",
       "      <th>mean</th>\n",
       "      <th>median</th>\n",
       "      <th>count</th>\n",
       "      <th>mean</th>\n",
       "      <th>median</th>\n",
       "      <th>count</th>\n",
       "      <th>mean</th>\n",
       "      <th>median</th>\n",
       "    </tr>\n",
       "    <tr>\n",
       "      <th>hc_cluster_no</th>\n",
       "      <th></th>\n",
       "      <th></th>\n",
       "      <th></th>\n",
       "      <th></th>\n",
       "      <th></th>\n",
       "      <th></th>\n",
       "      <th></th>\n",
       "      <th></th>\n",
       "      <th></th>\n",
       "      <th></th>\n",
       "      <th></th>\n",
       "      <th></th>\n",
       "    </tr>\n",
       "  </thead>\n",
       "  <tbody>\n",
       "    <tr>\n",
       "      <th>1</th>\n",
       "      <td>14</td>\n",
       "      <td>8.214286</td>\n",
       "      <td>7.65</td>\n",
       "      <td>14</td>\n",
       "      <td>173.285714</td>\n",
       "      <td>167.5</td>\n",
       "      <td>14</td>\n",
       "      <td>70.642857</td>\n",
       "      <td>69.0</td>\n",
       "      <td>14</td>\n",
       "      <td>22.842857</td>\n",
       "      <td>23.10</td>\n",
       "    </tr>\n",
       "    <tr>\n",
       "      <th>2</th>\n",
       "      <td>14</td>\n",
       "      <td>11.471429</td>\n",
       "      <td>11.35</td>\n",
       "      <td>14</td>\n",
       "      <td>263.500000</td>\n",
       "      <td>257.0</td>\n",
       "      <td>14</td>\n",
       "      <td>69.142857</td>\n",
       "      <td>71.0</td>\n",
       "      <td>14</td>\n",
       "      <td>29.000000</td>\n",
       "      <td>26.95</td>\n",
       "    </tr>\n",
       "    <tr>\n",
       "      <th>3</th>\n",
       "      <td>10</td>\n",
       "      <td>2.950000</td>\n",
       "      <td>2.40</td>\n",
       "      <td>10</td>\n",
       "      <td>62.700000</td>\n",
       "      <td>56.5</td>\n",
       "      <td>10</td>\n",
       "      <td>53.900000</td>\n",
       "      <td>53.5</td>\n",
       "      <td>10</td>\n",
       "      <td>11.510000</td>\n",
       "      <td>11.00</td>\n",
       "    </tr>\n",
       "    <tr>\n",
       "      <th>4</th>\n",
       "      <td>2</td>\n",
       "      <td>14.200000</td>\n",
       "      <td>14.20</td>\n",
       "      <td>2</td>\n",
       "      <td>336.000000</td>\n",
       "      <td>336.0</td>\n",
       "      <td>2</td>\n",
       "      <td>62.500000</td>\n",
       "      <td>62.5</td>\n",
       "      <td>2</td>\n",
       "      <td>24.000000</td>\n",
       "      <td>24.00</td>\n",
       "    </tr>\n",
       "    <tr>\n",
       "      <th>5</th>\n",
       "      <td>10</td>\n",
       "      <td>5.590000</td>\n",
       "      <td>6.00</td>\n",
       "      <td>10</td>\n",
       "      <td>112.400000</td>\n",
       "      <td>111.5</td>\n",
       "      <td>10</td>\n",
       "      <td>65.600000</td>\n",
       "      <td>65.5</td>\n",
       "      <td>10</td>\n",
       "      <td>17.270000</td>\n",
       "      <td>16.45</td>\n",
       "    </tr>\n",
       "  </tbody>\n",
       "</table>\n",
       "</div>"
      ],
      "text/plain": [
       "              Murder                   Assault                    UrbanPop  \\\n",
       "               count       mean median   count        mean median    count   \n",
       "hc_cluster_no                                                                \n",
       "1                 14   8.214286   7.65      14  173.285714  167.5       14   \n",
       "2                 14  11.471429  11.35      14  263.500000  257.0       14   \n",
       "3                 10   2.950000   2.40      10   62.700000   56.5       10   \n",
       "4                  2  14.200000  14.20       2  336.000000  336.0        2   \n",
       "5                 10   5.590000   6.00      10  112.400000  111.5       10   \n",
       "\n",
       "                                 Rape                    \n",
       "                    mean median count       mean median  \n",
       "hc_cluster_no                                            \n",
       "1              70.642857   69.0    14  22.842857  23.10  \n",
       "2              69.142857   71.0    14  29.000000  26.95  \n",
       "3              53.900000   53.5    10  11.510000  11.00  \n",
       "4              62.500000   62.5     2  24.000000  24.00  \n",
       "5              65.600000   65.5    10  17.270000  16.45  "
      ]
     },
     "execution_count": 128,
     "metadata": {},
     "output_type": "execute_result"
    }
   ],
   "source": [
    "df.groupby('hc_cluster_no').agg(['count', 'mean', 'median'])"
   ]
  },
  {
   "cell_type": "markdown",
   "id": "51554ab0",
   "metadata": {},
   "source": [
    "**Compare hierarchical cluster analysis and k-means**"
   ]
  },
  {
   "cell_type": "code",
   "execution_count": 129,
   "id": "916757ff",
   "metadata": {},
   "outputs": [],
   "source": [
    "df['kmeans_cluster_no'] = k_means.labels_\n",
    "df['kmeans_cluster_no'] = df['kmeans_cluster_no'] + 1"
   ]
  },
  {
   "cell_type": "code",
   "execution_count": 130,
   "id": "5a120f1a",
   "metadata": {},
   "outputs": [
    {
     "data": {
      "text/html": [
       "<div>\n",
       "<style scoped>\n",
       "    .dataframe tbody tr th:only-of-type {\n",
       "        vertical-align: middle;\n",
       "    }\n",
       "\n",
       "    .dataframe tbody tr th {\n",
       "        vertical-align: top;\n",
       "    }\n",
       "\n",
       "    .dataframe thead th {\n",
       "        text-align: right;\n",
       "    }\n",
       "</style>\n",
       "<table border=\"1\" class=\"dataframe\">\n",
       "  <thead>\n",
       "    <tr style=\"text-align: right;\">\n",
       "      <th></th>\n",
       "      <th>Murder</th>\n",
       "      <th>Assault</th>\n",
       "      <th>UrbanPop</th>\n",
       "      <th>Rape</th>\n",
       "      <th>hc_cluster_no</th>\n",
       "      <th>kmeans_cluster_no</th>\n",
       "    </tr>\n",
       "  </thead>\n",
       "  <tbody>\n",
       "    <tr>\n",
       "      <th>Alabama</th>\n",
       "      <td>13.2</td>\n",
       "      <td>236</td>\n",
       "      <td>58</td>\n",
       "      <td>21.2</td>\n",
       "      <td>2</td>\n",
       "      <td>3</td>\n",
       "    </tr>\n",
       "    <tr>\n",
       "      <th>Alaska</th>\n",
       "      <td>10.0</td>\n",
       "      <td>263</td>\n",
       "      <td>48</td>\n",
       "      <td>44.5</td>\n",
       "      <td>2</td>\n",
       "      <td>1</td>\n",
       "    </tr>\n",
       "    <tr>\n",
       "      <th>Arizona</th>\n",
       "      <td>8.1</td>\n",
       "      <td>294</td>\n",
       "      <td>80</td>\n",
       "      <td>31.0</td>\n",
       "      <td>2</td>\n",
       "      <td>1</td>\n",
       "    </tr>\n",
       "    <tr>\n",
       "      <th>Arkansas</th>\n",
       "      <td>8.8</td>\n",
       "      <td>190</td>\n",
       "      <td>50</td>\n",
       "      <td>19.5</td>\n",
       "      <td>1</td>\n",
       "      <td>2</td>\n",
       "    </tr>\n",
       "    <tr>\n",
       "      <th>California</th>\n",
       "      <td>9.0</td>\n",
       "      <td>276</td>\n",
       "      <td>91</td>\n",
       "      <td>40.6</td>\n",
       "      <td>2</td>\n",
       "      <td>1</td>\n",
       "    </tr>\n",
       "  </tbody>\n",
       "</table>\n",
       "</div>"
      ],
      "text/plain": [
       "            Murder  Assault  UrbanPop  Rape  hc_cluster_no  kmeans_cluster_no\n",
       "Alabama       13.2      236        58  21.2              2                  3\n",
       "Alaska        10.0      263        48  44.5              2                  1\n",
       "Arizona        8.1      294        80  31.0              2                  1\n",
       "Arkansas       8.8      190        50  19.5              1                  2\n",
       "California     9.0      276        91  40.6              2                  1"
      ]
     },
     "execution_count": 130,
     "metadata": {},
     "output_type": "execute_result"
    }
   ],
   "source": [
    "df.head()"
   ]
  },
  {
   "cell_type": "markdown",
   "id": "a97f8464",
   "metadata": {},
   "source": [
    "## 3) Principal Component Analysis"
   ]
  },
  {
   "cell_type": "code",
   "execution_count": 132,
   "id": "21733aa5",
   "metadata": {},
   "outputs": [],
   "source": [
    "df = pd.read_csv('hitters.csv')"
   ]
  },
  {
   "cell_type": "code",
   "execution_count": 138,
   "id": "e98aaa74",
   "metadata": {},
   "outputs": [],
   "source": [
    "num_cols = [col for col in df.columns if df[col].dtype != 'O' and 'Salary' not in col]"
   ]
  },
  {
   "cell_type": "code",
   "execution_count": 139,
   "id": "edf5be7d",
   "metadata": {},
   "outputs": [],
   "source": [
    "df = df[num_cols]"
   ]
  },
  {
   "cell_type": "code",
   "execution_count": 140,
   "id": "32d76d2a",
   "metadata": {},
   "outputs": [
    {
     "data": {
      "text/html": [
       "<div>\n",
       "<style scoped>\n",
       "    .dataframe tbody tr th:only-of-type {\n",
       "        vertical-align: middle;\n",
       "    }\n",
       "\n",
       "    .dataframe tbody tr th {\n",
       "        vertical-align: top;\n",
       "    }\n",
       "\n",
       "    .dataframe thead th {\n",
       "        text-align: right;\n",
       "    }\n",
       "</style>\n",
       "<table border=\"1\" class=\"dataframe\">\n",
       "  <thead>\n",
       "    <tr style=\"text-align: right;\">\n",
       "      <th></th>\n",
       "      <th>AtBat</th>\n",
       "      <th>Hits</th>\n",
       "      <th>HmRun</th>\n",
       "      <th>Runs</th>\n",
       "      <th>RBI</th>\n",
       "      <th>Walks</th>\n",
       "      <th>Years</th>\n",
       "      <th>CAtBat</th>\n",
       "      <th>CHits</th>\n",
       "      <th>CHmRun</th>\n",
       "      <th>CRuns</th>\n",
       "      <th>CRBI</th>\n",
       "      <th>CWalks</th>\n",
       "      <th>PutOuts</th>\n",
       "      <th>Assists</th>\n",
       "      <th>Errors</th>\n",
       "    </tr>\n",
       "  </thead>\n",
       "  <tbody>\n",
       "    <tr>\n",
       "      <th>0</th>\n",
       "      <td>293</td>\n",
       "      <td>66</td>\n",
       "      <td>1</td>\n",
       "      <td>30</td>\n",
       "      <td>29</td>\n",
       "      <td>14</td>\n",
       "      <td>1</td>\n",
       "      <td>293</td>\n",
       "      <td>66</td>\n",
       "      <td>1</td>\n",
       "      <td>30</td>\n",
       "      <td>29</td>\n",
       "      <td>14</td>\n",
       "      <td>446</td>\n",
       "      <td>33</td>\n",
       "      <td>20</td>\n",
       "    </tr>\n",
       "    <tr>\n",
       "      <th>1</th>\n",
       "      <td>315</td>\n",
       "      <td>81</td>\n",
       "      <td>7</td>\n",
       "      <td>24</td>\n",
       "      <td>38</td>\n",
       "      <td>39</td>\n",
       "      <td>14</td>\n",
       "      <td>3449</td>\n",
       "      <td>835</td>\n",
       "      <td>69</td>\n",
       "      <td>321</td>\n",
       "      <td>414</td>\n",
       "      <td>375</td>\n",
       "      <td>632</td>\n",
       "      <td>43</td>\n",
       "      <td>10</td>\n",
       "    </tr>\n",
       "    <tr>\n",
       "      <th>2</th>\n",
       "      <td>479</td>\n",
       "      <td>130</td>\n",
       "      <td>18</td>\n",
       "      <td>66</td>\n",
       "      <td>72</td>\n",
       "      <td>76</td>\n",
       "      <td>3</td>\n",
       "      <td>1624</td>\n",
       "      <td>457</td>\n",
       "      <td>63</td>\n",
       "      <td>224</td>\n",
       "      <td>266</td>\n",
       "      <td>263</td>\n",
       "      <td>880</td>\n",
       "      <td>82</td>\n",
       "      <td>14</td>\n",
       "    </tr>\n",
       "    <tr>\n",
       "      <th>3</th>\n",
       "      <td>496</td>\n",
       "      <td>141</td>\n",
       "      <td>20</td>\n",
       "      <td>65</td>\n",
       "      <td>78</td>\n",
       "      <td>37</td>\n",
       "      <td>11</td>\n",
       "      <td>5628</td>\n",
       "      <td>1575</td>\n",
       "      <td>225</td>\n",
       "      <td>828</td>\n",
       "      <td>838</td>\n",
       "      <td>354</td>\n",
       "      <td>200</td>\n",
       "      <td>11</td>\n",
       "      <td>3</td>\n",
       "    </tr>\n",
       "    <tr>\n",
       "      <th>4</th>\n",
       "      <td>321</td>\n",
       "      <td>87</td>\n",
       "      <td>10</td>\n",
       "      <td>39</td>\n",
       "      <td>42</td>\n",
       "      <td>30</td>\n",
       "      <td>2</td>\n",
       "      <td>396</td>\n",
       "      <td>101</td>\n",
       "      <td>12</td>\n",
       "      <td>48</td>\n",
       "      <td>46</td>\n",
       "      <td>33</td>\n",
       "      <td>805</td>\n",
       "      <td>40</td>\n",
       "      <td>4</td>\n",
       "    </tr>\n",
       "    <tr>\n",
       "      <th>...</th>\n",
       "      <td>...</td>\n",
       "      <td>...</td>\n",
       "      <td>...</td>\n",
       "      <td>...</td>\n",
       "      <td>...</td>\n",
       "      <td>...</td>\n",
       "      <td>...</td>\n",
       "      <td>...</td>\n",
       "      <td>...</td>\n",
       "      <td>...</td>\n",
       "      <td>...</td>\n",
       "      <td>...</td>\n",
       "      <td>...</td>\n",
       "      <td>...</td>\n",
       "      <td>...</td>\n",
       "      <td>...</td>\n",
       "    </tr>\n",
       "    <tr>\n",
       "      <th>317</th>\n",
       "      <td>497</td>\n",
       "      <td>127</td>\n",
       "      <td>7</td>\n",
       "      <td>65</td>\n",
       "      <td>48</td>\n",
       "      <td>37</td>\n",
       "      <td>5</td>\n",
       "      <td>2703</td>\n",
       "      <td>806</td>\n",
       "      <td>32</td>\n",
       "      <td>379</td>\n",
       "      <td>311</td>\n",
       "      <td>138</td>\n",
       "      <td>325</td>\n",
       "      <td>9</td>\n",
       "      <td>3</td>\n",
       "    </tr>\n",
       "    <tr>\n",
       "      <th>318</th>\n",
       "      <td>492</td>\n",
       "      <td>136</td>\n",
       "      <td>5</td>\n",
       "      <td>76</td>\n",
       "      <td>50</td>\n",
       "      <td>94</td>\n",
       "      <td>12</td>\n",
       "      <td>5511</td>\n",
       "      <td>1511</td>\n",
       "      <td>39</td>\n",
       "      <td>897</td>\n",
       "      <td>451</td>\n",
       "      <td>875</td>\n",
       "      <td>313</td>\n",
       "      <td>381</td>\n",
       "      <td>20</td>\n",
       "    </tr>\n",
       "    <tr>\n",
       "      <th>319</th>\n",
       "      <td>475</td>\n",
       "      <td>126</td>\n",
       "      <td>3</td>\n",
       "      <td>61</td>\n",
       "      <td>43</td>\n",
       "      <td>52</td>\n",
       "      <td>6</td>\n",
       "      <td>1700</td>\n",
       "      <td>433</td>\n",
       "      <td>7</td>\n",
       "      <td>217</td>\n",
       "      <td>93</td>\n",
       "      <td>146</td>\n",
       "      <td>37</td>\n",
       "      <td>113</td>\n",
       "      <td>7</td>\n",
       "    </tr>\n",
       "    <tr>\n",
       "      <th>320</th>\n",
       "      <td>573</td>\n",
       "      <td>144</td>\n",
       "      <td>9</td>\n",
       "      <td>85</td>\n",
       "      <td>60</td>\n",
       "      <td>78</td>\n",
       "      <td>8</td>\n",
       "      <td>3198</td>\n",
       "      <td>857</td>\n",
       "      <td>97</td>\n",
       "      <td>470</td>\n",
       "      <td>420</td>\n",
       "      <td>332</td>\n",
       "      <td>1314</td>\n",
       "      <td>131</td>\n",
       "      <td>12</td>\n",
       "    </tr>\n",
       "    <tr>\n",
       "      <th>321</th>\n",
       "      <td>631</td>\n",
       "      <td>170</td>\n",
       "      <td>9</td>\n",
       "      <td>77</td>\n",
       "      <td>44</td>\n",
       "      <td>31</td>\n",
       "      <td>11</td>\n",
       "      <td>4908</td>\n",
       "      <td>1457</td>\n",
       "      <td>30</td>\n",
       "      <td>775</td>\n",
       "      <td>357</td>\n",
       "      <td>249</td>\n",
       "      <td>408</td>\n",
       "      <td>4</td>\n",
       "      <td>3</td>\n",
       "    </tr>\n",
       "  </tbody>\n",
       "</table>\n",
       "<p>322 rows × 16 columns</p>\n",
       "</div>"
      ],
      "text/plain": [
       "     AtBat  Hits  HmRun  Runs  RBI  Walks  Years  CAtBat  CHits  CHmRun  \\\n",
       "0      293    66      1    30   29     14      1     293     66       1   \n",
       "1      315    81      7    24   38     39     14    3449    835      69   \n",
       "2      479   130     18    66   72     76      3    1624    457      63   \n",
       "3      496   141     20    65   78     37     11    5628   1575     225   \n",
       "4      321    87     10    39   42     30      2     396    101      12   \n",
       "..     ...   ...    ...   ...  ...    ...    ...     ...    ...     ...   \n",
       "317    497   127      7    65   48     37      5    2703    806      32   \n",
       "318    492   136      5    76   50     94     12    5511   1511      39   \n",
       "319    475   126      3    61   43     52      6    1700    433       7   \n",
       "320    573   144      9    85   60     78      8    3198    857      97   \n",
       "321    631   170      9    77   44     31     11    4908   1457      30   \n",
       "\n",
       "     CRuns  CRBI  CWalks  PutOuts  Assists  Errors  \n",
       "0       30    29      14      446       33      20  \n",
       "1      321   414     375      632       43      10  \n",
       "2      224   266     263      880       82      14  \n",
       "3      828   838     354      200       11       3  \n",
       "4       48    46      33      805       40       4  \n",
       "..     ...   ...     ...      ...      ...     ...  \n",
       "317    379   311     138      325        9       3  \n",
       "318    897   451     875      313      381      20  \n",
       "319    217    93     146       37      113       7  \n",
       "320    470   420     332     1314      131      12  \n",
       "321    775   357     249      408        4       3  \n",
       "\n",
       "[322 rows x 16 columns]"
      ]
     },
     "execution_count": 140,
     "metadata": {},
     "output_type": "execute_result"
    }
   ],
   "source": [
    "df"
   ]
  },
  {
   "cell_type": "code",
   "execution_count": 144,
   "id": "21a2ae2d",
   "metadata": {},
   "outputs": [],
   "source": [
    "df = StandardScaler().fit_transform(df)"
   ]
  },
  {
   "cell_type": "code",
   "execution_count": 147,
   "id": "4051292d",
   "metadata": {},
   "outputs": [],
   "source": [
    "pca = PCA()"
   ]
  },
  {
   "cell_type": "code",
   "execution_count": 148,
   "id": "ba736c2b",
   "metadata": {},
   "outputs": [],
   "source": [
    "pca_fit = pca.fit_transform(df)"
   ]
  },
  {
   "cell_type": "code",
   "execution_count": 151,
   "id": "2c0f8a71",
   "metadata": {},
   "outputs": [
    {
     "data": {
      "text/plain": [
       "array([4.60378552e-01, 2.60398491e-01, 1.03388605e-01, 5.36902121e-02,\n",
       "       4.20784091e-02, 2.96359092e-02, 1.57079101e-02, 1.13928108e-02,\n",
       "       7.83230398e-03, 5.87669497e-03, 3.74765194e-03, 3.09384056e-03,\n",
       "       1.55679403e-03, 8.59034766e-04, 2.86873704e-04, 7.59064046e-05])"
      ]
     },
     "execution_count": 151,
     "metadata": {},
     "output_type": "execute_result"
    }
   ],
   "source": [
    "pca.explained_variance_ratio_"
   ]
  },
  {
   "cell_type": "code",
   "execution_count": 153,
   "id": "6a75768c",
   "metadata": {},
   "outputs": [
    {
     "data": {
      "text/plain": [
       "array([0.46037855, 0.72077704, 0.82416565, 0.87785586, 0.91993427,\n",
       "       0.94957018, 0.96527809, 0.9766709 , 0.9845032 , 0.9903799 ,\n",
       "       0.99412755, 0.99722139, 0.99877819, 0.99963722, 0.99992409,\n",
       "       1.        ])"
      ]
     },
     "execution_count": 153,
     "metadata": {},
     "output_type": "execute_result"
    }
   ],
   "source": [
    "np.cumsum(pca.explained_variance_ratio_)"
   ]
  },
  {
   "cell_type": "markdown",
   "id": "b913641c",
   "metadata": {},
   "source": [
    "**Optimum Component**"
   ]
  },
  {
   "cell_type": "code",
   "execution_count": 155,
   "id": "4d29f6b6",
   "metadata": {},
   "outputs": [
    {
     "data": {
      "image/png": "[encoded data removed]",
      "text/plain": [
       "<Figure size 800x550 with 1 Axes>"
      ]
     },
     "metadata": {},
     "output_type": "display_data"
    }
   ],
   "source": [
    "pca = PCA().fit(df)\n",
    "plt.plot(np.cumsum(pca.explained_variance_ratio_))\n",
    "plt.xlabel(\"Component Numbers\")\n",
    "plt.ylabel(\"Cumulative Variance Ratio\")\n",
    "plt.show()"
   ]
  },
  {
   "cell_type": "markdown",
   "id": "0f8dcf7b",
   "metadata": {},
   "source": [
    "**Final PCA**"
   ]
  },
  {
   "cell_type": "code",
   "execution_count": 156,
   "id": "573cf16a",
   "metadata": {},
   "outputs": [
    {
     "data": {
      "text/plain": [
       "array([0.46037855, 0.72077704, 0.82416565])"
      ]
     },
     "execution_count": 156,
     "metadata": {},
     "output_type": "execute_result"
    }
   ],
   "source": [
    "pca = PCA(n_components=3)\n",
    "pca_fit = pca.fit_transform(df)\n",
    "\n",
    "pca.explained_variance_ratio_\n",
    "np.cumsum(pca.explained_variance_ratio_)"
   ]
  },
  {
   "cell_type": "markdown",
   "id": "1e697514",
   "metadata": {},
   "source": [
    "## 4) BONUS: Principal Component Regression (PCR)"
   ]
  },
  {
   "cell_type": "code",
   "execution_count": 158,
   "id": "89057127",
   "metadata": {},
   "outputs": [],
   "source": [
    "df = pd.read_csv(\"Hitters.csv\")"
   ]
  },
  {
   "cell_type": "code",
   "execution_count": 159,
   "id": "dd6f1738",
   "metadata": {},
   "outputs": [],
   "source": [
    "num_cols = [col for col in df.columns if df[col].dtypes != \"O\" and \"Salary\" not in col]"
   ]
  },
  {
   "cell_type": "code",
   "execution_count": 160,
   "id": "8f083611",
   "metadata": {},
   "outputs": [],
   "source": [
    "others = [col for col in df.columns if col not in num_cols]"
   ]
  },
  {
   "cell_type": "markdown",
   "id": "7e319d41",
   "metadata": {},
   "source": [
    "**Concat dataframes**"
   ]
  },
  {
   "cell_type": "code",
   "execution_count": 162,
   "id": "a5064792",
   "metadata": {},
   "outputs": [],
   "source": [
    "final_df = pd.concat([pd.DataFrame(pca_fit, columns=[\"PC1\",\"PC2\",\"PC3\"]),\n",
    "                      df[others]], axis=1)"
   ]
  },
  {
   "cell_type": "code",
   "execution_count": 163,
   "id": "7192c24a",
   "metadata": {},
   "outputs": [
    {
     "data": {
      "text/html": [
       "<div>\n",
       "<style scoped>\n",
       "    .dataframe tbody tr th:only-of-type {\n",
       "        vertical-align: middle;\n",
       "    }\n",
       "\n",
       "    .dataframe tbody tr th {\n",
       "        vertical-align: top;\n",
       "    }\n",
       "\n",
       "    .dataframe thead th {\n",
       "        text-align: right;\n",
       "    }\n",
       "</style>\n",
       "<table border=\"1\" class=\"dataframe\">\n",
       "  <thead>\n",
       "    <tr style=\"text-align: right;\">\n",
       "      <th></th>\n",
       "      <th>PC1</th>\n",
       "      <th>PC2</th>\n",
       "      <th>PC3</th>\n",
       "      <th>League</th>\n",
       "      <th>Division</th>\n",
       "      <th>Salary</th>\n",
       "      <th>NewLeague</th>\n",
       "    </tr>\n",
       "  </thead>\n",
       "  <tbody>\n",
       "    <tr>\n",
       "      <th>0</th>\n",
       "      <td>-3.240106</td>\n",
       "      <td>-0.253173</td>\n",
       "      <td>0.776066</td>\n",
       "      <td>A</td>\n",
       "      <td>E</td>\n",
       "      <td>NaN</td>\n",
       "      <td>A</td>\n",
       "    </tr>\n",
       "    <tr>\n",
       "      <th>1</th>\n",
       "      <td>0.245488</td>\n",
       "      <td>1.302951</td>\n",
       "      <td>0.118040</td>\n",
       "      <td>N</td>\n",
       "      <td>W</td>\n",
       "      <td>475.0</td>\n",
       "      <td>N</td>\n",
       "    </tr>\n",
       "    <tr>\n",
       "      <th>2</th>\n",
       "      <td>0.603883</td>\n",
       "      <td>-2.617002</td>\n",
       "      <td>-0.698183</td>\n",
       "      <td>A</td>\n",
       "      <td>W</td>\n",
       "      <td>480.0</td>\n",
       "      <td>A</td>\n",
       "    </tr>\n",
       "    <tr>\n",
       "      <th>3</th>\n",
       "      <td>3.591276</td>\n",
       "      <td>0.547821</td>\n",
       "      <td>-1.049022</td>\n",
       "      <td>N</td>\n",
       "      <td>E</td>\n",
       "      <td>500.0</td>\n",
       "      <td>N</td>\n",
       "    </tr>\n",
       "    <tr>\n",
       "      <th>4</th>\n",
       "      <td>-2.264528</td>\n",
       "      <td>-0.698898</td>\n",
       "      <td>-1.290536</td>\n",
       "      <td>N</td>\n",
       "      <td>E</td>\n",
       "      <td>91.5</td>\n",
       "      <td>N</td>\n",
       "    </tr>\n",
       "    <tr>\n",
       "      <th>...</th>\n",
       "      <td>...</td>\n",
       "      <td>...</td>\n",
       "      <td>...</td>\n",
       "      <td>...</td>\n",
       "      <td>...</td>\n",
       "      <td>...</td>\n",
       "      <td>...</td>\n",
       "    </tr>\n",
       "    <tr>\n",
       "      <th>317</th>\n",
       "      <td>-0.089503</td>\n",
       "      <td>-0.521050</td>\n",
       "      <td>-0.770721</td>\n",
       "      <td>N</td>\n",
       "      <td>E</td>\n",
       "      <td>700.0</td>\n",
       "      <td>N</td>\n",
       "    </tr>\n",
       "    <tr>\n",
       "      <th>318</th>\n",
       "      <td>3.339811</td>\n",
       "      <td>-0.732713</td>\n",
       "      <td>3.114194</td>\n",
       "      <td>A</td>\n",
       "      <td>E</td>\n",
       "      <td>875.0</td>\n",
       "      <td>A</td>\n",
       "    </tr>\n",
       "    <tr>\n",
       "      <th>319</th>\n",
       "      <td>-0.951442</td>\n",
       "      <td>-0.910086</td>\n",
       "      <td>0.286517</td>\n",
       "      <td>A</td>\n",
       "      <td>W</td>\n",
       "      <td>385.0</td>\n",
       "      <td>A</td>\n",
       "    </tr>\n",
       "    <tr>\n",
       "      <th>320</th>\n",
       "      <td>2.091473</td>\n",
       "      <td>-2.265826</td>\n",
       "      <td>-0.192745</td>\n",
       "      <td>A</td>\n",
       "      <td>E</td>\n",
       "      <td>960.0</td>\n",
       "      <td>A</td>\n",
       "    </tr>\n",
       "    <tr>\n",
       "      <th>321</th>\n",
       "      <td>1.905622</td>\n",
       "      <td>-0.311198</td>\n",
       "      <td>-0.356249</td>\n",
       "      <td>A</td>\n",
       "      <td>W</td>\n",
       "      <td>1000.0</td>\n",
       "      <td>A</td>\n",
       "    </tr>\n",
       "  </tbody>\n",
       "</table>\n",
       "<p>322 rows × 7 columns</p>\n",
       "</div>"
      ],
      "text/plain": [
       "          PC1       PC2       PC3 League Division  Salary NewLeague\n",
       "0   -3.240106 -0.253173  0.776066      A        E     NaN         A\n",
       "1    0.245488  1.302951  0.118040      N        W   475.0         N\n",
       "2    0.603883 -2.617002 -0.698183      A        W   480.0         A\n",
       "3    3.591276  0.547821 -1.049022      N        E   500.0         N\n",
       "4   -2.264528 -0.698898 -1.290536      N        E    91.5         N\n",
       "..        ...       ...       ...    ...      ...     ...       ...\n",
       "317 -0.089503 -0.521050 -0.770721      N        E   700.0         N\n",
       "318  3.339811 -0.732713  3.114194      A        E   875.0         A\n",
       "319 -0.951442 -0.910086  0.286517      A        W   385.0         A\n",
       "320  2.091473 -2.265826 -0.192745      A        E   960.0         A\n",
       "321  1.905622 -0.311198 -0.356249      A        W  1000.0         A\n",
       "\n",
       "[322 rows x 7 columns]"
      ]
     },
     "execution_count": 163,
     "metadata": {},
     "output_type": "execute_result"
    }
   ],
   "source": [
    "final_df"
   ]
  },
  {
   "cell_type": "code",
   "execution_count": 164,
   "id": "9113611f",
   "metadata": {},
   "outputs": [],
   "source": [
    "from sklearn.linear_model import LinearRegression\n",
    "from sklearn.tree import DecisionTreeRegressor"
   ]
  },
  {
   "cell_type": "markdown",
   "id": "26223ea9",
   "metadata": {},
   "source": [
    "**Label Encoding**"
   ]
  },
  {
   "cell_type": "code",
   "execution_count": 165,
   "id": "2a96c668",
   "metadata": {},
   "outputs": [],
   "source": [
    "def label_encoder(dataframe, binary_col):\n",
    "    labelencoder = LabelEncoder()\n",
    "    dataframe[binary_col] = labelencoder.fit_transform(dataframe[binary_col])\n",
    "    return dataframe\n",
    "\n",
    "for col in [\"NewLeague\", \"Division\", \"League\"]:\n",
    "    label_encoder(final_df, col)"
   ]
  },
  {
   "cell_type": "markdown",
   "id": "6a2e32fd",
   "metadata": {},
   "source": [
    "**Drop na**"
   ]
  },
  {
   "cell_type": "code",
   "execution_count": 166,
   "id": "bfd2d75a",
   "metadata": {},
   "outputs": [],
   "source": [
    "final_df.dropna(inplace=True)"
   ]
  },
  {
   "cell_type": "code",
   "execution_count": 167,
   "id": "c0ae35f7",
   "metadata": {},
   "outputs": [
    {
     "data": {
      "text/plain": [
       "(263, 7)"
      ]
     },
     "execution_count": 167,
     "metadata": {},
     "output_type": "execute_result"
    }
   ],
   "source": [
    "final_df.shape"
   ]
  },
  {
   "cell_type": "markdown",
   "id": "d5481aab",
   "metadata": {},
   "source": [
    "**Model**"
   ]
  },
  {
   "cell_type": "code",
   "execution_count": 168,
   "id": "32b7a59b",
   "metadata": {},
   "outputs": [],
   "source": [
    "y = final_df[\"Salary\"]\n",
    "X = final_df.drop([\"Salary\"], axis=1)"
   ]
  },
  {
   "cell_type": "code",
   "execution_count": 170,
   "id": "b280c66a",
   "metadata": {},
   "outputs": [
    {
     "data": {
      "text/plain": [
       "345.6021106351967"
      ]
     },
     "execution_count": 170,
     "metadata": {},
     "output_type": "execute_result"
    }
   ],
   "source": [
    "lm = LinearRegression()\n",
    "rmse = np.mean(np.sqrt(-cross_val_score(lm, X, y, cv=5, scoring=\"neg_mean_squared_error\")))\n",
    "rmse"
   ]
  },
  {
   "cell_type": "code",
   "execution_count": 171,
   "id": "19c5547b",
   "metadata": {},
   "outputs": [
    {
     "data": {
      "text/plain": [
       "535.9258821292775"
      ]
     },
     "execution_count": 171,
     "metadata": {},
     "output_type": "execute_result"
    }
   ],
   "source": [
    "y.mean()"
   ]
  },
  {
   "cell_type": "code",
   "execution_count": 172,
   "id": "20a4ee96",
   "metadata": {},
   "outputs": [],
   "source": [
    "cart = DecisionTreeRegressor()\n",
    "rmse = np.mean(np.sqrt(-cross_val_score(cart, X, y, cv=5, scoring=\"neg_mean_squared_error\")))"
   ]
  },
  {
   "cell_type": "code",
   "execution_count": 173,
   "id": "51ff523c",
   "metadata": {},
   "outputs": [],
   "source": [
    "cart_params = {'max_depth': range(1, 11),\n",
    "               \"min_samples_split\": range(2, 20)}"
   ]
  },
  {
   "cell_type": "code",
   "execution_count": 174,
   "id": "bf06e562",
   "metadata": {},
   "outputs": [
    {
     "name": "stdout",
     "output_type": "stream",
     "text": [
      "Fitting 5 folds for each of 180 candidates, totalling 900 fits\n"
     ]
    }
   ],
   "source": [
    "cart_best_grid = GridSearchCV(cart,\n",
    "                              cart_params,\n",
    "                              cv=5,\n",
    "                              n_jobs=-1,\n",
    "                              verbose=True).fit(X, y)"
   ]
  },
  {
   "cell_type": "code",
   "execution_count": 175,
   "id": "f87e1d1c",
   "metadata": {},
   "outputs": [],
   "source": [
    "cart_final = DecisionTreeRegressor(**cart_best_grid.best_params_, random_state=17).fit(X, y)"
   ]
  },
  {
   "cell_type": "code",
   "execution_count": 176,
   "id": "70c950aa",
   "metadata": {},
   "outputs": [],
   "source": [
    "rmse = np.mean(np.sqrt(-cross_val_score(cart_final, X, y, cv=5, scoring=\"neg_mean_squared_error\")))"
   ]
  },
  {
   "cell_type": "code",
   "execution_count": 177,
   "id": "de571b12",
   "metadata": {},
   "outputs": [
    {
     "data": {
      "text/plain": [
       "330.1964109339104"
      ]
     },
     "execution_count": 177,
     "metadata": {},
     "output_type": "execute_result"
    }
   ],
   "source": [
    "rmse"
   ]
  },
  {
   "cell_type": "markdown",
   "id": "37900843",
   "metadata": {},
   "source": [
    "## 5) BONUS: Visualizing Multidimensional Data in 2D with PCA"
   ]
  },
  {
   "cell_type": "markdown",
   "id": "6559f394",
   "metadata": {},
   "source": [
    "**Breast cancer dataset**"
   ]
  },
  {
   "cell_type": "code",
   "execution_count": 178,
   "id": "0a46c4b5",
   "metadata": {},
   "outputs": [],
   "source": [
    "pd.set_option('display.max_columns', None)\n",
    "pd.set_option('display.width', 500)"
   ]
  },
  {
   "cell_type": "code",
   "execution_count": 180,
   "id": "ae72763d",
   "metadata": {},
   "outputs": [],
   "source": [
    "df = pd.read_csv(\"breast_cancer.csv\")"
   ]
  },
  {
   "cell_type": "code",
   "execution_count": 181,
   "id": "d238f4ff",
   "metadata": {},
   "outputs": [],
   "source": [
    "y = df[\"diagnosis\"]\n",
    "X = df.drop([\"diagnosis\", \"id\"], axis=1)"
   ]
  },
  {
   "cell_type": "code",
   "execution_count": 182,
   "id": "31b2ca75",
   "metadata": {},
   "outputs": [],
   "source": [
    "def create_pca_df(X, y):\n",
    "    X = StandardScaler().fit_transform(X)\n",
    "    pca = PCA(n_components=2)\n",
    "    pca_fit = pca.fit_transform(X)\n",
    "    pca_df = pd.DataFrame(data=pca_fit, columns=['PC1', 'PC2'])\n",
    "    final_df = pd.concat([pca_df, pd.DataFrame(y)], axis=1)\n",
    "    return final_df"
   ]
  },
  {
   "cell_type": "code",
   "execution_count": 184,
   "id": "3894ce1c",
   "metadata": {},
   "outputs": [
    {
     "data": {
      "text/html": [
       "<div>\n",
       "<style scoped>\n",
       "    .dataframe tbody tr th:only-of-type {\n",
       "        vertical-align: middle;\n",
       "    }\n",
       "\n",
       "    .dataframe tbody tr th {\n",
       "        vertical-align: top;\n",
       "    }\n",
       "\n",
       "    .dataframe thead th {\n",
       "        text-align: right;\n",
       "    }\n",
       "</style>\n",
       "<table border=\"1\" class=\"dataframe\">\n",
       "  <thead>\n",
       "    <tr style=\"text-align: right;\">\n",
       "      <th></th>\n",
       "      <th>PC1</th>\n",
       "      <th>PC2</th>\n",
       "      <th>diagnosis</th>\n",
       "    </tr>\n",
       "  </thead>\n",
       "  <tbody>\n",
       "    <tr>\n",
       "      <th>0</th>\n",
       "      <td>9.192837</td>\n",
       "      <td>1.948583</td>\n",
       "      <td>M</td>\n",
       "    </tr>\n",
       "    <tr>\n",
       "      <th>1</th>\n",
       "      <td>2.387802</td>\n",
       "      <td>-3.768172</td>\n",
       "      <td>M</td>\n",
       "    </tr>\n",
       "    <tr>\n",
       "      <th>2</th>\n",
       "      <td>5.733896</td>\n",
       "      <td>-1.075174</td>\n",
       "      <td>M</td>\n",
       "    </tr>\n",
       "    <tr>\n",
       "      <th>3</th>\n",
       "      <td>7.122953</td>\n",
       "      <td>10.275589</td>\n",
       "      <td>M</td>\n",
       "    </tr>\n",
       "    <tr>\n",
       "      <th>4</th>\n",
       "      <td>3.935302</td>\n",
       "      <td>-1.948072</td>\n",
       "      <td>M</td>\n",
       "    </tr>\n",
       "    <tr>\n",
       "      <th>...</th>\n",
       "      <td>...</td>\n",
       "      <td>...</td>\n",
       "      <td>...</td>\n",
       "    </tr>\n",
       "    <tr>\n",
       "      <th>564</th>\n",
       "      <td>6.439315</td>\n",
       "      <td>-3.576817</td>\n",
       "      <td>M</td>\n",
       "    </tr>\n",
       "    <tr>\n",
       "      <th>565</th>\n",
       "      <td>3.793382</td>\n",
       "      <td>-3.584048</td>\n",
       "      <td>M</td>\n",
       "    </tr>\n",
       "    <tr>\n",
       "      <th>566</th>\n",
       "      <td>1.256179</td>\n",
       "      <td>-1.902297</td>\n",
       "      <td>M</td>\n",
       "    </tr>\n",
       "    <tr>\n",
       "      <th>567</th>\n",
       "      <td>10.374794</td>\n",
       "      <td>1.672010</td>\n",
       "      <td>M</td>\n",
       "    </tr>\n",
       "    <tr>\n",
       "      <th>568</th>\n",
       "      <td>-5.475243</td>\n",
       "      <td>-0.670637</td>\n",
       "      <td>B</td>\n",
       "    </tr>\n",
       "  </tbody>\n",
       "</table>\n",
       "<p>569 rows × 3 columns</p>\n",
       "</div>"
      ],
      "text/plain": [
       "           PC1        PC2 diagnosis\n",
       "0     9.192837   1.948583         M\n",
       "1     2.387802  -3.768172         M\n",
       "2     5.733896  -1.075174         M\n",
       "3     7.122953  10.275589         M\n",
       "4     3.935302  -1.948072         M\n",
       "..         ...        ...       ...\n",
       "564   6.439315  -3.576817         M\n",
       "565   3.793382  -3.584048         M\n",
       "566   1.256179  -1.902297         M\n",
       "567  10.374794   1.672010         M\n",
       "568  -5.475243  -0.670637         B\n",
       "\n",
       "[569 rows x 3 columns]"
      ]
     },
     "execution_count": 184,
     "metadata": {},
     "output_type": "execute_result"
    }
   ],
   "source": [
    "pca_df = create_pca_df(X, y)\n",
    "pca_df"
   ]
  },
  {
   "cell_type": "code",
   "execution_count": 185,
   "id": "ae1fa015",
   "metadata": {},
   "outputs": [],
   "source": [
    "def plot_pca(dataframe, target):\n",
    "    fig = plt.figure(figsize=(7, 5))\n",
    "    ax = fig.add_subplot(1, 1, 1)\n",
    "    ax.set_xlabel('PC1', fontsize=15)\n",
    "    ax.set_ylabel('PC2', fontsize=15)\n",
    "    ax.set_title(f'{target.capitalize()} ', fontsize=20)\n",
    "\n",
    "    targets = list(dataframe[target].unique())\n",
    "    colors = random.sample(['r', 'b', \"g\", \"y\"], len(targets))\n",
    "\n",
    "    for t, color in zip(targets, colors):\n",
    "        indices = dataframe[target] == t\n",
    "        ax.scatter(dataframe.loc[indices, 'PC1'], dataframe.loc[indices, 'PC2'], c=color, s=50)\n",
    "    ax.legend(targets)\n",
    "    ax.grid()\n",
    "    plt.show()"
   ]
  },
  {
   "cell_type": "code",
   "execution_count": 186,
   "id": "aa94a41f",
   "metadata": {},
   "outputs": [
    {
     "data": {
      "image/png": "[encoded data removed]",
      "text/plain": [
       "<Figure size 700x500 with 1 Axes>"
      ]
     },
     "metadata": {},
     "output_type": "display_data"
    }
   ],
   "source": [
    "plot_pca(pca_df, \"diagnosis\")"
   ]
  },
  {
   "cell_type": "markdown",
   "id": "9a89828c",
   "metadata": {},
   "source": [
    "**Iris Data**"
   ]
  },
  {
   "cell_type": "code",
   "execution_count": 187,
   "id": "424b6117",
   "metadata": {},
   "outputs": [],
   "source": [
    "import seaborn as sns\n",
    "df = sns.load_dataset(\"iris\")"
   ]
  },
  {
   "cell_type": "code",
   "execution_count": 188,
   "id": "627e5128",
   "metadata": {},
   "outputs": [],
   "source": [
    "y = df[\"species\"]\n",
    "X = df.drop([\"species\"], axis=1)"
   ]
  },
  {
   "cell_type": "code",
   "execution_count": 189,
   "id": "68aa98d5",
   "metadata": {},
   "outputs": [],
   "source": [
    "pca_df = create_pca_df(X, y)"
   ]
  },
  {
   "cell_type": "code",
   "execution_count": 190,
   "id": "b3925ada",
   "metadata": {},
   "outputs": [
    {
     "data": {
      "image/png": "[encoded data removed]",
      "text/plain": [
       "<Figure size 700x500 with 1 Axes>"
      ]
     },
     "metadata": {},
     "output_type": "display_data"
    }
   ],
   "source": [
    "plot_pca(pca_df, \"species\")"
   ]
  },
  {
   "cell_type": "markdown",
   "id": "f5c82112",
   "metadata": {},
   "source": [
    "**Diabets Data**"
   ]
  },
  {
   "cell_type": "code",
   "execution_count": 192,
   "id": "3e1768ab",
   "metadata": {},
   "outputs": [],
   "source": [
    "df = pd.read_csv(\"diabetes.csv\")"
   ]
  },
  {
   "cell_type": "code",
   "execution_count": 193,
   "id": "19c19c98",
   "metadata": {},
   "outputs": [],
   "source": [
    "y = df[\"Outcome\"]\n",
    "X = df.drop([\"Outcome\"], axis=1)"
   ]
  },
  {
   "cell_type": "code",
   "execution_count": 194,
   "id": "d8a7f90d",
   "metadata": {},
   "outputs": [],
   "source": [
    "pca_df = create_pca_df(X, y)"
   ]
  },
  {
   "cell_type": "code",
   "execution_count": 195,
   "id": "1e3eb540",
   "metadata": {},
   "outputs": [
    {
     "data": {
      "image/png": "[encoded data removed]",
      "text/plain": [
       "<Figure size 700x500 with 1 Axes>"
      ]
     },
     "metadata": {},
     "output_type": "display_data"
    }
   ],
   "source": [
    "plot_pca(pca_df, \"Outcome\")"
   ]
  }
 ],
 "metadata": {
  "kernelspec": {
   "display_name": "Python 3 (ipykernel)",
   "language": "python",
   "name": "python3"
  },
  "language_info": {
   "codemirror_mode": {
    "name": "ipython",
    "version": 3
   },
   "file_extension": ".py",
   "mimetype": "text/x-python",
   "name": "python",
   "nbconvert_exporter": "python",
   "pygments_lexer": "ipython3",
   "version": "3.9.13"
  }
 },
 "nbformat": 4,
 "nbformat_minor": 5
}
