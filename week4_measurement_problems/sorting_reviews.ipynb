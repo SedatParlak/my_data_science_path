{
 "cells": [
  {
   "cell_type": "markdown",
   "id": "a7e82da5",
   "metadata": {},
   "source": [
    "# Sorting Reviews"
   ]
  },
  {
   "cell_type": "code",
   "execution_count": 34,
   "id": "721366a3",
   "metadata": {},
   "outputs": [],
   "source": [
    "import numpy as np\n",
    "import pandas as pd\n",
    "import math\n",
    "import scipy.stats as st"
   ]
  },
  {
   "cell_type": "markdown",
   "id": "08ef5432",
   "metadata": {},
   "source": [
    "## Type 1: Up Down Difference Score"
   ]
  },
  {
   "cell_type": "markdown",
   "id": "b20a6e11",
   "metadata": {},
   "source": [
    "Up-Down Diff Score = (Up Ratings) - (Down Ratings)"
   ]
  },
  {
   "cell_type": "code",
   "execution_count": 5,
   "id": "9571e440",
   "metadata": {},
   "outputs": [],
   "source": [
    "def score_up_down_diff(up, down):\n",
    "    return (up - down) "
   ]
  },
  {
   "cell_type": "markdown",
   "id": "98294ff0",
   "metadata": {},
   "source": [
    "**Review 1 Score**"
   ]
  },
  {
   "cell_type": "code",
   "execution_count": 7,
   "id": "d7372388",
   "metadata": {},
   "outputs": [
    {
     "data": {
      "text/plain": [
       "200"
      ]
     },
     "execution_count": 7,
     "metadata": {},
     "output_type": "execute_result"
    }
   ],
   "source": [
    "score_up_down_diff(600, 400)"
   ]
  },
  {
   "cell_type": "markdown",
   "id": "8eeaabaf",
   "metadata": {},
   "source": [
    "**Review 2 Score**"
   ]
  },
  {
   "cell_type": "code",
   "execution_count": 8,
   "id": "979c8cfb",
   "metadata": {},
   "outputs": [
    {
     "data": {
      "text/plain": [
       "1000"
      ]
     },
     "execution_count": 8,
     "metadata": {},
     "output_type": "execute_result"
    }
   ],
   "source": [
    "score_up_down_diff(5500, 4500)"
   ]
  },
  {
   "cell_type": "markdown",
   "id": "303f4e76",
   "metadata": {},
   "source": [
    "## Type 2: Average Rating (Up Ratio)"
   ]
  },
  {
   "cell_type": "markdown",
   "id": "58703638",
   "metadata": {},
   "source": [
    "Average Rating = Up / Total"
   ]
  },
  {
   "cell_type": "code",
   "execution_count": 13,
   "id": "551bb14d",
   "metadata": {},
   "outputs": [],
   "source": [
    "def score_average_rating(up, down):\n",
    "    if (up + down) == 0:\n",
    "        return 0\n",
    "    return up / (up + down)"
   ]
  },
  {
   "cell_type": "code",
   "execution_count": 14,
   "id": "5547696d",
   "metadata": {},
   "outputs": [
    {
     "data": {
      "text/plain": [
       "0.6"
      ]
     },
     "execution_count": 14,
     "metadata": {},
     "output_type": "execute_result"
    }
   ],
   "source": [
    "score_average_rating(600, 400)"
   ]
  },
  {
   "cell_type": "code",
   "execution_count": 16,
   "id": "f358cf1c",
   "metadata": {},
   "outputs": [
    {
     "data": {
      "text/plain": [
       "0.55"
      ]
     },
     "execution_count": 16,
     "metadata": {},
     "output_type": "execute_result"
    }
   ],
   "source": [
    "score_average_rating(5500, 4500)"
   ]
  },
  {
   "cell_type": "code",
   "execution_count": 29,
   "id": "b869bc87",
   "metadata": {},
   "outputs": [
    {
     "data": {
      "text/plain": [
       "1.0"
      ]
     },
     "execution_count": 29,
     "metadata": {},
     "output_type": "execute_result"
    }
   ],
   "source": [
    "score_average_rating(2, 0) # it is not realistic"
   ]
  },
  {
   "cell_type": "markdown",
   "id": "11558c3e",
   "metadata": {},
   "source": [
    "## Type 3: Wilson Lower Bound Score "
   ]
  },
  {
   "cell_type": "markdown",
   "id": "502bd497",
   "metadata": {},
   "source": [
    "**This is the best way for sorting reviews. Because type 1 and type 2 ignore the frequency.**"
   ]
  },
  {
   "cell_type": "code",
   "execution_count": 22,
   "id": "56d61223",
   "metadata": {},
   "outputs": [],
   "source": [
    "def wilson_lower_bound(up, down, confidence=0.95):\n",
    "    \n",
    "    n = up + down\n",
    "    if n == 0:\n",
    "        return 0\n",
    "    z = st.norm.ppf(1 - (1 - confidence) / 2)\n",
    "    phat = 1.0 * up / n\n",
    "    score = (phat + z * z / (2 * n) - z * math.sqrt((phat * (1 - phat) + z * z / (4 * n)) / n)) / (1 + z * z / n)\n",
    "    \n",
    "    return score"
   ]
  },
  {
   "cell_type": "code",
   "execution_count": 23,
   "id": "4812f977",
   "metadata": {},
   "outputs": [
    {
     "data": {
      "text/plain": [
       "0.5693094295142663"
      ]
     },
     "execution_count": 23,
     "metadata": {},
     "output_type": "execute_result"
    }
   ],
   "source": [
    "wilson_lower_score(600, 400)"
   ]
  },
  {
   "cell_type": "code",
   "execution_count": 25,
   "id": "f13305ee",
   "metadata": {},
   "outputs": [
    {
     "data": {
      "text/plain": [
       "0.5402319557715324"
      ]
     },
     "execution_count": 25,
     "metadata": {},
     "output_type": "execute_result"
    }
   ],
   "source": [
    "wilson_lower_score(5500, 4500)"
   ]
  },
  {
   "cell_type": "code",
   "execution_count": 26,
   "id": "5a71636f",
   "metadata": {},
   "outputs": [
    {
     "data": {
      "text/plain": [
       "0.3423802275066531"
      ]
     },
     "execution_count": 26,
     "metadata": {},
     "output_type": "execute_result"
    }
   ],
   "source": [
    "wilson_lower_score(2, 0)"
   ]
  },
  {
   "cell_type": "code",
   "execution_count": 30,
   "id": "52a01ed3",
   "metadata": {},
   "outputs": [
    {
     "data": {
      "text/plain": [
       "0.8882495307680808"
      ]
     },
     "execution_count": 30,
     "metadata": {},
     "output_type": "execute_result"
    }
   ],
   "source": [
    "wilson_lower_score(95, 5)"
   ]
  },
  {
   "cell_type": "code",
   "execution_count": 33,
   "id": "e03f890b",
   "metadata": {},
   "outputs": [
    {
     "data": {
      "text/plain": [
       "0.0"
      ]
     },
     "execution_count": 33,
     "metadata": {},
     "output_type": "execute_result"
    }
   ],
   "source": [
    "wilson_lower_score(0, 1)"
   ]
  },
  {
   "cell_type": "markdown",
   "id": "5ba10916",
   "metadata": {},
   "source": [
    "# Sample Case"
   ]
  },
  {
   "cell_type": "code",
   "execution_count": 43,
   "id": "053e08ca",
   "metadata": {},
   "outputs": [],
   "source": [
    "up = np.random.randint(0, 150, 50)\n",
    "down = np.random.randint(0, 50, 50)"
   ]
  },
  {
   "cell_type": "code",
   "execution_count": 45,
   "id": "2b1b693d",
   "metadata": {},
   "outputs": [],
   "source": [
    "comments = pd.DataFrame({'up': up, 'down': down})"
   ]
  },
  {
   "cell_type": "code",
   "execution_count": 47,
   "id": "342cd129",
   "metadata": {},
   "outputs": [
    {
     "data": {
      "text/html": [
       "<div>\n",
       "<style scoped>\n",
       "    .dataframe tbody tr th:only-of-type {\n",
       "        vertical-align: middle;\n",
       "    }\n",
       "\n",
       "    .dataframe tbody tr th {\n",
       "        vertical-align: top;\n",
       "    }\n",
       "\n",
       "    .dataframe thead th {\n",
       "        text-align: right;\n",
       "    }\n",
       "</style>\n",
       "<table border=\"1\" class=\"dataframe\">\n",
       "  <thead>\n",
       "    <tr style=\"text-align: right;\">\n",
       "      <th></th>\n",
       "      <th>up</th>\n",
       "      <th>down</th>\n",
       "    </tr>\n",
       "  </thead>\n",
       "  <tbody>\n",
       "    <tr>\n",
       "      <th>0</th>\n",
       "      <td>100</td>\n",
       "      <td>48</td>\n",
       "    </tr>\n",
       "    <tr>\n",
       "      <th>1</th>\n",
       "      <td>138</td>\n",
       "      <td>25</td>\n",
       "    </tr>\n",
       "    <tr>\n",
       "      <th>2</th>\n",
       "      <td>60</td>\n",
       "      <td>47</td>\n",
       "    </tr>\n",
       "    <tr>\n",
       "      <th>3</th>\n",
       "      <td>89</td>\n",
       "      <td>28</td>\n",
       "    </tr>\n",
       "    <tr>\n",
       "      <th>4</th>\n",
       "      <td>95</td>\n",
       "      <td>27</td>\n",
       "    </tr>\n",
       "  </tbody>\n",
       "</table>\n",
       "</div>"
      ],
      "text/plain": [
       "    up  down\n",
       "0  100    48\n",
       "1  138    25\n",
       "2   60    47\n",
       "3   89    28\n",
       "4   95    27"
      ]
     },
     "execution_count": 47,
     "metadata": {},
     "output_type": "execute_result"
    }
   ],
   "source": [
    "comments.head()"
   ]
  },
  {
   "cell_type": "code",
   "execution_count": 52,
   "id": "d236cc8d",
   "metadata": {},
   "outputs": [],
   "source": [
    "comments['score_up_down_diff'] = comments.apply(lambda x: score_up_down_diff(x['up'], x['down']), axis=1)"
   ]
  },
  {
   "cell_type": "code",
   "execution_count": 53,
   "id": "facd475f",
   "metadata": {},
   "outputs": [],
   "source": [
    "comments['score_average_rating'] = comments.apply(lambda x: score_average_rating(x['up'], x['down']), axis=1)"
   ]
  },
  {
   "cell_type": "code",
   "execution_count": 54,
   "id": "8fb426f9",
   "metadata": {},
   "outputs": [],
   "source": [
    "comments['wilson_lower_bound'] = comments.apply(lambda x: wilson_lower_bound(x['up'], x['down']), axis=1)"
   ]
  },
  {
   "cell_type": "code",
   "execution_count": 55,
   "id": "84b23392",
   "metadata": {},
   "outputs": [
    {
     "data": {
      "text/html": [
       "<div>\n",
       "<style scoped>\n",
       "    .dataframe tbody tr th:only-of-type {\n",
       "        vertical-align: middle;\n",
       "    }\n",
       "\n",
       "    .dataframe tbody tr th {\n",
       "        vertical-align: top;\n",
       "    }\n",
       "\n",
       "    .dataframe thead th {\n",
       "        text-align: right;\n",
       "    }\n",
       "</style>\n",
       "<table border=\"1\" class=\"dataframe\">\n",
       "  <thead>\n",
       "    <tr style=\"text-align: right;\">\n",
       "      <th></th>\n",
       "      <th>up</th>\n",
       "      <th>down</th>\n",
       "      <th>score_up_down_diff</th>\n",
       "      <th>score_average_rating</th>\n",
       "      <th>wilson_lower_bound</th>\n",
       "    </tr>\n",
       "  </thead>\n",
       "  <tbody>\n",
       "    <tr>\n",
       "      <th>0</th>\n",
       "      <td>100</td>\n",
       "      <td>48</td>\n",
       "      <td>52</td>\n",
       "      <td>0.675676</td>\n",
       "      <td>0.596641</td>\n",
       "    </tr>\n",
       "    <tr>\n",
       "      <th>1</th>\n",
       "      <td>138</td>\n",
       "      <td>25</td>\n",
       "      <td>113</td>\n",
       "      <td>0.846626</td>\n",
       "      <td>0.783387</td>\n",
       "    </tr>\n",
       "    <tr>\n",
       "      <th>2</th>\n",
       "      <td>60</td>\n",
       "      <td>47</td>\n",
       "      <td>13</td>\n",
       "      <td>0.560748</td>\n",
       "      <td>0.466226</td>\n",
       "    </tr>\n",
       "    <tr>\n",
       "      <th>3</th>\n",
       "      <td>89</td>\n",
       "      <td>28</td>\n",
       "      <td>61</td>\n",
       "      <td>0.760684</td>\n",
       "      <td>0.675874</td>\n",
       "    </tr>\n",
       "    <tr>\n",
       "      <th>4</th>\n",
       "      <td>95</td>\n",
       "      <td>27</td>\n",
       "      <td>68</td>\n",
       "      <td>0.778689</td>\n",
       "      <td>0.697154</td>\n",
       "    </tr>\n",
       "  </tbody>\n",
       "</table>\n",
       "</div>"
      ],
      "text/plain": [
       "    up  down  score_up_down_diff  score_average_rating  wilson_lower_bound\n",
       "0  100    48                  52              0.675676            0.596641\n",
       "1  138    25                 113              0.846626            0.783387\n",
       "2   60    47                  13              0.560748            0.466226\n",
       "3   89    28                  61              0.760684            0.675874\n",
       "4   95    27                  68              0.778689            0.697154"
      ]
     },
     "execution_count": 55,
     "metadata": {},
     "output_type": "execute_result"
    }
   ],
   "source": [
    "comments.head()"
   ]
  },
  {
   "cell_type": "markdown",
   "id": "0f86605f",
   "metadata": {},
   "source": [
    "**Sort values by up down difference**"
   ]
  },
  {
   "cell_type": "code",
   "execution_count": 57,
   "id": "f6e3bf82",
   "metadata": {},
   "outputs": [
    {
     "data": {
      "text/html": [
       "<div>\n",
       "<style scoped>\n",
       "    .dataframe tbody tr th:only-of-type {\n",
       "        vertical-align: middle;\n",
       "    }\n",
       "\n",
       "    .dataframe tbody tr th {\n",
       "        vertical-align: top;\n",
       "    }\n",
       "\n",
       "    .dataframe thead th {\n",
       "        text-align: right;\n",
       "    }\n",
       "</style>\n",
       "<table border=\"1\" class=\"dataframe\">\n",
       "  <thead>\n",
       "    <tr style=\"text-align: right;\">\n",
       "      <th></th>\n",
       "      <th>up</th>\n",
       "      <th>down</th>\n",
       "      <th>score_up_down_diff</th>\n",
       "      <th>score_average_rating</th>\n",
       "      <th>wilson_lower_bound</th>\n",
       "    </tr>\n",
       "  </thead>\n",
       "  <tbody>\n",
       "    <tr>\n",
       "      <th>45</th>\n",
       "      <td>147</td>\n",
       "      <td>6</td>\n",
       "      <td>141</td>\n",
       "      <td>0.960784</td>\n",
       "      <td>0.917092</td>\n",
       "    </tr>\n",
       "    <tr>\n",
       "      <th>8</th>\n",
       "      <td>146</td>\n",
       "      <td>13</td>\n",
       "      <td>133</td>\n",
       "      <td>0.918239</td>\n",
       "      <td>0.865148</td>\n",
       "    </tr>\n",
       "    <tr>\n",
       "      <th>30</th>\n",
       "      <td>137</td>\n",
       "      <td>7</td>\n",
       "      <td>130</td>\n",
       "      <td>0.951389</td>\n",
       "      <td>0.903064</td>\n",
       "    </tr>\n",
       "    <tr>\n",
       "      <th>5</th>\n",
       "      <td>138</td>\n",
       "      <td>12</td>\n",
       "      <td>126</td>\n",
       "      <td>0.920000</td>\n",
       "      <td>0.865379</td>\n",
       "    </tr>\n",
       "    <tr>\n",
       "      <th>42</th>\n",
       "      <td>141</td>\n",
       "      <td>16</td>\n",
       "      <td>125</td>\n",
       "      <td>0.898089</td>\n",
       "      <td>0.840870</td>\n",
       "    </tr>\n",
       "    <tr>\n",
       "      <th>15</th>\n",
       "      <td>127</td>\n",
       "      <td>3</td>\n",
       "      <td>124</td>\n",
       "      <td>0.976923</td>\n",
       "      <td>0.934348</td>\n",
       "    </tr>\n",
       "    <tr>\n",
       "      <th>25</th>\n",
       "      <td>124</td>\n",
       "      <td>1</td>\n",
       "      <td>123</td>\n",
       "      <td>0.992000</td>\n",
       "      <td>0.956075</td>\n",
       "    </tr>\n",
       "    <tr>\n",
       "      <th>19</th>\n",
       "      <td>140</td>\n",
       "      <td>24</td>\n",
       "      <td>116</td>\n",
       "      <td>0.853659</td>\n",
       "      <td>0.791483</td>\n",
       "    </tr>\n",
       "    <tr>\n",
       "      <th>1</th>\n",
       "      <td>138</td>\n",
       "      <td>25</td>\n",
       "      <td>113</td>\n",
       "      <td>0.846626</td>\n",
       "      <td>0.783387</td>\n",
       "    </tr>\n",
       "    <tr>\n",
       "      <th>32</th>\n",
       "      <td>112</td>\n",
       "      <td>2</td>\n",
       "      <td>110</td>\n",
       "      <td>0.982456</td>\n",
       "      <td>0.938282</td>\n",
       "    </tr>\n",
       "  </tbody>\n",
       "</table>\n",
       "</div>"
      ],
      "text/plain": [
       "     up  down  score_up_down_diff  score_average_rating  wilson_lower_bound\n",
       "45  147     6                 141              0.960784            0.917092\n",
       "8   146    13                 133              0.918239            0.865148\n",
       "30  137     7                 130              0.951389            0.903064\n",
       "5   138    12                 126              0.920000            0.865379\n",
       "42  141    16                 125              0.898089            0.840870\n",
       "15  127     3                 124              0.976923            0.934348\n",
       "25  124     1                 123              0.992000            0.956075\n",
       "19  140    24                 116              0.853659            0.791483\n",
       "1   138    25                 113              0.846626            0.783387\n",
       "32  112     2                 110              0.982456            0.938282"
      ]
     },
     "execution_count": 57,
     "metadata": {},
     "output_type": "execute_result"
    }
   ],
   "source": [
    "comments.sort_values('score_up_down_diff', ascending=False).head(10)"
   ]
  },
  {
   "cell_type": "markdown",
   "id": "5aa7208a",
   "metadata": {},
   "source": [
    "**Sort values by average rating**"
   ]
  },
  {
   "cell_type": "code",
   "execution_count": 58,
   "id": "5224026a",
   "metadata": {},
   "outputs": [
    {
     "data": {
      "text/html": [
       "<div>\n",
       "<style scoped>\n",
       "    .dataframe tbody tr th:only-of-type {\n",
       "        vertical-align: middle;\n",
       "    }\n",
       "\n",
       "    .dataframe tbody tr th {\n",
       "        vertical-align: top;\n",
       "    }\n",
       "\n",
       "    .dataframe thead th {\n",
       "        text-align: right;\n",
       "    }\n",
       "</style>\n",
       "<table border=\"1\" class=\"dataframe\">\n",
       "  <thead>\n",
       "    <tr style=\"text-align: right;\">\n",
       "      <th></th>\n",
       "      <th>up</th>\n",
       "      <th>down</th>\n",
       "      <th>score_up_down_diff</th>\n",
       "      <th>score_average_rating</th>\n",
       "      <th>wilson_lower_bound</th>\n",
       "    </tr>\n",
       "  </thead>\n",
       "  <tbody>\n",
       "    <tr>\n",
       "      <th>6</th>\n",
       "      <td>88</td>\n",
       "      <td>0</td>\n",
       "      <td>88</td>\n",
       "      <td>1.000000</td>\n",
       "      <td>0.958173</td>\n",
       "    </tr>\n",
       "    <tr>\n",
       "      <th>25</th>\n",
       "      <td>124</td>\n",
       "      <td>1</td>\n",
       "      <td>123</td>\n",
       "      <td>0.992000</td>\n",
       "      <td>0.956075</td>\n",
       "    </tr>\n",
       "    <tr>\n",
       "      <th>46</th>\n",
       "      <td>84</td>\n",
       "      <td>1</td>\n",
       "      <td>83</td>\n",
       "      <td>0.988235</td>\n",
       "      <td>0.936328</td>\n",
       "    </tr>\n",
       "    <tr>\n",
       "      <th>23</th>\n",
       "      <td>60</td>\n",
       "      <td>1</td>\n",
       "      <td>59</td>\n",
       "      <td>0.983607</td>\n",
       "      <td>0.912811</td>\n",
       "    </tr>\n",
       "    <tr>\n",
       "      <th>32</th>\n",
       "      <td>112</td>\n",
       "      <td>2</td>\n",
       "      <td>110</td>\n",
       "      <td>0.982456</td>\n",
       "      <td>0.938282</td>\n",
       "    </tr>\n",
       "    <tr>\n",
       "      <th>15</th>\n",
       "      <td>127</td>\n",
       "      <td>3</td>\n",
       "      <td>124</td>\n",
       "      <td>0.976923</td>\n",
       "      <td>0.934348</td>\n",
       "    </tr>\n",
       "    <tr>\n",
       "      <th>45</th>\n",
       "      <td>147</td>\n",
       "      <td>6</td>\n",
       "      <td>141</td>\n",
       "      <td>0.960784</td>\n",
       "      <td>0.917092</td>\n",
       "    </tr>\n",
       "    <tr>\n",
       "      <th>28</th>\n",
       "      <td>46</td>\n",
       "      <td>2</td>\n",
       "      <td>44</td>\n",
       "      <td>0.958333</td>\n",
       "      <td>0.860243</td>\n",
       "    </tr>\n",
       "    <tr>\n",
       "      <th>30</th>\n",
       "      <td>137</td>\n",
       "      <td>7</td>\n",
       "      <td>130</td>\n",
       "      <td>0.951389</td>\n",
       "      <td>0.903064</td>\n",
       "    </tr>\n",
       "    <tr>\n",
       "      <th>5</th>\n",
       "      <td>138</td>\n",
       "      <td>12</td>\n",
       "      <td>126</td>\n",
       "      <td>0.920000</td>\n",
       "      <td>0.865379</td>\n",
       "    </tr>\n",
       "  </tbody>\n",
       "</table>\n",
       "</div>"
      ],
      "text/plain": [
       "     up  down  score_up_down_diff  score_average_rating  wilson_lower_bound\n",
       "6    88     0                  88              1.000000            0.958173\n",
       "25  124     1                 123              0.992000            0.956075\n",
       "46   84     1                  83              0.988235            0.936328\n",
       "23   60     1                  59              0.983607            0.912811\n",
       "32  112     2                 110              0.982456            0.938282\n",
       "15  127     3                 124              0.976923            0.934348\n",
       "45  147     6                 141              0.960784            0.917092\n",
       "28   46     2                  44              0.958333            0.860243\n",
       "30  137     7                 130              0.951389            0.903064\n",
       "5   138    12                 126              0.920000            0.865379"
      ]
     },
     "execution_count": 58,
     "metadata": {},
     "output_type": "execute_result"
    }
   ],
   "source": [
    "comments.sort_values('score_average_rating', ascending=False).head(10)"
   ]
  },
  {
   "cell_type": "markdown",
   "id": "535b04bc",
   "metadata": {},
   "source": [
    "**Sort values by wilson lower bound score**"
   ]
  },
  {
   "cell_type": "code",
   "execution_count": 61,
   "id": "88838417",
   "metadata": {},
   "outputs": [
    {
     "data": {
      "text/html": [
       "<div>\n",
       "<style scoped>\n",
       "    .dataframe tbody tr th:only-of-type {\n",
       "        vertical-align: middle;\n",
       "    }\n",
       "\n",
       "    .dataframe tbody tr th {\n",
       "        vertical-align: top;\n",
       "    }\n",
       "\n",
       "    .dataframe thead th {\n",
       "        text-align: right;\n",
       "    }\n",
       "</style>\n",
       "<table border=\"1\" class=\"dataframe\">\n",
       "  <thead>\n",
       "    <tr style=\"text-align: right;\">\n",
       "      <th></th>\n",
       "      <th>up</th>\n",
       "      <th>down</th>\n",
       "      <th>score_up_down_diff</th>\n",
       "      <th>score_average_rating</th>\n",
       "      <th>wilson_lower_bound</th>\n",
       "    </tr>\n",
       "  </thead>\n",
       "  <tbody>\n",
       "    <tr>\n",
       "      <th>6</th>\n",
       "      <td>88</td>\n",
       "      <td>0</td>\n",
       "      <td>88</td>\n",
       "      <td>1.000000</td>\n",
       "      <td>0.958173</td>\n",
       "    </tr>\n",
       "    <tr>\n",
       "      <th>25</th>\n",
       "      <td>124</td>\n",
       "      <td>1</td>\n",
       "      <td>123</td>\n",
       "      <td>0.992000</td>\n",
       "      <td>0.956075</td>\n",
       "    </tr>\n",
       "    <tr>\n",
       "      <th>32</th>\n",
       "      <td>112</td>\n",
       "      <td>2</td>\n",
       "      <td>110</td>\n",
       "      <td>0.982456</td>\n",
       "      <td>0.938282</td>\n",
       "    </tr>\n",
       "    <tr>\n",
       "      <th>46</th>\n",
       "      <td>84</td>\n",
       "      <td>1</td>\n",
       "      <td>83</td>\n",
       "      <td>0.988235</td>\n",
       "      <td>0.936328</td>\n",
       "    </tr>\n",
       "    <tr>\n",
       "      <th>15</th>\n",
       "      <td>127</td>\n",
       "      <td>3</td>\n",
       "      <td>124</td>\n",
       "      <td>0.976923</td>\n",
       "      <td>0.934348</td>\n",
       "    </tr>\n",
       "    <tr>\n",
       "      <th>45</th>\n",
       "      <td>147</td>\n",
       "      <td>6</td>\n",
       "      <td>141</td>\n",
       "      <td>0.960784</td>\n",
       "      <td>0.917092</td>\n",
       "    </tr>\n",
       "    <tr>\n",
       "      <th>23</th>\n",
       "      <td>60</td>\n",
       "      <td>1</td>\n",
       "      <td>59</td>\n",
       "      <td>0.983607</td>\n",
       "      <td>0.912811</td>\n",
       "    </tr>\n",
       "    <tr>\n",
       "      <th>30</th>\n",
       "      <td>137</td>\n",
       "      <td>7</td>\n",
       "      <td>130</td>\n",
       "      <td>0.951389</td>\n",
       "      <td>0.903064</td>\n",
       "    </tr>\n",
       "    <tr>\n",
       "      <th>5</th>\n",
       "      <td>138</td>\n",
       "      <td>12</td>\n",
       "      <td>126</td>\n",
       "      <td>0.920000</td>\n",
       "      <td>0.865379</td>\n",
       "    </tr>\n",
       "    <tr>\n",
       "      <th>8</th>\n",
       "      <td>146</td>\n",
       "      <td>13</td>\n",
       "      <td>133</td>\n",
       "      <td>0.918239</td>\n",
       "      <td>0.865148</td>\n",
       "    </tr>\n",
       "  </tbody>\n",
       "</table>\n",
       "</div>"
      ],
      "text/plain": [
       "     up  down  score_up_down_diff  score_average_rating  wilson_lower_bound\n",
       "6    88     0                  88              1.000000            0.958173\n",
       "25  124     1                 123              0.992000            0.956075\n",
       "32  112     2                 110              0.982456            0.938282\n",
       "46   84     1                  83              0.988235            0.936328\n",
       "15  127     3                 124              0.976923            0.934348\n",
       "45  147     6                 141              0.960784            0.917092\n",
       "23   60     1                  59              0.983607            0.912811\n",
       "30  137     7                 130              0.951389            0.903064\n",
       "5   138    12                 126              0.920000            0.865379\n",
       "8   146    13                 133              0.918239            0.865148"
      ]
     },
     "execution_count": 61,
     "metadata": {},
     "output_type": "execute_result"
    }
   ],
   "source": [
    "comments.sort_values('wilson_lower_bound', ascending=False).head(10)"
   ]
  }
 ],
 "metadata": {
  "kernelspec": {
   "display_name": "Python 3 (ipykernel)",
   "language": "python",
   "name": "python3"
  },
  "language_info": {
   "codemirror_mode": {
    "name": "ipython",
    "version": 3
   },
   "file_extension": ".py",
   "mimetype": "text/x-python",
   "name": "python",
   "nbconvert_exporter": "python",
   "pygments_lexer": "ipython3",
   "version": "3.9.7"
  }
 },
 "nbformat": 4,
 "nbformat_minor": 5
}
